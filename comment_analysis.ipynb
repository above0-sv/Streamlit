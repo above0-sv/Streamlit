{
  "cells": [
    {
      "cell_type": "code",
      "execution_count": 2,
      "metadata": {
        "id": "J2XzALU6mQjC"
      },
      "outputs": [],
      "source": [
        "from schrutepy import schrutepy\n",
        "from wordcloud import WordCloud, STOPWORDS, ImageColorGenerator\n",
        "import matplotlib.pyplot as plt\n",
        "from matplotlib.pyplot import figure\n",
        "import nltk\n",
        "from nltk.corpus import stopwords\n",
        "from PIL import Image\n",
        "import numpy as np\n",
        "import collections\n",
        "import pandas as pd"
      ]
    },
    {
      "cell_type": "code",
      "execution_count": null,
      "metadata": {},
      "outputs": [],
      "source": []
    },
    {
      "cell_type": "code",
      "execution_count": 3,
      "metadata": {},
      "outputs": [
        {
          "name": "stdout",
          "output_type": "stream",
          "text": [
            "Requirement already satisfied: sklearn in c:\\users\\napop\\miniconda3\\nueva carpeta\\miniconda\\lib\\site-packages (0.0)\n",
            "Requirement already satisfied: scikit-learn in c:\\users\\napop\\miniconda3\\nueva carpeta\\miniconda\\lib\\site-packages (from sklearn) (1.0.2)\n",
            "Requirement already satisfied: scipy>=1.1.0 in c:\\users\\napop\\miniconda3\\nueva carpeta\\miniconda\\lib\\site-packages (from scikit-learn->sklearn) (1.7.3)\n",
            "Requirement already satisfied: joblib>=0.11 in c:\\users\\napop\\miniconda3\\nueva carpeta\\miniconda\\lib\\site-packages (from scikit-learn->sklearn) (1.1.0)\n",
            "Requirement already satisfied: threadpoolctl>=2.0.0 in c:\\users\\napop\\miniconda3\\nueva carpeta\\miniconda\\lib\\site-packages (from scikit-learn->sklearn) (3.0.0)\n",
            "Requirement already satisfied: numpy>=1.14.6 in c:\\users\\napop\\miniconda3\\nueva carpeta\\miniconda\\lib\\site-packages (from scikit-learn->sklearn) (1.22.1)\n",
            "Note: you may need to restart the kernel to use updated packages.\n"
          ]
        }
      ],
      "source": [
        "pip install sklearn"
      ]
    },
    {
      "cell_type": "code",
      "execution_count": 4,
      "metadata": {
        "id": "zSSeAX4TsRsW"
      },
      "outputs": [],
      "source": [
        "# Tratamiento de datos\n",
        "# ==============================================================================\n",
        "import numpy as np\n",
        "import pandas as pd\n",
        "import string\n",
        "import re\n",
        "\n",
        "# Gráficos\n",
        "# ==============================================================================\n",
        "import matplotlib.pyplot as plt\n",
        "from matplotlib import style\n",
        "import seaborn as sns\n",
        "#style.use('ggplot') or plt.style.use('ggplot')\n",
        "\n",
        "# Preprocesado y modelado\n",
        "# ==============================================================================\n",
        "from sklearn import svm\n",
        "from sklearn.model_selection import train_test_split\n",
        "from sklearn.model_selection import GridSearchCV\n",
        "from sklearn.metrics import confusion_matrix\n",
        "from sklearn.feature_extraction.text import TfidfVectorizer\n",
        "import nltk\n",
        "#nltk.download('stopwords')\n",
        "from nltk.corpus import stopwords\n",
        "\n",
        "# Configuración warnings\n",
        "# ==============================================================================\n",
        "import warnings\n",
        "warnings.filterwarnings('ignore')"
      ]
    },
    {
      "cell_type": "code",
      "execution_count": 5,
      "metadata": {
        "colab": {
          "base_uri": "https://localhost:8080/",
          "height": 1000
        },
        "id": "0efH_X85mTZ5",
        "outputId": "e9bf3d94-67dc-4c2e-e088-4dab1adc0e39"
      },
      "outputs": [
        {
          "name": "stdout",
          "output_type": "stream",
          "text": [
            "Requirement already satisfied: schrutepy in c:\\users\\napop\\miniconda3\\nueva carpeta\\miniconda\\lib\\site-packages (0.1.3)\n",
            "Requirement already satisfied: twine>=3 in c:\\users\\napop\\miniconda3\\nueva carpeta\\miniconda\\lib\\site-packages (from schrutepy) (3.7.1)\n",
            "Requirement already satisfied: pandas in c:\\users\\napop\\miniconda3\\nueva carpeta\\miniconda\\lib\\site-packages (from schrutepy) (1.4.0)\n",
            "Requirement already satisfied: pip in c:\\users\\napop\\miniconda3\\nueva carpeta\\miniconda\\lib\\site-packages (from schrutepy) (21.1.3)\n",
            "Requirement already satisfied: ipython>=6 in c:\\users\\napop\\miniconda3\\nueva carpeta\\miniconda\\lib\\site-packages (from schrutepy) (8.0.1)\n",
            "Requirement already satisfied: wheel in c:\\users\\napop\\miniconda3\\nueva carpeta\\miniconda\\lib\\site-packages (from schrutepy) (0.36.2)\n",
            "Requirement already satisfied: traitlets>=5 in c:\\users\\napop\\miniconda3\\nueva carpeta\\miniconda\\lib\\site-packages (from ipython>=6->schrutepy) (5.1.1)\n",
            "Requirement already satisfied: setuptools>=18.5 in c:\\users\\napop\\miniconda3\\nueva carpeta\\miniconda\\lib\\site-packages (from ipython>=6->schrutepy) (52.0.0.post20210125)\n",
            "Requirement already satisfied: backcall in c:\\users\\napop\\miniconda3\\nueva carpeta\\miniconda\\lib\\site-packages (from ipython>=6->schrutepy) (0.2.0)\n",
            "Requirement already satisfied: decorator in c:\\users\\napop\\miniconda3\\nueva carpeta\\miniconda\\lib\\site-packages (from ipython>=6->schrutepy) (5.1.1)\n",
            "Requirement already satisfied: pygments in c:\\users\\napop\\miniconda3\\nueva carpeta\\miniconda\\lib\\site-packages (from ipython>=6->schrutepy) (2.11.2)\n",
            "Requirement already satisfied: pickleshare in c:\\users\\napop\\miniconda3\\nueva carpeta\\miniconda\\lib\\site-packages (from ipython>=6->schrutepy) (0.7.5)\n",
            "Requirement already satisfied: prompt-toolkit!=3.0.0,!=3.0.1,<3.1.0,>=2.0.0 in c:\\users\\napop\\miniconda3\\nueva carpeta\\miniconda\\lib\\site-packages (from ipython>=6->schrutepy) (3.0.24)\n",
            "Requirement already satisfied: colorama in c:\\users\\napop\\miniconda3\\nueva carpeta\\miniconda\\lib\\site-packages (from ipython>=6->schrutepy) (0.4.4)\n",
            "Requirement already satisfied: stack-data in c:\\users\\napop\\miniconda3\\nueva carpeta\\miniconda\\lib\\site-packages (from ipython>=6->schrutepy) (0.1.4)\n",
            "Requirement already satisfied: jedi>=0.16 in c:\\users\\napop\\miniconda3\\nueva carpeta\\miniconda\\lib\\site-packages (from ipython>=6->schrutepy) (0.18.1)\n",
            "Requirement already satisfied: black in c:\\users\\napop\\miniconda3\\nueva carpeta\\miniconda\\lib\\site-packages (from ipython>=6->schrutepy) (21.12b0)\n",
            "Requirement already satisfied: matplotlib-inline in c:\\users\\napop\\miniconda3\\nueva carpeta\\miniconda\\lib\\site-packages (from ipython>=6->schrutepy) (0.1.3)\n",
            "Requirement already satisfied: parso<0.9.0,>=0.8.0 in c:\\users\\napop\\miniconda3\\nueva carpeta\\miniconda\\lib\\site-packages (from jedi>=0.16->ipython>=6->schrutepy) (0.8.3)\n",
            "Requirement already satisfied: wcwidth in c:\\users\\napop\\miniconda3\\nueva carpeta\\miniconda\\lib\\site-packages (from prompt-toolkit!=3.0.0,!=3.0.1,<3.1.0,>=2.0.0->ipython>=6->schrutepy) (0.2.5)\n",
            "Requirement already satisfied: pkginfo>=1.8.1 in c:\\users\\napop\\miniconda3\\nueva carpeta\\miniconda\\lib\\site-packages (from twine>=3->schrutepy) (1.8.2)\n",
            "Requirement already satisfied: readme-renderer>=21.0 in c:\\users\\napop\\miniconda3\\nueva carpeta\\miniconda\\lib\\site-packages (from twine>=3->schrutepy) (32.0)\n",
            "Requirement already satisfied: requests-toolbelt!=0.9.0,>=0.8.0 in c:\\users\\napop\\miniconda3\\nueva carpeta\\miniconda\\lib\\site-packages (from twine>=3->schrutepy) (0.9.1)\n",
            "Requirement already satisfied: keyring>=15.1 in c:\\users\\napop\\miniconda3\\nueva carpeta\\miniconda\\lib\\site-packages (from twine>=3->schrutepy) (23.5.0)\n",
            "Requirement already satisfied: rfc3986>=1.4.0 in c:\\users\\napop\\miniconda3\\nueva carpeta\\miniconda\\lib\\site-packages (from twine>=3->schrutepy) (2.0.0)\n",
            "Requirement already satisfied: requests>=2.20 in c:\\users\\napop\\miniconda3\\nueva carpeta\\miniconda\\lib\\site-packages (from twine>=3->schrutepy) (2.25.1)\n",
            "Requirement already satisfied: importlib-metadata>=3.6 in c:\\users\\napop\\miniconda3\\nueva carpeta\\miniconda\\lib\\site-packages (from twine>=3->schrutepy) (4.10.1)\n",
            "Requirement already satisfied: tqdm>=4.14 in c:\\users\\napop\\miniconda3\\nueva carpeta\\miniconda\\lib\\site-packages (from twine>=3->schrutepy) (4.61.2)\n",
            "Requirement already satisfied: zipp>=0.5 in c:\\users\\napop\\miniconda3\\nueva carpeta\\miniconda\\lib\\site-packages (from importlib-metadata>=3.6->twine>=3->schrutepy) (3.7.0)\n",
            "Requirement already satisfied: pywin32-ctypes!=0.1.0,!=0.1.1 in c:\\users\\napop\\miniconda3\\nueva carpeta\\miniconda\\lib\\site-packages (from keyring>=15.1->twine>=3->schrutepy) (0.2.0)\n",
            "Requirement already satisfied: bleach>=2.1.0 in c:\\users\\napop\\miniconda3\\nueva carpeta\\miniconda\\lib\\site-packages (from readme-renderer>=21.0->twine>=3->schrutepy) (4.1.0)\n",
            "Requirement already satisfied: docutils>=0.13.1 in c:\\users\\napop\\miniconda3\\nueva carpeta\\miniconda\\lib\\site-packages (from readme-renderer>=21.0->twine>=3->schrutepy) (0.18.1)\n",
            "Requirement already satisfied: webencodings in c:\\users\\napop\\miniconda3\\nueva carpeta\\miniconda\\lib\\site-packages (from bleach>=2.1.0->readme-renderer>=21.0->twine>=3->schrutepy) (0.5.1)\n",
            "Requirement already satisfied: six>=1.9.0 in c:\\users\\napop\\miniconda3\\nueva carpeta\\miniconda\\lib\\site-packages (from bleach>=2.1.0->readme-renderer>=21.0->twine>=3->schrutepy) (1.16.0)\n",
            "Requirement already satisfied: packaging in c:\\users\\napop\\miniconda3\\nueva carpeta\\miniconda\\lib\\site-packages (from bleach>=2.1.0->readme-renderer>=21.0->twine>=3->schrutepy) (21.3)\n",
            "Requirement already satisfied: certifi>=2017.4.17 in c:\\users\\napop\\miniconda3\\nueva carpeta\\miniconda\\lib\\site-packages (from requests>=2.20->twine>=3->schrutepy) (2021.5.30)\n",
            "Requirement already satisfied: idna<3,>=2.5 in c:\\users\\napop\\miniconda3\\nueva carpeta\\miniconda\\lib\\site-packages (from requests>=2.20->twine>=3->schrutepy) (2.10)\n",
            "Requirement already satisfied: urllib3<1.27,>=1.21.1 in c:\\users\\napop\\miniconda3\\nueva carpeta\\miniconda\\lib\\site-packages (from requests>=2.20->twine>=3->schrutepy) (1.26.6)\n",
            "Requirement already satisfied: chardet<5,>=3.0.2 in c:\\users\\napop\\miniconda3\\nueva carpeta\\miniconda\\lib\\site-packages (from requests>=2.20->twine>=3->schrutepy) (4.0.0)\n",
            "Requirement already satisfied: mypy-extensions>=0.4.3 in c:\\users\\napop\\miniconda3\\nueva carpeta\\miniconda\\lib\\site-packages (from black->ipython>=6->schrutepy) (0.4.3)\n",
            "Requirement already satisfied: pathspec<1,>=0.9.0 in c:\\users\\napop\\miniconda3\\nueva carpeta\\miniconda\\lib\\site-packages (from black->ipython>=6->schrutepy) (0.9.0)\n",
            "Requirement already satisfied: click>=7.1.2 in c:\\users\\napop\\miniconda3\\nueva carpeta\\miniconda\\lib\\site-packages (from black->ipython>=6->schrutepy) (8.0.3)\n",
            "Requirement already satisfied: platformdirs>=2 in c:\\users\\napop\\miniconda3\\nueva carpeta\\miniconda\\lib\\site-packages (from black->ipython>=6->schrutepy) (2.4.1)\n",
            "Requirement already satisfied: typing-extensions>=3.10.0.0 in c:\\users\\napop\\miniconda3\\nueva carpeta\\miniconda\\lib\\site-packages (from black->ipython>=6->schrutepy) (4.0.1)\n",
            "Requirement already satisfied: tomli<2.0.0,>=0.2.6 in c:\\users\\napop\\miniconda3\\nueva carpeta\\miniconda\\lib\\site-packages (from black->ipython>=6->schrutepy) (1.2.3)\n",
            "Requirement already satisfied: pyparsing!=3.0.5,>=2.0.2 in c:\\users\\napop\\miniconda3\\nueva carpeta\\miniconda\\lib\\site-packages (from packaging->bleach>=2.1.0->readme-renderer>=21.0->twine>=3->schrutepy) (3.0.7)\n",
            "Requirement already satisfied: python-dateutil>=2.8.1 in c:\\users\\napop\\miniconda3\\nueva carpeta\\miniconda\\lib\\site-packages (from pandas->schrutepy) (2.8.2)\n",
            "Requirement already satisfied: numpy>=1.18.5 in c:\\users\\napop\\miniconda3\\nueva carpeta\\miniconda\\lib\\site-packages (from pandas->schrutepy) (1.22.1)\n",
            "Requirement already satisfied: pytz>=2020.1 in c:\\users\\napop\\miniconda3\\nueva carpeta\\miniconda\\lib\\site-packages (from pandas->schrutepy) (2021.3)\n",
            "Requirement already satisfied: asttokens in c:\\users\\napop\\miniconda3\\nueva carpeta\\miniconda\\lib\\site-packages (from stack-data->ipython>=6->schrutepy) (2.0.5)\n",
            "Requirement already satisfied: pure-eval in c:\\users\\napop\\miniconda3\\nueva carpeta\\miniconda\\lib\\site-packages (from stack-data->ipython>=6->schrutepy) (0.2.2)\n",
            "Requirement already satisfied: executing in c:\\users\\napop\\miniconda3\\nueva carpeta\\miniconda\\lib\\site-packages (from stack-data->ipython>=6->schrutepy) (0.8.2)\n",
            "Note: you may need to restart the kernel to use updated packages.\n"
          ]
        }
      ],
      "source": [
        "pip install schrutepy"
      ]
    },
    {
      "cell_type": "markdown",
      "metadata": {
        "id": "XPezIEYymQjD"
      },
      "source": [
        "Load the entire transcript with the load_schrute function"
      ]
    },
    {
      "cell_type": "code",
      "execution_count": 6,
      "metadata": {
        "id": "ObOL1qx5mQjF"
      },
      "outputs": [],
      "source": [
        "df = pd.read_csv('analisis_comments_tiktok.csv')"
      ]
    },
    {
      "cell_type": "markdown",
      "metadata": {
        "id": "-yuE3b1VmQjF"
      },
      "source": [
        "Inspect the data"
      ]
    },
    {
      "cell_type": "code",
      "execution_count": 7,
      "metadata": {
        "colab": {
          "base_uri": "https://localhost:8080/",
          "height": 206
        },
        "id": "96fMe8-omQjG",
        "outputId": "dc1fc804-9792-4a01-9601-4597a9b0b309"
      },
      "outputs": [
        {
          "data": {
            "text/html": [
              "<div>\n",
              "<style scoped>\n",
              "    .dataframe tbody tr th:only-of-type {\n",
              "        vertical-align: middle;\n",
              "    }\n",
              "\n",
              "    .dataframe tbody tr th {\n",
              "        vertical-align: top;\n",
              "    }\n",
              "\n",
              "    .dataframe thead th {\n",
              "        text-align: right;\n",
              "    }\n",
              "</style>\n",
              "<table border=\"1\" class=\"dataframe\">\n",
              "  <thead>\n",
              "    <tr style=\"text-align: right;\">\n",
              "      <th></th>\n",
              "      <th>date_post</th>\n",
              "      <th>date_extraction</th>\n",
              "      <th>influencer</th>\n",
              "      <th>post_type</th>\n",
              "      <th>post_url</th>\n",
              "      <th>platform</th>\n",
              "      <th>comment</th>\n",
              "      <th>comment_likecount</th>\n",
              "      <th>replies</th>\n",
              "      <th>BU;;;;;;;;;</th>\n",
              "    </tr>\n",
              "  </thead>\n",
              "  <tbody>\n",
              "    <tr>\n",
              "      <th>0</th>\n",
              "      <td>2021-9-12,2021-12-01,espdaniella,VIDEO,https:/...</td>\n",
              "      <td>NaN</td>\n",
              "      <td>NaN</td>\n",
              "      <td>NaN</td>\n",
              "      <td>NaN</td>\n",
              "      <td>NaN</td>\n",
              "      <td>NaN</td>\n",
              "      <td>NaN</td>\n",
              "      <td>NaN</td>\n",
              "      <td>NaN</td>\n",
              "    </tr>\n",
              "    <tr>\n",
              "      <th>1</th>\n",
              "      <td>2021-9-12</td>\n",
              "      <td>2021-12-01</td>\n",
              "      <td>espdaniella</td>\n",
              "      <td>VIDEO</td>\n",
              "      <td>https://www.tiktok.com/@espdaniella/video/7007...</td>\n",
              "      <td>TikTok</td>\n",
              "      <td>it’s not good chegg apparently rats out on stu...</td>\n",
              "      <td>14</td>\n",
              "      <td>NaN</td>\n",
              "      <td>CS;;;;;;;;;</td>\n",
              "    </tr>\n",
              "    <tr>\n",
              "      <th>2</th>\n",
              "      <td>2021-9-11,2021-12-01,themccartys,VIDEO,https:/...</td>\n",
              "      <td>NaN</td>\n",
              "      <td>NaN</td>\n",
              "      <td>NaN</td>\n",
              "      <td>NaN</td>\n",
              "      <td>NaN</td>\n",
              "      <td>NaN</td>\n",
              "      <td>NaN</td>\n",
              "      <td>NaN</td>\n",
              "      <td>NaN</td>\n",
              "    </tr>\n",
              "    <tr>\n",
              "      <th>3</th>\n",
              "      <td>2021-9-11</td>\n",
              "      <td>2021-12-01</td>\n",
              "      <td>themccartys</td>\n",
              "      <td>VIDEO</td>\n",
              "      <td>https://www.tiktok.com/@themccartys/video/7006...</td>\n",
              "      <td>TikTok</td>\n",
              "      <td>I hope Audri looks different at that age</td>\n",
              "      <td>71</td>\n",
              "      <td>NaN</td>\n",
              "      <td>CS;;;;;;;;;</td>\n",
              "    </tr>\n",
              "    <tr>\n",
              "      <th>4</th>\n",
              "      <td>2021-9-11</td>\n",
              "      <td>2021-12-01</td>\n",
              "      <td>themccartys</td>\n",
              "      <td>VIDEO</td>\n",
              "      <td>https://www.tiktok.com/@themccartys/video/7006...</td>\n",
              "      <td>TikTok</td>\n",
              "      <td>I absolutely love it!</td>\n",
              "      <td>26</td>\n",
              "      <td>NaN</td>\n",
              "      <td>CS;;;;;;;;;</td>\n",
              "    </tr>\n",
              "  </tbody>\n",
              "</table>\n",
              "</div>"
            ],
            "text/plain": [
              "                                           date_post date_extraction  \\\n",
              "0  2021-9-12,2021-12-01,espdaniella,VIDEO,https:/...             NaN   \n",
              "1                                          2021-9-12      2021-12-01   \n",
              "2  2021-9-11,2021-12-01,themccartys,VIDEO,https:/...             NaN   \n",
              "3                                          2021-9-11      2021-12-01   \n",
              "4                                          2021-9-11      2021-12-01   \n",
              "\n",
              "    influencer post_type                                           post_url  \\\n",
              "0          NaN       NaN                                                NaN   \n",
              "1  espdaniella     VIDEO  https://www.tiktok.com/@espdaniella/video/7007...   \n",
              "2          NaN       NaN                                                NaN   \n",
              "3  themccartys     VIDEO  https://www.tiktok.com/@themccartys/video/7006...   \n",
              "4  themccartys     VIDEO  https://www.tiktok.com/@themccartys/video/7006...   \n",
              "\n",
              "  platform                                            comment  \\\n",
              "0      NaN                                                NaN   \n",
              "1   TikTok  it’s not good chegg apparently rats out on stu...   \n",
              "2      NaN                                                NaN   \n",
              "3   TikTok           I hope Audri looks different at that age   \n",
              "4   TikTok                              I absolutely love it!   \n",
              "\n",
              "  comment_likecount replies  BU;;;;;;;;;  \n",
              "0               NaN     NaN          NaN  \n",
              "1                14     NaN  CS;;;;;;;;;  \n",
              "2               NaN     NaN          NaN  \n",
              "3                71     NaN  CS;;;;;;;;;  \n",
              "4                26     NaN  CS;;;;;;;;;  "
            ]
          },
          "execution_count": 7,
          "metadata": {},
          "output_type": "execute_result"
        }
      ],
      "source": [
        "df.head()"
      ]
    },
    {
      "cell_type": "markdown",
      "metadata": {
        "id": "6eESptabmQjH"
      },
      "source": [
        "Some of the records don't contain dialogue"
      ]
    },
    {
      "cell_type": "code",
      "execution_count": 8,
      "metadata": {
        "id": "ab0pec4emQjH"
      },
      "outputs": [],
      "source": [
        "df = df.dropna()"
      ]
    },
    {
      "cell_type": "markdown",
      "metadata": {
        "id": "W17h4Zh1mQjI"
      },
      "source": [
        "Create a wordcloud of all the text in the entire series"
      ]
    },
    {
      "cell_type": "code",
      "execution_count": 9,
      "metadata": {
        "id": "Lv_i9H77mQjI",
        "scrolled": true
      },
      "outputs": [],
      "source": [
        "text = \" \".join(review for review in df.comment)"
      ]
    },
    {
      "cell_type": "code",
      "execution_count": 10,
      "metadata": {
        "colab": {
          "base_uri": "https://localhost:8080/"
        },
        "id": "uzm3_yCVmQjJ",
        "outputId": "ec40fc4b-649a-48a1-85c0-48ffeb8d72d2"
      },
      "outputs": [
        {
          "name": "stdout",
          "output_type": "stream",
          "text": [
            "There are 1662 words in the combination of all review.\n"
          ]
        }
      ],
      "source": [
        "print (\"There are {} words in the combination of all review.\".format(len(text)))"
      ]
    },
    {
      "cell_type": "code",
      "execution_count": 33,
      "metadata": {
        "colab": {
          "base_uri": "https://localhost:8080/",
          "height": 624
        },
        "id": "JLO7E3PAmQjJ",
        "outputId": "c47e2e1b-fc18-4473-ba9c-184de06118fe",
        "scrolled": true
      },
      "outputs": [
        {
          "name": "stderr",
          "output_type": "stream",
          "text": [
            "[nltk_data] Downloading package stopwords to\n",
            "[nltk_data]     C:\\Users\\napop\\AppData\\Roaming\\nltk_data...\n",
            "[nltk_data]   Package stopwords is already up-to-date!\n"
          ]
        },
        {
          "data": {
            "image/png": "[encoded data removed]",
            "text/plain": [
              "<Figure size 1080x1080 with 1 Axes>"
            ]
          },
          "metadata": {
            "needs_background": "light"
          },
          "output_type": "display_data"
        }
      ],
      "source": [
        "# Create stopword list:\n",
        "nltk.download('stopwords')\n",
        "stopWords = set(stopwords.words('english'))\n",
        "\n",
        "# Generate a word cloud image\n",
        "wordcloud = WordCloud(stopwords=stopWords, background_color=\"white\").generate(text)\n",
        "\n",
        "# Display the generated image:\n",
        "# the matplotlib way:\n",
        "plt.figure(figsize=[15,15])\n",
        "plt.imshow(wordcloud, interpolation='bilinear')\n",
        "plt.axis(\"off\")\n",
        "plt.show()"
      ]
    },
    {
      "cell_type": "code",
      "execution_count": 12,
      "metadata": {
        "colab": {
          "base_uri": "https://localhost:8080/"
        },
        "id": "zZ5IfNMItbz2",
        "outputId": "c651bd1b-e2c0-45c4-b543-843f603c8165"
      },
      "outputs": [
        {
          "data": {
            "text/plain": [
              "(18, 10)"
            ]
          },
          "execution_count": 12,
          "metadata": {},
          "output_type": "execute_result"
        }
      ],
      "source": [
        "df.shape"
      ]
    },
    {
      "cell_type": "code",
      "execution_count": 13,
      "metadata": {
        "colab": {
          "base_uri": "https://localhost:8080/"
        },
        "id": "S4O_hj3t1ZDE",
        "outputId": "8738c8bd-5eda-4edc-9277-894e2a46a037"
      },
      "outputs": [
        {
          "name": "stderr",
          "output_type": "stream",
          "text": [
            "[nltk_data] Downloading package vader_lexicon to\n",
            "[nltk_data]     C:\\Users\\napop\\AppData\\Roaming\\nltk_data...\n"
          ]
        }
      ],
      "source": [
        "import nltk\n",
        "nltk.download('vader_lexicon')\n",
        "from nltk.sentiment.vader import SentimentIntensityAnalyzer\n",
        "\n",
        "sid = SentimentIntensityAnalyzer()"
      ]
    },
    {
      "cell_type": "markdown",
      "metadata": {
        "id": "5b9MNZDg1ca0"
      },
      "source": [
        "VADER’s SentimentIntensityAnalyzer() takes in a string and returns a dictionary of scores in each of four categories:\n",
        "negative\n",
        "neutral\n",
        "positive\n",
        "compound (computed by normalizing the scores above\n",
        "Let us analyze some random statements through our sentimental analyzer\n",
        "a = 'This was a good movie.'"
      ]
    },
    {
      "cell_type": "code",
      "execution_count": 14,
      "metadata": {
        "colab": {
          "base_uri": "https://localhost:8080/",
          "height": 424
        },
        "id": "5_IDQlpz1p2q",
        "outputId": "b0a4affc-47cf-49d1-f91d-6dea8145a76d"
      },
      "outputs": [
        {
          "data": {
            "text/html": [
              "<div>\n",
              "<style scoped>\n",
              "    .dataframe tbody tr th:only-of-type {\n",
              "        vertical-align: middle;\n",
              "    }\n",
              "\n",
              "    .dataframe tbody tr th {\n",
              "        vertical-align: top;\n",
              "    }\n",
              "\n",
              "    .dataframe thead th {\n",
              "        text-align: right;\n",
              "    }\n",
              "</style>\n",
              "<table border=\"1\" class=\"dataframe\">\n",
              "  <thead>\n",
              "    <tr style=\"text-align: right;\">\n",
              "      <th></th>\n",
              "      <th>date_post</th>\n",
              "      <th>date_extraction</th>\n",
              "      <th>influencer</th>\n",
              "      <th>post_type</th>\n",
              "      <th>post_url</th>\n",
              "      <th>platform</th>\n",
              "      <th>comment</th>\n",
              "      <th>comment_likecount</th>\n",
              "      <th>replies</th>\n",
              "      <th>BU;;;;;;;;;</th>\n",
              "      <th>scores</th>\n",
              "    </tr>\n",
              "  </thead>\n",
              "  <tbody>\n",
              "    <tr>\n",
              "      <th>41</th>\n",
              "      <td>2021-10-14</td>\n",
              "      <td>2021-12-15</td>\n",
              "      <td>JJ Medicine</td>\n",
              "      <td>VIDEO</td>\n",
              "      <td>https://www.youtube.com/watch?v=FwiaoKrdzx4</td>\n",
              "      <td>Youtube</td>\n",
              "      <td>I&amp;#39;ve heard this often goes with anciety/ d...</td>\n",
              "      <td>0</td>\n",
              "      <td>I too had mono...ever since high Epstein bar l...</td>\n",
              "      <td>CS;;;;;</td>\n",
              "      <td>{'neg': 0.286, 'neu': 0.714, 'pos': 0.0, 'comp...</td>\n",
              "    </tr>\n",
              "    <tr>\n",
              "      <th>51</th>\n",
              "      <td>2021-10-14</td>\n",
              "      <td>2021-12-15</td>\n",
              "      <td>JJ Medicine</td>\n",
              "      <td>VIDEO</td>\n",
              "      <td>https://www.youtube.com/watch?v=FwiaoKrdzx4</td>\n",
              "      <td>Youtube</td>\n",
              "      <td>Falling asleep whilst watching this....zzzzzzzzx</td>\n",
              "      <td>0</td>\n",
              "      <td>Coffee 😁😁</td>\n",
              "      <td>CS;;;;;;;;;</td>\n",
              "      <td>{'neg': 0.286, 'neu': 0.714, 'pos': 0.0, 'comp...</td>\n",
              "    </tr>\n",
              "    <tr>\n",
              "      <th>56</th>\n",
              "      <td>2021-10-14</td>\n",
              "      <td>2021-12-15</td>\n",
              "      <td>JJ Medicine</td>\n",
              "      <td>VIDEO</td>\n",
              "      <td>https://www.youtube.com/watch?v=FwiaoKrdzx4</td>\n",
              "      <td>Youtube</td>\n",
              "      <td>Falling asleep whilst watching this....zzzzzzzzx</td>\n",
              "      <td>0</td>\n",
              "      <td>While?</td>\n",
              "      <td>CS;;;;;;;;;</td>\n",
              "      <td>{'neg': 0.286, 'neu': 0.714, 'pos': 0.0, 'comp...</td>\n",
              "    </tr>\n",
              "    <tr>\n",
              "      <th>89</th>\n",
              "      <td>2021-11-22</td>\n",
              "      <td>2021-12-15</td>\n",
              "      <td>ninjanerdscience</td>\n",
              "      <td>VIDEO</td>\n",
              "      <td>https://www.youtube.com/watch?v=UJw2WUtHLIk</td>\n",
              "      <td>Youtube</td>\n",
              "      <td>Ninja nerd I&amp;#39;m so happy that you choose th...</td>\n",
              "      <td>0</td>\n",
              "      <td>Ulcerative Colitis is next to be released! Hop...</td>\n",
              "      <td>CS;;;;;;;;</td>\n",
              "      <td>{'neg': 0.068, 'neu': 0.622, 'pos': 0.31, 'com...</td>\n",
              "    </tr>\n",
              "    <tr>\n",
              "      <th>96</th>\n",
              "      <td>2021-11-22,2021-12-15,ninjanerdscience,VIDEO,h...</td>\n",
              "      <td>ad many other diseases.  What&amp;#39;s the word ...</td>\n",
              "      <td>as usual</td>\n",
              "      <td>it&amp;#39;\"s hard to distinguish cause from effe...</td>\n",
              "      <td>it seems that substantial D3 supplementation ...</td>\n",
              "      <td>0</td>\n",
              "      <td>That’s interesting. I’m a nurse on a GI ward a...</td>\n",
              "      <td>it maybe causation</td>\n",
              "      <td>it may be just me looking out for it.\"\"</td>\n",
              "      <td>CS\";;;;;;</td>\n",
              "      <td>{'neg': 0.0, 'neu': 0.915, 'pos': 0.085, 'comp...</td>\n",
              "    </tr>\n",
              "  </tbody>\n",
              "</table>\n",
              "</div>"
            ],
            "text/plain": [
              "                                            date_post  \\\n",
              "41                                         2021-10-14   \n",
              "51                                         2021-10-14   \n",
              "56                                         2021-10-14   \n",
              "89                                         2021-11-22   \n",
              "96  2021-11-22,2021-12-15,ninjanerdscience,VIDEO,h...   \n",
              "\n",
              "                                      date_extraction        influencer  \\\n",
              "41                                         2021-12-15       JJ Medicine   \n",
              "51                                         2021-12-15       JJ Medicine   \n",
              "56                                         2021-12-15       JJ Medicine   \n",
              "89                                         2021-12-15  ninjanerdscience   \n",
              "96   ad many other diseases.  What&#39;s the word ...          as usual   \n",
              "\n",
              "                                            post_type  \\\n",
              "41                                              VIDEO   \n",
              "51                                              VIDEO   \n",
              "56                                              VIDEO   \n",
              "89                                              VIDEO   \n",
              "96   it&#39;\"s hard to distinguish cause from effe...   \n",
              "\n",
              "                                             post_url platform  \\\n",
              "41        https://www.youtube.com/watch?v=FwiaoKrdzx4  Youtube   \n",
              "51        https://www.youtube.com/watch?v=FwiaoKrdzx4  Youtube   \n",
              "56        https://www.youtube.com/watch?v=FwiaoKrdzx4  Youtube   \n",
              "89        https://www.youtube.com/watch?v=UJw2WUtHLIk  Youtube   \n",
              "96   it seems that substantial D3 supplementation ...        0   \n",
              "\n",
              "                                              comment    comment_likecount  \\\n",
              "41  I&#39;ve heard this often goes with anciety/ d...                    0   \n",
              "51   Falling asleep whilst watching this....zzzzzzzzx                    0   \n",
              "56   Falling asleep whilst watching this....zzzzzzzzx                    0   \n",
              "89  Ninja nerd I&#39;m so happy that you choose th...                    0   \n",
              "96  That’s interesting. I’m a nurse on a GI ward a...   it maybe causation   \n",
              "\n",
              "                                              replies  BU;;;;;;;;;  \\\n",
              "41  I too had mono...ever since high Epstein bar l...      CS;;;;;   \n",
              "51                                          Coffee 😁😁  CS;;;;;;;;;   \n",
              "56                                             While?  CS;;;;;;;;;   \n",
              "89  Ulcerative Colitis is next to be released! Hop...   CS;;;;;;;;   \n",
              "96            it may be just me looking out for it.\"\"    CS\";;;;;;   \n",
              "\n",
              "                                               scores  \n",
              "41  {'neg': 0.286, 'neu': 0.714, 'pos': 0.0, 'comp...  \n",
              "51  {'neg': 0.286, 'neu': 0.714, 'pos': 0.0, 'comp...  \n",
              "56  {'neg': 0.286, 'neu': 0.714, 'pos': 0.0, 'comp...  \n",
              "89  {'neg': 0.068, 'neu': 0.622, 'pos': 0.31, 'com...  \n",
              "96  {'neg': 0.0, 'neu': 0.915, 'pos': 0.085, 'comp...  "
            ]
          },
          "execution_count": 14,
          "metadata": {},
          "output_type": "execute_result"
        }
      ],
      "source": [
        "df['scores'] = df['comment'].apply(lambda comment: sid.polarity_scores(comment))\n",
        "\n",
        "df.head()"
      ]
    },
    {
      "cell_type": "code",
      "execution_count": 15,
      "metadata": {
        "colab": {
          "base_uri": "https://localhost:8080/",
          "height": 493
        },
        "id": "9YM59KZJ15Re",
        "outputId": "d3c6edcb-f7a5-4746-c405-2ad86e94a39f"
      },
      "outputs": [
        {
          "data": {
            "text/html": [
              "<div>\n",
              "<style scoped>\n",
              "    .dataframe tbody tr th:only-of-type {\n",
              "        vertical-align: middle;\n",
              "    }\n",
              "\n",
              "    .dataframe tbody tr th {\n",
              "        vertical-align: top;\n",
              "    }\n",
              "\n",
              "    .dataframe thead th {\n",
              "        text-align: right;\n",
              "    }\n",
              "</style>\n",
              "<table border=\"1\" class=\"dataframe\">\n",
              "  <thead>\n",
              "    <tr style=\"text-align: right;\">\n",
              "      <th></th>\n",
              "      <th>date_post</th>\n",
              "      <th>date_extraction</th>\n",
              "      <th>influencer</th>\n",
              "      <th>post_type</th>\n",
              "      <th>post_url</th>\n",
              "      <th>platform</th>\n",
              "      <th>comment</th>\n",
              "      <th>comment_likecount</th>\n",
              "      <th>replies</th>\n",
              "      <th>BU;;;;;;;;;</th>\n",
              "      <th>scores</th>\n",
              "      <th>compound</th>\n",
              "    </tr>\n",
              "  </thead>\n",
              "  <tbody>\n",
              "    <tr>\n",
              "      <th>41</th>\n",
              "      <td>2021-10-14</td>\n",
              "      <td>2021-12-15</td>\n",
              "      <td>JJ Medicine</td>\n",
              "      <td>VIDEO</td>\n",
              "      <td>https://www.youtube.com/watch?v=FwiaoKrdzx4</td>\n",
              "      <td>Youtube</td>\n",
              "      <td>I&amp;#39;ve heard this often goes with anciety/ d...</td>\n",
              "      <td>0</td>\n",
              "      <td>I too had mono...ever since high Epstein bar l...</td>\n",
              "      <td>CS;;;;;</td>\n",
              "      <td>{'neg': 0.286, 'neu': 0.714, 'pos': 0.0, 'comp...</td>\n",
              "      <td>-0.7783</td>\n",
              "    </tr>\n",
              "    <tr>\n",
              "      <th>51</th>\n",
              "      <td>2021-10-14</td>\n",
              "      <td>2021-12-15</td>\n",
              "      <td>JJ Medicine</td>\n",
              "      <td>VIDEO</td>\n",
              "      <td>https://www.youtube.com/watch?v=FwiaoKrdzx4</td>\n",
              "      <td>Youtube</td>\n",
              "      <td>Falling asleep whilst watching this....zzzzzzzzx</td>\n",
              "      <td>0</td>\n",
              "      <td>Coffee 😁😁</td>\n",
              "      <td>CS;;;;;;;;;</td>\n",
              "      <td>{'neg': 0.286, 'neu': 0.714, 'pos': 0.0, 'comp...</td>\n",
              "      <td>-0.1531</td>\n",
              "    </tr>\n",
              "    <tr>\n",
              "      <th>56</th>\n",
              "      <td>2021-10-14</td>\n",
              "      <td>2021-12-15</td>\n",
              "      <td>JJ Medicine</td>\n",
              "      <td>VIDEO</td>\n",
              "      <td>https://www.youtube.com/watch?v=FwiaoKrdzx4</td>\n",
              "      <td>Youtube</td>\n",
              "      <td>Falling asleep whilst watching this....zzzzzzzzx</td>\n",
              "      <td>0</td>\n",
              "      <td>While?</td>\n",
              "      <td>CS;;;;;;;;;</td>\n",
              "      <td>{'neg': 0.286, 'neu': 0.714, 'pos': 0.0, 'comp...</td>\n",
              "      <td>-0.1531</td>\n",
              "    </tr>\n",
              "    <tr>\n",
              "      <th>89</th>\n",
              "      <td>2021-11-22</td>\n",
              "      <td>2021-12-15</td>\n",
              "      <td>ninjanerdscience</td>\n",
              "      <td>VIDEO</td>\n",
              "      <td>https://www.youtube.com/watch?v=UJw2WUtHLIk</td>\n",
              "      <td>Youtube</td>\n",
              "      <td>Ninja nerd I&amp;#39;m so happy that you choose th...</td>\n",
              "      <td>0</td>\n",
              "      <td>Ulcerative Colitis is next to be released! Hop...</td>\n",
              "      <td>CS;;;;;;;;</td>\n",
              "      <td>{'neg': 0.068, 'neu': 0.622, 'pos': 0.31, 'com...</td>\n",
              "      <td>0.8303</td>\n",
              "    </tr>\n",
              "    <tr>\n",
              "      <th>96</th>\n",
              "      <td>2021-11-22,2021-12-15,ninjanerdscience,VIDEO,h...</td>\n",
              "      <td>ad many other diseases.  What&amp;#39;s the word ...</td>\n",
              "      <td>as usual</td>\n",
              "      <td>it&amp;#39;\"s hard to distinguish cause from effe...</td>\n",
              "      <td>it seems that substantial D3 supplementation ...</td>\n",
              "      <td>0</td>\n",
              "      <td>That’s interesting. I’m a nurse on a GI ward a...</td>\n",
              "      <td>it maybe causation</td>\n",
              "      <td>it may be just me looking out for it.\"\"</td>\n",
              "      <td>CS\";;;;;;</td>\n",
              "      <td>{'neg': 0.0, 'neu': 0.915, 'pos': 0.085, 'comp...</td>\n",
              "      <td>0.4019</td>\n",
              "    </tr>\n",
              "  </tbody>\n",
              "</table>\n",
              "</div>"
            ],
            "text/plain": [
              "                                            date_post  \\\n",
              "41                                         2021-10-14   \n",
              "51                                         2021-10-14   \n",
              "56                                         2021-10-14   \n",
              "89                                         2021-11-22   \n",
              "96  2021-11-22,2021-12-15,ninjanerdscience,VIDEO,h...   \n",
              "\n",
              "                                      date_extraction        influencer  \\\n",
              "41                                         2021-12-15       JJ Medicine   \n",
              "51                                         2021-12-15       JJ Medicine   \n",
              "56                                         2021-12-15       JJ Medicine   \n",
              "89                                         2021-12-15  ninjanerdscience   \n",
              "96   ad many other diseases.  What&#39;s the word ...          as usual   \n",
              "\n",
              "                                            post_type  \\\n",
              "41                                              VIDEO   \n",
              "51                                              VIDEO   \n",
              "56                                              VIDEO   \n",
              "89                                              VIDEO   \n",
              "96   it&#39;\"s hard to distinguish cause from effe...   \n",
              "\n",
              "                                             post_url platform  \\\n",
              "41        https://www.youtube.com/watch?v=FwiaoKrdzx4  Youtube   \n",
              "51        https://www.youtube.com/watch?v=FwiaoKrdzx4  Youtube   \n",
              "56        https://www.youtube.com/watch?v=FwiaoKrdzx4  Youtube   \n",
              "89        https://www.youtube.com/watch?v=UJw2WUtHLIk  Youtube   \n",
              "96   it seems that substantial D3 supplementation ...        0   \n",
              "\n",
              "                                              comment    comment_likecount  \\\n",
              "41  I&#39;ve heard this often goes with anciety/ d...                    0   \n",
              "51   Falling asleep whilst watching this....zzzzzzzzx                    0   \n",
              "56   Falling asleep whilst watching this....zzzzzzzzx                    0   \n",
              "89  Ninja nerd I&#39;m so happy that you choose th...                    0   \n",
              "96  That’s interesting. I’m a nurse on a GI ward a...   it maybe causation   \n",
              "\n",
              "                                              replies  BU;;;;;;;;;  \\\n",
              "41  I too had mono...ever since high Epstein bar l...      CS;;;;;   \n",
              "51                                          Coffee 😁😁  CS;;;;;;;;;   \n",
              "56                                             While?  CS;;;;;;;;;   \n",
              "89  Ulcerative Colitis is next to be released! Hop...   CS;;;;;;;;   \n",
              "96            it may be just me looking out for it.\"\"    CS\";;;;;;   \n",
              "\n",
              "                                               scores  compound  \n",
              "41  {'neg': 0.286, 'neu': 0.714, 'pos': 0.0, 'comp...   -0.7783  \n",
              "51  {'neg': 0.286, 'neu': 0.714, 'pos': 0.0, 'comp...   -0.1531  \n",
              "56  {'neg': 0.286, 'neu': 0.714, 'pos': 0.0, 'comp...   -0.1531  \n",
              "89  {'neg': 0.068, 'neu': 0.622, 'pos': 0.31, 'com...    0.8303  \n",
              "96  {'neg': 0.0, 'neu': 0.915, 'pos': 0.085, 'comp...    0.4019  "
            ]
          },
          "execution_count": 15,
          "metadata": {},
          "output_type": "execute_result"
        }
      ],
      "source": [
        "df['compound']  = df['scores'].apply(lambda score_dict: score_dict['compound'])\n",
        "\n",
        "df.head()"
      ]
    },
    {
      "cell_type": "code",
      "execution_count": 16,
      "metadata": {
        "colab": {
          "base_uri": "https://localhost:8080/",
          "height": 511
        },
        "id": "g4F7d2YF2Jb5",
        "outputId": "a9d06214-37de-4316-eb96-049b05fe1350"
      },
      "outputs": [
        {
          "data": {
            "text/html": [
              "<div>\n",
              "<style scoped>\n",
              "    .dataframe tbody tr th:only-of-type {\n",
              "        vertical-align: middle;\n",
              "    }\n",
              "\n",
              "    .dataframe tbody tr th {\n",
              "        vertical-align: top;\n",
              "    }\n",
              "\n",
              "    .dataframe thead th {\n",
              "        text-align: right;\n",
              "    }\n",
              "</style>\n",
              "<table border=\"1\" class=\"dataframe\">\n",
              "  <thead>\n",
              "    <tr style=\"text-align: right;\">\n",
              "      <th></th>\n",
              "      <th>date_post</th>\n",
              "      <th>date_extraction</th>\n",
              "      <th>influencer</th>\n",
              "      <th>post_type</th>\n",
              "      <th>post_url</th>\n",
              "      <th>platform</th>\n",
              "      <th>comment</th>\n",
              "      <th>comment_likecount</th>\n",
              "      <th>replies</th>\n",
              "      <th>BU;;;;;;;;;</th>\n",
              "      <th>scores</th>\n",
              "      <th>compound</th>\n",
              "      <th>comp_score</th>\n",
              "    </tr>\n",
              "  </thead>\n",
              "  <tbody>\n",
              "    <tr>\n",
              "      <th>41</th>\n",
              "      <td>2021-10-14</td>\n",
              "      <td>2021-12-15</td>\n",
              "      <td>JJ Medicine</td>\n",
              "      <td>VIDEO</td>\n",
              "      <td>https://www.youtube.com/watch?v=FwiaoKrdzx4</td>\n",
              "      <td>Youtube</td>\n",
              "      <td>I&amp;#39;ve heard this often goes with anciety/ d...</td>\n",
              "      <td>0</td>\n",
              "      <td>I too had mono...ever since high Epstein bar l...</td>\n",
              "      <td>CS;;;;;</td>\n",
              "      <td>{'neg': 0.286, 'neu': 0.714, 'pos': 0.0, 'comp...</td>\n",
              "      <td>-0.7783</td>\n",
              "      <td>neg</td>\n",
              "    </tr>\n",
              "    <tr>\n",
              "      <th>51</th>\n",
              "      <td>2021-10-14</td>\n",
              "      <td>2021-12-15</td>\n",
              "      <td>JJ Medicine</td>\n",
              "      <td>VIDEO</td>\n",
              "      <td>https://www.youtube.com/watch?v=FwiaoKrdzx4</td>\n",
              "      <td>Youtube</td>\n",
              "      <td>Falling asleep whilst watching this....zzzzzzzzx</td>\n",
              "      <td>0</td>\n",
              "      <td>Coffee 😁😁</td>\n",
              "      <td>CS;;;;;;;;;</td>\n",
              "      <td>{'neg': 0.286, 'neu': 0.714, 'pos': 0.0, 'comp...</td>\n",
              "      <td>-0.1531</td>\n",
              "      <td>neg</td>\n",
              "    </tr>\n",
              "    <tr>\n",
              "      <th>56</th>\n",
              "      <td>2021-10-14</td>\n",
              "      <td>2021-12-15</td>\n",
              "      <td>JJ Medicine</td>\n",
              "      <td>VIDEO</td>\n",
              "      <td>https://www.youtube.com/watch?v=FwiaoKrdzx4</td>\n",
              "      <td>Youtube</td>\n",
              "      <td>Falling asleep whilst watching this....zzzzzzzzx</td>\n",
              "      <td>0</td>\n",
              "      <td>While?</td>\n",
              "      <td>CS;;;;;;;;;</td>\n",
              "      <td>{'neg': 0.286, 'neu': 0.714, 'pos': 0.0, 'comp...</td>\n",
              "      <td>-0.1531</td>\n",
              "      <td>neg</td>\n",
              "    </tr>\n",
              "    <tr>\n",
              "      <th>89</th>\n",
              "      <td>2021-11-22</td>\n",
              "      <td>2021-12-15</td>\n",
              "      <td>ninjanerdscience</td>\n",
              "      <td>VIDEO</td>\n",
              "      <td>https://www.youtube.com/watch?v=UJw2WUtHLIk</td>\n",
              "      <td>Youtube</td>\n",
              "      <td>Ninja nerd I&amp;#39;m so happy that you choose th...</td>\n",
              "      <td>0</td>\n",
              "      <td>Ulcerative Colitis is next to be released! Hop...</td>\n",
              "      <td>CS;;;;;;;;</td>\n",
              "      <td>{'neg': 0.068, 'neu': 0.622, 'pos': 0.31, 'com...</td>\n",
              "      <td>0.8303</td>\n",
              "      <td>pos</td>\n",
              "    </tr>\n",
              "    <tr>\n",
              "      <th>96</th>\n",
              "      <td>2021-11-22,2021-12-15,ninjanerdscience,VIDEO,h...</td>\n",
              "      <td>ad many other diseases.  What&amp;#39;s the word ...</td>\n",
              "      <td>as usual</td>\n",
              "      <td>it&amp;#39;\"s hard to distinguish cause from effe...</td>\n",
              "      <td>it seems that substantial D3 supplementation ...</td>\n",
              "      <td>0</td>\n",
              "      <td>That’s interesting. I’m a nurse on a GI ward a...</td>\n",
              "      <td>it maybe causation</td>\n",
              "      <td>it may be just me looking out for it.\"\"</td>\n",
              "      <td>CS\";;;;;;</td>\n",
              "      <td>{'neg': 0.0, 'neu': 0.915, 'pos': 0.085, 'comp...</td>\n",
              "      <td>0.4019</td>\n",
              "      <td>pos</td>\n",
              "    </tr>\n",
              "  </tbody>\n",
              "</table>\n",
              "</div>"
            ],
            "text/plain": [
              "                                            date_post  \\\n",
              "41                                         2021-10-14   \n",
              "51                                         2021-10-14   \n",
              "56                                         2021-10-14   \n",
              "89                                         2021-11-22   \n",
              "96  2021-11-22,2021-12-15,ninjanerdscience,VIDEO,h...   \n",
              "\n",
              "                                      date_extraction        influencer  \\\n",
              "41                                         2021-12-15       JJ Medicine   \n",
              "51                                         2021-12-15       JJ Medicine   \n",
              "56                                         2021-12-15       JJ Medicine   \n",
              "89                                         2021-12-15  ninjanerdscience   \n",
              "96   ad many other diseases.  What&#39;s the word ...          as usual   \n",
              "\n",
              "                                            post_type  \\\n",
              "41                                              VIDEO   \n",
              "51                                              VIDEO   \n",
              "56                                              VIDEO   \n",
              "89                                              VIDEO   \n",
              "96   it&#39;\"s hard to distinguish cause from effe...   \n",
              "\n",
              "                                             post_url platform  \\\n",
              "41        https://www.youtube.com/watch?v=FwiaoKrdzx4  Youtube   \n",
              "51        https://www.youtube.com/watch?v=FwiaoKrdzx4  Youtube   \n",
              "56        https://www.youtube.com/watch?v=FwiaoKrdzx4  Youtube   \n",
              "89        https://www.youtube.com/watch?v=UJw2WUtHLIk  Youtube   \n",
              "96   it seems that substantial D3 supplementation ...        0   \n",
              "\n",
              "                                              comment    comment_likecount  \\\n",
              "41  I&#39;ve heard this often goes with anciety/ d...                    0   \n",
              "51   Falling asleep whilst watching this....zzzzzzzzx                    0   \n",
              "56   Falling asleep whilst watching this....zzzzzzzzx                    0   \n",
              "89  Ninja nerd I&#39;m so happy that you choose th...                    0   \n",
              "96  That’s interesting. I’m a nurse on a GI ward a...   it maybe causation   \n",
              "\n",
              "                                              replies  BU;;;;;;;;;  \\\n",
              "41  I too had mono...ever since high Epstein bar l...      CS;;;;;   \n",
              "51                                          Coffee 😁😁  CS;;;;;;;;;   \n",
              "56                                             While?  CS;;;;;;;;;   \n",
              "89  Ulcerative Colitis is next to be released! Hop...   CS;;;;;;;;   \n",
              "96            it may be just me looking out for it.\"\"    CS\";;;;;;   \n",
              "\n",
              "                                               scores  compound comp_score  \n",
              "41  {'neg': 0.286, 'neu': 0.714, 'pos': 0.0, 'comp...   -0.7783        neg  \n",
              "51  {'neg': 0.286, 'neu': 0.714, 'pos': 0.0, 'comp...   -0.1531        neg  \n",
              "56  {'neg': 0.286, 'neu': 0.714, 'pos': 0.0, 'comp...   -0.1531        neg  \n",
              "89  {'neg': 0.068, 'neu': 0.622, 'pos': 0.31, 'com...    0.8303        pos  \n",
              "96  {'neg': 0.0, 'neu': 0.915, 'pos': 0.085, 'comp...    0.4019        pos  "
            ]
          },
          "execution_count": 16,
          "metadata": {},
          "output_type": "execute_result"
        }
      ],
      "source": [
        "df['comp_score'] = df['compound'].apply(lambda c: 'pos' if c >=0 else 'neg')\n",
        "\n",
        "df.head()"
      ]
    },
    {
      "cell_type": "markdown",
      "metadata": {
        "id": "YUvm6zThIG9R"
      },
      "source": []
    },
    {
      "cell_type": "code",
      "execution_count": 17,
      "metadata": {
        "colab": {
          "base_uri": "https://localhost:8080/"
        },
        "id": "8X6buS_jIugf",
        "outputId": "06a9bffb-6ada-4dbe-a2d5-a166b8cf8ec5"
      },
      "outputs": [
        {
          "name": "stdout",
          "output_type": "stream",
          "text": [
            "^C\n",
            "Note: you may need to restart the kernel to use updated packages.\n"
          ]
        }
      ],
      "source": [
        "pip install plotly"
      ]
    },
    {
      "cell_type": "code",
      "execution_count": 18,
      "metadata": {
        "id": "uNy3wA4KJAQC"
      },
      "outputs": [
        {
          "name": "stdout",
          "output_type": "stream",
          "text": [
            "Collecting cufflinks\n",
            "  Downloading cufflinks-0.17.3.tar.gz (81 kB)\n",
            "Requirement already satisfied: numpy>=1.9.2 in c:\\users\\napop\\miniconda3\\nueva carpeta\\miniconda\\lib\\site-packages (from cufflinks) (1.22.1)\n",
            "Requirement already satisfied: pandas>=0.19.2 in c:\\users\\napop\\miniconda3\\nueva carpeta\\miniconda\\lib\\site-packages (from cufflinks) (1.4.0)\n",
            "Requirement already satisfied: plotly>=4.1.1 in c:\\users\\napop\\miniconda3\\nueva carpeta\\miniconda\\lib\\site-packages (from cufflinks) (5.5.0)\n",
            "Requirement already satisfied: six>=1.9.0 in c:\\users\\napop\\miniconda3\\nueva carpeta\\miniconda\\lib\\site-packages (from cufflinks) (1.16.0)\n",
            "Collecting colorlover>=0.2.1\n",
            "  Downloading colorlover-0.3.0-py3-none-any.whl (8.9 kB)\n",
            "Requirement already satisfied: setuptools>=34.4.1 in c:\\users\\napop\\miniconda3\\nueva carpeta\\miniconda\\lib\\site-packages (from cufflinks) (52.0.0.post20210125)\n",
            "Requirement already satisfied: ipython>=5.3.0 in c:\\users\\napop\\miniconda3\\nueva carpeta\\miniconda\\lib\\site-packages (from cufflinks) (8.0.1)\n",
            "Requirement already satisfied: ipywidgets>=7.0.0 in c:\\users\\napop\\miniconda3\\nueva carpeta\\miniconda\\lib\\site-packages (from cufflinks) (7.6.5)\n",
            "Requirement already satisfied: black in c:\\users\\napop\\miniconda3\\nueva carpeta\\miniconda\\lib\\site-packages (from ipython>=5.3.0->cufflinks) (21.12b0)\n",
            "Requirement already satisfied: jedi>=0.16 in c:\\users\\napop\\miniconda3\\nueva carpeta\\miniconda\\lib\\site-packages (from ipython>=5.3.0->cufflinks) (0.18.1)\n",
            "Requirement already satisfied: colorama in c:\\users\\napop\\miniconda3\\nueva carpeta\\miniconda\\lib\\site-packages (from ipython>=5.3.0->cufflinks) (0.4.4)\n",
            "Requirement already satisfied: prompt-toolkit!=3.0.0,!=3.0.1,<3.1.0,>=2.0.0 in c:\\users\\napop\\miniconda3\\nueva carpeta\\miniconda\\lib\\site-packages (from ipython>=5.3.0->cufflinks) (3.0.24)\n",
            "Requirement already satisfied: pygments in c:\\users\\napop\\miniconda3\\nueva carpeta\\miniconda\\lib\\site-packages (from ipython>=5.3.0->cufflinks) (2.11.2)\n",
            "Requirement already satisfied: traitlets>=5 in c:\\users\\napop\\miniconda3\\nueva carpeta\\miniconda\\lib\\site-packages (from ipython>=5.3.0->cufflinks) (5.1.1)\n",
            "Requirement already satisfied: matplotlib-inline in c:\\users\\napop\\miniconda3\\nueva carpeta\\miniconda\\lib\\site-packages (from ipython>=5.3.0->cufflinks) (0.1.3)\n",
            "Requirement already satisfied: pickleshare in c:\\users\\napop\\miniconda3\\nueva carpeta\\miniconda\\lib\\site-packages (from ipython>=5.3.0->cufflinks) (0.7.5)\n",
            "Requirement already satisfied: backcall in c:\\users\\napop\\miniconda3\\nueva carpeta\\miniconda\\lib\\site-packages (from ipython>=5.3.0->cufflinks) (0.2.0)\n",
            "Requirement already satisfied: stack-data in c:\\users\\napop\\miniconda3\\nueva carpeta\\miniconda\\lib\\site-packages (from ipython>=5.3.0->cufflinks) (0.1.4)\n",
            "Requirement already satisfied: decorator in c:\\users\\napop\\miniconda3\\nueva carpeta\\miniconda\\lib\\site-packages (from ipython>=5.3.0->cufflinks) (5.1.1)\n",
            "Requirement already satisfied: ipykernel>=4.5.1 in c:\\users\\napop\\miniconda3\\nueva carpeta\\miniconda\\lib\\site-packages (from ipywidgets>=7.0.0->cufflinks) (6.7.0)\n",
            "Requirement already satisfied: ipython-genutils~=0.2.0 in c:\\users\\napop\\miniconda3\\nueva carpeta\\miniconda\\lib\\site-packages (from ipywidgets>=7.0.0->cufflinks) (0.2.0)\n",
            "Requirement already satisfied: widgetsnbextension~=3.5.0 in c:\\users\\napop\\miniconda3\\nueva carpeta\\miniconda\\lib\\site-packages (from ipywidgets>=7.0.0->cufflinks) (3.5.2)\n",
            "Requirement already satisfied: jupyterlab-widgets>=1.0.0 in c:\\users\\napop\\miniconda3\\nueva carpeta\\miniconda\\lib\\site-packages (from ipywidgets>=7.0.0->cufflinks) (1.0.2)\n",
            "Requirement already satisfied: nbformat>=4.2.0 in c:\\users\\napop\\miniconda3\\nueva carpeta\\miniconda\\lib\\site-packages (from ipywidgets>=7.0.0->cufflinks) (5.1.3)\n",
            "Requirement already satisfied: tornado<7.0,>=4.2 in c:\\users\\napop\\miniconda3\\nueva carpeta\\miniconda\\lib\\site-packages (from ipykernel>=4.5.1->ipywidgets>=7.0.0->cufflinks) (6.1)\n",
            "Requirement already satisfied: nest-asyncio in c:\\users\\napop\\miniconda3\\nueva carpeta\\miniconda\\lib\\site-packages (from ipykernel>=4.5.1->ipywidgets>=7.0.0->cufflinks) (1.5.4)\n",
            "Requirement already satisfied: jupyter-client<8.0 in c:\\users\\napop\\miniconda3\\nueva carpeta\\miniconda\\lib\\site-packages (from ipykernel>=4.5.1->ipywidgets>=7.0.0->cufflinks) (7.1.2)\n",
            "Requirement already satisfied: debugpy<2.0,>=1.0.0 in c:\\users\\napop\\miniconda3\\nueva carpeta\\miniconda\\lib\\site-packages (from ipykernel>=4.5.1->ipywidgets>=7.0.0->cufflinks) (1.5.1)\n",
            "Requirement already satisfied: parso<0.9.0,>=0.8.0 in c:\\users\\napop\\miniconda3\\nueva carpeta\\miniconda\\lib\\site-packages (from jedi>=0.16->ipython>=5.3.0->cufflinks) (0.8.3)\n",
            "Requirement already satisfied: python-dateutil>=2.1 in c:\\users\\napop\\miniconda3\\nueva carpeta\\miniconda\\lib\\site-packages (from jupyter-client<8.0->ipykernel>=4.5.1->ipywidgets>=7.0.0->cufflinks) (2.8.2)\n",
            "Requirement already satisfied: jupyter-core>=4.6.0 in c:\\users\\napop\\miniconda3\\nueva carpeta\\miniconda\\lib\\site-packages (from jupyter-client<8.0->ipykernel>=4.5.1->ipywidgets>=7.0.0->cufflinks) (4.9.1)\n",
            "Requirement already satisfied: pyzmq>=13 in c:\\users\\napop\\miniconda3\\nueva carpeta\\miniconda\\lib\\site-packages (from jupyter-client<8.0->ipykernel>=4.5.1->ipywidgets>=7.0.0->cufflinks) (22.3.0)\n",
            "Requirement already satisfied: entrypoints in c:\\users\\napop\\miniconda3\\nueva carpeta\\miniconda\\lib\\site-packages (from jupyter-client<8.0->ipykernel>=4.5.1->ipywidgets>=7.0.0->cufflinks) (0.3)\n",
            "Requirement already satisfied: pywin32>=1.0 in c:\\users\\napop\\miniconda3\\nueva carpeta\\miniconda\\lib\\site-packages (from jupyter-core>=4.6.0->jupyter-client<8.0->ipykernel>=4.5.1->ipywidgets>=7.0.0->cufflinks) (227)\n",
            "Requirement already satisfied: jsonschema!=2.5.0,>=2.4 in c:\\users\\napop\\miniconda3\\nueva carpeta\\miniconda\\lib\\site-packages (from nbformat>=4.2.0->ipywidgets>=7.0.0->cufflinks) (4.4.0)\n",
            "Requirement already satisfied: attrs>=17.4.0 in c:\\users\\napop\\miniconda3\\nueva carpeta\\miniconda\\lib\\site-packages (from jsonschema!=2.5.0,>=2.4->nbformat>=4.2.0->ipywidgets>=7.0.0->cufflinks) (21.4.0)\n",
            "Requirement already satisfied: pyrsistent!=0.17.0,!=0.17.1,!=0.17.2,>=0.14.0 in c:\\users\\napop\\miniconda3\\nueva carpeta\\miniconda\\lib\\site-packages (from jsonschema!=2.5.0,>=2.4->nbformat>=4.2.0->ipywidgets>=7.0.0->cufflinks) (0.18.1)\n",
            "Requirement already satisfied: importlib-resources>=1.4.0 in c:\\users\\napop\\miniconda3\\nueva carpeta\\miniconda\\lib\\site-packages (from jsonschema!=2.5.0,>=2.4->nbformat>=4.2.0->ipywidgets>=7.0.0->cufflinks) (5.4.0)\n",
            "Requirement already satisfied: zipp>=3.1.0 in c:\\users\\napop\\miniconda3\\nueva carpeta\\miniconda\\lib\\site-packages (from importlib-resources>=1.4.0->jsonschema!=2.5.0,>=2.4->nbformat>=4.2.0->ipywidgets>=7.0.0->cufflinks) (3.7.0)\n",
            "Requirement already satisfied: pytz>=2020.1 in c:\\users\\napop\\miniconda3\\nueva carpeta\\miniconda\\lib\\site-packages (from pandas>=0.19.2->cufflinks) (2021.3)\n",
            "Requirement already satisfied: tenacity>=6.2.0 in c:\\users\\napop\\miniconda3\\nueva carpeta\\miniconda\\lib\\site-packages (from plotly>=4.1.1->cufflinks) (8.0.1)\n",
            "Requirement already satisfied: wcwidth in c:\\users\\napop\\miniconda3\\nueva carpeta\\miniconda\\lib\\site-packages (from prompt-toolkit!=3.0.0,!=3.0.1,<3.1.0,>=2.0.0->ipython>=5.3.0->cufflinks) (0.2.5)\n",
            "Requirement already satisfied: notebook>=4.4.1 in c:\\users\\napop\\miniconda3\\nueva carpeta\\miniconda\\lib\\site-packages (from widgetsnbextension~=3.5.0->ipywidgets>=7.0.0->cufflinks) (6.4.7)\n",
            "Requirement already satisfied: terminado>=0.8.3 in c:\\users\\napop\\miniconda3\\nueva carpeta\\miniconda\\lib\\site-packages (from notebook>=4.4.1->widgetsnbextension~=3.5.0->ipywidgets>=7.0.0->cufflinks) (0.12.1)\n",
            "Requirement already satisfied: argon2-cffi in c:\\users\\napop\\miniconda3\\nueva carpeta\\miniconda\\lib\\site-packages (from notebook>=4.4.1->widgetsnbextension~=3.5.0->ipywidgets>=7.0.0->cufflinks) (21.3.0)\n",
            "Requirement already satisfied: Send2Trash>=1.8.0 in c:\\users\\napop\\miniconda3\\nueva carpeta\\miniconda\\lib\\site-packages (from notebook>=4.4.1->widgetsnbextension~=3.5.0->ipywidgets>=7.0.0->cufflinks) (1.8.0)\n",
            "Requirement already satisfied: jinja2 in c:\\users\\napop\\miniconda3\\nueva carpeta\\miniconda\\lib\\site-packages (from notebook>=4.4.1->widgetsnbextension~=3.5.0->ipywidgets>=7.0.0->cufflinks) (3.0.3)\n",
            "Requirement already satisfied: nbconvert in c:\\users\\napop\\miniconda3\\nueva carpeta\\miniconda\\lib\\site-packages (from notebook>=4.4.1->widgetsnbextension~=3.5.0->ipywidgets>=7.0.0->cufflinks) (6.4.0)\n",
            "Requirement already satisfied: prometheus-client in c:\\users\\napop\\miniconda3\\nueva carpeta\\miniconda\\lib\\site-packages (from notebook>=4.4.1->widgetsnbextension~=3.5.0->ipywidgets>=7.0.0->cufflinks) (0.12.0)\n",
            "Requirement already satisfied: pywinpty>=1.1.0 in c:\\users\\napop\\miniconda3\\nueva carpeta\\miniconda\\lib\\site-packages (from terminado>=0.8.3->notebook>=4.4.1->widgetsnbextension~=3.5.0->ipywidgets>=7.0.0->cufflinks) (1.1.6)\n",
            "Requirement already satisfied: argon2-cffi-bindings in c:\\users\\napop\\miniconda3\\nueva carpeta\\miniconda\\lib\\site-packages (from argon2-cffi->notebook>=4.4.1->widgetsnbextension~=3.5.0->ipywidgets>=7.0.0->cufflinks) (21.2.0)\n",
            "Requirement already satisfied: cffi>=1.0.1 in c:\\users\\napop\\miniconda3\\nueva carpeta\\miniconda\\lib\\site-packages (from argon2-cffi-bindings->argon2-cffi->notebook>=4.4.1->widgetsnbextension~=3.5.0->ipywidgets>=7.0.0->cufflinks) (1.14.6)\n",
            "Requirement already satisfied: pycparser in c:\\users\\napop\\miniconda3\\nueva carpeta\\miniconda\\lib\\site-packages (from cffi>=1.0.1->argon2-cffi-bindings->argon2-cffi->notebook>=4.4.1->widgetsnbextension~=3.5.0->ipywidgets>=7.0.0->cufflinks) (2.20)\n",
            "Requirement already satisfied: pathspec<1,>=0.9.0 in c:\\users\\napop\\miniconda3\\nueva carpeta\\miniconda\\lib\\site-packages (from black->ipython>=5.3.0->cufflinks) (0.9.0)\n",
            "Requirement already satisfied: click>=7.1.2 in c:\\users\\napop\\miniconda3\\nueva carpeta\\miniconda\\lib\\site-packages (from black->ipython>=5.3.0->cufflinks) (8.0.3)\n",
            "Requirement already satisfied: mypy-extensions>=0.4.3 in c:\\users\\napop\\miniconda3\\nueva carpeta\\miniconda\\lib\\site-packages (from black->ipython>=5.3.0->cufflinks) (0.4.3)\n",
            "Requirement already satisfied: typing-extensions>=3.10.0.0 in c:\\users\\napop\\miniconda3\\nueva carpeta\\miniconda\\lib\\site-packages (from black->ipython>=5.3.0->cufflinks) (4.0.1)\n",
            "Requirement already satisfied: tomli<2.0.0,>=0.2.6 in c:\\users\\napop\\miniconda3\\nueva carpeta\\miniconda\\lib\\site-packages (from black->ipython>=5.3.0->cufflinks) (1.2.3)\n",
            "Requirement already satisfied: platformdirs>=2 in c:\\users\\napop\\miniconda3\\nueva carpeta\\miniconda\\lib\\site-packages (from black->ipython>=5.3.0->cufflinks) (2.4.1)\n",
            "Requirement already satisfied: MarkupSafe>=2.0 in c:\\users\\napop\\miniconda3\\nueva carpeta\\miniconda\\lib\\site-packages (from jinja2->notebook>=4.4.1->widgetsnbextension~=3.5.0->ipywidgets>=7.0.0->cufflinks) (2.0.1)\n",
            "Requirement already satisfied: mistune<2,>=0.8.1 in c:\\users\\napop\\miniconda3\\nueva carpeta\\miniconda\\lib\\site-packages (from nbconvert->notebook>=4.4.1->widgetsnbextension~=3.5.0->ipywidgets>=7.0.0->cufflinks) (0.8.4)\n",
            "Requirement already satisfied: jupyterlab-pygments in c:\\users\\napop\\miniconda3\\nueva carpeta\\miniconda\\lib\\site-packages (from nbconvert->notebook>=4.4.1->widgetsnbextension~=3.5.0->ipywidgets>=7.0.0->cufflinks) (0.1.2)\n",
            "Requirement already satisfied: bleach in c:\\users\\napop\\miniconda3\\nueva carpeta\\miniconda\\lib\\site-packages (from nbconvert->notebook>=4.4.1->widgetsnbextension~=3.5.0->ipywidgets>=7.0.0->cufflinks) (4.1.0)\n",
            "Requirement already satisfied: pandocfilters>=1.4.1 in c:\\users\\napop\\miniconda3\\nueva carpeta\\miniconda\\lib\\site-packages (from nbconvert->notebook>=4.4.1->widgetsnbextension~=3.5.0->ipywidgets>=7.0.0->cufflinks) (1.5.0)\n",
            "Requirement already satisfied: nbclient<0.6.0,>=0.5.0 in c:\\users\\napop\\miniconda3\\nueva carpeta\\miniconda\\lib\\site-packages (from nbconvert->notebook>=4.4.1->widgetsnbextension~=3.5.0->ipywidgets>=7.0.0->cufflinks) (0.5.10)\n",
            "Requirement already satisfied: testpath in c:\\users\\napop\\miniconda3\\nueva carpeta\\miniconda\\lib\\site-packages (from nbconvert->notebook>=4.4.1->widgetsnbextension~=3.5.0->ipywidgets>=7.0.0->cufflinks) (0.5.0)\n",
            "Requirement already satisfied: defusedxml in c:\\users\\napop\\miniconda3\\nueva carpeta\\miniconda\\lib\\site-packages (from nbconvert->notebook>=4.4.1->widgetsnbextension~=3.5.0->ipywidgets>=7.0.0->cufflinks) (0.7.1)\n",
            "Requirement already satisfied: webencodings in c:\\users\\napop\\miniconda3\\nueva carpeta\\miniconda\\lib\\site-packages (from bleach->nbconvert->notebook>=4.4.1->widgetsnbextension~=3.5.0->ipywidgets>=7.0.0->cufflinks) (0.5.1)\n",
            "Requirement already satisfied: packaging in c:\\users\\napop\\miniconda3\\nueva carpeta\\miniconda\\lib\\site-packages (from bleach->nbconvert->notebook>=4.4.1->widgetsnbextension~=3.5.0->ipywidgets>=7.0.0->cufflinks) (21.3)\n",
            "Requirement already satisfied: pyparsing!=3.0.5,>=2.0.2 in c:\\users\\napop\\miniconda3\\nueva carpeta\\miniconda\\lib\\site-packages (from packaging->bleach->nbconvert->notebook>=4.4.1->widgetsnbextension~=3.5.0->ipywidgets>=7.0.0->cufflinks) (3.0.7)\n",
            "Requirement already satisfied: asttokens in c:\\users\\napop\\miniconda3\\nueva carpeta\\miniconda\\lib\\site-packages (from stack-data->ipython>=5.3.0->cufflinks) (2.0.5)\n",
            "Requirement already satisfied: executing in c:\\users\\napop\\miniconda3\\nueva carpeta\\miniconda\\lib\\site-packages (from stack-data->ipython>=5.3.0->cufflinks) (0.8.2)\n",
            "Requirement already satisfied: pure-eval in c:\\users\\napop\\miniconda3\\nueva carpeta\\miniconda\\lib\\site-packages (from stack-data->ipython>=5.3.0->cufflinks) (0.2.2)\n",
            "Building wheels for collected packages: cufflinks\n",
            "  Building wheel for cufflinks (setup.py): started\n",
            "  Building wheel for cufflinks (setup.py): finished with status 'done'\n",
            "  Created wheel for cufflinks: filename=cufflinks-0.17.3-py3-none-any.whl size=68724 sha256=fbdcb716973b89e929d313fcb0e06b36d10ea319c4945d3a88545015b1464f9a\n",
            "  Stored in directory: c:\\users\\napop\\appdata\\local\\pip\\cache\\wheels\\6b\\76\\62\\6da97734911ffcbdd559fd1a3f28526321f0ae699182a23866\n",
            "Successfully built cufflinks\n",
            "Installing collected packages: colorlover, cufflinks\n",
            "Successfully installed colorlover-0.3.0 cufflinks-0.17.3\n",
            "Note: you may need to restart the kernel to use updated packages.\n",
            "Collecting plotly\n",
            "  Downloading plotly-5.5.0-py2.py3-none-any.whl (26.5 MB)\n",
            "Collecting tenacity>=6.2.0\n",
            "  Downloading tenacity-8.0.1-py3-none-any.whl (24 kB)\n",
            "Requirement already satisfied: six in c:\\users\\napop\\miniconda3\\nueva carpeta\\miniconda\\lib\\site-packages (from plotly) (1.16.0)\n",
            "Installing collected packages: tenacity, plotly\n",
            "Successfully installed plotly-5.5.0 tenacity-8.0.1\n"
          ]
        }
      ],
      "source": [
        "pip install cufflinks"
      ]
    },
    {
      "cell_type": "code",
      "execution_count": 19,
      "metadata": {},
      "outputs": [
        {
          "data": {
            "text/html": [
              "        <script type=\"text/javascript\">\n",
              "        window.PlotlyConfig = {MathJaxConfig: 'local'};\n",
              "        if (window.MathJax) {MathJax.Hub.Config({SVG: {font: \"STIX-Web\"}});}\n",
              "        if (typeof require !== 'undefined') {\n",
              "        require.undef(\"plotly\");\n",
              "        requirejs.config({\n",
              "            paths: {\n",
              "                'plotly': ['https://cdn.plot.ly/plotly-2.8.3.min']\n",
              "            }\n",
              "        });\n",
              "        require(['plotly'], function(Plotly) {\n",
              "            window._Plotly = Plotly;\n",
              "        });\n",
              "        }\n",
              "        </script>\n",
              "        "
            ]
          },
          "metadata": {},
          "output_type": "display_data"
        }
      ],
      "source": [
        "from plotly.offline import init_notebook_mode,iplot\n",
        "import plotly.graph_objects as go\n",
        "import cufflinks as cf\n",
        "init_notebook_mode(connected=True)"
      ]
    },
    {
      "cell_type": "code",
      "execution_count": 21,
      "metadata": {},
      "outputs": [],
      "source": [
        "#labels\n",
        "lab = df[\"comp_score\"].value_counts().keys().tolist()\n",
        "#values\n",
        "val = df[\"comp_score\"].value_counts().values.tolist()\n",
        "trace = go.Pie(labels=lab, \n",
        "                values=val, \n",
        "                marker=dict(colors=['red']), \n",
        "                # Seting values to \n",
        "                hoverinfo=\"value\"\n",
        "              )\n",
        "data = [trace]"
      ]
    },
    {
      "cell_type": "code",
      "execution_count": 22,
      "metadata": {},
      "outputs": [],
      "source": [
        "layout = go.Layout(title=\"Sentiment Distribution\")"
      ]
    },
    {
      "cell_type": "code",
      "execution_count": 23,
      "metadata": {},
      "outputs": [],
      "source": [
        "fig = go.Figure(data = data,layout = layout)"
      ]
    },
    {
      "cell_type": "code",
      "execution_count": 24,
      "metadata": {},
      "outputs": [
        {
          "data": {
            "application/vnd.plotly.v1+json": {
              "config": {
                "linkText": "Export to plot.ly",
                "plotlyServerURL": "https://plot.ly",
                "showLink": false
              },
              "data": [
                {
                  "hoverinfo": "value",
                  "labels": [
                    "pos",
                    "neg"
                  ],
                  "marker": {
                    "colors": [
                      "red"
                    ]
                  },
                  "type": "pie",
                  "values": [
                    14,
                    4
                  ]
                }
              ],
              "layout": {
                "template": {
                  "data": {
                    "bar": [
                      {
                        "error_x": {
                          "color": "#2a3f5f"
                        },
                        "error_y": {
                          "color": "#2a3f5f"
                        },
                        "marker": {
                          "line": {
                            "color": "#E5ECF6",
                            "width": 0.5
                          },
                          "pattern": {
                            "fillmode": "overlay",
                            "size": 10,
                            "solidity": 0.2
                          }
                        },
                        "type": "bar"
                      }
                    ],
                    "barpolar": [
                      {
                        "marker": {
                          "line": {
                            "color": "#E5ECF6",
                            "width": 0.5
                          },
                          "pattern": {
                            "fillmode": "overlay",
                            "size": 10,
                            "solidity": 0.2
                          }
                        },
                        "type": "barpolar"
                      }
                    ],
                    "carpet": [
                      {
                        "aaxis": {
                          "endlinecolor": "#2a3f5f",
                          "gridcolor": "white",
                          "linecolor": "white",
                          "minorgridcolor": "white",
                          "startlinecolor": "#2a3f5f"
                        },
                        "baxis": {
                          "endlinecolor": "#2a3f5f",
                          "gridcolor": "white",
                          "linecolor": "white",
                          "minorgridcolor": "white",
                          "startlinecolor": "#2a3f5f"
                        },
                        "type": "carpet"
                      }
                    ],
                    "choropleth": [
                      {
                        "colorbar": {
                          "outlinewidth": 0,
                          "ticks": ""
                        },
                        "type": "choropleth"
                      }
                    ],
                    "contour": [
                      {
                        "colorbar": {
                          "outlinewidth": 0,
                          "ticks": ""
                        },
                        "colorscale": [
                          [
                            0,
                            "#0d0887"
                          ],
                          [
                            0.1111111111111111,
                            "#46039f"
                          ],
                          [
                            0.2222222222222222,
                            "#7201a8"
                          ],
                          [
                            0.3333333333333333,
                            "#9c179e"
                          ],
                          [
                            0.4444444444444444,
                            "#bd3786"
                          ],
                          [
                            0.5555555555555556,
                            "#d8576b"
                          ],
                          [
                            0.6666666666666666,
                            "#ed7953"
                          ],
                          [
                            0.7777777777777778,
                            "#fb9f3a"
                          ],
                          [
                            0.8888888888888888,
                            "#fdca26"
                          ],
                          [
                            1,
                            "#f0f921"
                          ]
                        ],
                        "type": "contour"
                      }
                    ],
                    "contourcarpet": [
                      {
                        "colorbar": {
                          "outlinewidth": 0,
                          "ticks": ""
                        },
                        "type": "contourcarpet"
                      }
                    ],
                    "heatmap": [
                      {
                        "colorbar": {
                          "outlinewidth": 0,
                          "ticks": ""
                        },
                        "colorscale": [
                          [
                            0,
                            "#0d0887"
                          ],
                          [
                            0.1111111111111111,
                            "#46039f"
                          ],
                          [
                            0.2222222222222222,
                            "#7201a8"
                          ],
                          [
                            0.3333333333333333,
                            "#9c179e"
                          ],
                          [
                            0.4444444444444444,
                            "#bd3786"
                          ],
                          [
                            0.5555555555555556,
                            "#d8576b"
                          ],
                          [
                            0.6666666666666666,
                            "#ed7953"
                          ],
                          [
                            0.7777777777777778,
                            "#fb9f3a"
                          ],
                          [
                            0.8888888888888888,
                            "#fdca26"
                          ],
                          [
                            1,
                            "#f0f921"
                          ]
                        ],
                        "type": "heatmap"
                      }
                    ],
                    "heatmapgl": [
                      {
                        "colorbar": {
                          "outlinewidth": 0,
                          "ticks": ""
                        },
                        "colorscale": [
                          [
                            0,
                            "#0d0887"
                          ],
                          [
                            0.1111111111111111,
                            "#46039f"
                          ],
                          [
                            0.2222222222222222,
                            "#7201a8"
                          ],
                          [
                            0.3333333333333333,
                            "#9c179e"
                          ],
                          [
                            0.4444444444444444,
                            "#bd3786"
                          ],
                          [
                            0.5555555555555556,
                            "#d8576b"
                          ],
                          [
                            0.6666666666666666,
                            "#ed7953"
                          ],
                          [
                            0.7777777777777778,
                            "#fb9f3a"
                          ],
                          [
                            0.8888888888888888,
                            "#fdca26"
                          ],
                          [
                            1,
                            "#f0f921"
                          ]
                        ],
                        "type": "heatmapgl"
                      }
                    ],
                    "histogram": [
                      {
                        "marker": {
                          "pattern": {
                            "fillmode": "overlay",
                            "size": 10,
                            "solidity": 0.2
                          }
                        },
                        "type": "histogram"
                      }
                    ],
                    "histogram2d": [
                      {
                        "colorbar": {
                          "outlinewidth": 0,
                          "ticks": ""
                        },
                        "colorscale": [
                          [
                            0,
                            "#0d0887"
                          ],
                          [
                            0.1111111111111111,
                            "#46039f"
                          ],
                          [
                            0.2222222222222222,
                            "#7201a8"
                          ],
                          [
                            0.3333333333333333,
                            "#9c179e"
                          ],
                          [
                            0.4444444444444444,
                            "#bd3786"
                          ],
                          [
                            0.5555555555555556,
                            "#d8576b"
                          ],
                          [
                            0.6666666666666666,
                            "#ed7953"
                          ],
                          [
                            0.7777777777777778,
                            "#fb9f3a"
                          ],
                          [
                            0.8888888888888888,
                            "#fdca26"
                          ],
                          [
                            1,
                            "#f0f921"
                          ]
                        ],
                        "type": "histogram2d"
                      }
                    ],
                    "histogram2dcontour": [
                      {
                        "colorbar": {
                          "outlinewidth": 0,
                          "ticks": ""
                        },
                        "colorscale": [
                          [
                            0,
                            "#0d0887"
                          ],
                          [
                            0.1111111111111111,
                            "#46039f"
                          ],
                          [
                            0.2222222222222222,
                            "#7201a8"
                          ],
                          [
                            0.3333333333333333,
                            "#9c179e"
                          ],
                          [
                            0.4444444444444444,
                            "#bd3786"
                          ],
                          [
                            0.5555555555555556,
                            "#d8576b"
                          ],
                          [
                            0.6666666666666666,
                            "#ed7953"
                          ],
                          [
                            0.7777777777777778,
                            "#fb9f3a"
                          ],
                          [
                            0.8888888888888888,
                            "#fdca26"
                          ],
                          [
                            1,
                            "#f0f921"
                          ]
                        ],
                        "type": "histogram2dcontour"
                      }
                    ],
                    "mesh3d": [
                      {
                        "colorbar": {
                          "outlinewidth": 0,
                          "ticks": ""
                        },
                        "type": "mesh3d"
                      }
                    ],
                    "parcoords": [
                      {
                        "line": {
                          "colorbar": {
                            "outlinewidth": 0,
                            "ticks": ""
                          }
                        },
                        "type": "parcoords"
                      }
                    ],
                    "pie": [
                      {
                        "automargin": true,
                        "type": "pie"
                      }
                    ],
                    "scatter": [
                      {
                        "marker": {
                          "colorbar": {
                            "outlinewidth": 0,
                            "ticks": ""
                          }
                        },
                        "type": "scatter"
                      }
                    ],
                    "scatter3d": [
                      {
                        "line": {
                          "colorbar": {
                            "outlinewidth": 0,
                            "ticks": ""
                          }
                        },
                        "marker": {
                          "colorbar": {
                            "outlinewidth": 0,
                            "ticks": ""
                          }
                        },
                        "type": "scatter3d"
                      }
                    ],
                    "scattercarpet": [
                      {
                        "marker": {
                          "colorbar": {
                            "outlinewidth": 0,
                            "ticks": ""
                          }
                        },
                        "type": "scattercarpet"
                      }
                    ],
                    "scattergeo": [
                      {
                        "marker": {
                          "colorbar": {
                            "outlinewidth": 0,
                            "ticks": ""
                          }
                        },
                        "type": "scattergeo"
                      }
                    ],
                    "scattergl": [
                      {
                        "marker": {
                          "colorbar": {
                            "outlinewidth": 0,
                            "ticks": ""
                          }
                        },
                        "type": "scattergl"
                      }
                    ],
                    "scattermapbox": [
                      {
                        "marker": {
                          "colorbar": {
                            "outlinewidth": 0,
                            "ticks": ""
                          }
                        },
                        "type": "scattermapbox"
                      }
                    ],
                    "scatterpolar": [
                      {
                        "marker": {
                          "colorbar": {
                            "outlinewidth": 0,
                            "ticks": ""
                          }
                        },
                        "type": "scatterpolar"
                      }
                    ],
                    "scatterpolargl": [
                      {
                        "marker": {
                          "colorbar": {
                            "outlinewidth": 0,
                            "ticks": ""
                          }
                        },
                        "type": "scatterpolargl"
                      }
                    ],
                    "scatterternary": [
                      {
                        "marker": {
                          "colorbar": {
                            "outlinewidth": 0,
                            "ticks": ""
                          }
                        },
                        "type": "scatterternary"
                      }
                    ],
                    "surface": [
                      {
                        "colorbar": {
                          "outlinewidth": 0,
                          "ticks": ""
                        },
                        "colorscale": [
                          [
                            0,
                            "#0d0887"
                          ],
                          [
                            0.1111111111111111,
                            "#46039f"
                          ],
                          [
                            0.2222222222222222,
                            "#7201a8"
                          ],
                          [
                            0.3333333333333333,
                            "#9c179e"
                          ],
                          [
                            0.4444444444444444,
                            "#bd3786"
                          ],
                          [
                            0.5555555555555556,
                            "#d8576b"
                          ],
                          [
                            0.6666666666666666,
                            "#ed7953"
                          ],
                          [
                            0.7777777777777778,
                            "#fb9f3a"
                          ],
                          [
                            0.8888888888888888,
                            "#fdca26"
                          ],
                          [
                            1,
                            "#f0f921"
                          ]
                        ],
                        "type": "surface"
                      }
                    ],
                    "table": [
                      {
                        "cells": {
                          "fill": {
                            "color": "#EBF0F8"
                          },
                          "line": {
                            "color": "white"
                          }
                        },
                        "header": {
                          "fill": {
                            "color": "#C8D4E3"
                          },
                          "line": {
                            "color": "white"
                          }
                        },
                        "type": "table"
                      }
                    ]
                  },
                  "layout": {
                    "annotationdefaults": {
                      "arrowcolor": "#2a3f5f",
                      "arrowhead": 0,
                      "arrowwidth": 1
                    },
                    "autotypenumbers": "strict",
                    "coloraxis": {
                      "colorbar": {
                        "outlinewidth": 0,
                        "ticks": ""
                      }
                    },
                    "colorscale": {
                      "diverging": [
                        [
                          0,
                          "#8e0152"
                        ],
                        [
                          0.1,
                          "#c51b7d"
                        ],
                        [
                          0.2,
                          "#de77ae"
                        ],
                        [
                          0.3,
                          "#f1b6da"
                        ],
                        [
                          0.4,
                          "#fde0ef"
                        ],
                        [
                          0.5,
                          "#f7f7f7"
                        ],
                        [
                          0.6,
                          "#e6f5d0"
                        ],
                        [
                          0.7,
                          "#b8e186"
                        ],
                        [
                          0.8,
                          "#7fbc41"
                        ],
                        [
                          0.9,
                          "#4d9221"
                        ],
                        [
                          1,
                          "#276419"
                        ]
                      ],
                      "sequential": [
                        [
                          0,
                          "#0d0887"
                        ],
                        [
                          0.1111111111111111,
                          "#46039f"
                        ],
                        [
                          0.2222222222222222,
                          "#7201a8"
                        ],
                        [
                          0.3333333333333333,
                          "#9c179e"
                        ],
                        [
                          0.4444444444444444,
                          "#bd3786"
                        ],
                        [
                          0.5555555555555556,
                          "#d8576b"
                        ],
                        [
                          0.6666666666666666,
                          "#ed7953"
                        ],
                        [
                          0.7777777777777778,
                          "#fb9f3a"
                        ],
                        [
                          0.8888888888888888,
                          "#fdca26"
                        ],
                        [
                          1,
                          "#f0f921"
                        ]
                      ],
                      "sequentialminus": [
                        [
                          0,
                          "#0d0887"
                        ],
                        [
                          0.1111111111111111,
                          "#46039f"
                        ],
                        [
                          0.2222222222222222,
                          "#7201a8"
                        ],
                        [
                          0.3333333333333333,
                          "#9c179e"
                        ],
                        [
                          0.4444444444444444,
                          "#bd3786"
                        ],
                        [
                          0.5555555555555556,
                          "#d8576b"
                        ],
                        [
                          0.6666666666666666,
                          "#ed7953"
                        ],
                        [
                          0.7777777777777778,
                          "#fb9f3a"
                        ],
                        [
                          0.8888888888888888,
                          "#fdca26"
                        ],
                        [
                          1,
                          "#f0f921"
                        ]
                      ]
                    },
                    "colorway": [
                      "#636efa",
                      "#EF553B",
                      "#00cc96",
                      "#ab63fa",
                      "#FFA15A",
                      "#19d3f3",
                      "#FF6692",
                      "#B6E880",
                      "#FF97FF",
                      "#FECB52"
                    ],
                    "font": {
                      "color": "#2a3f5f"
                    },
                    "geo": {
                      "bgcolor": "white",
                      "lakecolor": "white",
                      "landcolor": "#E5ECF6",
                      "showlakes": true,
                      "showland": true,
                      "subunitcolor": "white"
                    },
                    "hoverlabel": {
                      "align": "left"
                    },
                    "hovermode": "closest",
                    "mapbox": {
                      "style": "light"
                    },
                    "paper_bgcolor": "white",
                    "plot_bgcolor": "#E5ECF6",
                    "polar": {
                      "angularaxis": {
                        "gridcolor": "white",
                        "linecolor": "white",
                        "ticks": ""
                      },
                      "bgcolor": "#E5ECF6",
                      "radialaxis": {
                        "gridcolor": "white",
                        "linecolor": "white",
                        "ticks": ""
                      }
                    },
                    "scene": {
                      "xaxis": {
                        "backgroundcolor": "#E5ECF6",
                        "gridcolor": "white",
                        "gridwidth": 2,
                        "linecolor": "white",
                        "showbackground": true,
                        "ticks": "",
                        "zerolinecolor": "white"
                      },
                      "yaxis": {
                        "backgroundcolor": "#E5ECF6",
                        "gridcolor": "white",
                        "gridwidth": 2,
                        "linecolor": "white",
                        "showbackground": true,
                        "ticks": "",
                        "zerolinecolor": "white"
                      },
                      "zaxis": {
                        "backgroundcolor": "#E5ECF6",
                        "gridcolor": "white",
                        "gridwidth": 2,
                        "linecolor": "white",
                        "showbackground": true,
                        "ticks": "",
                        "zerolinecolor": "white"
                      }
                    },
                    "shapedefaults": {
                      "line": {
                        "color": "#2a3f5f"
                      }
                    },
                    "ternary": {
                      "aaxis": {
                        "gridcolor": "white",
                        "linecolor": "white",
                        "ticks": ""
                      },
                      "baxis": {
                        "gridcolor": "white",
                        "linecolor": "white",
                        "ticks": ""
                      },
                      "bgcolor": "#E5ECF6",
                      "caxis": {
                        "gridcolor": "white",
                        "linecolor": "white",
                        "ticks": ""
                      }
                    },
                    "title": {
                      "x": 0.05
                    },
                    "xaxis": {
                      "automargin": true,
                      "gridcolor": "white",
                      "linecolor": "white",
                      "ticks": "",
                      "title": {
                        "standoff": 15
                      },
                      "zerolinecolor": "white",
                      "zerolinewidth": 2
                    },
                    "yaxis": {
                      "automargin": true,
                      "gridcolor": "white",
                      "linecolor": "white",
                      "ticks": "",
                      "title": {
                        "standoff": 15
                      },
                      "zerolinecolor": "white",
                      "zerolinewidth": 2
                    }
                  }
                },
                "title": {
                  "text": "Sentiment Distribution"
                }
              }
            },
            "text/html": [
              "<div>                            <div id=\"373e5355-dbe3-45a1-a3f8-140ca509b083\" class=\"plotly-graph-div\" style=\"height:525px; width:100%;\"></div>            <script type=\"text/javascript\">                require([\"plotly\"], function(Plotly) {                    window.PLOTLYENV=window.PLOTLYENV || {};                                    if (document.getElementById(\"373e5355-dbe3-45a1-a3f8-140ca509b083\")) {                    Plotly.newPlot(                        \"373e5355-dbe3-45a1-a3f8-140ca509b083\",                        [{\"hoverinfo\":\"value\",\"labels\":[\"pos\",\"neg\"],\"marker\":{\"colors\":[\"red\"]},\"values\":[14,4],\"type\":\"pie\"}],                        {\"template\":{\"data\":{\"barpolar\":[{\"marker\":{\"line\":{\"color\":\"#E5ECF6\",\"width\":0.5},\"pattern\":{\"fillmode\":\"overlay\",\"size\":10,\"solidity\":0.2}},\"type\":\"barpolar\"}],\"bar\":[{\"error_x\":{\"color\":\"#2a3f5f\"},\"error_y\":{\"color\":\"#2a3f5f\"},\"marker\":{\"line\":{\"color\":\"#E5ECF6\",\"width\":0.5},\"pattern\":{\"fillmode\":\"overlay\",\"size\":10,\"solidity\":0.2}},\"type\":\"bar\"}],\"carpet\":[{\"aaxis\":{\"endlinecolor\":\"#2a3f5f\",\"gridcolor\":\"white\",\"linecolor\":\"white\",\"minorgridcolor\":\"white\",\"startlinecolor\":\"#2a3f5f\"},\"baxis\":{\"endlinecolor\":\"#2a3f5f\",\"gridcolor\":\"white\",\"linecolor\":\"white\",\"minorgridcolor\":\"white\",\"startlinecolor\":\"#2a3f5f\"},\"type\":\"carpet\"}],\"choropleth\":[{\"colorbar\":{\"outlinewidth\":0,\"ticks\":\"\"},\"type\":\"choropleth\"}],\"contourcarpet\":[{\"colorbar\":{\"outlinewidth\":0,\"ticks\":\"\"},\"type\":\"contourcarpet\"}],\"contour\":[{\"colorbar\":{\"outlinewidth\":0,\"ticks\":\"\"},\"colorscale\":[[0.0,\"#0d0887\"],[0.1111111111111111,\"#46039f\"],[0.2222222222222222,\"#7201a8\"],[0.3333333333333333,\"#9c179e\"],[0.4444444444444444,\"#bd3786\"],[0.5555555555555556,\"#d8576b\"],[0.6666666666666666,\"#ed7953\"],[0.7777777777777778,\"#fb9f3a\"],[0.8888888888888888,\"#fdca26\"],[1.0,\"#f0f921\"]],\"type\":\"contour\"}],\"heatmapgl\":[{\"colorbar\":{\"outlinewidth\":0,\"ticks\":\"\"},\"colorscale\":[[0.0,\"#0d0887\"],[0.1111111111111111,\"#46039f\"],[0.2222222222222222,\"#7201a8\"],[0.3333333333333333,\"#9c179e\"],[0.4444444444444444,\"#bd3786\"],[0.5555555555555556,\"#d8576b\"],[0.6666666666666666,\"#ed7953\"],[0.7777777777777778,\"#fb9f3a\"],[0.8888888888888888,\"#fdca26\"],[1.0,\"#f0f921\"]],\"type\":\"heatmapgl\"}],\"heatmap\":[{\"colorbar\":{\"outlinewidth\":0,\"ticks\":\"\"},\"colorscale\":[[0.0,\"#0d0887\"],[0.1111111111111111,\"#46039f\"],[0.2222222222222222,\"#7201a8\"],[0.3333333333333333,\"#9c179e\"],[0.4444444444444444,\"#bd3786\"],[0.5555555555555556,\"#d8576b\"],[0.6666666666666666,\"#ed7953\"],[0.7777777777777778,\"#fb9f3a\"],[0.8888888888888888,\"#fdca26\"],[1.0,\"#f0f921\"]],\"type\":\"heatmap\"}],\"histogram2dcontour\":[{\"colorbar\":{\"outlinewidth\":0,\"ticks\":\"\"},\"colorscale\":[[0.0,\"#0d0887\"],[0.1111111111111111,\"#46039f\"],[0.2222222222222222,\"#7201a8\"],[0.3333333333333333,\"#9c179e\"],[0.4444444444444444,\"#bd3786\"],[0.5555555555555556,\"#d8576b\"],[0.6666666666666666,\"#ed7953\"],[0.7777777777777778,\"#fb9f3a\"],[0.8888888888888888,\"#fdca26\"],[1.0,\"#f0f921\"]],\"type\":\"histogram2dcontour\"}],\"histogram2d\":[{\"colorbar\":{\"outlinewidth\":0,\"ticks\":\"\"},\"colorscale\":[[0.0,\"#0d0887\"],[0.1111111111111111,\"#46039f\"],[0.2222222222222222,\"#7201a8\"],[0.3333333333333333,\"#9c179e\"],[0.4444444444444444,\"#bd3786\"],[0.5555555555555556,\"#d8576b\"],[0.6666666666666666,\"#ed7953\"],[0.7777777777777778,\"#fb9f3a\"],[0.8888888888888888,\"#fdca26\"],[1.0,\"#f0f921\"]],\"type\":\"histogram2d\"}],\"histogram\":[{\"marker\":{\"pattern\":{\"fillmode\":\"overlay\",\"size\":10,\"solidity\":0.2}},\"type\":\"histogram\"}],\"mesh3d\":[{\"colorbar\":{\"outlinewidth\":0,\"ticks\":\"\"},\"type\":\"mesh3d\"}],\"parcoords\":[{\"line\":{\"colorbar\":{\"outlinewidth\":0,\"ticks\":\"\"}},\"type\":\"parcoords\"}],\"pie\":[{\"automargin\":true,\"type\":\"pie\"}],\"scatter3d\":[{\"line\":{\"colorbar\":{\"outlinewidth\":0,\"ticks\":\"\"}},\"marker\":{\"colorbar\":{\"outlinewidth\":0,\"ticks\":\"\"}},\"type\":\"scatter3d\"}],\"scattercarpet\":[{\"marker\":{\"colorbar\":{\"outlinewidth\":0,\"ticks\":\"\"}},\"type\":\"scattercarpet\"}],\"scattergeo\":[{\"marker\":{\"colorbar\":{\"outlinewidth\":0,\"ticks\":\"\"}},\"type\":\"scattergeo\"}],\"scattergl\":[{\"marker\":{\"colorbar\":{\"outlinewidth\":0,\"ticks\":\"\"}},\"type\":\"scattergl\"}],\"scattermapbox\":[{\"marker\":{\"colorbar\":{\"outlinewidth\":0,\"ticks\":\"\"}},\"type\":\"scattermapbox\"}],\"scatterpolargl\":[{\"marker\":{\"colorbar\":{\"outlinewidth\":0,\"ticks\":\"\"}},\"type\":\"scatterpolargl\"}],\"scatterpolar\":[{\"marker\":{\"colorbar\":{\"outlinewidth\":0,\"ticks\":\"\"}},\"type\":\"scatterpolar\"}],\"scatter\":[{\"marker\":{\"colorbar\":{\"outlinewidth\":0,\"ticks\":\"\"}},\"type\":\"scatter\"}],\"scatterternary\":[{\"marker\":{\"colorbar\":{\"outlinewidth\":0,\"ticks\":\"\"}},\"type\":\"scatterternary\"}],\"surface\":[{\"colorbar\":{\"outlinewidth\":0,\"ticks\":\"\"},\"colorscale\":[[0.0,\"#0d0887\"],[0.1111111111111111,\"#46039f\"],[0.2222222222222222,\"#7201a8\"],[0.3333333333333333,\"#9c179e\"],[0.4444444444444444,\"#bd3786\"],[0.5555555555555556,\"#d8576b\"],[0.6666666666666666,\"#ed7953\"],[0.7777777777777778,\"#fb9f3a\"],[0.8888888888888888,\"#fdca26\"],[1.0,\"#f0f921\"]],\"type\":\"surface\"}],\"table\":[{\"cells\":{\"fill\":{\"color\":\"#EBF0F8\"},\"line\":{\"color\":\"white\"}},\"header\":{\"fill\":{\"color\":\"#C8D4E3\"},\"line\":{\"color\":\"white\"}},\"type\":\"table\"}]},\"layout\":{\"annotationdefaults\":{\"arrowcolor\":\"#2a3f5f\",\"arrowhead\":0,\"arrowwidth\":1},\"autotypenumbers\":\"strict\",\"coloraxis\":{\"colorbar\":{\"outlinewidth\":0,\"ticks\":\"\"}},\"colorscale\":{\"diverging\":[[0,\"#8e0152\"],[0.1,\"#c51b7d\"],[0.2,\"#de77ae\"],[0.3,\"#f1b6da\"],[0.4,\"#fde0ef\"],[0.5,\"#f7f7f7\"],[0.6,\"#e6f5d0\"],[0.7,\"#b8e186\"],[0.8,\"#7fbc41\"],[0.9,\"#4d9221\"],[1,\"#276419\"]],\"sequential\":[[0.0,\"#0d0887\"],[0.1111111111111111,\"#46039f\"],[0.2222222222222222,\"#7201a8\"],[0.3333333333333333,\"#9c179e\"],[0.4444444444444444,\"#bd3786\"],[0.5555555555555556,\"#d8576b\"],[0.6666666666666666,\"#ed7953\"],[0.7777777777777778,\"#fb9f3a\"],[0.8888888888888888,\"#fdca26\"],[1.0,\"#f0f921\"]],\"sequentialminus\":[[0.0,\"#0d0887\"],[0.1111111111111111,\"#46039f\"],[0.2222222222222222,\"#7201a8\"],[0.3333333333333333,\"#9c179e\"],[0.4444444444444444,\"#bd3786\"],[0.5555555555555556,\"#d8576b\"],[0.6666666666666666,\"#ed7953\"],[0.7777777777777778,\"#fb9f3a\"],[0.8888888888888888,\"#fdca26\"],[1.0,\"#f0f921\"]]},\"colorway\":[\"#636efa\",\"#EF553B\",\"#00cc96\",\"#ab63fa\",\"#FFA15A\",\"#19d3f3\",\"#FF6692\",\"#B6E880\",\"#FF97FF\",\"#FECB52\"],\"font\":{\"color\":\"#2a3f5f\"},\"geo\":{\"bgcolor\":\"white\",\"lakecolor\":\"white\",\"landcolor\":\"#E5ECF6\",\"showlakes\":true,\"showland\":true,\"subunitcolor\":\"white\"},\"hoverlabel\":{\"align\":\"left\"},\"hovermode\":\"closest\",\"mapbox\":{\"style\":\"light\"},\"paper_bgcolor\":\"white\",\"plot_bgcolor\":\"#E5ECF6\",\"polar\":{\"angularaxis\":{\"gridcolor\":\"white\",\"linecolor\":\"white\",\"ticks\":\"\"},\"bgcolor\":\"#E5ECF6\",\"radialaxis\":{\"gridcolor\":\"white\",\"linecolor\":\"white\",\"ticks\":\"\"}},\"scene\":{\"xaxis\":{\"backgroundcolor\":\"#E5ECF6\",\"gridcolor\":\"white\",\"gridwidth\":2,\"linecolor\":\"white\",\"showbackground\":true,\"ticks\":\"\",\"zerolinecolor\":\"white\"},\"yaxis\":{\"backgroundcolor\":\"#E5ECF6\",\"gridcolor\":\"white\",\"gridwidth\":2,\"linecolor\":\"white\",\"showbackground\":true,\"ticks\":\"\",\"zerolinecolor\":\"white\"},\"zaxis\":{\"backgroundcolor\":\"#E5ECF6\",\"gridcolor\":\"white\",\"gridwidth\":2,\"linecolor\":\"white\",\"showbackground\":true,\"ticks\":\"\",\"zerolinecolor\":\"white\"}},\"shapedefaults\":{\"line\":{\"color\":\"#2a3f5f\"}},\"ternary\":{\"aaxis\":{\"gridcolor\":\"white\",\"linecolor\":\"white\",\"ticks\":\"\"},\"baxis\":{\"gridcolor\":\"white\",\"linecolor\":\"white\",\"ticks\":\"\"},\"bgcolor\":\"#E5ECF6\",\"caxis\":{\"gridcolor\":\"white\",\"linecolor\":\"white\",\"ticks\":\"\"}},\"title\":{\"x\":0.05},\"xaxis\":{\"automargin\":true,\"gridcolor\":\"white\",\"linecolor\":\"white\",\"ticks\":\"\",\"title\":{\"standoff\":15},\"zerolinecolor\":\"white\",\"zerolinewidth\":2},\"yaxis\":{\"automargin\":true,\"gridcolor\":\"white\",\"linecolor\":\"white\",\"ticks\":\"\",\"title\":{\"standoff\":15},\"zerolinecolor\":\"white\",\"zerolinewidth\":2}}},\"title\":{\"text\":\"Sentiment Distribution\"}},                        {\"responsive\": true}                    ).then(function(){\n",
              "                            \n",
              "var gd = document.getElementById('373e5355-dbe3-45a1-a3f8-140ca509b083');\n",
              "var x = new MutationObserver(function (mutations, observer) {{\n",
              "        var display = window.getComputedStyle(gd).display;\n",
              "        if (!display || display === 'none') {{\n",
              "            console.log([gd, 'removed!']);\n",
              "            Plotly.purge(gd);\n",
              "            observer.disconnect();\n",
              "        }}\n",
              "}});\n",
              "\n",
              "// Listen for the removal of the full notebook cells\n",
              "var notebookContainer = gd.closest('#notebook-container');\n",
              "if (notebookContainer) {{\n",
              "    x.observe(notebookContainer, {childList: true});\n",
              "}}\n",
              "\n",
              "// Listen for the clearing of the current output cell\n",
              "var outputEl = gd.closest('.output');\n",
              "if (outputEl) {{\n",
              "    x.observe(outputEl, {childList: true});\n",
              "}}\n",
              "\n",
              "                        })                };                });            </script>        </div>"
            ]
          },
          "metadata": {},
          "output_type": "display_data"
        }
      ],
      "source": [
        "iplot(fig)"
      ]
    },
    {
      "cell_type": "code",
      "execution_count": 25,
      "metadata": {},
      "outputs": [
        {
          "data": {
            "application/vnd.plotly.v1+json": {
              "config": {
                "linkText": "Export to plot.ly",
                "plotlyServerURL": "https://plot.ly",
                "showLink": false
              },
              "data": [
                {
                  "histnorm": "percent",
                  "nbinsx": 40,
                  "type": "histogram",
                  "x": [
                    "Youtube",
                    "Youtube",
                    "Youtube",
                    "Youtube",
                    "0",
                    "Youtube",
                    "Youtube",
                    "Youtube",
                    "Youtube",
                    "Youtube",
                    "Youtube",
                    "Youtube",
                    "Youtube",
                    "Youtube",
                    "Youtube",
                    "Youtube",
                    "Youtube",
                    "Youtube"
                  ]
                }
              ],
              "layout": {
                "template": {
                  "data": {
                    "bar": [
                      {
                        "error_x": {
                          "color": "#2a3f5f"
                        },
                        "error_y": {
                          "color": "#2a3f5f"
                        },
                        "marker": {
                          "line": {
                            "color": "#E5ECF6",
                            "width": 0.5
                          },
                          "pattern": {
                            "fillmode": "overlay",
                            "size": 10,
                            "solidity": 0.2
                          }
                        },
                        "type": "bar"
                      }
                    ],
                    "barpolar": [
                      {
                        "marker": {
                          "line": {
                            "color": "#E5ECF6",
                            "width": 0.5
                          },
                          "pattern": {
                            "fillmode": "overlay",
                            "size": 10,
                            "solidity": 0.2
                          }
                        },
                        "type": "barpolar"
                      }
                    ],
                    "carpet": [
                      {
                        "aaxis": {
                          "endlinecolor": "#2a3f5f",
                          "gridcolor": "white",
                          "linecolor": "white",
                          "minorgridcolor": "white",
                          "startlinecolor": "#2a3f5f"
                        },
                        "baxis": {
                          "endlinecolor": "#2a3f5f",
                          "gridcolor": "white",
                          "linecolor": "white",
                          "minorgridcolor": "white",
                          "startlinecolor": "#2a3f5f"
                        },
                        "type": "carpet"
                      }
                    ],
                    "choropleth": [
                      {
                        "colorbar": {
                          "outlinewidth": 0,
                          "ticks": ""
                        },
                        "type": "choropleth"
                      }
                    ],
                    "contour": [
                      {
                        "colorbar": {
                          "outlinewidth": 0,
                          "ticks": ""
                        },
                        "colorscale": [
                          [
                            0,
                            "#0d0887"
                          ],
                          [
                            0.1111111111111111,
                            "#46039f"
                          ],
                          [
                            0.2222222222222222,
                            "#7201a8"
                          ],
                          [
                            0.3333333333333333,
                            "#9c179e"
                          ],
                          [
                            0.4444444444444444,
                            "#bd3786"
                          ],
                          [
                            0.5555555555555556,
                            "#d8576b"
                          ],
                          [
                            0.6666666666666666,
                            "#ed7953"
                          ],
                          [
                            0.7777777777777778,
                            "#fb9f3a"
                          ],
                          [
                            0.8888888888888888,
                            "#fdca26"
                          ],
                          [
                            1,
                            "#f0f921"
                          ]
                        ],
                        "type": "contour"
                      }
                    ],
                    "contourcarpet": [
                      {
                        "colorbar": {
                          "outlinewidth": 0,
                          "ticks": ""
                        },
                        "type": "contourcarpet"
                      }
                    ],
                    "heatmap": [
                      {
                        "colorbar": {
                          "outlinewidth": 0,
                          "ticks": ""
                        },
                        "colorscale": [
                          [
                            0,
                            "#0d0887"
                          ],
                          [
                            0.1111111111111111,
                            "#46039f"
                          ],
                          [
                            0.2222222222222222,
                            "#7201a8"
                          ],
                          [
                            0.3333333333333333,
                            "#9c179e"
                          ],
                          [
                            0.4444444444444444,
                            "#bd3786"
                          ],
                          [
                            0.5555555555555556,
                            "#d8576b"
                          ],
                          [
                            0.6666666666666666,
                            "#ed7953"
                          ],
                          [
                            0.7777777777777778,
                            "#fb9f3a"
                          ],
                          [
                            0.8888888888888888,
                            "#fdca26"
                          ],
                          [
                            1,
                            "#f0f921"
                          ]
                        ],
                        "type": "heatmap"
                      }
                    ],
                    "heatmapgl": [
                      {
                        "colorbar": {
                          "outlinewidth": 0,
                          "ticks": ""
                        },
                        "colorscale": [
                          [
                            0,
                            "#0d0887"
                          ],
                          [
                            0.1111111111111111,
                            "#46039f"
                          ],
                          [
                            0.2222222222222222,
                            "#7201a8"
                          ],
                          [
                            0.3333333333333333,
                            "#9c179e"
                          ],
                          [
                            0.4444444444444444,
                            "#bd3786"
                          ],
                          [
                            0.5555555555555556,
                            "#d8576b"
                          ],
                          [
                            0.6666666666666666,
                            "#ed7953"
                          ],
                          [
                            0.7777777777777778,
                            "#fb9f3a"
                          ],
                          [
                            0.8888888888888888,
                            "#fdca26"
                          ],
                          [
                            1,
                            "#f0f921"
                          ]
                        ],
                        "type": "heatmapgl"
                      }
                    ],
                    "histogram": [
                      {
                        "marker": {
                          "pattern": {
                            "fillmode": "overlay",
                            "size": 10,
                            "solidity": 0.2
                          }
                        },
                        "type": "histogram"
                      }
                    ],
                    "histogram2d": [
                      {
                        "colorbar": {
                          "outlinewidth": 0,
                          "ticks": ""
                        },
                        "colorscale": [
                          [
                            0,
                            "#0d0887"
                          ],
                          [
                            0.1111111111111111,
                            "#46039f"
                          ],
                          [
                            0.2222222222222222,
                            "#7201a8"
                          ],
                          [
                            0.3333333333333333,
                            "#9c179e"
                          ],
                          [
                            0.4444444444444444,
                            "#bd3786"
                          ],
                          [
                            0.5555555555555556,
                            "#d8576b"
                          ],
                          [
                            0.6666666666666666,
                            "#ed7953"
                          ],
                          [
                            0.7777777777777778,
                            "#fb9f3a"
                          ],
                          [
                            0.8888888888888888,
                            "#fdca26"
                          ],
                          [
                            1,
                            "#f0f921"
                          ]
                        ],
                        "type": "histogram2d"
                      }
                    ],
                    "histogram2dcontour": [
                      {
                        "colorbar": {
                          "outlinewidth": 0,
                          "ticks": ""
                        },
                        "colorscale": [
                          [
                            0,
                            "#0d0887"
                          ],
                          [
                            0.1111111111111111,
                            "#46039f"
                          ],
                          [
                            0.2222222222222222,
                            "#7201a8"
                          ],
                          [
                            0.3333333333333333,
                            "#9c179e"
                          ],
                          [
                            0.4444444444444444,
                            "#bd3786"
                          ],
                          [
                            0.5555555555555556,
                            "#d8576b"
                          ],
                          [
                            0.6666666666666666,
                            "#ed7953"
                          ],
                          [
                            0.7777777777777778,
                            "#fb9f3a"
                          ],
                          [
                            0.8888888888888888,
                            "#fdca26"
                          ],
                          [
                            1,
                            "#f0f921"
                          ]
                        ],
                        "type": "histogram2dcontour"
                      }
                    ],
                    "mesh3d": [
                      {
                        "colorbar": {
                          "outlinewidth": 0,
                          "ticks": ""
                        },
                        "type": "mesh3d"
                      }
                    ],
                    "parcoords": [
                      {
                        "line": {
                          "colorbar": {
                            "outlinewidth": 0,
                            "ticks": ""
                          }
                        },
                        "type": "parcoords"
                      }
                    ],
                    "pie": [
                      {
                        "automargin": true,
                        "type": "pie"
                      }
                    ],
                    "scatter": [
                      {
                        "marker": {
                          "colorbar": {
                            "outlinewidth": 0,
                            "ticks": ""
                          }
                        },
                        "type": "scatter"
                      }
                    ],
                    "scatter3d": [
                      {
                        "line": {
                          "colorbar": {
                            "outlinewidth": 0,
                            "ticks": ""
                          }
                        },
                        "marker": {
                          "colorbar": {
                            "outlinewidth": 0,
                            "ticks": ""
                          }
                        },
                        "type": "scatter3d"
                      }
                    ],
                    "scattercarpet": [
                      {
                        "marker": {
                          "colorbar": {
                            "outlinewidth": 0,
                            "ticks": ""
                          }
                        },
                        "type": "scattercarpet"
                      }
                    ],
                    "scattergeo": [
                      {
                        "marker": {
                          "colorbar": {
                            "outlinewidth": 0,
                            "ticks": ""
                          }
                        },
                        "type": "scattergeo"
                      }
                    ],
                    "scattergl": [
                      {
                        "marker": {
                          "colorbar": {
                            "outlinewidth": 0,
                            "ticks": ""
                          }
                        },
                        "type": "scattergl"
                      }
                    ],
                    "scattermapbox": [
                      {
                        "marker": {
                          "colorbar": {
                            "outlinewidth": 0,
                            "ticks": ""
                          }
                        },
                        "type": "scattermapbox"
                      }
                    ],
                    "scatterpolar": [
                      {
                        "marker": {
                          "colorbar": {
                            "outlinewidth": 0,
                            "ticks": ""
                          }
                        },
                        "type": "scatterpolar"
                      }
                    ],
                    "scatterpolargl": [
                      {
                        "marker": {
                          "colorbar": {
                            "outlinewidth": 0,
                            "ticks": ""
                          }
                        },
                        "type": "scatterpolargl"
                      }
                    ],
                    "scatterternary": [
                      {
                        "marker": {
                          "colorbar": {
                            "outlinewidth": 0,
                            "ticks": ""
                          }
                        },
                        "type": "scatterternary"
                      }
                    ],
                    "surface": [
                      {
                        "colorbar": {
                          "outlinewidth": 0,
                          "ticks": ""
                        },
                        "colorscale": [
                          [
                            0,
                            "#0d0887"
                          ],
                          [
                            0.1111111111111111,
                            "#46039f"
                          ],
                          [
                            0.2222222222222222,
                            "#7201a8"
                          ],
                          [
                            0.3333333333333333,
                            "#9c179e"
                          ],
                          [
                            0.4444444444444444,
                            "#bd3786"
                          ],
                          [
                            0.5555555555555556,
                            "#d8576b"
                          ],
                          [
                            0.6666666666666666,
                            "#ed7953"
                          ],
                          [
                            0.7777777777777778,
                            "#fb9f3a"
                          ],
                          [
                            0.8888888888888888,
                            "#fdca26"
                          ],
                          [
                            1,
                            "#f0f921"
                          ]
                        ],
                        "type": "surface"
                      }
                    ],
                    "table": [
                      {
                        "cells": {
                          "fill": {
                            "color": "#EBF0F8"
                          },
                          "line": {
                            "color": "white"
                          }
                        },
                        "header": {
                          "fill": {
                            "color": "#C8D4E3"
                          },
                          "line": {
                            "color": "white"
                          }
                        },
                        "type": "table"
                      }
                    ]
                  },
                  "layout": {
                    "annotationdefaults": {
                      "arrowcolor": "#2a3f5f",
                      "arrowhead": 0,
                      "arrowwidth": 1
                    },
                    "autotypenumbers": "strict",
                    "coloraxis": {
                      "colorbar": {
                        "outlinewidth": 0,
                        "ticks": ""
                      }
                    },
                    "colorscale": {
                      "diverging": [
                        [
                          0,
                          "#8e0152"
                        ],
                        [
                          0.1,
                          "#c51b7d"
                        ],
                        [
                          0.2,
                          "#de77ae"
                        ],
                        [
                          0.3,
                          "#f1b6da"
                        ],
                        [
                          0.4,
                          "#fde0ef"
                        ],
                        [
                          0.5,
                          "#f7f7f7"
                        ],
                        [
                          0.6,
                          "#e6f5d0"
                        ],
                        [
                          0.7,
                          "#b8e186"
                        ],
                        [
                          0.8,
                          "#7fbc41"
                        ],
                        [
                          0.9,
                          "#4d9221"
                        ],
                        [
                          1,
                          "#276419"
                        ]
                      ],
                      "sequential": [
                        [
                          0,
                          "#0d0887"
                        ],
                        [
                          0.1111111111111111,
                          "#46039f"
                        ],
                        [
                          0.2222222222222222,
                          "#7201a8"
                        ],
                        [
                          0.3333333333333333,
                          "#9c179e"
                        ],
                        [
                          0.4444444444444444,
                          "#bd3786"
                        ],
                        [
                          0.5555555555555556,
                          "#d8576b"
                        ],
                        [
                          0.6666666666666666,
                          "#ed7953"
                        ],
                        [
                          0.7777777777777778,
                          "#fb9f3a"
                        ],
                        [
                          0.8888888888888888,
                          "#fdca26"
                        ],
                        [
                          1,
                          "#f0f921"
                        ]
                      ],
                      "sequentialminus": [
                        [
                          0,
                          "#0d0887"
                        ],
                        [
                          0.1111111111111111,
                          "#46039f"
                        ],
                        [
                          0.2222222222222222,
                          "#7201a8"
                        ],
                        [
                          0.3333333333333333,
                          "#9c179e"
                        ],
                        [
                          0.4444444444444444,
                          "#bd3786"
                        ],
                        [
                          0.5555555555555556,
                          "#d8576b"
                        ],
                        [
                          0.6666666666666666,
                          "#ed7953"
                        ],
                        [
                          0.7777777777777778,
                          "#fb9f3a"
                        ],
                        [
                          0.8888888888888888,
                          "#fdca26"
                        ],
                        [
                          1,
                          "#f0f921"
                        ]
                      ]
                    },
                    "colorway": [
                      "#636efa",
                      "#EF553B",
                      "#00cc96",
                      "#ab63fa",
                      "#FFA15A",
                      "#19d3f3",
                      "#FF6692",
                      "#B6E880",
                      "#FF97FF",
                      "#FECB52"
                    ],
                    "font": {
                      "color": "#2a3f5f"
                    },
                    "geo": {
                      "bgcolor": "white",
                      "lakecolor": "white",
                      "landcolor": "#E5ECF6",
                      "showlakes": true,
                      "showland": true,
                      "subunitcolor": "white"
                    },
                    "hoverlabel": {
                      "align": "left"
                    },
                    "hovermode": "closest",
                    "mapbox": {
                      "style": "light"
                    },
                    "paper_bgcolor": "white",
                    "plot_bgcolor": "#E5ECF6",
                    "polar": {
                      "angularaxis": {
                        "gridcolor": "white",
                        "linecolor": "white",
                        "ticks": ""
                      },
                      "bgcolor": "#E5ECF6",
                      "radialaxis": {
                        "gridcolor": "white",
                        "linecolor": "white",
                        "ticks": ""
                      }
                    },
                    "scene": {
                      "xaxis": {
                        "backgroundcolor": "#E5ECF6",
                        "gridcolor": "white",
                        "gridwidth": 2,
                        "linecolor": "white",
                        "showbackground": true,
                        "ticks": "",
                        "zerolinecolor": "white"
                      },
                      "yaxis": {
                        "backgroundcolor": "#E5ECF6",
                        "gridcolor": "white",
                        "gridwidth": 2,
                        "linecolor": "white",
                        "showbackground": true,
                        "ticks": "",
                        "zerolinecolor": "white"
                      },
                      "zaxis": {
                        "backgroundcolor": "#E5ECF6",
                        "gridcolor": "white",
                        "gridwidth": 2,
                        "linecolor": "white",
                        "showbackground": true,
                        "ticks": "",
                        "zerolinecolor": "white"
                      }
                    },
                    "shapedefaults": {
                      "line": {
                        "color": "#2a3f5f"
                      }
                    },
                    "ternary": {
                      "aaxis": {
                        "gridcolor": "white",
                        "linecolor": "white",
                        "ticks": ""
                      },
                      "baxis": {
                        "gridcolor": "white",
                        "linecolor": "white",
                        "ticks": ""
                      },
                      "bgcolor": "#E5ECF6",
                      "caxis": {
                        "gridcolor": "white",
                        "linecolor": "white",
                        "ticks": ""
                      }
                    },
                    "title": {
                      "x": 0.05
                    },
                    "xaxis": {
                      "automargin": true,
                      "gridcolor": "white",
                      "linecolor": "white",
                      "ticks": "",
                      "title": {
                        "standoff": 15
                      },
                      "zerolinecolor": "white",
                      "zerolinewidth": 2
                    },
                    "yaxis": {
                      "automargin": true,
                      "gridcolor": "white",
                      "linecolor": "white",
                      "ticks": "",
                      "title": {
                        "standoff": 15
                      },
                      "zerolinecolor": "white",
                      "zerolinewidth": 2
                    }
                  }
                },
                "title": {
                  "text": "platform Distribution"
                }
              }
            },
            "text/html": [
              "<div>                            <div id=\"fa34f314-c9fb-4e76-9813-78a6a3321378\" class=\"plotly-graph-div\" style=\"height:525px; width:100%;\"></div>            <script type=\"text/javascript\">                require([\"plotly\"], function(Plotly) {                    window.PLOTLYENV=window.PLOTLYENV || {};                                    if (document.getElementById(\"fa34f314-c9fb-4e76-9813-78a6a3321378\")) {                    Plotly.newPlot(                        \"fa34f314-c9fb-4e76-9813-78a6a3321378\",                        [{\"histnorm\":\"percent\",\"nbinsx\":40,\"x\":[\"Youtube\",\"Youtube\",\"Youtube\",\"Youtube\",\"0\",\"Youtube\",\"Youtube\",\"Youtube\",\"Youtube\",\"Youtube\",\"Youtube\",\"Youtube\",\"Youtube\",\"Youtube\",\"Youtube\",\"Youtube\",\"Youtube\",\"Youtube\"],\"type\":\"histogram\"}],                        {\"template\":{\"data\":{\"barpolar\":[{\"marker\":{\"line\":{\"color\":\"#E5ECF6\",\"width\":0.5},\"pattern\":{\"fillmode\":\"overlay\",\"size\":10,\"solidity\":0.2}},\"type\":\"barpolar\"}],\"bar\":[{\"error_x\":{\"color\":\"#2a3f5f\"},\"error_y\":{\"color\":\"#2a3f5f\"},\"marker\":{\"line\":{\"color\":\"#E5ECF6\",\"width\":0.5},\"pattern\":{\"fillmode\":\"overlay\",\"size\":10,\"solidity\":0.2}},\"type\":\"bar\"}],\"carpet\":[{\"aaxis\":{\"endlinecolor\":\"#2a3f5f\",\"gridcolor\":\"white\",\"linecolor\":\"white\",\"minorgridcolor\":\"white\",\"startlinecolor\":\"#2a3f5f\"},\"baxis\":{\"endlinecolor\":\"#2a3f5f\",\"gridcolor\":\"white\",\"linecolor\":\"white\",\"minorgridcolor\":\"white\",\"startlinecolor\":\"#2a3f5f\"},\"type\":\"carpet\"}],\"choropleth\":[{\"colorbar\":{\"outlinewidth\":0,\"ticks\":\"\"},\"type\":\"choropleth\"}],\"contourcarpet\":[{\"colorbar\":{\"outlinewidth\":0,\"ticks\":\"\"},\"type\":\"contourcarpet\"}],\"contour\":[{\"colorbar\":{\"outlinewidth\":0,\"ticks\":\"\"},\"colorscale\":[[0.0,\"#0d0887\"],[0.1111111111111111,\"#46039f\"],[0.2222222222222222,\"#7201a8\"],[0.3333333333333333,\"#9c179e\"],[0.4444444444444444,\"#bd3786\"],[0.5555555555555556,\"#d8576b\"],[0.6666666666666666,\"#ed7953\"],[0.7777777777777778,\"#fb9f3a\"],[0.8888888888888888,\"#fdca26\"],[1.0,\"#f0f921\"]],\"type\":\"contour\"}],\"heatmapgl\":[{\"colorbar\":{\"outlinewidth\":0,\"ticks\":\"\"},\"colorscale\":[[0.0,\"#0d0887\"],[0.1111111111111111,\"#46039f\"],[0.2222222222222222,\"#7201a8\"],[0.3333333333333333,\"#9c179e\"],[0.4444444444444444,\"#bd3786\"],[0.5555555555555556,\"#d8576b\"],[0.6666666666666666,\"#ed7953\"],[0.7777777777777778,\"#fb9f3a\"],[0.8888888888888888,\"#fdca26\"],[1.0,\"#f0f921\"]],\"type\":\"heatmapgl\"}],\"heatmap\":[{\"colorbar\":{\"outlinewidth\":0,\"ticks\":\"\"},\"colorscale\":[[0.0,\"#0d0887\"],[0.1111111111111111,\"#46039f\"],[0.2222222222222222,\"#7201a8\"],[0.3333333333333333,\"#9c179e\"],[0.4444444444444444,\"#bd3786\"],[0.5555555555555556,\"#d8576b\"],[0.6666666666666666,\"#ed7953\"],[0.7777777777777778,\"#fb9f3a\"],[0.8888888888888888,\"#fdca26\"],[1.0,\"#f0f921\"]],\"type\":\"heatmap\"}],\"histogram2dcontour\":[{\"colorbar\":{\"outlinewidth\":0,\"ticks\":\"\"},\"colorscale\":[[0.0,\"#0d0887\"],[0.1111111111111111,\"#46039f\"],[0.2222222222222222,\"#7201a8\"],[0.3333333333333333,\"#9c179e\"],[0.4444444444444444,\"#bd3786\"],[0.5555555555555556,\"#d8576b\"],[0.6666666666666666,\"#ed7953\"],[0.7777777777777778,\"#fb9f3a\"],[0.8888888888888888,\"#fdca26\"],[1.0,\"#f0f921\"]],\"type\":\"histogram2dcontour\"}],\"histogram2d\":[{\"colorbar\":{\"outlinewidth\":0,\"ticks\":\"\"},\"colorscale\":[[0.0,\"#0d0887\"],[0.1111111111111111,\"#46039f\"],[0.2222222222222222,\"#7201a8\"],[0.3333333333333333,\"#9c179e\"],[0.4444444444444444,\"#bd3786\"],[0.5555555555555556,\"#d8576b\"],[0.6666666666666666,\"#ed7953\"],[0.7777777777777778,\"#fb9f3a\"],[0.8888888888888888,\"#fdca26\"],[1.0,\"#f0f921\"]],\"type\":\"histogram2d\"}],\"histogram\":[{\"marker\":{\"pattern\":{\"fillmode\":\"overlay\",\"size\":10,\"solidity\":0.2}},\"type\":\"histogram\"}],\"mesh3d\":[{\"colorbar\":{\"outlinewidth\":0,\"ticks\":\"\"},\"type\":\"mesh3d\"}],\"parcoords\":[{\"line\":{\"colorbar\":{\"outlinewidth\":0,\"ticks\":\"\"}},\"type\":\"parcoords\"}],\"pie\":[{\"automargin\":true,\"type\":\"pie\"}],\"scatter3d\":[{\"line\":{\"colorbar\":{\"outlinewidth\":0,\"ticks\":\"\"}},\"marker\":{\"colorbar\":{\"outlinewidth\":0,\"ticks\":\"\"}},\"type\":\"scatter3d\"}],\"scattercarpet\":[{\"marker\":{\"colorbar\":{\"outlinewidth\":0,\"ticks\":\"\"}},\"type\":\"scattercarpet\"}],\"scattergeo\":[{\"marker\":{\"colorbar\":{\"outlinewidth\":0,\"ticks\":\"\"}},\"type\":\"scattergeo\"}],\"scattergl\":[{\"marker\":{\"colorbar\":{\"outlinewidth\":0,\"ticks\":\"\"}},\"type\":\"scattergl\"}],\"scattermapbox\":[{\"marker\":{\"colorbar\":{\"outlinewidth\":0,\"ticks\":\"\"}},\"type\":\"scattermapbox\"}],\"scatterpolargl\":[{\"marker\":{\"colorbar\":{\"outlinewidth\":0,\"ticks\":\"\"}},\"type\":\"scatterpolargl\"}],\"scatterpolar\":[{\"marker\":{\"colorbar\":{\"outlinewidth\":0,\"ticks\":\"\"}},\"type\":\"scatterpolar\"}],\"scatter\":[{\"marker\":{\"colorbar\":{\"outlinewidth\":0,\"ticks\":\"\"}},\"type\":\"scatter\"}],\"scatterternary\":[{\"marker\":{\"colorbar\":{\"outlinewidth\":0,\"ticks\":\"\"}},\"type\":\"scatterternary\"}],\"surface\":[{\"colorbar\":{\"outlinewidth\":0,\"ticks\":\"\"},\"colorscale\":[[0.0,\"#0d0887\"],[0.1111111111111111,\"#46039f\"],[0.2222222222222222,\"#7201a8\"],[0.3333333333333333,\"#9c179e\"],[0.4444444444444444,\"#bd3786\"],[0.5555555555555556,\"#d8576b\"],[0.6666666666666666,\"#ed7953\"],[0.7777777777777778,\"#fb9f3a\"],[0.8888888888888888,\"#fdca26\"],[1.0,\"#f0f921\"]],\"type\":\"surface\"}],\"table\":[{\"cells\":{\"fill\":{\"color\":\"#EBF0F8\"},\"line\":{\"color\":\"white\"}},\"header\":{\"fill\":{\"color\":\"#C8D4E3\"},\"line\":{\"color\":\"white\"}},\"type\":\"table\"}]},\"layout\":{\"annotationdefaults\":{\"arrowcolor\":\"#2a3f5f\",\"arrowhead\":0,\"arrowwidth\":1},\"autotypenumbers\":\"strict\",\"coloraxis\":{\"colorbar\":{\"outlinewidth\":0,\"ticks\":\"\"}},\"colorscale\":{\"diverging\":[[0,\"#8e0152\"],[0.1,\"#c51b7d\"],[0.2,\"#de77ae\"],[0.3,\"#f1b6da\"],[0.4,\"#fde0ef\"],[0.5,\"#f7f7f7\"],[0.6,\"#e6f5d0\"],[0.7,\"#b8e186\"],[0.8,\"#7fbc41\"],[0.9,\"#4d9221\"],[1,\"#276419\"]],\"sequential\":[[0.0,\"#0d0887\"],[0.1111111111111111,\"#46039f\"],[0.2222222222222222,\"#7201a8\"],[0.3333333333333333,\"#9c179e\"],[0.4444444444444444,\"#bd3786\"],[0.5555555555555556,\"#d8576b\"],[0.6666666666666666,\"#ed7953\"],[0.7777777777777778,\"#fb9f3a\"],[0.8888888888888888,\"#fdca26\"],[1.0,\"#f0f921\"]],\"sequentialminus\":[[0.0,\"#0d0887\"],[0.1111111111111111,\"#46039f\"],[0.2222222222222222,\"#7201a8\"],[0.3333333333333333,\"#9c179e\"],[0.4444444444444444,\"#bd3786\"],[0.5555555555555556,\"#d8576b\"],[0.6666666666666666,\"#ed7953\"],[0.7777777777777778,\"#fb9f3a\"],[0.8888888888888888,\"#fdca26\"],[1.0,\"#f0f921\"]]},\"colorway\":[\"#636efa\",\"#EF553B\",\"#00cc96\",\"#ab63fa\",\"#FFA15A\",\"#19d3f3\",\"#FF6692\",\"#B6E880\",\"#FF97FF\",\"#FECB52\"],\"font\":{\"color\":\"#2a3f5f\"},\"geo\":{\"bgcolor\":\"white\",\"lakecolor\":\"white\",\"landcolor\":\"#E5ECF6\",\"showlakes\":true,\"showland\":true,\"subunitcolor\":\"white\"},\"hoverlabel\":{\"align\":\"left\"},\"hovermode\":\"closest\",\"mapbox\":{\"style\":\"light\"},\"paper_bgcolor\":\"white\",\"plot_bgcolor\":\"#E5ECF6\",\"polar\":{\"angularaxis\":{\"gridcolor\":\"white\",\"linecolor\":\"white\",\"ticks\":\"\"},\"bgcolor\":\"#E5ECF6\",\"radialaxis\":{\"gridcolor\":\"white\",\"linecolor\":\"white\",\"ticks\":\"\"}},\"scene\":{\"xaxis\":{\"backgroundcolor\":\"#E5ECF6\",\"gridcolor\":\"white\",\"gridwidth\":2,\"linecolor\":\"white\",\"showbackground\":true,\"ticks\":\"\",\"zerolinecolor\":\"white\"},\"yaxis\":{\"backgroundcolor\":\"#E5ECF6\",\"gridcolor\":\"white\",\"gridwidth\":2,\"linecolor\":\"white\",\"showbackground\":true,\"ticks\":\"\",\"zerolinecolor\":\"white\"},\"zaxis\":{\"backgroundcolor\":\"#E5ECF6\",\"gridcolor\":\"white\",\"gridwidth\":2,\"linecolor\":\"white\",\"showbackground\":true,\"ticks\":\"\",\"zerolinecolor\":\"white\"}},\"shapedefaults\":{\"line\":{\"color\":\"#2a3f5f\"}},\"ternary\":{\"aaxis\":{\"gridcolor\":\"white\",\"linecolor\":\"white\",\"ticks\":\"\"},\"baxis\":{\"gridcolor\":\"white\",\"linecolor\":\"white\",\"ticks\":\"\"},\"bgcolor\":\"#E5ECF6\",\"caxis\":{\"gridcolor\":\"white\",\"linecolor\":\"white\",\"ticks\":\"\"}},\"title\":{\"x\":0.05},\"xaxis\":{\"automargin\":true,\"gridcolor\":\"white\",\"linecolor\":\"white\",\"ticks\":\"\",\"title\":{\"standoff\":15},\"zerolinecolor\":\"white\",\"zerolinewidth\":2},\"yaxis\":{\"automargin\":true,\"gridcolor\":\"white\",\"linecolor\":\"white\",\"ticks\":\"\",\"title\":{\"standoff\":15},\"zerolinecolor\":\"white\",\"zerolinewidth\":2}}},\"title\":{\"text\":\"platform Distribution\"}},                        {\"responsive\": true}                    ).then(function(){\n",
              "                            \n",
              "var gd = document.getElementById('fa34f314-c9fb-4e76-9813-78a6a3321378');\n",
              "var x = new MutationObserver(function (mutations, observer) {{\n",
              "        var display = window.getComputedStyle(gd).display;\n",
              "        if (!display || display === 'none') {{\n",
              "            console.log([gd, 'removed!']);\n",
              "            Plotly.purge(gd);\n",
              "            observer.disconnect();\n",
              "        }}\n",
              "}});\n",
              "\n",
              "// Listen for the removal of the full notebook cells\n",
              "var notebookContainer = gd.closest('#notebook-container');\n",
              "if (notebookContainer) {{\n",
              "    x.observe(notebookContainer, {childList: true});\n",
              "}}\n",
              "\n",
              "// Listen for the clearing of the current output cell\n",
              "var outputEl = gd.closest('.output');\n",
              "if (outputEl) {{\n",
              "    x.observe(outputEl, {childList: true});\n",
              "}}\n",
              "\n",
              "                        })                };                });            </script>        </div>"
            ]
          },
          "metadata": {},
          "output_type": "display_data"
        }
      ],
      "source": [
        "# defining data\n",
        "trace = go.Histogram(x=df['platform'],nbinsx=40,histnorm='percent')\n",
        "data = [trace]\n",
        "# defining layout\n",
        "layout = go.Layout(title=\"platform Distribution\")\n",
        "# defining figure and plotting\n",
        "fig = go.Figure(data = data,layout = layout)\n",
        "iplot(fig)"
      ]
    },
    {
      "cell_type": "code",
      "execution_count": 26,
      "metadata": {},
      "outputs": [
        {
          "data": {
            "application/vnd.plotly.v1+json": {
              "config": {
                "linkText": "Export to plot.ly",
                "plotlyServerURL": "https://plot.ly",
                "showLink": false
              },
              "data": [
                {
                  "histnorm": "percent",
                  "nbinsx": 40,
                  "type": "histogram",
                  "x": [
                    "VIDEO",
                    "VIDEO",
                    "VIDEO",
                    "VIDEO",
                    " it&#39;\"s hard to distinguish cause from effect.  In any event",
                    "VIDEO",
                    "VIDEO",
                    "VIDEO",
                    "VIDEO",
                    "VIDEO",
                    "VIDEO",
                    "VIDEO",
                    "VIDEO",
                    "VIDEO",
                    "VIDEO",
                    "VIDEO",
                    "VIDEO",
                    "VIDEO"
                  ]
                }
              ],
              "layout": {
                "template": {
                  "data": {
                    "bar": [
                      {
                        "error_x": {
                          "color": "#2a3f5f"
                        },
                        "error_y": {
                          "color": "#2a3f5f"
                        },
                        "marker": {
                          "line": {
                            "color": "#E5ECF6",
                            "width": 0.5
                          },
                          "pattern": {
                            "fillmode": "overlay",
                            "size": 10,
                            "solidity": 0.2
                          }
                        },
                        "type": "bar"
                      }
                    ],
                    "barpolar": [
                      {
                        "marker": {
                          "line": {
                            "color": "#E5ECF6",
                            "width": 0.5
                          },
                          "pattern": {
                            "fillmode": "overlay",
                            "size": 10,
                            "solidity": 0.2
                          }
                        },
                        "type": "barpolar"
                      }
                    ],
                    "carpet": [
                      {
                        "aaxis": {
                          "endlinecolor": "#2a3f5f",
                          "gridcolor": "white",
                          "linecolor": "white",
                          "minorgridcolor": "white",
                          "startlinecolor": "#2a3f5f"
                        },
                        "baxis": {
                          "endlinecolor": "#2a3f5f",
                          "gridcolor": "white",
                          "linecolor": "white",
                          "minorgridcolor": "white",
                          "startlinecolor": "#2a3f5f"
                        },
                        "type": "carpet"
                      }
                    ],
                    "choropleth": [
                      {
                        "colorbar": {
                          "outlinewidth": 0,
                          "ticks": ""
                        },
                        "type": "choropleth"
                      }
                    ],
                    "contour": [
                      {
                        "colorbar": {
                          "outlinewidth": 0,
                          "ticks": ""
                        },
                        "colorscale": [
                          [
                            0,
                            "#0d0887"
                          ],
                          [
                            0.1111111111111111,
                            "#46039f"
                          ],
                          [
                            0.2222222222222222,
                            "#7201a8"
                          ],
                          [
                            0.3333333333333333,
                            "#9c179e"
                          ],
                          [
                            0.4444444444444444,
                            "#bd3786"
                          ],
                          [
                            0.5555555555555556,
                            "#d8576b"
                          ],
                          [
                            0.6666666666666666,
                            "#ed7953"
                          ],
                          [
                            0.7777777777777778,
                            "#fb9f3a"
                          ],
                          [
                            0.8888888888888888,
                            "#fdca26"
                          ],
                          [
                            1,
                            "#f0f921"
                          ]
                        ],
                        "type": "contour"
                      }
                    ],
                    "contourcarpet": [
                      {
                        "colorbar": {
                          "outlinewidth": 0,
                          "ticks": ""
                        },
                        "type": "contourcarpet"
                      }
                    ],
                    "heatmap": [
                      {
                        "colorbar": {
                          "outlinewidth": 0,
                          "ticks": ""
                        },
                        "colorscale": [
                          [
                            0,
                            "#0d0887"
                          ],
                          [
                            0.1111111111111111,
                            "#46039f"
                          ],
                          [
                            0.2222222222222222,
                            "#7201a8"
                          ],
                          [
                            0.3333333333333333,
                            "#9c179e"
                          ],
                          [
                            0.4444444444444444,
                            "#bd3786"
                          ],
                          [
                            0.5555555555555556,
                            "#d8576b"
                          ],
                          [
                            0.6666666666666666,
                            "#ed7953"
                          ],
                          [
                            0.7777777777777778,
                            "#fb9f3a"
                          ],
                          [
                            0.8888888888888888,
                            "#fdca26"
                          ],
                          [
                            1,
                            "#f0f921"
                          ]
                        ],
                        "type": "heatmap"
                      }
                    ],
                    "heatmapgl": [
                      {
                        "colorbar": {
                          "outlinewidth": 0,
                          "ticks": ""
                        },
                        "colorscale": [
                          [
                            0,
                            "#0d0887"
                          ],
                          [
                            0.1111111111111111,
                            "#46039f"
                          ],
                          [
                            0.2222222222222222,
                            "#7201a8"
                          ],
                          [
                            0.3333333333333333,
                            "#9c179e"
                          ],
                          [
                            0.4444444444444444,
                            "#bd3786"
                          ],
                          [
                            0.5555555555555556,
                            "#d8576b"
                          ],
                          [
                            0.6666666666666666,
                            "#ed7953"
                          ],
                          [
                            0.7777777777777778,
                            "#fb9f3a"
                          ],
                          [
                            0.8888888888888888,
                            "#fdca26"
                          ],
                          [
                            1,
                            "#f0f921"
                          ]
                        ],
                        "type": "heatmapgl"
                      }
                    ],
                    "histogram": [
                      {
                        "marker": {
                          "pattern": {
                            "fillmode": "overlay",
                            "size": 10,
                            "solidity": 0.2
                          }
                        },
                        "type": "histogram"
                      }
                    ],
                    "histogram2d": [
                      {
                        "colorbar": {
                          "outlinewidth": 0,
                          "ticks": ""
                        },
                        "colorscale": [
                          [
                            0,
                            "#0d0887"
                          ],
                          [
                            0.1111111111111111,
                            "#46039f"
                          ],
                          [
                            0.2222222222222222,
                            "#7201a8"
                          ],
                          [
                            0.3333333333333333,
                            "#9c179e"
                          ],
                          [
                            0.4444444444444444,
                            "#bd3786"
                          ],
                          [
                            0.5555555555555556,
                            "#d8576b"
                          ],
                          [
                            0.6666666666666666,
                            "#ed7953"
                          ],
                          [
                            0.7777777777777778,
                            "#fb9f3a"
                          ],
                          [
                            0.8888888888888888,
                            "#fdca26"
                          ],
                          [
                            1,
                            "#f0f921"
                          ]
                        ],
                        "type": "histogram2d"
                      }
                    ],
                    "histogram2dcontour": [
                      {
                        "colorbar": {
                          "outlinewidth": 0,
                          "ticks": ""
                        },
                        "colorscale": [
                          [
                            0,
                            "#0d0887"
                          ],
                          [
                            0.1111111111111111,
                            "#46039f"
                          ],
                          [
                            0.2222222222222222,
                            "#7201a8"
                          ],
                          [
                            0.3333333333333333,
                            "#9c179e"
                          ],
                          [
                            0.4444444444444444,
                            "#bd3786"
                          ],
                          [
                            0.5555555555555556,
                            "#d8576b"
                          ],
                          [
                            0.6666666666666666,
                            "#ed7953"
                          ],
                          [
                            0.7777777777777778,
                            "#fb9f3a"
                          ],
                          [
                            0.8888888888888888,
                            "#fdca26"
                          ],
                          [
                            1,
                            "#f0f921"
                          ]
                        ],
                        "type": "histogram2dcontour"
                      }
                    ],
                    "mesh3d": [
                      {
                        "colorbar": {
                          "outlinewidth": 0,
                          "ticks": ""
                        },
                        "type": "mesh3d"
                      }
                    ],
                    "parcoords": [
                      {
                        "line": {
                          "colorbar": {
                            "outlinewidth": 0,
                            "ticks": ""
                          }
                        },
                        "type": "parcoords"
                      }
                    ],
                    "pie": [
                      {
                        "automargin": true,
                        "type": "pie"
                      }
                    ],
                    "scatter": [
                      {
                        "marker": {
                          "colorbar": {
                            "outlinewidth": 0,
                            "ticks": ""
                          }
                        },
                        "type": "scatter"
                      }
                    ],
                    "scatter3d": [
                      {
                        "line": {
                          "colorbar": {
                            "outlinewidth": 0,
                            "ticks": ""
                          }
                        },
                        "marker": {
                          "colorbar": {
                            "outlinewidth": 0,
                            "ticks": ""
                          }
                        },
                        "type": "scatter3d"
                      }
                    ],
                    "scattercarpet": [
                      {
                        "marker": {
                          "colorbar": {
                            "outlinewidth": 0,
                            "ticks": ""
                          }
                        },
                        "type": "scattercarpet"
                      }
                    ],
                    "scattergeo": [
                      {
                        "marker": {
                          "colorbar": {
                            "outlinewidth": 0,
                            "ticks": ""
                          }
                        },
                        "type": "scattergeo"
                      }
                    ],
                    "scattergl": [
                      {
                        "marker": {
                          "colorbar": {
                            "outlinewidth": 0,
                            "ticks": ""
                          }
                        },
                        "type": "scattergl"
                      }
                    ],
                    "scattermapbox": [
                      {
                        "marker": {
                          "colorbar": {
                            "outlinewidth": 0,
                            "ticks": ""
                          }
                        },
                        "type": "scattermapbox"
                      }
                    ],
                    "scatterpolar": [
                      {
                        "marker": {
                          "colorbar": {
                            "outlinewidth": 0,
                            "ticks": ""
                          }
                        },
                        "type": "scatterpolar"
                      }
                    ],
                    "scatterpolargl": [
                      {
                        "marker": {
                          "colorbar": {
                            "outlinewidth": 0,
                            "ticks": ""
                          }
                        },
                        "type": "scatterpolargl"
                      }
                    ],
                    "scatterternary": [
                      {
                        "marker": {
                          "colorbar": {
                            "outlinewidth": 0,
                            "ticks": ""
                          }
                        },
                        "type": "scatterternary"
                      }
                    ],
                    "surface": [
                      {
                        "colorbar": {
                          "outlinewidth": 0,
                          "ticks": ""
                        },
                        "colorscale": [
                          [
                            0,
                            "#0d0887"
                          ],
                          [
                            0.1111111111111111,
                            "#46039f"
                          ],
                          [
                            0.2222222222222222,
                            "#7201a8"
                          ],
                          [
                            0.3333333333333333,
                            "#9c179e"
                          ],
                          [
                            0.4444444444444444,
                            "#bd3786"
                          ],
                          [
                            0.5555555555555556,
                            "#d8576b"
                          ],
                          [
                            0.6666666666666666,
                            "#ed7953"
                          ],
                          [
                            0.7777777777777778,
                            "#fb9f3a"
                          ],
                          [
                            0.8888888888888888,
                            "#fdca26"
                          ],
                          [
                            1,
                            "#f0f921"
                          ]
                        ],
                        "type": "surface"
                      }
                    ],
                    "table": [
                      {
                        "cells": {
                          "fill": {
                            "color": "#EBF0F8"
                          },
                          "line": {
                            "color": "white"
                          }
                        },
                        "header": {
                          "fill": {
                            "color": "#C8D4E3"
                          },
                          "line": {
                            "color": "white"
                          }
                        },
                        "type": "table"
                      }
                    ]
                  },
                  "layout": {
                    "annotationdefaults": {
                      "arrowcolor": "#2a3f5f",
                      "arrowhead": 0,
                      "arrowwidth": 1
                    },
                    "autotypenumbers": "strict",
                    "coloraxis": {
                      "colorbar": {
                        "outlinewidth": 0,
                        "ticks": ""
                      }
                    },
                    "colorscale": {
                      "diverging": [
                        [
                          0,
                          "#8e0152"
                        ],
                        [
                          0.1,
                          "#c51b7d"
                        ],
                        [
                          0.2,
                          "#de77ae"
                        ],
                        [
                          0.3,
                          "#f1b6da"
                        ],
                        [
                          0.4,
                          "#fde0ef"
                        ],
                        [
                          0.5,
                          "#f7f7f7"
                        ],
                        [
                          0.6,
                          "#e6f5d0"
                        ],
                        [
                          0.7,
                          "#b8e186"
                        ],
                        [
                          0.8,
                          "#7fbc41"
                        ],
                        [
                          0.9,
                          "#4d9221"
                        ],
                        [
                          1,
                          "#276419"
                        ]
                      ],
                      "sequential": [
                        [
                          0,
                          "#0d0887"
                        ],
                        [
                          0.1111111111111111,
                          "#46039f"
                        ],
                        [
                          0.2222222222222222,
                          "#7201a8"
                        ],
                        [
                          0.3333333333333333,
                          "#9c179e"
                        ],
                        [
                          0.4444444444444444,
                          "#bd3786"
                        ],
                        [
                          0.5555555555555556,
                          "#d8576b"
                        ],
                        [
                          0.6666666666666666,
                          "#ed7953"
                        ],
                        [
                          0.7777777777777778,
                          "#fb9f3a"
                        ],
                        [
                          0.8888888888888888,
                          "#fdca26"
                        ],
                        [
                          1,
                          "#f0f921"
                        ]
                      ],
                      "sequentialminus": [
                        [
                          0,
                          "#0d0887"
                        ],
                        [
                          0.1111111111111111,
                          "#46039f"
                        ],
                        [
                          0.2222222222222222,
                          "#7201a8"
                        ],
                        [
                          0.3333333333333333,
                          "#9c179e"
                        ],
                        [
                          0.4444444444444444,
                          "#bd3786"
                        ],
                        [
                          0.5555555555555556,
                          "#d8576b"
                        ],
                        [
                          0.6666666666666666,
                          "#ed7953"
                        ],
                        [
                          0.7777777777777778,
                          "#fb9f3a"
                        ],
                        [
                          0.8888888888888888,
                          "#fdca26"
                        ],
                        [
                          1,
                          "#f0f921"
                        ]
                      ]
                    },
                    "colorway": [
                      "#636efa",
                      "#EF553B",
                      "#00cc96",
                      "#ab63fa",
                      "#FFA15A",
                      "#19d3f3",
                      "#FF6692",
                      "#B6E880",
                      "#FF97FF",
                      "#FECB52"
                    ],
                    "font": {
                      "color": "#2a3f5f"
                    },
                    "geo": {
                      "bgcolor": "white",
                      "lakecolor": "white",
                      "landcolor": "#E5ECF6",
                      "showlakes": true,
                      "showland": true,
                      "subunitcolor": "white"
                    },
                    "hoverlabel": {
                      "align": "left"
                    },
                    "hovermode": "closest",
                    "mapbox": {
                      "style": "light"
                    },
                    "paper_bgcolor": "white",
                    "plot_bgcolor": "#E5ECF6",
                    "polar": {
                      "angularaxis": {
                        "gridcolor": "white",
                        "linecolor": "white",
                        "ticks": ""
                      },
                      "bgcolor": "#E5ECF6",
                      "radialaxis": {
                        "gridcolor": "white",
                        "linecolor": "white",
                        "ticks": ""
                      }
                    },
                    "scene": {
                      "xaxis": {
                        "backgroundcolor": "#E5ECF6",
                        "gridcolor": "white",
                        "gridwidth": 2,
                        "linecolor": "white",
                        "showbackground": true,
                        "ticks": "",
                        "zerolinecolor": "white"
                      },
                      "yaxis": {
                        "backgroundcolor": "#E5ECF6",
                        "gridcolor": "white",
                        "gridwidth": 2,
                        "linecolor": "white",
                        "showbackground": true,
                        "ticks": "",
                        "zerolinecolor": "white"
                      },
                      "zaxis": {
                        "backgroundcolor": "#E5ECF6",
                        "gridcolor": "white",
                        "gridwidth": 2,
                        "linecolor": "white",
                        "showbackground": true,
                        "ticks": "",
                        "zerolinecolor": "white"
                      }
                    },
                    "shapedefaults": {
                      "line": {
                        "color": "#2a3f5f"
                      }
                    },
                    "ternary": {
                      "aaxis": {
                        "gridcolor": "white",
                        "linecolor": "white",
                        "ticks": ""
                      },
                      "baxis": {
                        "gridcolor": "white",
                        "linecolor": "white",
                        "ticks": ""
                      },
                      "bgcolor": "#E5ECF6",
                      "caxis": {
                        "gridcolor": "white",
                        "linecolor": "white",
                        "ticks": ""
                      }
                    },
                    "title": {
                      "x": 0.05
                    },
                    "xaxis": {
                      "automargin": true,
                      "gridcolor": "white",
                      "linecolor": "white",
                      "ticks": "",
                      "title": {
                        "standoff": 15
                      },
                      "zerolinecolor": "white",
                      "zerolinewidth": 2
                    },
                    "yaxis": {
                      "automargin": true,
                      "gridcolor": "white",
                      "linecolor": "white",
                      "ticks": "",
                      "title": {
                        "standoff": 15
                      },
                      "zerolinecolor": "white",
                      "zerolinewidth": 2
                    }
                  }
                },
                "title": {
                  "text": "post_type Distribution"
                }
              }
            },
            "text/html": [
              "<div>                            <div id=\"fb98e316-f0c1-4fe0-b4a6-e85957b88401\" class=\"plotly-graph-div\" style=\"height:525px; width:100%;\"></div>            <script type=\"text/javascript\">                require([\"plotly\"], function(Plotly) {                    window.PLOTLYENV=window.PLOTLYENV || {};                                    if (document.getElementById(\"fb98e316-f0c1-4fe0-b4a6-e85957b88401\")) {                    Plotly.newPlot(                        \"fb98e316-f0c1-4fe0-b4a6-e85957b88401\",                        [{\"histnorm\":\"percent\",\"nbinsx\":40,\"x\":[\"VIDEO\",\"VIDEO\",\"VIDEO\",\"VIDEO\",\" it&#39;\\\"s hard to distinguish cause from effect.  In any event\",\"VIDEO\",\"VIDEO\",\"VIDEO\",\"VIDEO\",\"VIDEO\",\"VIDEO\",\"VIDEO\",\"VIDEO\",\"VIDEO\",\"VIDEO\",\"VIDEO\",\"VIDEO\",\"VIDEO\"],\"type\":\"histogram\"}],                        {\"template\":{\"data\":{\"barpolar\":[{\"marker\":{\"line\":{\"color\":\"#E5ECF6\",\"width\":0.5},\"pattern\":{\"fillmode\":\"overlay\",\"size\":10,\"solidity\":0.2}},\"type\":\"barpolar\"}],\"bar\":[{\"error_x\":{\"color\":\"#2a3f5f\"},\"error_y\":{\"color\":\"#2a3f5f\"},\"marker\":{\"line\":{\"color\":\"#E5ECF6\",\"width\":0.5},\"pattern\":{\"fillmode\":\"overlay\",\"size\":10,\"solidity\":0.2}},\"type\":\"bar\"}],\"carpet\":[{\"aaxis\":{\"endlinecolor\":\"#2a3f5f\",\"gridcolor\":\"white\",\"linecolor\":\"white\",\"minorgridcolor\":\"white\",\"startlinecolor\":\"#2a3f5f\"},\"baxis\":{\"endlinecolor\":\"#2a3f5f\",\"gridcolor\":\"white\",\"linecolor\":\"white\",\"minorgridcolor\":\"white\",\"startlinecolor\":\"#2a3f5f\"},\"type\":\"carpet\"}],\"choropleth\":[{\"colorbar\":{\"outlinewidth\":0,\"ticks\":\"\"},\"type\":\"choropleth\"}],\"contourcarpet\":[{\"colorbar\":{\"outlinewidth\":0,\"ticks\":\"\"},\"type\":\"contourcarpet\"}],\"contour\":[{\"colorbar\":{\"outlinewidth\":0,\"ticks\":\"\"},\"colorscale\":[[0.0,\"#0d0887\"],[0.1111111111111111,\"#46039f\"],[0.2222222222222222,\"#7201a8\"],[0.3333333333333333,\"#9c179e\"],[0.4444444444444444,\"#bd3786\"],[0.5555555555555556,\"#d8576b\"],[0.6666666666666666,\"#ed7953\"],[0.7777777777777778,\"#fb9f3a\"],[0.8888888888888888,\"#fdca26\"],[1.0,\"#f0f921\"]],\"type\":\"contour\"}],\"heatmapgl\":[{\"colorbar\":{\"outlinewidth\":0,\"ticks\":\"\"},\"colorscale\":[[0.0,\"#0d0887\"],[0.1111111111111111,\"#46039f\"],[0.2222222222222222,\"#7201a8\"],[0.3333333333333333,\"#9c179e\"],[0.4444444444444444,\"#bd3786\"],[0.5555555555555556,\"#d8576b\"],[0.6666666666666666,\"#ed7953\"],[0.7777777777777778,\"#fb9f3a\"],[0.8888888888888888,\"#fdca26\"],[1.0,\"#f0f921\"]],\"type\":\"heatmapgl\"}],\"heatmap\":[{\"colorbar\":{\"outlinewidth\":0,\"ticks\":\"\"},\"colorscale\":[[0.0,\"#0d0887\"],[0.1111111111111111,\"#46039f\"],[0.2222222222222222,\"#7201a8\"],[0.3333333333333333,\"#9c179e\"],[0.4444444444444444,\"#bd3786\"],[0.5555555555555556,\"#d8576b\"],[0.6666666666666666,\"#ed7953\"],[0.7777777777777778,\"#fb9f3a\"],[0.8888888888888888,\"#fdca26\"],[1.0,\"#f0f921\"]],\"type\":\"heatmap\"}],\"histogram2dcontour\":[{\"colorbar\":{\"outlinewidth\":0,\"ticks\":\"\"},\"colorscale\":[[0.0,\"#0d0887\"],[0.1111111111111111,\"#46039f\"],[0.2222222222222222,\"#7201a8\"],[0.3333333333333333,\"#9c179e\"],[0.4444444444444444,\"#bd3786\"],[0.5555555555555556,\"#d8576b\"],[0.6666666666666666,\"#ed7953\"],[0.7777777777777778,\"#fb9f3a\"],[0.8888888888888888,\"#fdca26\"],[1.0,\"#f0f921\"]],\"type\":\"histogram2dcontour\"}],\"histogram2d\":[{\"colorbar\":{\"outlinewidth\":0,\"ticks\":\"\"},\"colorscale\":[[0.0,\"#0d0887\"],[0.1111111111111111,\"#46039f\"],[0.2222222222222222,\"#7201a8\"],[0.3333333333333333,\"#9c179e\"],[0.4444444444444444,\"#bd3786\"],[0.5555555555555556,\"#d8576b\"],[0.6666666666666666,\"#ed7953\"],[0.7777777777777778,\"#fb9f3a\"],[0.8888888888888888,\"#fdca26\"],[1.0,\"#f0f921\"]],\"type\":\"histogram2d\"}],\"histogram\":[{\"marker\":{\"pattern\":{\"fillmode\":\"overlay\",\"size\":10,\"solidity\":0.2}},\"type\":\"histogram\"}],\"mesh3d\":[{\"colorbar\":{\"outlinewidth\":0,\"ticks\":\"\"},\"type\":\"mesh3d\"}],\"parcoords\":[{\"line\":{\"colorbar\":{\"outlinewidth\":0,\"ticks\":\"\"}},\"type\":\"parcoords\"}],\"pie\":[{\"automargin\":true,\"type\":\"pie\"}],\"scatter3d\":[{\"line\":{\"colorbar\":{\"outlinewidth\":0,\"ticks\":\"\"}},\"marker\":{\"colorbar\":{\"outlinewidth\":0,\"ticks\":\"\"}},\"type\":\"scatter3d\"}],\"scattercarpet\":[{\"marker\":{\"colorbar\":{\"outlinewidth\":0,\"ticks\":\"\"}},\"type\":\"scattercarpet\"}],\"scattergeo\":[{\"marker\":{\"colorbar\":{\"outlinewidth\":0,\"ticks\":\"\"}},\"type\":\"scattergeo\"}],\"scattergl\":[{\"marker\":{\"colorbar\":{\"outlinewidth\":0,\"ticks\":\"\"}},\"type\":\"scattergl\"}],\"scattermapbox\":[{\"marker\":{\"colorbar\":{\"outlinewidth\":0,\"ticks\":\"\"}},\"type\":\"scattermapbox\"}],\"scatterpolargl\":[{\"marker\":{\"colorbar\":{\"outlinewidth\":0,\"ticks\":\"\"}},\"type\":\"scatterpolargl\"}],\"scatterpolar\":[{\"marker\":{\"colorbar\":{\"outlinewidth\":0,\"ticks\":\"\"}},\"type\":\"scatterpolar\"}],\"scatter\":[{\"marker\":{\"colorbar\":{\"outlinewidth\":0,\"ticks\":\"\"}},\"type\":\"scatter\"}],\"scatterternary\":[{\"marker\":{\"colorbar\":{\"outlinewidth\":0,\"ticks\":\"\"}},\"type\":\"scatterternary\"}],\"surface\":[{\"colorbar\":{\"outlinewidth\":0,\"ticks\":\"\"},\"colorscale\":[[0.0,\"#0d0887\"],[0.1111111111111111,\"#46039f\"],[0.2222222222222222,\"#7201a8\"],[0.3333333333333333,\"#9c179e\"],[0.4444444444444444,\"#bd3786\"],[0.5555555555555556,\"#d8576b\"],[0.6666666666666666,\"#ed7953\"],[0.7777777777777778,\"#fb9f3a\"],[0.8888888888888888,\"#fdca26\"],[1.0,\"#f0f921\"]],\"type\":\"surface\"}],\"table\":[{\"cells\":{\"fill\":{\"color\":\"#EBF0F8\"},\"line\":{\"color\":\"white\"}},\"header\":{\"fill\":{\"color\":\"#C8D4E3\"},\"line\":{\"color\":\"white\"}},\"type\":\"table\"}]},\"layout\":{\"annotationdefaults\":{\"arrowcolor\":\"#2a3f5f\",\"arrowhead\":0,\"arrowwidth\":1},\"autotypenumbers\":\"strict\",\"coloraxis\":{\"colorbar\":{\"outlinewidth\":0,\"ticks\":\"\"}},\"colorscale\":{\"diverging\":[[0,\"#8e0152\"],[0.1,\"#c51b7d\"],[0.2,\"#de77ae\"],[0.3,\"#f1b6da\"],[0.4,\"#fde0ef\"],[0.5,\"#f7f7f7\"],[0.6,\"#e6f5d0\"],[0.7,\"#b8e186\"],[0.8,\"#7fbc41\"],[0.9,\"#4d9221\"],[1,\"#276419\"]],\"sequential\":[[0.0,\"#0d0887\"],[0.1111111111111111,\"#46039f\"],[0.2222222222222222,\"#7201a8\"],[0.3333333333333333,\"#9c179e\"],[0.4444444444444444,\"#bd3786\"],[0.5555555555555556,\"#d8576b\"],[0.6666666666666666,\"#ed7953\"],[0.7777777777777778,\"#fb9f3a\"],[0.8888888888888888,\"#fdca26\"],[1.0,\"#f0f921\"]],\"sequentialminus\":[[0.0,\"#0d0887\"],[0.1111111111111111,\"#46039f\"],[0.2222222222222222,\"#7201a8\"],[0.3333333333333333,\"#9c179e\"],[0.4444444444444444,\"#bd3786\"],[0.5555555555555556,\"#d8576b\"],[0.6666666666666666,\"#ed7953\"],[0.7777777777777778,\"#fb9f3a\"],[0.8888888888888888,\"#fdca26\"],[1.0,\"#f0f921\"]]},\"colorway\":[\"#636efa\",\"#EF553B\",\"#00cc96\",\"#ab63fa\",\"#FFA15A\",\"#19d3f3\",\"#FF6692\",\"#B6E880\",\"#FF97FF\",\"#FECB52\"],\"font\":{\"color\":\"#2a3f5f\"},\"geo\":{\"bgcolor\":\"white\",\"lakecolor\":\"white\",\"landcolor\":\"#E5ECF6\",\"showlakes\":true,\"showland\":true,\"subunitcolor\":\"white\"},\"hoverlabel\":{\"align\":\"left\"},\"hovermode\":\"closest\",\"mapbox\":{\"style\":\"light\"},\"paper_bgcolor\":\"white\",\"plot_bgcolor\":\"#E5ECF6\",\"polar\":{\"angularaxis\":{\"gridcolor\":\"white\",\"linecolor\":\"white\",\"ticks\":\"\"},\"bgcolor\":\"#E5ECF6\",\"radialaxis\":{\"gridcolor\":\"white\",\"linecolor\":\"white\",\"ticks\":\"\"}},\"scene\":{\"xaxis\":{\"backgroundcolor\":\"#E5ECF6\",\"gridcolor\":\"white\",\"gridwidth\":2,\"linecolor\":\"white\",\"showbackground\":true,\"ticks\":\"\",\"zerolinecolor\":\"white\"},\"yaxis\":{\"backgroundcolor\":\"#E5ECF6\",\"gridcolor\":\"white\",\"gridwidth\":2,\"linecolor\":\"white\",\"showbackground\":true,\"ticks\":\"\",\"zerolinecolor\":\"white\"},\"zaxis\":{\"backgroundcolor\":\"#E5ECF6\",\"gridcolor\":\"white\",\"gridwidth\":2,\"linecolor\":\"white\",\"showbackground\":true,\"ticks\":\"\",\"zerolinecolor\":\"white\"}},\"shapedefaults\":{\"line\":{\"color\":\"#2a3f5f\"}},\"ternary\":{\"aaxis\":{\"gridcolor\":\"white\",\"linecolor\":\"white\",\"ticks\":\"\"},\"baxis\":{\"gridcolor\":\"white\",\"linecolor\":\"white\",\"ticks\":\"\"},\"bgcolor\":\"#E5ECF6\",\"caxis\":{\"gridcolor\":\"white\",\"linecolor\":\"white\",\"ticks\":\"\"}},\"title\":{\"x\":0.05},\"xaxis\":{\"automargin\":true,\"gridcolor\":\"white\",\"linecolor\":\"white\",\"ticks\":\"\",\"title\":{\"standoff\":15},\"zerolinecolor\":\"white\",\"zerolinewidth\":2},\"yaxis\":{\"automargin\":true,\"gridcolor\":\"white\",\"linecolor\":\"white\",\"ticks\":\"\",\"title\":{\"standoff\":15},\"zerolinecolor\":\"white\",\"zerolinewidth\":2}}},\"title\":{\"text\":\"post_type Distribution\"}},                        {\"responsive\": true}                    ).then(function(){\n",
              "                            \n",
              "var gd = document.getElementById('fb98e316-f0c1-4fe0-b4a6-e85957b88401');\n",
              "var x = new MutationObserver(function (mutations, observer) {{\n",
              "        var display = window.getComputedStyle(gd).display;\n",
              "        if (!display || display === 'none') {{\n",
              "            console.log([gd, 'removed!']);\n",
              "            Plotly.purge(gd);\n",
              "            observer.disconnect();\n",
              "        }}\n",
              "}});\n",
              "\n",
              "// Listen for the removal of the full notebook cells\n",
              "var notebookContainer = gd.closest('#notebook-container');\n",
              "if (notebookContainer) {{\n",
              "    x.observe(notebookContainer, {childList: true});\n",
              "}}\n",
              "\n",
              "// Listen for the clearing of the current output cell\n",
              "var outputEl = gd.closest('.output');\n",
              "if (outputEl) {{\n",
              "    x.observe(outputEl, {childList: true});\n",
              "}}\n",
              "\n",
              "                        })                };                });            </script>        </div>"
            ]
          },
          "metadata": {},
          "output_type": "display_data"
        }
      ],
      "source": [
        "# defining data\n",
        "trace = go.Histogram(x=df['post_type'],nbinsx=40,histnorm='percent')\n",
        "data = [trace]\n",
        "# defining layout\n",
        "layout = go.Layout(title=\"post_type Distribution\")\n",
        "# defining figure and plotting\n",
        "fig = go.Figure(data = data,layout = layout)\n",
        "iplot(fig)"
      ]
    },
    {
      "cell_type": "code",
      "execution_count": 27,
      "metadata": {},
      "outputs": [
        {
          "data": {
            "application/vnd.plotly.v1+json": {
              "config": {
                "linkText": "Export to plot.ly",
                "plotlyServerURL": "https://plot.ly",
                "showLink": false
              },
              "data": [
                {
                  "histnorm": "percent",
                  "nbinsx": 40,
                  "type": "histogram",
                  "x": [
                    -0.7783,
                    -0.1531,
                    -0.1531,
                    0.8303,
                    0.4019,
                    0.8303,
                    0.9636,
                    0.891,
                    -0.6524,
                    0.5574,
                    0.1027,
                    0,
                    0.6369,
                    0.891,
                    0.891,
                    0.5574,
                    0.9636,
                    0.5574
                  ]
                }
              ],
              "layout": {
                "template": {
                  "data": {
                    "bar": [
                      {
                        "error_x": {
                          "color": "#2a3f5f"
                        },
                        "error_y": {
                          "color": "#2a3f5f"
                        },
                        "marker": {
                          "line": {
                            "color": "#E5ECF6",
                            "width": 0.5
                          },
                          "pattern": {
                            "fillmode": "overlay",
                            "size": 10,
                            "solidity": 0.2
                          }
                        },
                        "type": "bar"
                      }
                    ],
                    "barpolar": [
                      {
                        "marker": {
                          "line": {
                            "color": "#E5ECF6",
                            "width": 0.5
                          },
                          "pattern": {
                            "fillmode": "overlay",
                            "size": 10,
                            "solidity": 0.2
                          }
                        },
                        "type": "barpolar"
                      }
                    ],
                    "carpet": [
                      {
                        "aaxis": {
                          "endlinecolor": "#2a3f5f",
                          "gridcolor": "white",
                          "linecolor": "white",
                          "minorgridcolor": "white",
                          "startlinecolor": "#2a3f5f"
                        },
                        "baxis": {
                          "endlinecolor": "#2a3f5f",
                          "gridcolor": "white",
                          "linecolor": "white",
                          "minorgridcolor": "white",
                          "startlinecolor": "#2a3f5f"
                        },
                        "type": "carpet"
                      }
                    ],
                    "choropleth": [
                      {
                        "colorbar": {
                          "outlinewidth": 0,
                          "ticks": ""
                        },
                        "type": "choropleth"
                      }
                    ],
                    "contour": [
                      {
                        "colorbar": {
                          "outlinewidth": 0,
                          "ticks": ""
                        },
                        "colorscale": [
                          [
                            0,
                            "#0d0887"
                          ],
                          [
                            0.1111111111111111,
                            "#46039f"
                          ],
                          [
                            0.2222222222222222,
                            "#7201a8"
                          ],
                          [
                            0.3333333333333333,
                            "#9c179e"
                          ],
                          [
                            0.4444444444444444,
                            "#bd3786"
                          ],
                          [
                            0.5555555555555556,
                            "#d8576b"
                          ],
                          [
                            0.6666666666666666,
                            "#ed7953"
                          ],
                          [
                            0.7777777777777778,
                            "#fb9f3a"
                          ],
                          [
                            0.8888888888888888,
                            "#fdca26"
                          ],
                          [
                            1,
                            "#f0f921"
                          ]
                        ],
                        "type": "contour"
                      }
                    ],
                    "contourcarpet": [
                      {
                        "colorbar": {
                          "outlinewidth": 0,
                          "ticks": ""
                        },
                        "type": "contourcarpet"
                      }
                    ],
                    "heatmap": [
                      {
                        "colorbar": {
                          "outlinewidth": 0,
                          "ticks": ""
                        },
                        "colorscale": [
                          [
                            0,
                            "#0d0887"
                          ],
                          [
                            0.1111111111111111,
                            "#46039f"
                          ],
                          [
                            0.2222222222222222,
                            "#7201a8"
                          ],
                          [
                            0.3333333333333333,
                            "#9c179e"
                          ],
                          [
                            0.4444444444444444,
                            "#bd3786"
                          ],
                          [
                            0.5555555555555556,
                            "#d8576b"
                          ],
                          [
                            0.6666666666666666,
                            "#ed7953"
                          ],
                          [
                            0.7777777777777778,
                            "#fb9f3a"
                          ],
                          [
                            0.8888888888888888,
                            "#fdca26"
                          ],
                          [
                            1,
                            "#f0f921"
                          ]
                        ],
                        "type": "heatmap"
                      }
                    ],
                    "heatmapgl": [
                      {
                        "colorbar": {
                          "outlinewidth": 0,
                          "ticks": ""
                        },
                        "colorscale": [
                          [
                            0,
                            "#0d0887"
                          ],
                          [
                            0.1111111111111111,
                            "#46039f"
                          ],
                          [
                            0.2222222222222222,
                            "#7201a8"
                          ],
                          [
                            0.3333333333333333,
                            "#9c179e"
                          ],
                          [
                            0.4444444444444444,
                            "#bd3786"
                          ],
                          [
                            0.5555555555555556,
                            "#d8576b"
                          ],
                          [
                            0.6666666666666666,
                            "#ed7953"
                          ],
                          [
                            0.7777777777777778,
                            "#fb9f3a"
                          ],
                          [
                            0.8888888888888888,
                            "#fdca26"
                          ],
                          [
                            1,
                            "#f0f921"
                          ]
                        ],
                        "type": "heatmapgl"
                      }
                    ],
                    "histogram": [
                      {
                        "marker": {
                          "pattern": {
                            "fillmode": "overlay",
                            "size": 10,
                            "solidity": 0.2
                          }
                        },
                        "type": "histogram"
                      }
                    ],
                    "histogram2d": [
                      {
                        "colorbar": {
                          "outlinewidth": 0,
                          "ticks": ""
                        },
                        "colorscale": [
                          [
                            0,
                            "#0d0887"
                          ],
                          [
                            0.1111111111111111,
                            "#46039f"
                          ],
                          [
                            0.2222222222222222,
                            "#7201a8"
                          ],
                          [
                            0.3333333333333333,
                            "#9c179e"
                          ],
                          [
                            0.4444444444444444,
                            "#bd3786"
                          ],
                          [
                            0.5555555555555556,
                            "#d8576b"
                          ],
                          [
                            0.6666666666666666,
                            "#ed7953"
                          ],
                          [
                            0.7777777777777778,
                            "#fb9f3a"
                          ],
                          [
                            0.8888888888888888,
                            "#fdca26"
                          ],
                          [
                            1,
                            "#f0f921"
                          ]
                        ],
                        "type": "histogram2d"
                      }
                    ],
                    "histogram2dcontour": [
                      {
                        "colorbar": {
                          "outlinewidth": 0,
                          "ticks": ""
                        },
                        "colorscale": [
                          [
                            0,
                            "#0d0887"
                          ],
                          [
                            0.1111111111111111,
                            "#46039f"
                          ],
                          [
                            0.2222222222222222,
                            "#7201a8"
                          ],
                          [
                            0.3333333333333333,
                            "#9c179e"
                          ],
                          [
                            0.4444444444444444,
                            "#bd3786"
                          ],
                          [
                            0.5555555555555556,
                            "#d8576b"
                          ],
                          [
                            0.6666666666666666,
                            "#ed7953"
                          ],
                          [
                            0.7777777777777778,
                            "#fb9f3a"
                          ],
                          [
                            0.8888888888888888,
                            "#fdca26"
                          ],
                          [
                            1,
                            "#f0f921"
                          ]
                        ],
                        "type": "histogram2dcontour"
                      }
                    ],
                    "mesh3d": [
                      {
                        "colorbar": {
                          "outlinewidth": 0,
                          "ticks": ""
                        },
                        "type": "mesh3d"
                      }
                    ],
                    "parcoords": [
                      {
                        "line": {
                          "colorbar": {
                            "outlinewidth": 0,
                            "ticks": ""
                          }
                        },
                        "type": "parcoords"
                      }
                    ],
                    "pie": [
                      {
                        "automargin": true,
                        "type": "pie"
                      }
                    ],
                    "scatter": [
                      {
                        "marker": {
                          "colorbar": {
                            "outlinewidth": 0,
                            "ticks": ""
                          }
                        },
                        "type": "scatter"
                      }
                    ],
                    "scatter3d": [
                      {
                        "line": {
                          "colorbar": {
                            "outlinewidth": 0,
                            "ticks": ""
                          }
                        },
                        "marker": {
                          "colorbar": {
                            "outlinewidth": 0,
                            "ticks": ""
                          }
                        },
                        "type": "scatter3d"
                      }
                    ],
                    "scattercarpet": [
                      {
                        "marker": {
                          "colorbar": {
                            "outlinewidth": 0,
                            "ticks": ""
                          }
                        },
                        "type": "scattercarpet"
                      }
                    ],
                    "scattergeo": [
                      {
                        "marker": {
                          "colorbar": {
                            "outlinewidth": 0,
                            "ticks": ""
                          }
                        },
                        "type": "scattergeo"
                      }
                    ],
                    "scattergl": [
                      {
                        "marker": {
                          "colorbar": {
                            "outlinewidth": 0,
                            "ticks": ""
                          }
                        },
                        "type": "scattergl"
                      }
                    ],
                    "scattermapbox": [
                      {
                        "marker": {
                          "colorbar": {
                            "outlinewidth": 0,
                            "ticks": ""
                          }
                        },
                        "type": "scattermapbox"
                      }
                    ],
                    "scatterpolar": [
                      {
                        "marker": {
                          "colorbar": {
                            "outlinewidth": 0,
                            "ticks": ""
                          }
                        },
                        "type": "scatterpolar"
                      }
                    ],
                    "scatterpolargl": [
                      {
                        "marker": {
                          "colorbar": {
                            "outlinewidth": 0,
                            "ticks": ""
                          }
                        },
                        "type": "scatterpolargl"
                      }
                    ],
                    "scatterternary": [
                      {
                        "marker": {
                          "colorbar": {
                            "outlinewidth": 0,
                            "ticks": ""
                          }
                        },
                        "type": "scatterternary"
                      }
                    ],
                    "surface": [
                      {
                        "colorbar": {
                          "outlinewidth": 0,
                          "ticks": ""
                        },
                        "colorscale": [
                          [
                            0,
                            "#0d0887"
                          ],
                          [
                            0.1111111111111111,
                            "#46039f"
                          ],
                          [
                            0.2222222222222222,
                            "#7201a8"
                          ],
                          [
                            0.3333333333333333,
                            "#9c179e"
                          ],
                          [
                            0.4444444444444444,
                            "#bd3786"
                          ],
                          [
                            0.5555555555555556,
                            "#d8576b"
                          ],
                          [
                            0.6666666666666666,
                            "#ed7953"
                          ],
                          [
                            0.7777777777777778,
                            "#fb9f3a"
                          ],
                          [
                            0.8888888888888888,
                            "#fdca26"
                          ],
                          [
                            1,
                            "#f0f921"
                          ]
                        ],
                        "type": "surface"
                      }
                    ],
                    "table": [
                      {
                        "cells": {
                          "fill": {
                            "color": "#EBF0F8"
                          },
                          "line": {
                            "color": "white"
                          }
                        },
                        "header": {
                          "fill": {
                            "color": "#C8D4E3"
                          },
                          "line": {
                            "color": "white"
                          }
                        },
                        "type": "table"
                      }
                    ]
                  },
                  "layout": {
                    "annotationdefaults": {
                      "arrowcolor": "#2a3f5f",
                      "arrowhead": 0,
                      "arrowwidth": 1
                    },
                    "autotypenumbers": "strict",
                    "coloraxis": {
                      "colorbar": {
                        "outlinewidth": 0,
                        "ticks": ""
                      }
                    },
                    "colorscale": {
                      "diverging": [
                        [
                          0,
                          "#8e0152"
                        ],
                        [
                          0.1,
                          "#c51b7d"
                        ],
                        [
                          0.2,
                          "#de77ae"
                        ],
                        [
                          0.3,
                          "#f1b6da"
                        ],
                        [
                          0.4,
                          "#fde0ef"
                        ],
                        [
                          0.5,
                          "#f7f7f7"
                        ],
                        [
                          0.6,
                          "#e6f5d0"
                        ],
                        [
                          0.7,
                          "#b8e186"
                        ],
                        [
                          0.8,
                          "#7fbc41"
                        ],
                        [
                          0.9,
                          "#4d9221"
                        ],
                        [
                          1,
                          "#276419"
                        ]
                      ],
                      "sequential": [
                        [
                          0,
                          "#0d0887"
                        ],
                        [
                          0.1111111111111111,
                          "#46039f"
                        ],
                        [
                          0.2222222222222222,
                          "#7201a8"
                        ],
                        [
                          0.3333333333333333,
                          "#9c179e"
                        ],
                        [
                          0.4444444444444444,
                          "#bd3786"
                        ],
                        [
                          0.5555555555555556,
                          "#d8576b"
                        ],
                        [
                          0.6666666666666666,
                          "#ed7953"
                        ],
                        [
                          0.7777777777777778,
                          "#fb9f3a"
                        ],
                        [
                          0.8888888888888888,
                          "#fdca26"
                        ],
                        [
                          1,
                          "#f0f921"
                        ]
                      ],
                      "sequentialminus": [
                        [
                          0,
                          "#0d0887"
                        ],
                        [
                          0.1111111111111111,
                          "#46039f"
                        ],
                        [
                          0.2222222222222222,
                          "#7201a8"
                        ],
                        [
                          0.3333333333333333,
                          "#9c179e"
                        ],
                        [
                          0.4444444444444444,
                          "#bd3786"
                        ],
                        [
                          0.5555555555555556,
                          "#d8576b"
                        ],
                        [
                          0.6666666666666666,
                          "#ed7953"
                        ],
                        [
                          0.7777777777777778,
                          "#fb9f3a"
                        ],
                        [
                          0.8888888888888888,
                          "#fdca26"
                        ],
                        [
                          1,
                          "#f0f921"
                        ]
                      ]
                    },
                    "colorway": [
                      "#636efa",
                      "#EF553B",
                      "#00cc96",
                      "#ab63fa",
                      "#FFA15A",
                      "#19d3f3",
                      "#FF6692",
                      "#B6E880",
                      "#FF97FF",
                      "#FECB52"
                    ],
                    "font": {
                      "color": "#2a3f5f"
                    },
                    "geo": {
                      "bgcolor": "white",
                      "lakecolor": "white",
                      "landcolor": "#E5ECF6",
                      "showlakes": true,
                      "showland": true,
                      "subunitcolor": "white"
                    },
                    "hoverlabel": {
                      "align": "left"
                    },
                    "hovermode": "closest",
                    "mapbox": {
                      "style": "light"
                    },
                    "paper_bgcolor": "white",
                    "plot_bgcolor": "#E5ECF6",
                    "polar": {
                      "angularaxis": {
                        "gridcolor": "white",
                        "linecolor": "white",
                        "ticks": ""
                      },
                      "bgcolor": "#E5ECF6",
                      "radialaxis": {
                        "gridcolor": "white",
                        "linecolor": "white",
                        "ticks": ""
                      }
                    },
                    "scene": {
                      "xaxis": {
                        "backgroundcolor": "#E5ECF6",
                        "gridcolor": "white",
                        "gridwidth": 2,
                        "linecolor": "white",
                        "showbackground": true,
                        "ticks": "",
                        "zerolinecolor": "white"
                      },
                      "yaxis": {
                        "backgroundcolor": "#E5ECF6",
                        "gridcolor": "white",
                        "gridwidth": 2,
                        "linecolor": "white",
                        "showbackground": true,
                        "ticks": "",
                        "zerolinecolor": "white"
                      },
                      "zaxis": {
                        "backgroundcolor": "#E5ECF6",
                        "gridcolor": "white",
                        "gridwidth": 2,
                        "linecolor": "white",
                        "showbackground": true,
                        "ticks": "",
                        "zerolinecolor": "white"
                      }
                    },
                    "shapedefaults": {
                      "line": {
                        "color": "#2a3f5f"
                      }
                    },
                    "ternary": {
                      "aaxis": {
                        "gridcolor": "white",
                        "linecolor": "white",
                        "ticks": ""
                      },
                      "baxis": {
                        "gridcolor": "white",
                        "linecolor": "white",
                        "ticks": ""
                      },
                      "bgcolor": "#E5ECF6",
                      "caxis": {
                        "gridcolor": "white",
                        "linecolor": "white",
                        "ticks": ""
                      }
                    },
                    "title": {
                      "x": 0.05
                    },
                    "xaxis": {
                      "automargin": true,
                      "gridcolor": "white",
                      "linecolor": "white",
                      "ticks": "",
                      "title": {
                        "standoff": 15
                      },
                      "zerolinecolor": "white",
                      "zerolinewidth": 2
                    },
                    "yaxis": {
                      "automargin": true,
                      "gridcolor": "white",
                      "linecolor": "white",
                      "ticks": "",
                      "title": {
                        "standoff": 15
                      },
                      "zerolinecolor": "white",
                      "zerolinewidth": 2
                    }
                  }
                },
                "title": {
                  "text": "compound Distribution"
                }
              }
            },
            "text/html": [
              "<div>                            <div id=\"18cfb786-388b-409c-ab48-2dd19b1a990e\" class=\"plotly-graph-div\" style=\"height:525px; width:100%;\"></div>            <script type=\"text/javascript\">                require([\"plotly\"], function(Plotly) {                    window.PLOTLYENV=window.PLOTLYENV || {};                                    if (document.getElementById(\"18cfb786-388b-409c-ab48-2dd19b1a990e\")) {                    Plotly.newPlot(                        \"18cfb786-388b-409c-ab48-2dd19b1a990e\",                        [{\"histnorm\":\"percent\",\"nbinsx\":40,\"x\":[-0.7783,-0.1531,-0.1531,0.8303,0.4019,0.8303,0.9636,0.891,-0.6524,0.5574,0.1027,0.0,0.6369,0.891,0.891,0.5574,0.9636,0.5574],\"type\":\"histogram\"}],                        {\"template\":{\"data\":{\"barpolar\":[{\"marker\":{\"line\":{\"color\":\"#E5ECF6\",\"width\":0.5},\"pattern\":{\"fillmode\":\"overlay\",\"size\":10,\"solidity\":0.2}},\"type\":\"barpolar\"}],\"bar\":[{\"error_x\":{\"color\":\"#2a3f5f\"},\"error_y\":{\"color\":\"#2a3f5f\"},\"marker\":{\"line\":{\"color\":\"#E5ECF6\",\"width\":0.5},\"pattern\":{\"fillmode\":\"overlay\",\"size\":10,\"solidity\":0.2}},\"type\":\"bar\"}],\"carpet\":[{\"aaxis\":{\"endlinecolor\":\"#2a3f5f\",\"gridcolor\":\"white\",\"linecolor\":\"white\",\"minorgridcolor\":\"white\",\"startlinecolor\":\"#2a3f5f\"},\"baxis\":{\"endlinecolor\":\"#2a3f5f\",\"gridcolor\":\"white\",\"linecolor\":\"white\",\"minorgridcolor\":\"white\",\"startlinecolor\":\"#2a3f5f\"},\"type\":\"carpet\"}],\"choropleth\":[{\"colorbar\":{\"outlinewidth\":0,\"ticks\":\"\"},\"type\":\"choropleth\"}],\"contourcarpet\":[{\"colorbar\":{\"outlinewidth\":0,\"ticks\":\"\"},\"type\":\"contourcarpet\"}],\"contour\":[{\"colorbar\":{\"outlinewidth\":0,\"ticks\":\"\"},\"colorscale\":[[0.0,\"#0d0887\"],[0.1111111111111111,\"#46039f\"],[0.2222222222222222,\"#7201a8\"],[0.3333333333333333,\"#9c179e\"],[0.4444444444444444,\"#bd3786\"],[0.5555555555555556,\"#d8576b\"],[0.6666666666666666,\"#ed7953\"],[0.7777777777777778,\"#fb9f3a\"],[0.8888888888888888,\"#fdca26\"],[1.0,\"#f0f921\"]],\"type\":\"contour\"}],\"heatmapgl\":[{\"colorbar\":{\"outlinewidth\":0,\"ticks\":\"\"},\"colorscale\":[[0.0,\"#0d0887\"],[0.1111111111111111,\"#46039f\"],[0.2222222222222222,\"#7201a8\"],[0.3333333333333333,\"#9c179e\"],[0.4444444444444444,\"#bd3786\"],[0.5555555555555556,\"#d8576b\"],[0.6666666666666666,\"#ed7953\"],[0.7777777777777778,\"#fb9f3a\"],[0.8888888888888888,\"#fdca26\"],[1.0,\"#f0f921\"]],\"type\":\"heatmapgl\"}],\"heatmap\":[{\"colorbar\":{\"outlinewidth\":0,\"ticks\":\"\"},\"colorscale\":[[0.0,\"#0d0887\"],[0.1111111111111111,\"#46039f\"],[0.2222222222222222,\"#7201a8\"],[0.3333333333333333,\"#9c179e\"],[0.4444444444444444,\"#bd3786\"],[0.5555555555555556,\"#d8576b\"],[0.6666666666666666,\"#ed7953\"],[0.7777777777777778,\"#fb9f3a\"],[0.8888888888888888,\"#fdca26\"],[1.0,\"#f0f921\"]],\"type\":\"heatmap\"}],\"histogram2dcontour\":[{\"colorbar\":{\"outlinewidth\":0,\"ticks\":\"\"},\"colorscale\":[[0.0,\"#0d0887\"],[0.1111111111111111,\"#46039f\"],[0.2222222222222222,\"#7201a8\"],[0.3333333333333333,\"#9c179e\"],[0.4444444444444444,\"#bd3786\"],[0.5555555555555556,\"#d8576b\"],[0.6666666666666666,\"#ed7953\"],[0.7777777777777778,\"#fb9f3a\"],[0.8888888888888888,\"#fdca26\"],[1.0,\"#f0f921\"]],\"type\":\"histogram2dcontour\"}],\"histogram2d\":[{\"colorbar\":{\"outlinewidth\":0,\"ticks\":\"\"},\"colorscale\":[[0.0,\"#0d0887\"],[0.1111111111111111,\"#46039f\"],[0.2222222222222222,\"#7201a8\"],[0.3333333333333333,\"#9c179e\"],[0.4444444444444444,\"#bd3786\"],[0.5555555555555556,\"#d8576b\"],[0.6666666666666666,\"#ed7953\"],[0.7777777777777778,\"#fb9f3a\"],[0.8888888888888888,\"#fdca26\"],[1.0,\"#f0f921\"]],\"type\":\"histogram2d\"}],\"histogram\":[{\"marker\":{\"pattern\":{\"fillmode\":\"overlay\",\"size\":10,\"solidity\":0.2}},\"type\":\"histogram\"}],\"mesh3d\":[{\"colorbar\":{\"outlinewidth\":0,\"ticks\":\"\"},\"type\":\"mesh3d\"}],\"parcoords\":[{\"line\":{\"colorbar\":{\"outlinewidth\":0,\"ticks\":\"\"}},\"type\":\"parcoords\"}],\"pie\":[{\"automargin\":true,\"type\":\"pie\"}],\"scatter3d\":[{\"line\":{\"colorbar\":{\"outlinewidth\":0,\"ticks\":\"\"}},\"marker\":{\"colorbar\":{\"outlinewidth\":0,\"ticks\":\"\"}},\"type\":\"scatter3d\"}],\"scattercarpet\":[{\"marker\":{\"colorbar\":{\"outlinewidth\":0,\"ticks\":\"\"}},\"type\":\"scattercarpet\"}],\"scattergeo\":[{\"marker\":{\"colorbar\":{\"outlinewidth\":0,\"ticks\":\"\"}},\"type\":\"scattergeo\"}],\"scattergl\":[{\"marker\":{\"colorbar\":{\"outlinewidth\":0,\"ticks\":\"\"}},\"type\":\"scattergl\"}],\"scattermapbox\":[{\"marker\":{\"colorbar\":{\"outlinewidth\":0,\"ticks\":\"\"}},\"type\":\"scattermapbox\"}],\"scatterpolargl\":[{\"marker\":{\"colorbar\":{\"outlinewidth\":0,\"ticks\":\"\"}},\"type\":\"scatterpolargl\"}],\"scatterpolar\":[{\"marker\":{\"colorbar\":{\"outlinewidth\":0,\"ticks\":\"\"}},\"type\":\"scatterpolar\"}],\"scatter\":[{\"marker\":{\"colorbar\":{\"outlinewidth\":0,\"ticks\":\"\"}},\"type\":\"scatter\"}],\"scatterternary\":[{\"marker\":{\"colorbar\":{\"outlinewidth\":0,\"ticks\":\"\"}},\"type\":\"scatterternary\"}],\"surface\":[{\"colorbar\":{\"outlinewidth\":0,\"ticks\":\"\"},\"colorscale\":[[0.0,\"#0d0887\"],[0.1111111111111111,\"#46039f\"],[0.2222222222222222,\"#7201a8\"],[0.3333333333333333,\"#9c179e\"],[0.4444444444444444,\"#bd3786\"],[0.5555555555555556,\"#d8576b\"],[0.6666666666666666,\"#ed7953\"],[0.7777777777777778,\"#fb9f3a\"],[0.8888888888888888,\"#fdca26\"],[1.0,\"#f0f921\"]],\"type\":\"surface\"}],\"table\":[{\"cells\":{\"fill\":{\"color\":\"#EBF0F8\"},\"line\":{\"color\":\"white\"}},\"header\":{\"fill\":{\"color\":\"#C8D4E3\"},\"line\":{\"color\":\"white\"}},\"type\":\"table\"}]},\"layout\":{\"annotationdefaults\":{\"arrowcolor\":\"#2a3f5f\",\"arrowhead\":0,\"arrowwidth\":1},\"autotypenumbers\":\"strict\",\"coloraxis\":{\"colorbar\":{\"outlinewidth\":0,\"ticks\":\"\"}},\"colorscale\":{\"diverging\":[[0,\"#8e0152\"],[0.1,\"#c51b7d\"],[0.2,\"#de77ae\"],[0.3,\"#f1b6da\"],[0.4,\"#fde0ef\"],[0.5,\"#f7f7f7\"],[0.6,\"#e6f5d0\"],[0.7,\"#b8e186\"],[0.8,\"#7fbc41\"],[0.9,\"#4d9221\"],[1,\"#276419\"]],\"sequential\":[[0.0,\"#0d0887\"],[0.1111111111111111,\"#46039f\"],[0.2222222222222222,\"#7201a8\"],[0.3333333333333333,\"#9c179e\"],[0.4444444444444444,\"#bd3786\"],[0.5555555555555556,\"#d8576b\"],[0.6666666666666666,\"#ed7953\"],[0.7777777777777778,\"#fb9f3a\"],[0.8888888888888888,\"#fdca26\"],[1.0,\"#f0f921\"]],\"sequentialminus\":[[0.0,\"#0d0887\"],[0.1111111111111111,\"#46039f\"],[0.2222222222222222,\"#7201a8\"],[0.3333333333333333,\"#9c179e\"],[0.4444444444444444,\"#bd3786\"],[0.5555555555555556,\"#d8576b\"],[0.6666666666666666,\"#ed7953\"],[0.7777777777777778,\"#fb9f3a\"],[0.8888888888888888,\"#fdca26\"],[1.0,\"#f0f921\"]]},\"colorway\":[\"#636efa\",\"#EF553B\",\"#00cc96\",\"#ab63fa\",\"#FFA15A\",\"#19d3f3\",\"#FF6692\",\"#B6E880\",\"#FF97FF\",\"#FECB52\"],\"font\":{\"color\":\"#2a3f5f\"},\"geo\":{\"bgcolor\":\"white\",\"lakecolor\":\"white\",\"landcolor\":\"#E5ECF6\",\"showlakes\":true,\"showland\":true,\"subunitcolor\":\"white\"},\"hoverlabel\":{\"align\":\"left\"},\"hovermode\":\"closest\",\"mapbox\":{\"style\":\"light\"},\"paper_bgcolor\":\"white\",\"plot_bgcolor\":\"#E5ECF6\",\"polar\":{\"angularaxis\":{\"gridcolor\":\"white\",\"linecolor\":\"white\",\"ticks\":\"\"},\"bgcolor\":\"#E5ECF6\",\"radialaxis\":{\"gridcolor\":\"white\",\"linecolor\":\"white\",\"ticks\":\"\"}},\"scene\":{\"xaxis\":{\"backgroundcolor\":\"#E5ECF6\",\"gridcolor\":\"white\",\"gridwidth\":2,\"linecolor\":\"white\",\"showbackground\":true,\"ticks\":\"\",\"zerolinecolor\":\"white\"},\"yaxis\":{\"backgroundcolor\":\"#E5ECF6\",\"gridcolor\":\"white\",\"gridwidth\":2,\"linecolor\":\"white\",\"showbackground\":true,\"ticks\":\"\",\"zerolinecolor\":\"white\"},\"zaxis\":{\"backgroundcolor\":\"#E5ECF6\",\"gridcolor\":\"white\",\"gridwidth\":2,\"linecolor\":\"white\",\"showbackground\":true,\"ticks\":\"\",\"zerolinecolor\":\"white\"}},\"shapedefaults\":{\"line\":{\"color\":\"#2a3f5f\"}},\"ternary\":{\"aaxis\":{\"gridcolor\":\"white\",\"linecolor\":\"white\",\"ticks\":\"\"},\"baxis\":{\"gridcolor\":\"white\",\"linecolor\":\"white\",\"ticks\":\"\"},\"bgcolor\":\"#E5ECF6\",\"caxis\":{\"gridcolor\":\"white\",\"linecolor\":\"white\",\"ticks\":\"\"}},\"title\":{\"x\":0.05},\"xaxis\":{\"automargin\":true,\"gridcolor\":\"white\",\"linecolor\":\"white\",\"ticks\":\"\",\"title\":{\"standoff\":15},\"zerolinecolor\":\"white\",\"zerolinewidth\":2},\"yaxis\":{\"automargin\":true,\"gridcolor\":\"white\",\"linecolor\":\"white\",\"ticks\":\"\",\"title\":{\"standoff\":15},\"zerolinecolor\":\"white\",\"zerolinewidth\":2}}},\"title\":{\"text\":\"compound Distribution\"}},                        {\"responsive\": true}                    ).then(function(){\n",
              "                            \n",
              "var gd = document.getElementById('18cfb786-388b-409c-ab48-2dd19b1a990e');\n",
              "var x = new MutationObserver(function (mutations, observer) {{\n",
              "        var display = window.getComputedStyle(gd).display;\n",
              "        if (!display || display === 'none') {{\n",
              "            console.log([gd, 'removed!']);\n",
              "            Plotly.purge(gd);\n",
              "            observer.disconnect();\n",
              "        }}\n",
              "}});\n",
              "\n",
              "// Listen for the removal of the full notebook cells\n",
              "var notebookContainer = gd.closest('#notebook-container');\n",
              "if (notebookContainer) {{\n",
              "    x.observe(notebookContainer, {childList: true});\n",
              "}}\n",
              "\n",
              "// Listen for the clearing of the current output cell\n",
              "var outputEl = gd.closest('.output');\n",
              "if (outputEl) {{\n",
              "    x.observe(outputEl, {childList: true});\n",
              "}}\n",
              "\n",
              "                        })                };                });            </script>        </div>"
            ]
          },
          "metadata": {},
          "output_type": "display_data"
        }
      ],
      "source": [
        "# defining data\n",
        "trace = go.Histogram(x=df['compound'],nbinsx=40,histnorm='percent')\n",
        "data = [trace]\n",
        "# defining layout\n",
        "layout = go.Layout(title=\"compound Distribution\")\n",
        "# defining figure and plotting\n",
        "fig = go.Figure(data = data,layout = layout)\n",
        "iplot(fig)"
      ]
    },
    {
      "cell_type": "code",
      "execution_count": 34,
      "metadata": {},
      "outputs": [
        {
          "name": "stdout",
          "output_type": "stream",
          "text": [
            "Requirement already satisfied: regex in c:\\users\\napop\\miniconda3\\nueva carpeta\\miniconda\\lib\\site-packages (2022.1.18)\n",
            "Note: you may need to restart the kernel to use updated packages.\n"
          ]
        }
      ],
      "source": [
        "pip install regex"
      ]
    },
    {
      "cell_type": "code",
      "execution_count": 44,
      "metadata": {},
      "outputs": [],
      "source": [
        "import numpy as np"
      ]
    },
    {
      "cell_type": "code",
      "execution_count": 45,
      "metadata": {},
      "outputs": [],
      "source": [
        "from nltk.corpus import stopwords  #This allows to create individual objects from a bog of wordsfrom nltk.tokenize import word_tokenize"
      ]
    },
    {
      "cell_type": "code",
      "execution_count": 47,
      "metadata": {},
      "outputs": [
        {
          "name": "stdout",
          "output_type": "stream",
          "text": [
            "Esto es 1 ejemplo de l'limpieza de6 comment  https://t.co/rnHPgyhx4Z @cienciadedatos #textmining\n",
            "['esto', 'es', 'ejemplo', 'de', 'limpieza', 'de', 'comment', 'cienciadedatos', 'textmining']\n"
          ]
        }
      ],
      "source": [
        "def limpiar_tokenizar(comment):\n",
        "    '''\n",
        "    Esta función limpia y tokeniza el comment en palabras individuales.\n",
        "    El orden en el que se va limpiando el comment no es arbitrario.\n",
        "    El listado de signos de puntuación se ha obtenido de: print(string.punctuation)\n",
        "    y re.escape(string.punctuation)\n",
        "    '''\n",
        "    \n",
        "    # Se convierte todo el comment a minúsculas\n",
        "    nuevo_comment = comment.lower()\n",
        "    # Eliminación de páginas web (palabras que empiezan por \"http\")\n",
        "    nuevo_comment = re.sub('http\\S+', ' ', nuevo_comment)\n",
        "    # Eliminación de signos de puntuación\n",
        "    regex = '[\\\\!\\\\\"\\\\#\\\\$\\\\%\\\\&\\\\\\'\\\\(\\\\)\\\\*\\\\+\\\\,\\\\-\\\\.\\\\/\\\\:\\\\;\\\\<\\\\=\\\\>\\\\?\\\\@\\\\[\\\\\\\\\\\\]\\\\^_\\\\`\\\\{\\\\|\\\\}\\\\~]'\n",
        "    nuevo_comment = re.sub(regex , ' ', nuevo_comment)\n",
        "    # Eliminación de números\n",
        "    nuevo_comment = re.sub(\"\\d+\", ' ', nuevo_comment)\n",
        "    # Eliminación de espacios en blanco múltiples\n",
        "    nuevo_comment = re.sub(\"\\\\s+\", ' ', nuevo_comment)\n",
        "    # Tokenización por palabras individuales\n",
        "    nuevo_comment = nuevo_comment.split(sep = ' ')\n",
        "    # Eliminación de tokens con una longitud < 2\n",
        "    nuevo_comment = [token for token in nuevo_comment if len(token) > 1]\n",
        "    \n",
        "    return(nuevo_comment)\n",
        "\n",
        "test = \"Esto es 1 ejemplo de l'limpieza de6 comment  https://t.co/rnHPgyhx4Z @cienciadedatos #textmining\"\n",
        "print(test)\n",
        "print(limpiar_tokenizar(comment=test))\n"
      ]
    },
    {
      "cell_type": "code",
      "execution_count": 48,
      "metadata": {},
      "outputs": [
        {
          "data": {
            "text/html": [
              "<div>\n",
              "<style scoped>\n",
              "    .dataframe tbody tr th:only-of-type {\n",
              "        vertical-align: middle;\n",
              "    }\n",
              "\n",
              "    .dataframe tbody tr th {\n",
              "        vertical-align: top;\n",
              "    }\n",
              "\n",
              "    .dataframe thead th {\n",
              "        text-align: right;\n",
              "    }\n",
              "</style>\n",
              "<table border=\"1\" class=\"dataframe\">\n",
              "  <thead>\n",
              "    <tr style=\"text-align: right;\">\n",
              "      <th></th>\n",
              "      <th>comment</th>\n",
              "      <th>comment_tokenizado</th>\n",
              "    </tr>\n",
              "  </thead>\n",
              "  <tbody>\n",
              "    <tr>\n",
              "      <th>41</th>\n",
              "      <td>i&amp;#39;ve heard this often goes with anciety/ d...</td>\n",
              "      <td>[ve, heard, this, often, goes, with, anciety, ...</td>\n",
              "    </tr>\n",
              "    <tr>\n",
              "      <th>51</th>\n",
              "      <td>falling asleep whilst watching thiszzzzzzzzx</td>\n",
              "      <td>[falling, asleep, whilst, watching, thiszzzzzz...</td>\n",
              "    </tr>\n",
              "    <tr>\n",
              "      <th>56</th>\n",
              "      <td>falling asleep whilst watching thiszzzzzzzzx</td>\n",
              "      <td>[falling, asleep, whilst, watching, thiszzzzzz...</td>\n",
              "    </tr>\n",
              "    <tr>\n",
              "      <th>89</th>\n",
              "      <td>ninja nerd i&amp;#39;m so happy that you choose th...</td>\n",
              "      <td>[ninja, nerd, so, happy, that, you, choose, th...</td>\n",
              "    </tr>\n",
              "    <tr>\n",
              "      <th>96</th>\n",
              "      <td>that’s interesting i’m a nurse on a gi ward an...</td>\n",
              "      <td>[that’s, interesting, i’m, nurse, on, gi, ward...</td>\n",
              "    </tr>\n",
              "  </tbody>\n",
              "</table>\n",
              "</div>"
            ],
            "text/plain": [
              "                                              comment  \\\n",
              "41  i&#39;ve heard this often goes with anciety/ d...   \n",
              "51       falling asleep whilst watching thiszzzzzzzzx   \n",
              "56       falling asleep whilst watching thiszzzzzzzzx   \n",
              "89  ninja nerd i&#39;m so happy that you choose th...   \n",
              "96  that’s interesting i’m a nurse on a gi ward an...   \n",
              "\n",
              "                                   comment_tokenizado  \n",
              "41  [ve, heard, this, often, goes, with, anciety, ...  \n",
              "51  [falling, asleep, whilst, watching, thiszzzzzz...  \n",
              "56  [falling, asleep, whilst, watching, thiszzzzzz...  \n",
              "89  [ninja, nerd, so, happy, that, you, choose, th...  \n",
              "96  [that’s, interesting, i’m, nurse, on, gi, ward...  "
            ]
          },
          "execution_count": 48,
          "metadata": {},
          "output_type": "execute_result"
        }
      ],
      "source": [
        "# Se aplica la función de limpieza y tokenización a cada tweet\n",
        "# ==============================================================================\n",
        "df['comment_tokenizado'] = df['comment'].apply(lambda x: limpiar_tokenizar(x))\n",
        "df[['comment', 'comment_tokenizado']].head()"
      ]
    },
    {
      "cell_type": "code",
      "execution_count": 51,
      "metadata": {},
      "outputs": [
        {
          "data": {
            "text/html": [
              "<div>\n",
              "<style scoped>\n",
              "    .dataframe tbody tr th:only-of-type {\n",
              "        vertical-align: middle;\n",
              "    }\n",
              "\n",
              "    .dataframe tbody tr th {\n",
              "        vertical-align: top;\n",
              "    }\n",
              "\n",
              "    .dataframe thead th {\n",
              "        text-align: right;\n",
              "    }\n",
              "</style>\n",
              "<table border=\"1\" class=\"dataframe\">\n",
              "  <thead>\n",
              "    <tr style=\"text-align: right;\">\n",
              "      <th></th>\n",
              "      <th>date_post</th>\n",
              "      <th>date_extraction</th>\n",
              "      <th>influencer</th>\n",
              "      <th>post_type</th>\n",
              "      <th>post_url</th>\n",
              "      <th>platform</th>\n",
              "      <th>comment_likecount</th>\n",
              "      <th>replies</th>\n",
              "      <th>BU;;;;;;;;;</th>\n",
              "      <th>scores</th>\n",
              "      <th>compound</th>\n",
              "      <th>comp_score</th>\n",
              "      <th>exc</th>\n",
              "      <th>queen</th>\n",
              "      <th>words</th>\n",
              "      <th>token</th>\n",
              "    </tr>\n",
              "  </thead>\n",
              "  <tbody>\n",
              "    <tr>\n",
              "      <th>41</th>\n",
              "      <td>2021-10-14</td>\n",
              "      <td>2021-12-15</td>\n",
              "      <td>JJ Medicine</td>\n",
              "      <td>VIDEO</td>\n",
              "      <td>https://www.youtube.com/watch?v=FwiaoKrdzx4</td>\n",
              "      <td>Youtube</td>\n",
              "      <td>0</td>\n",
              "      <td>i too had mono...ever since high epstein bar l...</td>\n",
              "      <td>CS;;;;;</td>\n",
              "      <td>{'neg': 0.286, 'neu': 0.714, 'pos': 0.0, 'comp...</td>\n",
              "      <td>-0.7783</td>\n",
              "      <td>neg</td>\n",
              "      <td>0</td>\n",
              "      <td>0</td>\n",
              "      <td>20</td>\n",
              "      <td>ve</td>\n",
              "    </tr>\n",
              "    <tr>\n",
              "      <th>41</th>\n",
              "      <td>2021-10-14</td>\n",
              "      <td>2021-12-15</td>\n",
              "      <td>JJ Medicine</td>\n",
              "      <td>VIDEO</td>\n",
              "      <td>https://www.youtube.com/watch?v=FwiaoKrdzx4</td>\n",
              "      <td>Youtube</td>\n",
              "      <td>0</td>\n",
              "      <td>i too had mono...ever since high epstein bar l...</td>\n",
              "      <td>CS;;;;;</td>\n",
              "      <td>{'neg': 0.286, 'neu': 0.714, 'pos': 0.0, 'comp...</td>\n",
              "      <td>-0.7783</td>\n",
              "      <td>neg</td>\n",
              "      <td>0</td>\n",
              "      <td>0</td>\n",
              "      <td>20</td>\n",
              "      <td>heard</td>\n",
              "    </tr>\n",
              "    <tr>\n",
              "      <th>41</th>\n",
              "      <td>2021-10-14</td>\n",
              "      <td>2021-12-15</td>\n",
              "      <td>JJ Medicine</td>\n",
              "      <td>VIDEO</td>\n",
              "      <td>https://www.youtube.com/watch?v=FwiaoKrdzx4</td>\n",
              "      <td>Youtube</td>\n",
              "      <td>0</td>\n",
              "      <td>i too had mono...ever since high epstein bar l...</td>\n",
              "      <td>CS;;;;;</td>\n",
              "      <td>{'neg': 0.286, 'neu': 0.714, 'pos': 0.0, 'comp...</td>\n",
              "      <td>-0.7783</td>\n",
              "      <td>neg</td>\n",
              "      <td>0</td>\n",
              "      <td>0</td>\n",
              "      <td>20</td>\n",
              "      <td>this</td>\n",
              "    </tr>\n",
              "  </tbody>\n",
              "</table>\n",
              "</div>"
            ],
            "text/plain": [
              "     date_post date_extraction   influencer post_type  \\\n",
              "41  2021-10-14      2021-12-15  JJ Medicine     VIDEO   \n",
              "41  2021-10-14      2021-12-15  JJ Medicine     VIDEO   \n",
              "41  2021-10-14      2021-12-15  JJ Medicine     VIDEO   \n",
              "\n",
              "                                       post_url platform comment_likecount  \\\n",
              "41  https://www.youtube.com/watch?v=FwiaoKrdzx4  Youtube                 0   \n",
              "41  https://www.youtube.com/watch?v=FwiaoKrdzx4  Youtube                 0   \n",
              "41  https://www.youtube.com/watch?v=FwiaoKrdzx4  Youtube                 0   \n",
              "\n",
              "                                              replies BU;;;;;;;;;  \\\n",
              "41  i too had mono...ever since high epstein bar l...     CS;;;;;   \n",
              "41  i too had mono...ever since high epstein bar l...     CS;;;;;   \n",
              "41  i too had mono...ever since high epstein bar l...     CS;;;;;   \n",
              "\n",
              "                                               scores  compound comp_score  \\\n",
              "41  {'neg': 0.286, 'neu': 0.714, 'pos': 0.0, 'comp...   -0.7783        neg   \n",
              "41  {'neg': 0.286, 'neu': 0.714, 'pos': 0.0, 'comp...   -0.7783        neg   \n",
              "41  {'neg': 0.286, 'neu': 0.714, 'pos': 0.0, 'comp...   -0.7783        neg   \n",
              "\n",
              "    exc  queen  words  token  \n",
              "41    0      0     20     ve  \n",
              "41    0      0     20  heard  \n",
              "41    0      0     20   this  "
            ]
          },
          "execution_count": 51,
          "metadata": {},
          "output_type": "execute_result"
        }
      ],
      "source": [
        "# Unnest de la columna texto_tokenizado\n",
        "# ==============================================================================\n",
        "comment_tidy = df.explode(column='comment_tokenizado')\n",
        "comment_tidy = comment_tidy.drop(columns='comment')\n",
        "comment_tidy = comment_tidy.rename(columns={'comment_tokenizado':'token'})\n",
        "comment_tidy.head(3)"
      ]
    },
    {
      "cell_type": "code",
      "execution_count": 54,
      "metadata": {},
      "outputs": [
        {
          "name": "stdout",
          "output_type": "stream",
          "text": [
            "--------------------------\n",
            "Palabras totales por post\n",
            "--------------------------\n"
          ]
        },
        {
          "data": {
            "text/plain": [
              "influencer\n",
              " as usual            31\n",
              "JJ Medicine          29\n",
              "ninjanerdscience     46\n",
              "sydneyserena        168\n",
              "Name: token, dtype: int64"
            ]
          },
          "execution_count": 54,
          "metadata": {},
          "output_type": "execute_result"
        }
      ],
      "source": [
        "# Palabras totales utilizadas por cada influencer\n",
        "# ==============================================================================\n",
        "print('--------------------------')\n",
        "print('Palabras totales por post')\n",
        "print('--------------------------')\n",
        "comment_tidy.groupby(by='influencer')['token'].count()"
      ]
    },
    {
      "cell_type": "code",
      "execution_count": 55,
      "metadata": {},
      "outputs": [
        {
          "name": "stdout",
          "output_type": "stream",
          "text": [
            "----------------------------\n",
            "Palabras distintas por autor\n",
            "----------------------------\n"
          ]
        },
        {
          "data": {
            "text/plain": [
              "influencer\n",
              " as usual           29\n",
              "JJ Medicine         23\n",
              "ninjanerdscience    21\n",
              "sydneyserena        75\n",
              "Name: token, dtype: int64"
            ]
          },
          "execution_count": 55,
          "metadata": {},
          "output_type": "execute_result"
        }
      ],
      "source": [
        "# Palabras distintas utilizadas por cada autor\n",
        "# ==============================================================================\n",
        "print('----------------------------')\n",
        "print('Palabras distintas por autor')\n",
        "print('----------------------------')\n",
        "comment_tidy.groupby(by='influencer')['token'].nunique()"
      ]
    },
    {
      "cell_type": "code",
      "execution_count": 56,
      "metadata": {},
      "outputs": [
        {
          "name": "stdout",
          "output_type": "stream",
          "text": [
            "----------------------------\n",
            "Palabras distintas por autor\n",
            "----------------------------\n"
          ]
        },
        {
          "data": {
            "text/plain": [
              "influencer\n",
              " as usual           29\n",
              "JJ Medicine         23\n",
              "ninjanerdscience    21\n",
              "sydneyserena        75\n",
              "Name: token, dtype: int64"
            ]
          },
          "execution_count": 56,
          "metadata": {},
          "output_type": "execute_result"
        }
      ],
      "source": [
        "# Palabras distintas utilizadas por cada autor\n",
        "# ==============================================================================\n",
        "print('----------------------------')\n",
        "print('Palabras distintas por autor')\n",
        "print('----------------------------')\n",
        "comment_tidy.groupby(by='influencer')['token'].nunique()"
      ]
    },
    {
      "cell_type": "code",
      "execution_count": 58,
      "metadata": {},
      "outputs": [
        {
          "data": {
            "text/html": [
              "<div>\n",
              "<style scoped>\n",
              "    .dataframe tbody tr th:only-of-type {\n",
              "        vertical-align: middle;\n",
              "    }\n",
              "\n",
              "    .dataframe tbody tr th {\n",
              "        vertical-align: top;\n",
              "    }\n",
              "\n",
              "    .dataframe thead th {\n",
              "        text-align: right;\n",
              "    }\n",
              "</style>\n",
              "<table border=\"1\" class=\"dataframe\">\n",
              "  <thead>\n",
              "    <tr style=\"text-align: right;\">\n",
              "      <th></th>\n",
              "      <th></th>\n",
              "      <th>influencer</th>\n",
              "      <th>token</th>\n",
              "      <th>count</th>\n",
              "    </tr>\n",
              "    <tr>\n",
              "      <th>influencer</th>\n",
              "      <th></th>\n",
              "      <th></th>\n",
              "      <th></th>\n",
              "      <th></th>\n",
              "    </tr>\n",
              "  </thead>\n",
              "  <tbody>\n",
              "    <tr>\n",
              "      <th rowspan=\"5\" valign=\"top\">as usual</th>\n",
              "      <th>19</th>\n",
              "      <td>as usual</td>\n",
              "      <td>of</td>\n",
              "      <td>3</td>\n",
              "    </tr>\n",
              "    <tr>\n",
              "      <th>0</th>\n",
              "      <td>as usual</td>\n",
              "      <td>an</td>\n",
              "      <td>1</td>\n",
              "    </tr>\n",
              "    <tr>\n",
              "      <th>15</th>\n",
              "      <td>as usual</td>\n",
              "      <td>new</td>\n",
              "      <td>1</td>\n",
              "    </tr>\n",
              "    <tr>\n",
              "      <th>27</th>\n",
              "      <td>as usual</td>\n",
              "      <td>with</td>\n",
              "      <td>1</td>\n",
              "    </tr>\n",
              "    <tr>\n",
              "      <th>26</th>\n",
              "      <td>as usual</td>\n",
              "      <td>ward</td>\n",
              "      <td>1</td>\n",
              "    </tr>\n",
              "    <tr>\n",
              "      <th rowspan=\"5\" valign=\"top\">JJ Medicine</th>\n",
              "      <th>32</th>\n",
              "      <td>JJ Medicine</td>\n",
              "      <td>asleep</td>\n",
              "      <td>2</td>\n",
              "    </tr>\n",
              "    <tr>\n",
              "      <th>49</th>\n",
              "      <td>JJ Medicine</td>\n",
              "      <td>whilst</td>\n",
              "      <td>2</td>\n",
              "    </tr>\n",
              "    <tr>\n",
              "      <th>34</th>\n",
              "      <td>JJ Medicine</td>\n",
              "      <td>falling</td>\n",
              "      <td>2</td>\n",
              "    </tr>\n",
              "    <tr>\n",
              "      <th>48</th>\n",
              "      <td>JJ Medicine</td>\n",
              "      <td>watching</td>\n",
              "      <td>2</td>\n",
              "    </tr>\n",
              "    <tr>\n",
              "      <th>47</th>\n",
              "      <td>JJ Medicine</td>\n",
              "      <td>ve</td>\n",
              "      <td>2</td>\n",
              "    </tr>\n",
              "    <tr>\n",
              "      <th rowspan=\"5\" valign=\"top\">ninjanerdscience</th>\n",
              "      <th>56</th>\n",
              "      <td>ninjanerdscience</td>\n",
              "      <td>first</td>\n",
              "      <td>4</td>\n",
              "    </tr>\n",
              "    <tr>\n",
              "      <th>67</th>\n",
              "      <td>ninjanerdscience</td>\n",
              "      <td>that</td>\n",
              "      <td>4</td>\n",
              "    </tr>\n",
              "    <tr>\n",
              "      <th>52</th>\n",
              "      <td>ninjanerdscience</td>\n",
              "      <td>about</td>\n",
              "      <td>2</td>\n",
              "    </tr>\n",
              "    <tr>\n",
              "      <th>63</th>\n",
              "      <td>ninjanerdscience</td>\n",
              "      <td>please</td>\n",
              "      <td>2</td>\n",
              "    </tr>\n",
              "    <tr>\n",
              "      <th>71</th>\n",
              "      <td>ninjanerdscience</td>\n",
              "      <td>ulcerative</td>\n",
              "      <td>2</td>\n",
              "    </tr>\n",
              "    <tr>\n",
              "      <th rowspan=\"5\" valign=\"top\">sydneyserena</th>\n",
              "      <th>108</th>\n",
              "      <td>sydneyserena</td>\n",
              "      <td>is</td>\n",
              "      <td>8</td>\n",
              "    </tr>\n",
              "    <tr>\n",
              "      <th>114</th>\n",
              "      <td>sydneyserena</td>\n",
              "      <td>love</td>\n",
              "      <td>8</td>\n",
              "    </tr>\n",
              "    <tr>\n",
              "      <th>104</th>\n",
              "      <td>sydneyserena</td>\n",
              "      <td>how</td>\n",
              "      <td>6</td>\n",
              "    </tr>\n",
              "    <tr>\n",
              "      <th>78</th>\n",
              "      <td>sydneyserena</td>\n",
              "      <td>and</td>\n",
              "      <td>6</td>\n",
              "    </tr>\n",
              "    <tr>\n",
              "      <th>109</th>\n",
              "      <td>sydneyserena</td>\n",
              "      <td>it</td>\n",
              "      <td>5</td>\n",
              "    </tr>\n",
              "  </tbody>\n",
              "</table>\n",
              "</div>"
            ],
            "text/plain": [
              "                            influencer       token  count\n",
              "influencer                                               \n",
              " as usual        19           as usual          of      3\n",
              "                 0            as usual          an      1\n",
              "                 15           as usual         new      1\n",
              "                 27           as usual        with      1\n",
              "                 26           as usual        ward      1\n",
              "JJ Medicine      32        JJ Medicine      asleep      2\n",
              "                 49        JJ Medicine      whilst      2\n",
              "                 34        JJ Medicine     falling      2\n",
              "                 48        JJ Medicine    watching      2\n",
              "                 47        JJ Medicine          ve      2\n",
              "ninjanerdscience 56   ninjanerdscience       first      4\n",
              "                 67   ninjanerdscience        that      4\n",
              "                 52   ninjanerdscience       about      2\n",
              "                 63   ninjanerdscience      please      2\n",
              "                 71   ninjanerdscience  ulcerative      2\n",
              "sydneyserena     108      sydneyserena          is      8\n",
              "                 114      sydneyserena        love      8\n",
              "                 104      sydneyserena         how      6\n",
              "                 78       sydneyserena         and      6\n",
              "                 109      sydneyserena          it      5"
            ]
          },
          "execution_count": 58,
          "metadata": {},
          "output_type": "execute_result"
        }
      ],
      "source": [
        "# Top 5 palabras más utilizadas por cada comment\n",
        "# ==============================================================================\n",
        "comment_tidy.groupby(['influencer','token'])['token'] \\\n",
        " .count() \\\n",
        " .reset_index(name='count') \\\n",
        " .groupby('influencer') \\\n",
        " .apply(lambda x: x.sort_values('count', ascending=False).head(5))"
      ]
    },
    {
      "cell_type": "code",
      "execution_count": 59,
      "metadata": {},
      "outputs": [
        {
          "name": "stdout",
          "output_type": "stream",
          "text": [
            "['i', 'me', 'my', 'myself', 'we', 'our', 'ours', 'ourselves', 'you', \"you're\"]\n"
          ]
        }
      ],
      "source": [
        "# Obtención de listado de stopwords del inglés\n",
        "# ==============================================================================\n",
        "stop_words = list(stopwords.words('english'))\n",
        "# Se añade la stoprword: amp, ax, ex\n",
        "stop_words.extend((\"amp\", \"xa\", \"xe\"))\n",
        "print(stop_words[:10])"
      ]
    },
    {
      "cell_type": "markdown",
      "metadata": {},
      "source": [
        "En la tabla anterior puede observarse que los términos más frecuentes en todos los usuarios se corresponden con artículos, preposiciones, pronombres…, en general, palabras que no aportan información relevante sobre el texto. Ha estas palabras se les conoce como stopwords. Para cada idioma existen distintos listados de stopwords, además, dependiendo del contexto, puede ser necesario adaptar el listado. Por ejemplo, en la tabla anterior aparece el término amp que procede de la etiqueta html &amp. Con frecuencia, a medida que se realiza un análisis se encuentran palabras que deben incluirse en el listado de stopwords."
      ]
    },
    {
      "cell_type": "code",
      "execution_count": 60,
      "metadata": {},
      "outputs": [],
      "source": [
        "# Filtrado para excluir stopwords\n",
        "# ==============================================================================\n",
        "comment_tidy = comment_tidy[~(comment_tidy[\"token\"].isin(stop_words))]"
      ]
    },
    {
      "cell_type": "code",
      "execution_count": 66,
      "metadata": {},
      "outputs": [
        {
          "ename": "IndexError",
          "evalue": "index 3 is out of bounds for axis 0 with size 3",
          "output_type": "error",
          "traceback": [
            "\u001b[1;31m---------------------------------------------------------------------------\u001b[0m",
            "\u001b[1;31mIndexError\u001b[0m                                Traceback (most recent call last)",
            "Input \u001b[1;32mIn [66]\u001b[0m, in \u001b[0;36m<module>\u001b[1;34m\u001b[0m\n\u001b[0;32m      5\u001b[0m df_temp \u001b[38;5;241m=\u001b[39m comment_tidy[comment_tidy\u001b[38;5;241m.\u001b[39minfluencer \u001b[38;5;241m==\u001b[39m autor]\n\u001b[0;32m      6\u001b[0m counts  \u001b[38;5;241m=\u001b[39m df_temp[\u001b[38;5;124m'\u001b[39m\u001b[38;5;124mtoken\u001b[39m\u001b[38;5;124m'\u001b[39m]\u001b[38;5;241m.\u001b[39mvalue_counts(ascending\u001b[38;5;241m=\u001b[39m\u001b[38;5;28;01mFalse\u001b[39;00m)\u001b[38;5;241m.\u001b[39mhead(\u001b[38;5;241m10\u001b[39m)\n\u001b[1;32m----> 7\u001b[0m counts\u001b[38;5;241m.\u001b[39mplot(kind\u001b[38;5;241m=\u001b[39m\u001b[38;5;124m'\u001b[39m\u001b[38;5;124mbarh\u001b[39m\u001b[38;5;124m'\u001b[39m, color\u001b[38;5;241m=\u001b[39m\u001b[38;5;124m'\u001b[39m\u001b[38;5;124mfirebrick\u001b[39m\u001b[38;5;124m'\u001b[39m, ax\u001b[38;5;241m=\u001b[39m\u001b[43maxs\u001b[49m\u001b[43m[\u001b[49m\u001b[43mi\u001b[49m\u001b[43m]\u001b[49m)\n\u001b[0;32m      8\u001b[0m axs[i]\u001b[38;5;241m.\u001b[39minvert_yaxis()\n\u001b[0;32m      9\u001b[0m axs[i]\u001b[38;5;241m.\u001b[39mset_title(autor)\n",
            "\u001b[1;31mIndexError\u001b[0m: index 3 is out of bounds for axis 0 with size 3"
          ]
        },
        {
          "data": {
            "image/png": "[encoded data removed]",
            "text/plain": [
              "<Figure size 1440x2160 with 3 Axes>"
            ]
          },
          "metadata": {
            "needs_background": "light"
          },
          "output_type": "display_data"
        }
      ],
      "source": [
        "\n",
        "# Top 10 palabras por autor (sin stopwords)\n",
        "# ==============================================================================\n",
        "fig, axs = plt.subplots(nrows=3, ncols=1,figsize=(20, 30))\n",
        "for i, autor in enumerate(comment_tidy.influencer.unique()):\n",
        "    df_temp = comment_tidy[comment_tidy.influencer == autor]\n",
        "    counts  = df_temp['token'].value_counts(ascending=False).head(10)\n",
        "    counts.plot(kind='barh', color='firebrick', ax=axs[i])\n",
        "    axs[i].invert_yaxis()\n",
        "    axs[i].set_title(autor)\n",
        "\n",
        "fig.tight_layout()\n"
      ]
    }
  ],
  "metadata": {
    "@webio": {
      "lastCommId": null,
      "lastKernelId": null
    },
    "colab": {
      "collapsed_sections": [],
      "name": "comment analysis.ipynb",
      "provenance": []
    },
    "interpreter": {
      "hash": "86a2e1f725dc4ce1f0c9e9b47640d49ab83eaba388420931ab91f013b3e264c3"
    },
    "kernelspec": {
      "display_name": "Python 3.6.9 64-bit",
      "language": "python",
      "name": "python3"
    },
    "language_info": {
      "codemirror_mode": {
        "name": "ipython",
        "version": 3
      },
      "file_extension": ".py",
      "mimetype": "text/x-python",
      "name": "python",
      "nbconvert_exporter": "python",
      "pygments_lexer": "ipython3",
      "version": "3.8.10"
    }
  },
  "nbformat": 4,
  "nbformat_minor": 0
}
