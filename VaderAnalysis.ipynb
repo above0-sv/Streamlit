{
  "nbformat": 4,
  "nbformat_minor": 0,
  "metadata": {
    "colab": {
      "name": "VaderAnalysis.ipynb",
      "provenance": []
    },
    "kernelspec": {
      "name": "python3",
      "display_name": "Python 3"
    },
    "language_info": {
      "name": "python"
    }
  },
  "cells": [
    {
      "cell_type": "code",
      "execution_count": 1,
      "metadata": {
        "colab": {
          "resources": {
            "http://localhost:8080/nbextensions/google.colab/files.js": {
              "data": "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",
              "ok": true,
              "headers": [
                [
                  "content-type",
                  "application/javascript"
                ]
              ],
              "status": 200,
              "status_text": ""
            }
          },
          "base_uri": "https://localhost:8080/",
          "height": 112
        },
        "id": "YqGgpY_Gj2vG",
        "outputId": "138848c0-4ade-4255-aa74-3c22b5cd0c67"
      },
      "outputs": [
        {
          "output_type": "display_data",
          "data": {
            "text/html": [
              "\n",
              "     <input type=\"file\" id=\"files-6d79c141-a9eb-4dcc-92bc-92c1ad57dd57\" name=\"files[]\" multiple disabled\n",
              "        style=\"border:none\" />\n",
              "     <output id=\"result-6d79c141-a9eb-4dcc-92bc-92c1ad57dd57\">\n",
              "      Upload widget is only available when the cell has been executed in the\n",
              "      current browser session. Please rerun this cell to enable.\n",
              "      </output>\n",
              "      <script src=\"/nbextensions/google.colab/files.js\"></script> "
            ],
            "text/plain": [
              "<IPython.core.display.HTML object>"
            ]
          },
          "metadata": {}
        },
        {
          "output_type": "stream",
          "name": "stdout",
          "text": [
            "Saving analisis_comments_tiktok.csv to analisis_comments_tiktok.csv\n"
          ]
        },
        {
          "output_type": "execute_result",
          "data": {
            "text/plain": [
              "{'analisis_comments_tiktok.csv': b'date_post,date_extraction,influencer,post_type,post_url,platform,comment,comment_likecount,replies,BU;;;;;;;;;\\r\\n\"2021-9-12,2021-12-01,espdaniella,VIDEO,https://www.tiktok.com/@espdaniella/video/7007109992926989574?lang=en,TikTok,\"\"Oh so it\\xe2\\x80\\x99s an ad lol, how do I know if it\\xe2\\x80\\x99s even good then \\xf0\\x9f\\x92\\x80\"\",27,,CS\";;;;;;;;;\\r\\n2021-9-12,2021-12-01,espdaniella,VIDEO,https://www.tiktok.com/@espdaniella/video/7007109992926989574?lang=en,TikTok,it\\xe2\\x80\\x99s not good chegg apparently rats out on students,14,,CS;;;;;;;;;\\r\\n\"2021-9-11,2021-12-01,themccartys,VIDEO,https://www.tiktok.com/@themccartys/video/7006777814015855878?lang=en,TikTok,\"\"Wow is she single? She is pretty cute, especially with that haircut. \\xf0\\x9f\\xa5\\xb0\\xf0\\x9f\\x98\\x82\"\",10,,CS\";;;;;;;;;\\r\\n2021-9-11,2021-12-01,themccartys,VIDEO,https://www.tiktok.com/@themccartys/video/7006777814015855878?lang=en,TikTok,I hope Audri looks different at that age,71,,CS;;;;;;;;;\\r\\n2021-9-11,2021-12-01,themccartys,VIDEO,https://www.tiktok.com/@themccartys/video/7006777814015855878?lang=en,TikTok,I absolutely love it!,26,,CS;;;;;;;;;\\r\\n2021-9-11,2021-12-01,themccartys,VIDEO,https://www.tiktok.com/@themccartys/video/7006777814015855878?lang=en,TikTok,so this is what Audri will look like as a Freshman in College? \\xf0\\x9f\\xa4\\xa3\\xf0\\x9f\\xa4\\xa3\\xf0\\x9f\\xa4\\xa3\\xf0\\x9f\\xa4\\xa3\\xf0\\x9f\\xa4\\xa3,30,,CS;;;;;;;;;\\r\\n2021-9-11,2021-12-01,themccartys,VIDEO,https://www.tiktok.com/@themccartys/video/7006777814015855878?lang=en,TikTok,Oh my I hope not \\xf0\\x9f\\x98\\x82,20,,CS;;;;;;;;;\\r\\n2021-10-15,2021-12-01,rrogersworld,VIDEO,https://www.tiktok.com/@rrogersworld/video/7019375006417308934?lang=en,TikTok,Math is hard \\xf0\\x9f\\x98\\xb3\\xf0\\x9f\\x98\\xb3\\xf0\\x9f\\x98\\xb3,13,,CS;;;;;;;;;\\r\\n2021-10-15,2021-12-01,rrogersworld,VIDEO,https://www.tiktok.com/@rrogersworld/video/7019375006417308934?lang=en,TikTok,This was me. I cannot MATH,24,,CS;;;;;;;;;\\r\\n2021-10-15,2021-12-01,rrogersworld,VIDEO,https://www.tiktok.com/@rrogersworld/video/7019375006417308934?lang=en,TikTok,I can history all day long but I cannot math or science\\xe2\\x80\\xa6 and sometimes I can\\xe2\\x80\\x99t English \\xf0\\x9f\\x98\\x82 what about you?!?,41,,CS;;;;;;;;;\\r\\n2021-10-15,2021-12-01,rrogersworld,VIDEO,https://www.tiktok.com/@rrogersworld/video/7019375006417308934?lang=en,TikTok,This is so neat! @Chegg for the win!,8,,CS;;;;;;;;;\\r\\n2021-10-8,2021-12-01,cloutom,VIDEO,https://www.tiktok.com/@cloutom/video/7016955575757966593?is_from_webapp=v1,TikTok,That is a 7th grade problem\\xf0\\x9f\\x98\\x91 Won\\'t work on my maths.,25,,CS;;;;;;;;;\\r\\n2021-10-8,2021-12-01,cloutom,VIDEO,https://www.tiktok.com/@cloutom/video/7016955575757966593?is_from_webapp=v1,TikTok,Why you holding a charger up to your mouth,64,,CS;;;;;;;;;\\r\\n2021-8-28,2021-12-01,ryanmarksutherland,VIDEO,https://www.tiktok.com/@ryanmarksutherland/video/7001597800790117637?lang=en,TikTok,I thought you were a nun,54,,CS;;;;;;;;;\\r\\n2021-8-28,2021-12-01,ryanmarksutherland,VIDEO,https://www.tiktok.com/@ryanmarksutherland/video/7001597800790117637?lang=en,TikTok,same oh my gosh is this an actual sponsor thing or a joke,10,,CS;;;;;;;;;\\r\\n2021-8-28,2021-12-01,ryanmarksutherland,VIDEO,https://www.tiktok.com/@ryanmarksutherland/video/7001597800790117637?lang=en,TikTok,wait how am i so early,10,,CS;;;;;;;;;\\r\\n2021-8-28,2021-12-01,ryanmarksutherland,VIDEO,https://www.tiktok.com/@ryanmarksutherland/video/7001597800790117637?lang=en,TikTok,GET 5 DOLLARS OFF your first month of Chegg Study Pack using the L1NK IN MY B1O!!!!\\xf0\\x9f\\x93\\x9a\\xf0\\x9f\\x8c\\x99\\xe2\\x9c\\xa8,36,,CS;;;;;;;;;\\r\\n2021-8-28,2021-12-01,ryanmarksutherland,VIDEO,https://www.tiktok.com/@ryanmarksutherland/video/7001597800790117637?lang=en,TikTok,Early,25,,CS;;;;;;;;;\\r\\n2021-8-28,2021-12-01,ryanmarksutherland,VIDEO,https://www.tiktok.com/@ryanmarksutherland/video/7001597800790117637?lang=en,TikTok,I thought this was a fake add-,22,,CS;;;;;;;;;\\r\\n2021-8-28,2021-12-01,ryanmarksutherland,VIDEO,https://www.tiktok.com/@ryanmarksutherland/video/7001597800790117637?lang=en,TikTok,I can never tell if your joking or not HELP-,158,,CS;;;;;;;;;\\r\\n\"2021-10-11,2021-12-01,themccartys,VIDEO,https://www.tiktok.com/@themccartys/video/7017889678607142149?is_from_webapp=v1&lang=en,TikTok,\"\"\\xf0\\x9f\\xa5\\xb0\\xf0\\x9f\\x92\\x9d\\xf0\\x9f\\x87\\xba\\xf0\\x9f\\x87\\xb8 Hello, tell me, am I beautiful?\\xf0\\x9f\\x87\\xba\\xf0\\x9f\\x87\\xb8\\xf0\\x9f\\x87\\xac\\xf0\\x9f\\x87\\xa7\\xf0\\x9f\\x87\\xa8\\xf0\\x9f\\x87\\xa6\\xf0\\x9f\\x98\\x84\\xf0\\x9f\\x98\\xb1\\xf0\\x9f\\xa5\\xb0\"\",12,,CS\";;;;;;;;;\\r\\n2021-10-11,2021-12-01,themccartys,VIDEO,https://www.tiktok.com/@themccartys/video/7017889678607142149?is_from_webapp=v1&lang=en,TikTok,\\xf0\\x9f\\xa5\\xb0\\xf0\\x9f\\x92\\x9d\\xf0\\x9f\\x87\\xba\\xf0\\x9f\\x87\\xb8 no \\xf0\\x9f\\x87\\xba\\xf0\\x9f\\x87\\xb8\\xf0\\x9f\\x87\\xac\\xf0\\x9f\\x87\\xa7\\xf0\\x9f\\x87\\xa8\\xf0\\x9f\\x87\\xa6\\xf0\\x9f\\x98\\x84\\xf0\\x9f\\x98\\xb1\\xf0\\x9f\\xa5\\xb0,12,,CS;;;;;;;;;\\r\\n2021-10-11,2021-12-01,themccartys,VIDEO,https://www.tiktok.com/@themccartys/video/7017889678607142149?is_from_webapp=v1&lang=en,TikTok,YI\\xef\\xa5\\xb0Where are you guys\\xe2\\x9d\\xa4\\xef\\xb8\\x8f,33,,CS;;;;;;;;;\\r\\n2021-10-11,2021-12-01,thelawerangela,VIDEO,https://www.tiktok.com/@thelawyerangela/video/7018016230283988230?is_from_webapp=v1&lang=en,TikTok,chegg is terrible. they log your ip and send it to schools. so many kids have been honor coded cuz of chegg,17,,CS;;;;;;;;;\\r\\n\"2021-10-11,2021-12-01,thelawerangela,VIDEO,https://www.tiktok.com/@thelawyerangela/video/7018016230283988230?is_from_webapp=v1&lang=en,TikTok,\"\"Yes so it\\xe2\\x80\\x99s for homework/study questions, not for cheating during remote exams. If u use it properly you\\xe2\\x80\\x99re all good \\xf0\\x9f\\x98\\x8e\"\",8,,CS\";;;;;;;;;\\r\\n\"2021-9-26,2021-12-01,ryanmarksutherland,VIDEO,https://www.tiktok.com/@ryanmarksutherland/video/7012400629788265733?is_from_webapp=v1&lang=en,TikTok,\"\"I love your videos so much, I cant believe I\\'m this early!!!!!\"\",8,,CS\";;;;;;;;;\\r\\n2021-9-26,2021-12-01,ryanmarksutherland,VIDEO,https://www.tiktok.com/@ryanmarksutherland/video/7012400629788265733?is_from_webapp=v1&lang=en,TikTok,MANS\\xf0\\x9f\\x98\\x8d STARE AT MI ACCOUNT \\xf0\\x9f\\x98\\xb3\\xf0\\x9f\\x99\\x88\\xf0\\x9f\\x99\\x88,82,,CS;;;;;;;;;\\r\\n2021-9-26,2021-12-01,ryanmarksutherland,VIDEO,https://www.tiktok.com/@ryanmarksutherland/video/7012400629788265733?is_from_webapp=v1&lang=en,TikTok,earlyyyyy,12,,CS;;;;;;;;;\\r\\n2021-9-2,2021-12-01,itssozer,VIDEO,https://www.tiktok.com/@itssozer/video/7003502008355278082?lang=en&is_copy_url=1&is_from_webapp=v1,TikTok,Ayyyy legend,50,,CS;;;;;;;;;\\r\\n2021-9-2,2021-12-01,itssozer,VIDEO,https://www.tiktok.com/@itssozer/video/7003502008355278082?lang=en&is_copy_url=1&is_from_webapp=v1,TikTok,Are you serious,8,,CS;;;;;;;;;\\r\\n2021-9-2,2021-12-01,itssozer,VIDEO,https://www.tiktok.com/@itssozer/video/7003502008355278082?lang=en&is_copy_url=1&is_from_webapp=v1,TikTok,Yes it\\'s college but it\\'s called university,9,,CS;;;;;;;;;\\r\\n2021-9-2,2021-12-01,itssozer,VIDEO,https://www.tiktok.com/@itssozer/video/7003502008355278082?lang=en&is_copy_url=1&is_from_webapp=v1,TikTok,Your such an amazing person \\xf0\\x9f\\x98\\x81,33,,CS;;;;;;;;;\\r\\n2021-9-21,2021-12-01,thatrelatablestudent,VIDEO,https://www.tiktok.com/@thatrelatablestudent/video/7010543731241733382?lang=en&is_copy_url=1&is_from_webapp=v1,TikTok,Cappp it to get 2 days for a freaking reply,15,,CS;;;;;;;;;\\r\\n2021-9-21,2021-12-01,thatrelatablestudent,VIDEO,https://www.tiktok.com/@thatrelatablestudent/video/7010543731241733382?lang=en&is_copy_url=1&is_from_webapp=v1,TikTok,soooo how much bread did you get with this collab,46,,CS;;;;;;;;;\\r\\n2021-10-16,2021-12-01,lexistrechak,VIDEO,https://www.tiktok.com/foryou?is_from_webapp=v1&item_id=7019443237479861509&lang=en#/@lexistrechak/video/7019443237479861509,TikTok,4 people can\\xe2\\x80\\x99t be first for god sake,10,,CS;;;;;;;;;\\r\\n2021-10-16,2021-12-01,lexistrechak,VIDEO,https://www.tiktok.com/foryou?is_from_webapp=v1&item_id=7019443237479861509&lang=en#/@lexistrechak/video/7019443237479861509,TikTok,So I\\xe2\\x80\\x99m the only one that cries on the first day of class Bc stress? Ok \\xf0\\x9f\\xa5\\xb2,14,,CS;;;;;;;;;\\r\\n\"2021-10-14,2021-12-15,JJ Medicine,VIDEO,https://www.youtube.com/watch?v=FwiaoKrdzx4,Youtube,\"\"It\\xe2\\x80\\x99s mostly either fatty liver or thyroid/parathyroid, both of which can cause extreme tiredness.\"\",0,,CS\";;;;;;;;;\\r\\n2021-10-14,2021-12-15,JJ Medicine,VIDEO,https://www.youtube.com/watch?v=FwiaoKrdzx4,Youtube,Important topic,0,,CS;;;;;;;;;\\r\\n2021-10-14,2021-12-15,JJ Medicine,VIDEO,https://www.youtube.com/watch?v=FwiaoKrdzx4,Youtube,Have had this for four months I am hoping by month 5 or 6 it will be completely gone I have improved  a little. 21 year old male,0,,CS;;;;;;;;;\\r\\n\"2021-10-14,2021-12-15,JJ Medicine,VIDEO,https://www.youtube.com/watch?v=FwiaoKrdzx4,Youtube,\"\"Most (or all) the people I know who have suffered from CFS also have fibromyalgia and have a history of prolonged trauma and stress. THAT is the underlying factor and the link. Adrenal fatigue is also related. See Dr Berg on naturally supporting the adrenals. That&#39\";\"s what has helped me. Eat healthy, adequate rest, build joy, destress as much as possible,.and support/nourish the adrenals ....prayer is also very helpful.\"\",0,\"\"@La Gatita Yes, like hell yes. \\xf0\\x9f\\xa5\\xba\"\",CS\";;;;;;;;\\r\\n\"2021-10-14,2021-12-15,JJ Medicine,VIDEO,https://www.youtube.com/watch?v=FwiaoKrdzx4,Youtube,\"\"Most (or all) the people I know who have suffered from CFS also have fibromyalgia and have a history of prolonged trauma and stress. THAT is the underlying factor and the link. Adrenal fatigue is also related. See Dr Berg on naturally supporting the adrenals. That&#39\";\"s what has helped me. Eat healthy, adequate rest, build joy, destress as much as possible,.and support/nourish the adrenals ....prayer is also very helpful.\"\",0,\"\"@La Gatita in my experience, yes\"\",CS\";;;;;;;;\\r\\n2021-10-14,2021-12-15,JJ Medicine,VIDEO,https://www.youtube.com/watch?v=FwiaoKrdzx4,Youtube,I&#39;ve heard this often goes with anciety/ depression. I&#39;ve had that and I think having mono made them all worse.,0,I too had mono...ever since high Epstein bar loads.  And bad cfs. ....keep an eye on your Epstein bar. It&#39;s linked to serious bad disease.....get panels run when you do blood work. I have been sick w cfs for three years. Now I have an MRI for MS. Which is linked to Epstein bar. Just keep eye on these. I&#39;ve been trying to get help for three years. Just started to figure out what a monster EBV is. Mold is linked to chronic fatigue. And ebv. Check your house n work spaces. Wishing you good health. Happy Holidays.,CS;;;;;\\r\\n2021-10-14,2021-12-15,JJ Medicine,VIDEO,https://www.youtube.com/watch?v=FwiaoKrdzx4,Youtube,Thanks<br>Very informative \\xf0\\x9f\\x91\\x8d,0,,CS;;;;;;;;;\\r\\n\"2021-10-14,2021-12-15,JJ Medicine,VIDEO,https://www.youtube.com/watch?v=FwiaoKrdzx4,Youtube,\"\"Most (or all) the people I know who have suffered from CFS also have fibromyalgia and have a history of prolonged trauma and stress. THAT is the underlying factor and the link. Adrenal fatigue is also related. See Dr Berg on naturally supporting the adrenals. That&#39\";\"s what has helped me. Eat healthy, adequate rest, build joy, destress as much as possible,.and support/nourish the adrenals ....prayer is also very helpful.\"\",0,@Tom Saywer I can be gone for months and then yo into full panic mode.,CS\";;;;;;;;\\r\\n2021-10-14,2021-12-15,JJ Medicine,VIDEO,https://www.youtube.com/watch?v=FwiaoKrdzx4,Youtube,Not me self diagnosing.. \\xf0\\x9f\\x98\\xac,0,,CS;;;;;;;;;\\r\\n2021-10-14,2021-12-15,JJ Medicine,VIDEO,https://www.youtube.com/watch?v=FwiaoKrdzx4,Youtube,I didn&#39;t even know this existed.<br>Thank you.,0,,CS;;;;;;;;\\r\\n2021-10-14,2021-12-15,JJ Medicine,VIDEO,https://www.youtube.com/watch?v=FwiaoKrdzx4,Youtube,Bakeing soda and water with Lemons along with your minerals and vitamins and don\\xe2\\x80\\x99t listen to this net wet because he sure does have all the symptoms down to a T but he has no idea how to heal the body this is not healthcare this is ignorant death care,0,,CS;;;;;;;;;\\r\\n\"2021-10-14,2021-12-15,JJ Medicine,VIDEO,https://www.youtube.com/watch?v=FwiaoKrdzx4,Youtube,\"\"I was diagnosed with Fibro/CFS in 2005, then found Dr. Jacob Teitlebaum, read his books then made an appt. at one of his clinics. I was pleased with the extensive testing that was done there and the answers I desperately needed to understand why I felt this way. This is a great video Thanks For Sharing!\"\",0,,CS\";;;;;;;;;\\r\\n2021-10-14,2021-12-15,JJ Medicine,VIDEO,https://www.youtube.com/watch?v=FwiaoKrdzx4,Youtube,Goo\\xf0\\x9f\\x98\\x80ood,0,,CS;;;;;;;;;\\r\\n\"2021-10-14,2021-12-15,JJ Medicine,VIDEO,https://www.youtube.com/watch?v=FwiaoKrdzx4,Youtube,\"\"Most (or all) the people I know who have suffered from CFS also have fibromyalgia and have a history of prolonged trauma and stress. THAT is the underlying factor and the link. Adrenal fatigue is also related. See Dr Berg on naturally supporting the adrenals. That&#39\";\"s what has helped me. Eat healthy, adequate rest, build joy, destress as much as possible,.and support/nourish the adrenals ....prayer is also very helpful.\"\",0,I had mono. Cleared now I have high EBV loads that have caused chronic fatigue for years. My daughter is doing this too. I got mono caring for her when she had mono. I got it as an 40 ye old....she was 10.,CS\";;;;;;;;\\r\\n2021-10-14,2021-12-15,JJ Medicine,VIDEO,https://www.youtube.com/watch?v=FwiaoKrdzx4,Youtube,lyme disease maybe...,0,,CS;;;;;;;;;\\r\\n2021-10-14,2021-12-15,JJ Medicine,VIDEO,https://www.youtube.com/watch?v=FwiaoKrdzx4,Youtube,Falling asleep whilst watching this....zzzzzzzzx,0,Coffee \\xf0\\x9f\\x98\\x81\\xf0\\x9f\\x98\\x81,CS;;;;;;;;;\\r\\n\"2021-10-14,2021-12-15,JJ Medicine,VIDEO,https://www.youtube.com/watch?v=FwiaoKrdzx4,Youtube,\"\"Been sick pretty much all year, fibro runs in the family was diagnosed with it 2 years ago. Sleep 12-15 hours a day and am still tired, tried other ways of sleep as well. Lymph nodes always swollen, stomach always in pain and i work. I go to therapy, i take the meds, i do as told. Nothings changed. Starting to think it wont change been so tired for nearly 7 years now, nothing i try works.\"\",0,,CS\";;;;;;;;;\\r\\n\"2021-10-14,2021-12-15,JJ Medicine,VIDEO,https://www.youtube.com/watch?v=FwiaoKrdzx4,Youtube,\"\"What is interesting in all of these videos is the total lack of recognition of the role of detrimental drug side effects  (ie. GI tract and microbiome damage) or nutritional deficiencies that result from a diet of ultra-processed, high sugar, high omega-6 diet, along with dairy and gluten, common issues related to this and many topics like gastric disorders.\"\",0,,CS\";;;;;;;;;\\r\\n2021-10-14,2021-12-15,JJ Medicine,VIDEO,https://www.youtube.com/watch?v=FwiaoKrdzx4,Youtube,Excellent as always,0,,CS;;;;;;;;;\\r\\n2021-10-14,2021-12-15,JJ Medicine,VIDEO,https://www.youtube.com/watch?v=FwiaoKrdzx4,Youtube,For somebody who is so educated is so ignorant because it can be cured with minerals and vitamins vitamin D three magnesium magnesium mulch chronic fatigue is more likely link to anemia. This is a case of Somebody who went to school and got the books and read them and tested on them but has absolutely no knowledge on the matter of the issue on hand and has no idea how to heal the body this is a prescription writer this is that care not healthcare,0,,CS;;;;;;;;;\\r\\n2021-10-14,2021-12-15,JJ Medicine,VIDEO,https://www.youtube.com/watch?v=FwiaoKrdzx4,Youtube,Falling asleep whilst watching this....zzzzzzzzx,0,While?,CS;;;;;;;;;\\r\\n2021-10-14,2021-12-15,JJ Medicine,VIDEO,https://www.youtube.com/watch?v=FwiaoKrdzx4,Youtube,Please molecular bio b krwa do \\xf0\\x9f\\x99\\x8f\\xf0\\x9f\\x8f\\xbb,0,,CS;;;;;;;;;\\r\\n2021-10-14,2021-12-15,JJ Medicine,VIDEO,https://www.youtube.com/watch?v=FwiaoKrdzx4,Youtube,Epstein bar causing my CFS. It&#39;s a monster. Wishing all who see this healing. Happy Holidays.,0,,CS;;;;;;;;\\r\\n\"2021-10-14,2021-12-15,JJ Medicine,VIDEO,https://www.youtube.com/watch?v=FwiaoKrdzx4,Youtube,\"\"Most (or all) the people I know who have suffered from CFS also have fibromyalgia and have a history of prolonged trauma and stress. THAT is the underlying factor and the link. Adrenal fatigue is also related. See Dr Berg on naturally supporting the adrenals. That&#39\";\"s what has helped me. Eat healthy, adequate rest, build joy, destress as much as possible,.and support/nourish the adrenals ....prayer is also very helpful.\"\",0,I&#39\";ve never had any trauma and not much stress what I would class as normal level with school exams etc and I have ME there&#39;s other reasons not just trauma \\xf0\\x9f\\xa4\\xb7\\xf0\\x9f\\x8f\\xbb\\xe2\\x80\\x8d\\xe2\\x99\\x80\\xef\\xb8\\x8f,CS;;;;;;\\r\\n\"2021-10-14,2021-12-15,JJ Medicine,VIDEO,https://www.youtube.com/watch?v=FwiaoKrdzx4,Youtube,\"\"I hope you all found this lesson helpful and informative! Thank you to this lesson&#39\";\"s sponsor, Chegg. Check out the link in the description to receive $5 off your first month of the Chegg Study Pack.\"\",0,,CS\";;;;;;;;\\r\\n2021-10-14,2021-12-15,JJ Medicine,VIDEO,https://www.youtube.com/watch?v=FwiaoKrdzx4,Youtube,Thank you as always. You are the most helpful,0,,CS;;;;;;;;;\\r\\n2021-11-4,2021-12-15,JJ Medicine,VIDEO,https://www.youtube.com/watch?v=PTN4omnwOyw,Youtube,Dr Ogbomon on YouTube has finally cure me from Herpes virus permanently with his herbal medications,0,,CS;;;;;;;;;\\r\\n2021-11-4,2021-12-15,JJ Medicine,VIDEO,https://www.youtube.com/watch?v=PTN4omnwOyw,Youtube,Hey great information,0,,CS;;;;;;;;;\\r\\n2021-11-4,2021-12-15,JJ Medicine,VIDEO,https://www.youtube.com/watch?v=PTN4omnwOyw,Youtube,ENABLE SUBTITLES PLEASEEEEEEEEEEEEEEEEEEEEEE...........,0,,CS;;;;;;;;;\\r\\n2021-11-4,2021-12-15,JJ Medicine,VIDEO,https://www.youtube.com/watch?v=PTN4omnwOyw,Youtube,Thanks,0,,CS;;;;;;;;;\\r\\n2021-11-4,2021-12-15,JJ Medicine,VIDEO,https://www.youtube.com/watch?v=PTN4omnwOyw,Youtube,\\xf0\\x9f\\x91\\x8d,0,,CS;;;;;;;;;\\r\\n\"2021-11-22,2021-12-15,ninjanerdscience,VIDEO,https://www.youtube.com/watch?v=UJw2WUtHLIk,Youtube,\"\"Excellent video ! Like, comment and share. \\xf0\\x9f\\x92\\xaa + Carnivore diet (keto), wim hof breathing (suppression IL6, TNF-a...), cold Water, mental health... sooooo powerfull addition\\xf0\\x9f\\x99\\x8f\"\",0,Have you had your Microbiome tested after long term Carnivore diet? Would be fascinated to see where it sits and what bacteria its driving to extinction?,CS\";;;;;;;;;\\r\\n2021-11-22,2021-12-15,ninjanerdscience,VIDEO,https://www.youtube.com/watch?v=UJw2WUtHLIk,Youtube,I hit the like before watching the video \\xf0\\x9f\\x98\\x82,0,,CS;;;;;;;;;\\r\\n2021-11-22,2021-12-15,ninjanerdscience,VIDEO,https://www.youtube.com/watch?v=UJw2WUtHLIk,Youtube,The Greatest,0,,CS;;;;;;;;;\\r\\n2021-11-22,2021-12-15,ninjanerdscience,VIDEO,https://www.youtube.com/watch?v=UJw2WUtHLIk,Youtube,Perfect perfect perfect perfect perfect,0,,CS;;;;;;;;;\\r\\n\"2021-11-22,2021-12-15,ninjanerdscience,VIDEO,https://www.youtube.com/watch?v=UJw2WUtHLIk,Youtube,\"\"Excellent teaching, Sir.\"\",0,,CS\";;;;;;;;;\\r\\n2021-11-22,2021-12-15,ninjanerdscience,VIDEO,https://www.youtube.com/watch?v=UJw2WUtHLIk,Youtube,I appreciate my lovely husband for directing me to this holistic herbalist called Dr alaho olu i met on YouTube. He cured my herpes simplex virus\\xe2\\x80\\xa6,0,,CS;;;;;;;;;\\r\\n2021-11-22,2021-12-15,ninjanerdscience,VIDEO,https://www.youtube.com/watch?v=UJw2WUtHLIk,Youtube,Hi Sir. Your videos are amazing. I really appreciate the efforts you put in to make such great vidoes. Your videos really helped me during my entrance preparation for post-graduation. Thank you very much. I am planning to take Dermatology sir. I need your guidance. Is there any way I can contact you?,0,,CS;;;;;;;;;\\r\\n2021-11-22,2021-12-15,ninjanerdscience,VIDEO,https://www.youtube.com/watch?v=UJw2WUtHLIk,Youtube,Great,0,,CS;;;;;;;;;\\r\\n2021-11-22,2021-12-15,ninjanerdscience,VIDEO,https://www.youtube.com/watch?v=UJw2WUtHLIk,Youtube,A Medical student AND a Crohn\\xe2\\x80\\x99s patient here... thank you from both perspectives :)<br>Didn\\xe2\\x80\\x99t watch yet but I\\xe2\\x80\\x99m sure it\\xe2\\x80\\x99ll be as amazing as always !,0,,CS;;;;;;;;;\\r\\n2021-11-22,2021-12-15,ninjanerdscience,VIDEO,https://www.youtube.com/watch?v=UJw2WUtHLIk,Youtube,Upload lectures on HIV and AIDS,0,,CS;;;;;;;;;\\r\\n2021-11-22,2021-12-15,ninjanerdscience,VIDEO,https://www.youtube.com/watch?v=UJw2WUtHLIk,Youtube,Please I need meiosis!!!,0,,CS;;;;;;;;;\\r\\n\"2021-11-22,2021-12-15,ninjanerdscience,VIDEO,https://www.youtube.com/watch?v=UJw2WUtHLIk,Youtube,\"\"Thank you so so much,  <br>Sir, Pleasssssse&#39\";\" ulcerative colitis\"\",0,,CS\";;;;;;;;\\r\\n2021-11-22,2021-12-15,ninjanerdscience,VIDEO,https://www.youtube.com/watch?v=UJw2WUtHLIk,Youtube,Great video as always guys \\xe2\\x9d\\xa4\\xef\\xb8\\x8f,0,,CS;;;;;;;;;\\r\\n2021-11-22,2021-12-15,ninjanerdscience,VIDEO,https://www.youtube.com/watch?v=UJw2WUtHLIk,Youtube,I love you,0,,CS;;;;;;;;;\\r\\n\"2021-11-22,2021-12-15,ninjanerdscience,VIDEO,https://www.youtube.com/watch?v=UJw2WUtHLIk,Youtube,\"\"I have had Crohn&#39\";s and UC for over 20 years.  I developed adenocarcinoma and had the entire large bowel and 2 ft of small bowel. Left with an ileostomy.  Crohn&#39;s is definitely a genetic predisposition in my family.  My interest is in the epigenetic switches that are involved in this situation.  My disease sparked my interest in nursing.  Many in my family were veterans during the Vietnam Era, and I&#39;\"m convinced that agent orange caused gene mutation.\"\",0,@Jarrod Hall  it\\xe2\\x80\\x99s not my job to do his homework.,CS\";;;;;;\\r\\n2021-11-22,2021-12-15,ninjanerdscience,VIDEO,https://www.youtube.com/watch?v=UJw2WUtHLIk,Youtube,The heavy or frequent use of antibiotics could be a part of the problem.,0,,CS;;;;;;;;;\\r\\n\"2021-11-22,2021-12-15,ninjanerdscience,VIDEO,https://www.youtube.com/watch?v=UJw2WUtHLIk,Youtube,\"\"This is brilliant material, great visuals and perfectly timed to the world of taking control of your illness through self education rather than outsourcing to specialist&#39\";\"s that use outdated playbooks!\"\",0,,CS\";;;;;;;;\\r\\n2021-11-22,2021-12-15,ninjanerdscience,VIDEO,https://www.youtube.com/watch?v=UJw2WUtHLIk,Youtube,I like your cool videos,0,,CS;;;;;;;;;\\r\\n2021-11-22,2021-12-15,ninjanerdscience,VIDEO,https://www.youtube.com/watch?v=UJw2WUtHLIk,Youtube,pls explain ulcerative colitis also,0,,CS;;;;;;;;;\\r\\n2021-11-22,2021-12-15,ninjanerdscience,VIDEO,https://www.youtube.com/watch?v=UJw2WUtHLIk,Youtube,Getting rid of herpes virus was hard for me I had HSV for years and then I came across  Dr Idakwo on YouTube who used his herbs to cure me and now I\\xe2\\x80\\x99m cured,0,,CS;;;;;;;;;\\r\\n2021-11-22,2021-12-15,ninjanerdscience,VIDEO,https://www.youtube.com/watch?v=UJw2WUtHLIk,Youtube,You are amazing man,0,,CS;;;;;;;;;\\r\\n2021-11-22,2021-12-15,ninjanerdscience,VIDEO,https://www.youtube.com/watch?v=UJw2WUtHLIk,Youtube,lets go brother ! youre perfect ! plz give more free videos !,0,,CS;;;;;;;;;\\r\\n2021-11-22,2021-12-15,ninjanerdscience,VIDEO,https://www.youtube.com/watch?v=UJw2WUtHLIk,Youtube,Ninja nerd I&#39;m so happy that you choose that subject today. First comment!!! For the first time. LoL. Please next talk about ulcerative colitis,0,Ulcerative Colitis is next to be released! Hoping to get this done as soon as we can! \\xf0\\x9f\\x98\\x80,CS;;;;;;;;\\r\\n\"2021-11-22,2021-12-15,ninjanerdscience,VIDEO,https://www.youtube.com/watch?v=UJw2WUtHLIk,Youtube,\"\"I have had Crohn&#39\";s and UC for over 20 years.  I developed adenocarcinoma and had the entire large bowel and 2 ft of small bowel. Left with an ileostomy.  Crohn&#39;s is definitely a genetic predisposition in my family.  My interest is in the epigenetic switches that are involved in this situation.  My disease sparked my interest in nursing.  Many in my family were veterans during the Vietnam Era, and I&#39;\"m convinced that agent orange caused gene mutation.\"\",0,@Lean GroundBeef your the one asking where the evidence is that herbs work and there&#39\";s plenty if you know how to use Google.,CS;;;;;\\r\\n\"2021-11-22,2021-12-15,ninjanerdscience,VIDEO,https://www.youtube.com/watch?v=UJw2WUtHLIk,Youtube,\"\"You\\xe2\\x80\\x99ve forgotten to include another treatment pathway being triple antibiotic therapy which includes Claritjromycin, Rifabutin and Clofazimine plus sometimes Metronidazole. There is 20 year body of research showing this combination can induce remission in up to 80% of patients by targeting the gut bacteria believed to be implicated in the inflammatory process. This should at least be tried as a last resort before surgery.\"\",0,,CS\";;;;;;;;;\\r\\n2021-11-22,2021-12-15,ninjanerdscience,VIDEO,https://www.youtube.com/watch?v=UJw2WUtHLIk,Youtube,You are amazing man. Thanks for this topic..<br>We need Ulcerative colitis also....,0,,CS;;;;;;;;;\\r\\n\"2021-11-22,2021-12-15,ninjanerdscience,VIDEO,https://www.youtube.com/watch?v=UJw2WUtHLIk,Youtube,\"\"Zach, please make some lectures about histology. Thanks beforehand!\"\",0,,CS\";;;;;;;;;\\r\\n\"2021-11-22,2021-12-15,ninjanerdscience,VIDEO,https://www.youtube.com/watch?v=UJw2WUtHLIk,Youtube,\"\"Dr osaba cure all kinds of diseases such as HIV, HERPES virus, CANCER, DIABETES, FIBROID , HPV, STD, you can reach out to Dr osaba on his YouTube channel .\"\",0,,CS\";;;;;;;;;\\r\\n\"2021-11-22,2021-12-15,ninjanerdscience,VIDEO,https://www.youtube.com/watch?v=UJw2WUtHLIk,Youtube,\"\"Just writing an essay about crohns and uc for my assignment, this is quite helpful for me to check I\\xe2\\x80\\x99ve put everything correctly. \\xf0\\x9f\\x91\\x8d\"\",0,,CS\";;;;;;;;;\\r\\n\"2021-11-22,2021-12-15,ninjanerdscience,VIDEO,https://www.youtube.com/watch?v=UJw2WUtHLIk,Youtube,\"\"Regarding the inflammatory processes at work, I&#39\";m seeing a lot of overlap with those active in COVID, ad many other diseases.  What&#39;s the word on Vitamin D as an anti-inflammatory therapy for CD?  I know CD patients tend to have lower levels but, as usual, it&#39;\"s hard to distinguish cause from effect.  In any event, it seems that substantial D3 supplementation would be: A: Likely harmless and B: Very possibly beneficial.\"\",0,\"\"That\\xe2\\x80\\x99s interesting. I\\xe2\\x80\\x99m a nurse on a GI ward and I\\xe2\\x80\\x99ve been noticing a bit of an upswing in numbers of young people with new or flares of Crohns. It may be co-relation, it maybe causation, it may be just me looking out for it.\"\",CS\";;;;;;\\r\\n2021-11-22,2021-12-15,ninjanerdscience,VIDEO,https://www.youtube.com/watch?v=UJw2WUtHLIk,Youtube,Everywhere is a trace of immune system \\xf0\\x9f\\x98\\x82\\xf0\\x9f\\x98\\x82\\xf0\\x9f\\x98\\x82.You are emazing zack\\xf0\\x9f\\x91\\x8c\\xf0\\x9f\\x91\\x8c\\xf0\\x9f\\x91\\x8c,0,,CS;;;;;;;;;\\r\\n\"2021-11-22,2021-12-15,ninjanerdscience,VIDEO,https://www.youtube.com/watch?v=UJw2WUtHLIk,Youtube,\"\"I have had Crohn&#39\";s and UC for over 20 years.  I developed adenocarcinoma and had the entire large bowel and 2 ft of small bowel. Left with an ileostomy.  Crohn&#39;s is definitely a genetic predisposition in my family.  My interest is in the epigenetic switches that are involved in this situation.  My disease sparked my interest in nursing.  Many in my family were veterans during the Vietnam Era, and I&#39;\"m convinced that agent orange caused gene mutation.\"\",0,@Lean GroundBeef Just need to learn how to use google! There&#39\";s is plenty of evidence that herbs/foods work!,CS;;;;;\\r\\n\"2021-11-22,2021-12-15,ninjanerdscience,VIDEO,https://www.youtube.com/watch?v=UJw2WUtHLIk,Youtube,\"\"Oooooo!! I have UC, can you do one for UC\"\",0,,CS\";;;;;;;;;\\r\\n\"2021-11-22,2021-12-15,ninjanerdscience,VIDEO,https://www.youtube.com/watch?v=UJw2WUtHLIk,Youtube,\"\"Today i had a patient with characteristic for Crohn&#39\";\"s disease picture in stomach and this video has helped me to understand it, thank you, guys!\"\",0,,CS\";;;;;;;;\\r\\n\"2021-11-22,2021-12-15,ninjanerdscience,VIDEO,https://www.youtube.com/watch?v=UJw2WUtHLIk,Youtube,\"\"anyway I could Donate to you , I learnt metabolism from you for an entrance exams and it really Helped thanks\"\",0,\"\"Honestly, the best way to help support us would be to subscribe to the Ninja Nerd website ( <a href=\"\"\"\"https://www.ninjanerd.org/\"\"\"\">https://www.ninjanerd.org</a> ).  That way you can support us AND get all the Notes and Lecture whiteboard pictures (pre and post lecture)!\"\",CS\";;;;;;;;;\\r\\n\"2021-11-22,2021-12-15,ninjanerdscience,VIDEO,https://www.youtube.com/watch?v=UJw2WUtHLIk,Youtube,\"\"University of the Zach Nerd . All love from IRAQ  , my GOD bless you \\xe2\\x9d\\xa4\\xe2\\x9d\\xa4\\xe2\\x9d\\xa4\\xe2\\x9d\\xa4\\xf0\\x9f\\x98\\x8a\"\",0,,CS\";;;;;;;;;\\r\\n2021-11-22,2021-12-15,ninjanerdscience,VIDEO,https://www.youtube.com/watch?v=UJw2WUtHLIk,Youtube,I want to recommend you all to Dr osaba on YouTube who cured my herpes virus within 14days after using is medicine God bless you  sir .,0,,CS;;;;;;;;;\\r\\n\"2021-11-22,2021-12-15,ninjanerdscience,VIDEO,https://www.youtube.com/watch?v=UJw2WUtHLIk,Youtube,\"\"Amazing video sir, thanks a lot\\xf0\\x9f\\x99\\x8fI have only one doubt sir @<a href=\"\"\"\"https://www.youtube.com/watch?v=UJw2WUtHLIk&amp\";\"t=1h26m00s\"\"\"\">1:26:00</a> to <a href=\"\"\"\"https://www.youtube.com/watch?v=UJw2WUtHLIk&amp\";\"t=1h27m50s\"\"\"\">1:27:50</a> isn&#39\";\"t the purines has adenine and guanine and pyrimidines have cytosine, uracil and thymine...it kinda interchanged i guessed\\xf0\\x9f\\x98\\x85otherwise extremely useful lecture\\xf0\\x9f\\x99\\x8f\"\",0,,CS\";;;;;;\\r\\n2021-11-22,2021-12-15,ninjanerdscience,VIDEO,https://www.youtube.com/watch?v=UJw2WUtHLIk,Youtube,Thank you \\xf0\\x9f\\x92\\x96!<br>Zach &amp; his team,0,,CS;;;;;;;;\\r\\n2021-11-22,2021-12-15,ninjanerdscience,VIDEO,https://www.youtube.com/watch?v=UJw2WUtHLIk,Youtube,Thank you so much .... If you all can make video on short cases examnations that we might get in final mbbs\\xe2\\x9d\\xa4\\xef\\xb8\\x8f\\xe2\\x9d\\xa4\\xef\\xb8\\x8f,0,,CS;;;;;;;;;\\r\\n\"2021-11-22,2021-12-15,ninjanerdscience,VIDEO,https://www.youtube.com/watch?v=UJw2WUtHLIk,Youtube,\"\"Hey <a href=\"\"\"\"http://zach.you/\"\"\"\">Zach.you</a> deserve NOBEL PRIZE in &quot\";providing awesome free,high quality educational videos&quot;\".thanks so much for this much of effort.\"\",0,,CS\";;;;;;;\\r\\n2021-11-22,2021-12-15,ninjanerdscience,VIDEO,https://www.youtube.com/watch?v=UJw2WUtHLIk,Youtube,Ninja nerd I&#39;m so happy that you choose that subject today. First comment!!! For the first time. LoL. Please next talk about ulcerative colitis,0,@Ninja Nerd I\\xe2\\x80\\x99m so excited!!,CS;;;;;;;;\\r\\n2021-11-22,2021-12-15,ninjanerdscience,VIDEO,https://www.youtube.com/watch?v=UJw2WUtHLIk,Youtube,Tq,0,,CS;;;;;;;;;\\r\\n2021-11-22,2021-12-15,ninjanerdscience,VIDEO,https://www.youtube.com/watch?v=UJw2WUtHLIk,Youtube,Thanks Zach \\xf0\\x9f\\x91\\x8d\\xf0\\x9f\\x91\\x8d,0,,CS;;;;;;;;;\\r\\n\"2021-11-22,2021-12-15,ninjanerdscience,VIDEO,https://www.youtube.com/watch?v=UJw2WUtHLIk,Youtube,\"\"I have had Crohn&#39\";s and UC for over 20 years.  I developed adenocarcinoma and had the entire large bowel and 2 ft of small bowel. Left with an ileostomy.  Crohn&#39;s is definitely a genetic predisposition in my family.  My interest is in the epigenetic switches that are involved in this situation.  My disease sparked my interest in nursing.  Many in my family were veterans during the Vietnam Era, and I&#39;\"m convinced that agent orange caused gene mutation.\"\",0,\"\"@Jarrod Hall  I\\xe2\\x80\\x99ll tell you how this works: if someone is going to tell you something and pretend it\\xe2\\x80\\x99s true, its THEIR duty to give YOU evidence, not the other way around.\"\",CS\";;;;;;\\r\\n\"2021-11-22,2021-12-15,ninjanerdscience,VIDEO,https://www.youtube.com/watch?v=UJw2WUtHLIk,Youtube,\"\"Thank you so much for choosing Crohn! Im having it everywhere at my dietitian course, saved my life\\xe2\\x9d\\xa4\\xef\\xb8\\x8f<br><br>Keep up the good work guys, thank you for helping all of us. Were all really thankful for what you are doing\\xe2\\x9d\\xa4\\xef\\xb8\\x8f<br><br>Hugs from Hungary\\xf0\\x9f\\xa5\\xb0\"\",0,,CS\";;;;;;;;;\\r\\n\"2021-11-22,2021-12-15,ninjanerdscience,VIDEO,https://www.youtube.com/watch?v=UJw2WUtHLIk,Youtube,\"\"Awesome video, Love them and the consistency Much appreciated efforts to the whole team<br>@<a href=\"\"\"\"https://www.youtube.com/watch?v=UJw2WUtHLIk&amp\";\"t=56m40s\"\"\"\">56:40</a> You say Celiac Dz rather than Crohn&#39\";\"s\"\",0,,CS\";;;;;;;\\r\\n\"2021-11-22,2021-12-15,ninjanerdscience,VIDEO,https://www.youtube.com/watch?v=UJw2WUtHLIk,Youtube,\"\"Amazing like always , your videos always help to clear my idea about any kind of pathology .\"\",0,,CS\";;;;;;;;;\\r\\n2021-11-22,2021-12-15,ninjanerdscience,VIDEO,https://www.youtube.com/watch?v=UJw2WUtHLIk,Youtube,Pleural effusion please \\xf0\\x9f\\x99\\x8f,0,,CS;;;;;;;;;\\r\\n\"2021-11-22,2021-12-15,ninjanerdscience,VIDEO,https://www.youtube.com/watch?v=UJw2WUtHLIk,Youtube,\"\"Thanks a lot, bro u obviously made sense , something like this should be taken a screenshot,man \\xf0\\x9f\\xa5\\xba\"\",0,,CS\";;;;;;;;;\\r\\n\"2021-11-22,2021-12-15,ninjanerdscience,VIDEO,https://www.youtube.com/watch?v=UJw2WUtHLIk,Youtube,\"\"I have had Crohn&#39\";s and UC for over 20 years.  I developed adenocarcinoma and had the entire large bowel and 2 ft of small bowel. Left with an ileostomy.  Crohn&#39;s is definitely a genetic predisposition in my family.  My interest is in the epigenetic switches that are involved in this situation.  My disease sparked my interest in nursing.  Many in my family were veterans during the Vietnam Era, and I&#39;\"m convinced that agent orange caused gene mutation.\"\",0,\"\"@Lean GroundBeef That&#39\";s such an entitled response I am sure anyone has the duty to teach you how to find knowledge. This person probably knows there is no point helping people like yourself who are too lazy to open google and type herbal studies crohn&#39;s disease and start to educate yourself, you believe it should be handed on a silver platter for you, probably want a news article and don&#39;t wish to read full papers either I bet! <br>Like if you cant get that far on google or then why would anything we show you matter you&#39;ve never taken the time before. <br>But here is just one of the 1000&#39;s of herbs that have 100&#39;\"s of papers on them showing the effects and mechanisms on crohns disease and why I take this herb as a herbal tea every night. <br><a href=\"\"\"\"https://www.ncbi.nlm.nih.gov/pmc/articles/PMC3609304/\"\"\"\">https://www.ncbi.nlm.nih.gov/pmc/articles/PMC3609304/</a><br>It also took me about 15 different studies to come to the conclusions I would use this herb its not a 1 study encompasses all you need to understand there are methods which show different mechanisms of action and you need to connect the dots but seeing one dot is enough to understand there is proof in food/herbs as medicine.\"\",CS\"\\r\\n2021-11-22,2021-12-15,ninjanerdscience,VIDEO,https://www.youtube.com/watch?v=UJw2WUtHLIk,Youtube,Zach must be psychic or something cuz my upcoming exams are about nephrology and gastroenterology,0,,CS;;;;;;;;;\\r\\n2021-11-22,2021-12-15,ninjanerdscience,VIDEO,https://www.youtube.com/watch?v=UJw2WUtHLIk,Youtube,For the information I am greatful.Thanks!,0,,CS;;;;;;;;;\\r\\n2021-11-22,2021-12-15,ninjanerdscience,VIDEO,https://www.youtube.com/watch?v=UJw2WUtHLIk,Youtube,Could you please make a video explaining horner syndrome in it? <br>Thanks in advance,0,,CS;;;;;;;;;\\r\\n\"2021-11-22,2021-12-15,ninjanerdscience,VIDEO,https://www.youtube.com/watch?v=UJw2WUtHLIk,Youtube,\"\"Highly processed food,  huge amount of carbohydrates we consume change the gut flora. Bad bacteria will thrive and good bacteria can&#39\";\"t exist. We are Vitamin D3 insufficient which brings down our capabilities to fight infections. Good food makes difference in our gut health.\"\",0,,CS\";;;;;;;;\\r\\n2021-11-22,2021-12-15,ninjanerdscience,VIDEO,https://www.youtube.com/watch?v=UJw2WUtHLIk,Youtube,love the storytelling style!,0,,CS;;;;;;;;;\\r\\n2021-11-22,2021-12-15,ninjanerdscience,VIDEO,https://www.youtube.com/watch?v=UJw2WUtHLIk,Youtube,Such a nice teachings ... Thank you so much,0,,CS;;;;;;;;;\\r\\n2021-11-22,2021-12-15,ninjanerdscience,VIDEO,https://www.youtube.com/watch?v=UJw2WUtHLIk,Youtube,God bless you and team,0,,CS;;;;;;;;;\\r\\n2021-11-22,2021-12-15,ninjanerdscience,VIDEO,https://www.youtube.com/watch?v=UJw2WUtHLIk,Youtube,this guy is amazing I could watch this for hours without losing interest,0,,CS;;;;;;;;;\\r\\n2021-11-22,2021-12-15,ninjanerdscience,VIDEO,https://www.youtube.com/watch?v=UJw2WUtHLIk,Youtube,You are a big library man. Thanks a lot and keep doing.......,0,,CS;;;;;;;;;\\r\\n2021-11-22,2021-12-15,ninjanerdscience,VIDEO,https://www.youtube.com/watch?v=UJw2WUtHLIk,Youtube,Thanks,0,,CS;;;;;;;;;\\r\\n2021-11-22,2021-12-15,ninjanerdscience,VIDEO,https://www.youtube.com/watch?v=UJw2WUtHLIk,Youtube,Well explained\\xf0\\x9f\\x91\\x8d... Thank you,0,,CS;;;;;;;;;\\r\\n2021-11-22,2021-12-15,ninjanerdscience,VIDEO,https://www.youtube.com/watch?v=UJw2WUtHLIk,Youtube,This is awesome! I have Crohn\\xe2\\x80\\x99s and I will be showing my gi doc! Amazing work \\xf0\\x9f\\xa4\\xa9,0,,CS;;;;;;;;;\\r\\n2021-11-22,2021-12-15,ninjanerdscience,VIDEO,https://www.youtube.com/watch?v=UJw2WUtHLIk,Youtube,you are god my friend,0,,CS;;;;;;;;;\\r\\n2021-11-12,2021-12-15,sydneyserena,VIDEO,https://www.youtube.com/watch?v=V467rq8OVsc,Youtube,Okay but I love how realistic this is because it is really hard to plan meals and everything while you are in college ( lol I love the fact that I&#39;m talking like I&#39;\"m a college student) \\xf0\\x9f\\x98\\x82\\xf0\\x9f\\x98\\x82,0,\"\"<a href=\"\"\"\"https://youtu.be/sh7tL1c2aMU\"\"\"\">https://youtu.be/sh7tL1c2aMU</a> Starbucks Christmas \";\")\"\",CS\";;;;;;\\r\\n2021-11-12,2021-12-15,sydneyserena,VIDEO,https://www.youtube.com/watch?v=V467rq8OVsc,Youtube,sydney are you proud that i got christmas socks today,0,,CS;;;;;;;;;\\r\\n2021-11-12,2021-12-15,sydneyserena,VIDEO,https://www.youtube.com/watch?v=V467rq8OVsc,Youtube,Firsttttt,0,,CS;;;;;;;;;\\r\\n2021-11-12,2021-12-15,sydneyserena,VIDEO,https://www.youtube.com/watch?v=V467rq8OVsc,Youtube,Pretty girl,0,,CS;;;;;;;;;\\r\\n\"2021-11-12,2021-12-15,sydneyserena,VIDEO,https://www.youtube.com/watch?v=V467rq8OVsc,Youtube,\"\"I thought I was the only one who puts peanut butter in their oatmeal, but I can guess I&#39\";m not alone; it honestly brings out more flavor to it &amp; I love adding strawberries, bananas, &amp;\" honey to my oatmeal too!!\"\",0,i love pb in my oatmeal,CS\";;;;;\\r\\n2021-11-12,2021-12-15,sydneyserena,VIDEO,https://www.youtube.com/watch?v=V467rq8OVsc,Youtube,I love you girl \\xf0\\x9f\\x92\\x9f\\xf0\\x9f\\x92\\x9f\\xf0\\x9f\\x92\\x9f\\xf0\\x9f\\x92\\x9f\\xf0\\x9f\\x92\\x9f\\xf0\\x9f\\x92\\x9f\\xf0\\x9f\\x92\\x9f\\xf0\\x9f\\x92\\x9f\\xf0\\x9f\\x98\\x98\\xf0\\x9f\\x98\\x98\\xf0\\x9f\\x98\\x98\\xf0\\x9f\\x98\\x98\\xf0\\x9f\\x98\\x98,0,,CS;;;;;;;;;\\r\\n\"2021-11-12,2021-12-15,sydneyserena,VIDEO,https://www.youtube.com/watch?v=V467rq8OVsc,Youtube,\"\"Yes Syd, its called seasonal depression = mood + whole day gets defined by the season + weather. (Not hate, here to help\"\",0,,CS\";;;;;;;;;\\r\\n2021-11-12,2021-12-15,sydneyserena,VIDEO,https://www.youtube.com/watch?v=V467rq8OVsc,Youtube,I kind of love how being healthy and happy is trendy,0,Perhaps where she lives \\xf0\\x9f\\x98\\x85,CS;;;;;;;;;\\r\\n2021-11-12,2021-12-15,sydneyserena,VIDEO,https://www.youtube.com/watch?v=V467rq8OVsc,Youtube,No hate to syd at all I literally adore her with all my heart but it&#39;s crazy how much microwavable meals and processed food Americans have..I&#39;m from india here it&#39;s all about home-cooked meals!!,0,Relatable!,CS;;;;;;\\r\\n2021-11-12,2021-12-15,sydneyserena,VIDEO,https://www.youtube.com/watch?v=V467rq8OVsc,Youtube,Why have everyone forgot about her already,0,,CS;;;;;;;;;\\r\\n2021-11-12,2021-12-15,sydneyserena,VIDEO,https://www.youtube.com/watch?v=V467rq8OVsc,Youtube,I\\xe2\\x80\\x99m British and yes the weather really gets to me unfortunately. Walking to college in complete darkness in the winter isn\\xe2\\x80\\x99t great but I get by :),0,,CS;;;;;;;;;\\r\\n2021-11-12,2021-12-15,sydneyserena,VIDEO,https://www.youtube.com/watch?v=V467rq8OVsc,Youtube,Nice \\xe2\\x9d\\xa4\\xef\\xb8\\x8f,0,,CS;;;;;;;;;\\r\\n2021-11-12,2021-12-15,sydneyserena,VIDEO,https://www.youtube.com/watch?v=V467rq8OVsc,Youtube,pov: you have been in the same parking lot as sydney serena. i used to live in orange county by the orange circle but then i moved to a diff state,0,,CS;;;;;;;;;\\r\\n2021-11-12,2021-12-15,sydneyserena,VIDEO,https://www.youtube.com/watch?v=V467rq8OVsc,Youtube,Can we talk now yes or no,0,,CS;;;;;;;;;\\r\\n\"2021-11-12,2021-12-15,sydneyserena,VIDEO,https://www.youtube.com/watch?v=V467rq8OVsc,Youtube,\"\"I thought I was the only one who puts peanut butter in their oatmeal, but I can guess I&#39\";m not alone; it honestly brings out more flavor to it &amp; I love adding strawberries, bananas, &amp;\" honey to my oatmeal too!!\"\",0,i\\xe2\\x80\\x99ve seen everyone do it lol including me,CS\";;;;;\\r\\n2021-11-12,2021-12-15,sydneyserena,VIDEO,https://www.youtube.com/watch?v=V467rq8OVsc,Youtube,Did you know all college systems including CUNY are strict?,0,,CS;;;;;;;;;\\r\\n2021-11-12,2021-12-15,sydneyserena,VIDEO,https://www.youtube.com/watch?v=V467rq8OVsc,Youtube,Yes Sydney the weather does effect my mood,0,,CS;;;;;;;;;\\r\\n2021-11-12,2021-12-15,sydneyserena,VIDEO,https://www.youtube.com/watch?v=V467rq8OVsc,Youtube,Sydney pin if you love your fans \\xe2\\x9d\\xa4\\xef\\xb8\\x8f\\xe2\\x9d\\xa4\\xef\\xb8\\x8f\\xf0\\x9f\\x92\\x97,0,,CS;;;;;;;;;\\r\\n2021-11-12,2021-12-15,sydneyserena,VIDEO,https://www.youtube.com/watch?v=V467rq8OVsc,Youtube,She has peanut butter for literally every thing,0,,CS;;;;;;;;;\\r\\n2021-11-12,2021-12-15,sydneyserena,VIDEO,https://www.youtube.com/watch?v=V467rq8OVsc,Youtube,HII,0,,CS;;;;;;;;;\\r\\n2021-11-12,2021-12-15,sydneyserena,VIDEO,https://www.youtube.com/watch?v=V467rq8OVsc,Youtube,Tienes que mejorar tus platios. Mi mama te gana en la cocina facilito.,0,,CS;;;;;;;;;\\r\\n2021-11-12,2021-12-15,sydneyserena,VIDEO,https://www.youtube.com/watch?v=V467rq8OVsc,Youtube,Does anyone else also not have time do eat while in college ? \\xf0\\x9f\\x98\\xad\\xf0\\x9f\\x98\\xad,0,,CS;;;;;;;;;\\r\\n2021-11-12,2021-12-15,sydneyserena,VIDEO,https://www.youtube.com/watch?v=V467rq8OVsc,Youtube,Try arabian food,0,,CS;;;;;;;;;\\r\\n2021-11-12,2021-12-15,sydneyserena,VIDEO,https://www.youtube.com/watch?v=V467rq8OVsc,Youtube,SYDNEY MY LOVE !! You look so happy,0,,CS;;;;;;;;;\\r\\n2021-11-12,2021-12-15,sydneyserena,VIDEO,https://www.youtube.com/watch?v=V467rq8OVsc,Youtube,comfort ytber,0,,CS;;;;;;;;;\\r\\n2021-11-12,2021-12-15,sydneyserena,VIDEO,https://www.youtube.com/watch?v=V467rq8OVsc,Youtube,Isn\\xe2\\x80\\x99t Trader Joe\\xe2\\x80\\x99s expensive? How are food supples in Orange County?,0,,CS;;;;;;;;;\\r\\n2021-11-12,2021-12-15,sydneyserena,VIDEO,https://www.youtube.com/watch?v=V467rq8OVsc,Youtube,I love you so much....Following these videos from Iraq and also I hope that Iraq will become like your country \\xf0\\x9f\\x98\\x98,0,,CS;;;;;;;;;\\r\\n2021-11-12,2021-12-15,sydneyserena,VIDEO,https://www.youtube.com/watch?v=V467rq8OVsc,Youtube,First 9 seconds,0,,CS;;;;;;;;;\\r\\n2021-11-12,2021-12-15,sydneyserena,VIDEO,https://www.youtube.com/watch?v=V467rq8OVsc,Youtube,Friends with me yes or no,0,Hi there,CS;;;;;;;;;\\r\\n2021-11-12,2021-12-15,sydneyserena,VIDEO,https://www.youtube.com/watch?v=V467rq8OVsc,Youtube,Hi,0,,CS;;;;;;;;;\\r\\n\"2021-11-12,2021-12-15,sydneyserena,VIDEO,https://www.youtube.com/watch?v=V467rq8OVsc,Youtube,\"\"Omg yes, the weather has a big influence on my mood\"\",0,,CS\";;;;;;;;;\\r\\n\"2021-11-12,2021-12-15,sydneyserena,VIDEO,https://www.youtube.com/watch?v=V467rq8OVsc,Youtube,\"\"Hello Sydney if your stomach is hurting you I suggest you look into traditional eating! It focuses on healing your stomach through nutrient dense foods like raw milk and raw dairy products! As well as bone broth, and pasture- raised animal meat, with many herbs and alliums. It helps your body get the most nutrients in every food you eat! It makes your stomach pain and wonky ness go away :) Also you are very sweet \\xe2\\x99\\xa1\"\",0,,CS\";;;;;;;;;\\r\\n2021-11-12,2021-12-15,sydneyserena,VIDEO,https://www.youtube.com/watch?v=V467rq8OVsc,Youtube,I&#39;m from India and jst loveee ur vids... it feels like if ever I get to meet u in real life I would have been able to talk and enjoy with u the whole day without any hesitation... u feel sooo homely and friendly.. loads of love and bestest wishes for u.. keep glowing and growing...,0,,CS;;;;;;;;\\r\\n2021-11-12,2021-12-15,sydneyserena,VIDEO,https://www.youtube.com/watch?v=V467rq8OVsc,Youtube,Enjoy your meal! YYYyyyyeeeaahhh!\\xf0\\x9f\\x91\\x85\\xf0\\x9f\\x98\\x80Blue thumb for your video!,0,,CS;;;;;;;;;\\r\\n2021-11-12,2021-12-15,sydneyserena,VIDEO,https://www.youtube.com/watch?v=V467rq8OVsc,Youtube,hi syd its 4am now idk what I&#39;m doing i need help but I love u and ur videos okay bye,0,,CS;;;;;;;;\\r\\n2021-11-12,2021-12-15,sydneyserena,VIDEO,https://www.youtube.com/watch?v=V467rq8OVsc,Youtube,Love you syd!!,0,,CS;;;;;;;;;\\r\\n2021-11-12,2021-12-15,sydneyserena,VIDEO,https://www.youtube.com/watch?v=V467rq8OVsc,Youtube,ILY UR VIDS ARE SO FUN,0,,CS;;;;;;;;;\\r\\n\"2021-11-12,2021-12-15,sydneyserena,VIDEO,https://www.youtube.com/watch?v=V467rq8OVsc,Youtube,\"\"When I get a notification that you have uploeded a video, my happy time begins \\xf0\\x9f\\x93\\xb8\\xe2\\x9d\\xa3\\xef\\xb8\\x8f\\xf0\\x9f\\x8d\\x8a\\xe2\\x99\\xa5\\xef\\xb8\\x8f\\xf0\\x9f\\xa5\\xb3\\xf0\\x9f\\x98\\x98 \\xf0\\x9f\\xa5\\xb0\\xf0\\x9f\\xa4\\xa9\\xe2\\x9d\\xa4\\xef\\xb8\\x8f.\"\",0,,CS\";;;;;;;;;\\r\\n2021-11-12,2021-12-15,sydneyserena,VIDEO,https://www.youtube.com/watch?v=V467rq8OVsc,Youtube,You look beautiful\\xf0\\x9f\\xa4\\xa9,0,,CS;;;;;;;;;\\r\\n\"2021-11-12,2021-12-15,sydneyserena,VIDEO,https://www.youtube.com/watch?v=V467rq8OVsc,Youtube,\"\"The weather definitely affects my mood. When it&#39\";\"s thundering or very cloudy, I feel so sluggish and drained\"\",0,,CS\";;;;;;;;\\r\\n2021-11-12,2021-12-15,sydneyserena,VIDEO,https://www.youtube.com/watch?v=V467rq8OVsc,Youtube,Love the vid syd,0,,CS;;;;;;;;;\\r\\n2021-11-12,2021-12-15,sydneyserena,VIDEO,https://www.youtube.com/watch?v=V467rq8OVsc,Youtube,I&#39;m the only one who stressed about people cutting so much part of strawberry! \\xf0\\x9f\\x98\\xab\\xf0\\x9f\\x98\\x83,0,,CS;;;;;;;;\\r\\n2021-11-12,2021-12-15,sydneyserena,VIDEO,https://www.youtube.com/watch?v=V467rq8OVsc,Youtube,I used to love your videos where you attempt to bake so I\\xe2\\x80\\x99d love to see you make Xmas cookies or cakes\\xf0\\x9f\\xa4\\x8d,0,,CS;;;;;;;;;\\r\\n\"2021-11-12,2021-12-15,sydneyserena,VIDEO,https://www.youtube.com/watch?v=V467rq8OVsc,Youtube,\"\"why I can\\xe2\\x80\\x99t open this video ,I\\xe2\\x80\\x99m crying\\xf0\\x9f\\x98\\xad\\xf0\\x9f\\x98\\xad\\xf0\\x9f\\x98\\xad\\xf0\\x9f\\x98\\xad\"\",0,,CS\";;;;;;;;;\\r\\n\"2021-11-12,2021-12-15,sydneyserena,VIDEO,https://www.youtube.com/watch?v=V467rq8OVsc,Youtube,\"\"I cannot believe how much of a consumer you are. When watching the COP26 I thought I didn&#39\";\"t care, turns out I do.\"\",0,,CS\";;;;;;;;\\r\\n2021-11-12,2021-12-15,sydneyserena,VIDEO,https://www.youtube.com/watch?v=V467rq8OVsc,Youtube,Omg I love whenever you post!!,0,,CS;;;;;;;;;\\r\\n2021-11-12,2021-12-15,sydneyserena,VIDEO,https://www.youtube.com/watch?v=V467rq8OVsc,Youtube,And all the food look so good!!,0,,CS;;;;;;;;;\\r\\n2021-11-12,2021-12-15,sydneyserena,VIDEO,https://www.youtube.com/watch?v=V467rq8OVsc,Youtube,THIS IS NOT ENOUGH FOOD !!!!!<br>EAT MORE!!!!!,0,,CS;;;;;;;;;\\r\\n2021-11-12,2021-12-15,sydneyserena,VIDEO,https://www.youtube.com/watch?v=V467rq8OVsc,Youtube,Hello there,0,,CS;;;;;;;;;\\r\\n2021-11-12,2021-12-15,sydneyserena,VIDEO,https://www.youtube.com/watch?v=V467rq8OVsc,Youtube,this is making want to be healthy instead of the usual which is like 90% high fructose corn syrup lol,0,,CS;;;;;;;;;\\r\\n\"2021-11-12,2021-12-15,sydneyserena,VIDEO,https://www.youtube.com/watch?v=V467rq8OVsc,Youtube,\"\"Hahaha I find it so funny that when americans \\xc2\\xabmake their own coffee\\xc2\\xbb they buy it with everything in it, from the store. When someone makes their coffee in Norway, you brew it and I\\xe2\\x80\\x99m sorry but this is too funny. It\\xe2\\x80\\x99s not the first time that consept has caught me off guard \\xf0\\x9f\\x98\\x82 love u tho Syd, just very big diffrences\"\",0,,CS\";;;;;;;;;\\r\\n2021-11-12,2021-12-15,sydneyserena,VIDEO,https://www.youtube.com/watch?v=V467rq8OVsc,Youtube,Sydney! I would love to see a nail inspo board on your pinterest!\\xf0\\x9f\\x98\\x9a\\xf0\\x9f\\x92\\x85\\xf0\\x9f\\x8f\\xbb,0,,CS;;;;;;;;;\\r\\n2021-11-12,2021-12-15,sydneyserena,VIDEO,https://www.youtube.com/watch?v=V467rq8OVsc,Youtube,syd&#39;s vlog is all that we need\\xf0\\x9f\\x98\\x8c\\xe2\\x9d\\xa4,0,,CS;;;;;;;;\\r\\n2021-11-12,2021-12-15,sydneyserena,VIDEO,https://www.youtube.com/watch?v=V467rq8OVsc,Youtube,Turkish subtitle please we love you,0,,CS;;;;;;;;;\\r\\n2021-11-12,2021-12-15,sydneyserena,VIDEO,https://www.youtube.com/watch?v=V467rq8OVsc,Youtube,Your videos are so inspiring. You eat so healthy.,0,,CS;;;;;;;;;\\r\\n2021-11-12,2021-12-15,sydneyserena,VIDEO,https://www.youtube.com/watch?v=V467rq8OVsc,Youtube,So cool i love it \\xf0\\x9f\\xa4\\xa9\\xf0\\x9f\\x98\\x8d,0,,CS;;;;;;;;;\\r\\n2021-11-12,2021-12-15,sydneyserena,VIDEO,https://www.youtube.com/watch?v=V467rq8OVsc,Youtube,EARLY,0,,CS;;;;;;;;;\\r\\n2021-11-12,2021-12-15,sydneyserena,VIDEO,https://www.youtube.com/watch?v=V467rq8OVsc,Youtube,Your videos always make my day &lt;3,0,,CS;;;;;;;;\\r\\n2021-11-12,2021-12-15,sydneyserena,VIDEO,https://www.youtube.com/watch?v=V467rq8OVsc,Youtube,Hiii . So much love for you Sydney \\xf0\\x9f\\x92\\x97\\xf0\\x9f\\x98\\x98\\xf0\\x9f\\x92\\x97\\xf0\\x9f\\x92\\x97\\xf0\\x9f\\x92\\x97,0,,CS;;;;;;;;;\\r\\n2021-11-12,2021-12-15,sydneyserena,VIDEO,https://www.youtube.com/watch?v=V467rq8OVsc,Youtube,What about sausage?,0,,CS;;;;;;;;;\\r\\n2021-11-12,2021-12-15,sydneyserena,VIDEO,https://www.youtube.com/watch?v=V467rq8OVsc,Youtube,Lllp lo,0,,CS;;;;;;;;;\\r\\n\"2021-11-12,2021-12-15,sydneyserena,VIDEO,https://www.youtube.com/watch?v=V467rq8OVsc,Youtube,\"\"the morning in the car with a bun and a gray hooddie, i swear she looks like hailey bieber\"\",0,,CS\";;;;;;;;;\\r\\n2021-11-12,2021-12-15,sydneyserena,VIDEO,https://www.youtube.com/watch?v=V467rq8OVsc,Youtube,You\\xe2\\x80\\x99re so healthy!,0,,CS;;;;;;;;;\\r\\n2021-11-12,2021-12-15,sydneyserena,VIDEO,https://www.youtube.com/watch?v=V467rq8OVsc,Youtube,\\xd9\\x8a\\xd9\\x85\\xd9\\x87 \\xd9\\x85\\xd9\\x86\\xd8\\xb0 \\xd8\\xaf\\xd9\\x82\\xd9\\x8a\\xd9\\x82\\xd9\\x87\\xf0\\x9f\\x91\\x80\\xf0\\x9f\\x91\\x80,0,,CS;;;;;;;;;\\r\\n2021-11-12,2021-12-15,sydneyserena,VIDEO,https://www.youtube.com/watch?v=V467rq8OVsc,Youtube,guys syd\\xe2\\x80\\x99s eating healthy?!?!?,0,,CS;;;;;;;;;\\r\\n2021-11-12,2021-12-15,sydneyserena,VIDEO,https://www.youtube.com/watch?v=V467rq8OVsc,Youtube,idk why but i find syd&#39;s videos are super chill and relaxing to watch<br>also not me thinking chegg was a person-,0,,CS;;;;;;;;\\r\\n2021-11-12,2021-12-15,sydneyserena,VIDEO,https://www.youtube.com/watch?v=V467rq8OVsc,Youtube,\\xe2\\x9d\\xa4\\xef\\xb8\\x8f\\xe2\\x9d\\xa4\\xef\\xb8\\x8f,0,,CS;;;;;;;;;\\r\\n2021-11-12,2021-12-15,sydneyserena,VIDEO,https://www.youtube.com/watch?v=V467rq8OVsc,Youtube,:),0,,CS;;;;;;;;;\\r\\n\"2021-11-12,2021-12-15,sydneyserena,VIDEO,https://www.youtube.com/watch?v=V467rq8OVsc,Youtube,\"\"I thought I was the only one who puts peanut butter in their oatmeal, but I can guess I&#39\";m not alone; it honestly brings out more flavor to it &amp; I love adding strawberries, bananas, &amp;\" honey to my oatmeal too!!\"\",0,\"\"<a href=\"\"\"\"https://youtu.be/sh7tL1c2aMU\"\"\"\">https://youtu.be/sh7tL1c2aMU</a> Starbucks Christmas \";\"D\"\",CS\";;;;\\r\\n2021-11-12,2021-12-15,sydneyserena,VIDEO,https://www.youtube.com/watch?v=V467rq8OVsc,Youtube,Eat in a week IN college,0,,CS;;;;;;;;;\\r\\n2021-11-12,2021-12-15,sydneyserena,VIDEO,https://www.youtube.com/watch?v=V467rq8OVsc,Youtube,it is typicial for americans to et worried aout weather because americans are norweigian.,0,,CS;;;;;;;;;\\r\\n\"2021-11-12,2021-12-15,sydneyserena,VIDEO,https://www.youtube.com/watch?v=V467rq8OVsc,Youtube,\"\"Ughh you&#39\";\"re so cute Syd, i miss your video already \\xf0\\x9f\\x92\\x94\"\",0,,CS\";;;;;;;;\\r\\n2021-11-12,2021-12-15,sydneyserena,VIDEO,https://www.youtube.com/watch?v=V467rq8OVsc,Youtube,Ur so gorgeous Sydney,0,,CS;;;;;;;;;\\r\\n2021-11-12,2021-12-15,sydneyserena,VIDEO,https://www.youtube.com/watch?v=V467rq8OVsc,Youtube,Omg syd is so grown up now ahe kinda looks different,0,,CS;;;;;;;;;\\r\\n2021-11-12,2021-12-15,sydneyserena,VIDEO,https://www.youtube.com/watch?v=V467rq8OVsc,Youtube,WAIT! Syd likes coffee now!!!,0,,CS;;;;;;;;;\\r\\n\"2021-11-12,2021-12-15,sydneyserena,VIDEO,https://www.youtube.com/watch?v=V467rq8OVsc,Youtube,\"\"girl the editing is immaculate, and your clothing style is cheff kiss &lt\";\"3 good job!! I wish I can grow a comunity on youtube like you did one day :)\"\",0,\"\"<a href=\"\"\"\"https://youtu.be/sh7tL1c2aMU\"\"\"\">https://youtu.be/sh7tL1c2aMU</a> Starbucks Christmas \";\")\"\",CS\";;;;;;;\\r\\n2021-11-12,2021-12-15,sydneyserena,VIDEO,https://www.youtube.com/watch?v=V467rq8OVsc,Youtube,can we talk abt how syd completely clickbaited with that thumbnail LOL  <br><br><br>(y\\xe2\\x80\\x99all this is a joke btw no hate i just think it\\xe2\\x80\\x99s funny),0,,CS;;;;;;;;;\\r\\n2021-11-12,2021-12-15,sydneyserena,VIDEO,https://www.youtube.com/watch?v=V467rq8OVsc,Youtube,Hey queen \\xf0\\x9f\\x91\\x91,0,,CS;;;;;;;;;\\r\\n\"2021-11-12,2021-12-15,sydneyserena,VIDEO,https://www.youtube.com/watch?v=V467rq8OVsc,Youtube,\"\"I luv u a lot\\xe2\\x9d\\xa4\\xef\\xb8\\x8f\\xe2\\x9d\\xa4\\xef\\xb8\\x8f\\xe2\\x9d\\xa4\\xef\\xb8\\x8f!! ur amazing but recently u hv just been posting a day in my life, college, week in my life or eating stuff. I would love for u to do a prank or hacks kinda stuff too. just an advice do not take it to ur heart!\"\",0,,CS\";;;;;;;;;\\r\\n2021-11-12,2021-12-15,sydneyserena,VIDEO,https://www.youtube.com/watch?v=V467rq8OVsc,Youtube,I am playing the video but it says &#39;this video is unavailable on this device&#39;....,0,Same :(,CS;;;;;;;\\r\\n2021-11-12,2021-12-15,sydneyserena,VIDEO,https://www.youtube.com/watch?v=V467rq8OVsc,Youtube,Chocolate raspberries,0,,CS;;;;;;;;;\\r\\n2021-11-12,2021-12-15,sydneyserena,VIDEO,https://www.youtube.com/watch?v=V467rq8OVsc,Youtube,Garlic is very healthy,0,,CS;;;;;;;;;\\r\\n2021-11-12,2021-12-15,sydneyserena,VIDEO,https://www.youtube.com/watch?v=V467rq8OVsc,Youtube,Yes unfortunately the weather can affect my mood,0,,CS;;;;;;;;;\\r\\n2021-11-12,2021-12-15,sydneyserena,VIDEO,https://www.youtube.com/watch?v=V467rq8OVsc,Youtube,Pin this for absolutely no reason at all,0,,CS;;;;;;;;;\\r\\n2021-11-12,2021-12-15,sydneyserena,VIDEO,https://www.youtube.com/watch?v=V467rq8OVsc,Youtube,You have trouble with chemistry \\xe2\\x9a\\x97. For me it was potions \\xf0\\x9f\\x98\\x82. But my spells were \\xf0\\x9f\\x91\\x8c. Love the intellectual but cute look with the glasses \\xf0\\x9f\\x91\\x93. They suit you \\xf0\\x9f\\x98\\x98 \\xf0\\x9f\\x8c\\xb9,0,,CS;;;;;;;;;\\r\\n2021-11-12,2021-12-15,sydneyserena,VIDEO,https://www.youtube.com/watch?v=V467rq8OVsc,Youtube,IVE BEEN A FAN FOR OBER 4 YEARS,0,,CS;;;;;;;;;\\r\\n2021-11-12,2021-12-15,sydneyserena,VIDEO,https://www.youtube.com/watch?v=V467rq8OVsc,Youtube,Nice \\xf0\\x9f\\xa7\\xac\\xe2\\x80\\x99s,0,,CS;;;;;;;;;\\r\\n2021-11-12,2021-12-15,sydneyserena,VIDEO,https://www.youtube.com/watch?v=V467rq8OVsc,Youtube,watching u from france!!! ilysm &lt;3,0,Hello,CS;;;;;;;;\\r\\n2021-11-12,2021-12-15,sydneyserena,VIDEO,https://www.youtube.com/watch?v=V467rq8OVsc,Youtube,IM SO EARLY OMH,0,,CS;;;;;;;;;\\r\\n2021-11-12,2021-12-15,sydneyserena,VIDEO,https://www.youtube.com/watch?v=V467rq8OVsc,Youtube,&quot;Aten&quot;?!,0,,CS;;;;;;;\\r\\n\"2021-11-12,2021-12-15,sydneyserena,VIDEO,https://www.youtube.com/watch?v=V467rq8OVsc,Youtube,\"\"I have seasonal affective and I actually had to move away from New York and down south because I had such a bad depressive episode because literally, the weather... within two months after moving I was back to normal. Don&#39\";\"t disregard how you feel on those cloudy days! \\xe2\\x9d\\xa4\\xef\\xb8\\x8f\"\",0,,CS\";;;;;;;;\\r\\n2021-11-12,2021-12-15,sydneyserena,VIDEO,https://www.youtube.com/watch?v=V467rq8OVsc,Youtube,her intros are so aesthetically pleasing,0,,CS;;;;;;;;;\\r\\n2021-11-12,2021-12-15,sydneyserena,VIDEO,https://www.youtube.com/watch?v=V467rq8OVsc,Youtube,What the actual heck was the blur in the beginning,0,,CS;;;;;;;;;\\r\\n2021-11-12,2021-12-15,sydneyserena,VIDEO,https://www.youtube.com/watch?v=V467rq8OVsc,Youtube,Damn im early today love you sid kisses from belgium xx\\xf0\\x9f\\x92\\x8b,0,,CS;;;;;;;;;\\r\\n2021-11-12,2021-12-15,sydneyserena,VIDEO,https://www.youtube.com/watch?v=V467rq8OVsc,Youtube,AMAZING GIRL,0,,CS;;;;;;;;;\\r\\n2021-11-12,2021-12-15,sydneyserena,VIDEO,https://www.youtube.com/watch?v=V467rq8OVsc,Youtube,CAN I GET A HEY ??,0,,CS;;;;;;;;;\\r\\n2021-11-12,2021-12-15,sydneyserena,VIDEO,https://www.youtube.com/watch?v=V467rq8OVsc,Youtube,hey i love you:),0,first btw:),CS;;;;;;;;;\\r\\n2021-11-12,2021-12-15,sydneyserena,VIDEO,https://www.youtube.com/watch?v=V467rq8OVsc,Youtube,I kind of love how being healthy and happy is trendy,0,I\\xe2\\x80\\x99ve been noticing the same with not drinking dairy and I\\xe2\\x80\\x99m here for it,CS;;;;;;;;;\\r\\n2021-11-12,2021-12-15,sydneyserena,VIDEO,https://www.youtube.com/watch?v=V467rq8OVsc,Youtube,Trader Joe\\xe2\\x80\\x99s 4 life lol,0,,CS;;;;;;;;;\\r\\n\"2021-11-12,2021-12-15,sydneyserena,VIDEO,https://www.youtube.com/watch?v=V467rq8OVsc,Youtube,\"\"My college diet was: 50% machine food, 25% hot dogs, 25% beer.\"\",0,So fucking true although I&#39\";m working as a business woman lol,CS;;;;;;;;\\r\\n2021-11-12,2021-12-15,sydneyserena,VIDEO,https://www.youtube.com/watch?v=V467rq8OVsc,Youtube,This was so fun. U honestly eat so balanced and healthy,0,,CS;;;;;;;;;\\r\\n2021-11-12,2021-12-15,sydneyserena,VIDEO,https://www.youtube.com/watch?v=V467rq8OVsc,Youtube,this literally made me wanna eat,0,,CS;;;;;;;;;\\r\\n2021-11-12,2021-12-15,sydneyserena,VIDEO,https://www.youtube.com/watch?v=V467rq8OVsc,Youtube,I love your video!! I study English by using your video!!,0,,CS;;;;;;;;;\\r\\n2021-11-12,2021-12-15,sydneyserena,VIDEO,https://www.youtube.com/watch?v=V467rq8OVsc,Youtube,sydney where\\xe2\\x80\\x99s is the mirror in your room from? it\\xe2\\x80\\x99s so pretty \\xf0\\x9f\\x92\\x98,0,,CS;;;;;;;;;\\r\\n2021-11-12,2021-12-15,sydneyserena,VIDEO,https://www.youtube.com/watch?v=V467rq8OVsc,Youtube,Ho! My god please be carefull with the knife,0,,CS;;;;;;;;;\\r\\n2021-11-12,2021-12-15,sydneyserena,VIDEO,https://www.youtube.com/watch?v=V467rq8OVsc,Youtube,Loved this video Syddd \\xe2\\x9d\\xa4\\xe2\\x9d\\xa4 Reminded me of the good old days and your past videos :) so chill and spontaneous,0,,CS;;;;;;;;;\\r\\n\"2021-11-12,2021-12-15,sydneyserena,VIDEO,https://www.youtube.com/watch?v=V467rq8OVsc,Youtube,\"\"Sydney, I miss you...I&#39\";m sorry I haven&#39;\"t watch some of your vids nowadays and I hate the thought that I missed your notifications because of school \\xf0\\x9f\\xa5\\xb0\\xf0\\x9f\\x92\\x95\\xf0\\x9f\\x92\\x95Luv lots Syd !!\"\",0,,CS\";;;;;;;\\r\\n2021-11-12,2021-12-15,sydneyserena,VIDEO,https://www.youtube.com/watch?v=V467rq8OVsc,Youtube,AYYYYY,0,,CS;;;;;;;;;\\r\\n2021-11-12,2021-12-15,sydneyserena,VIDEO,https://www.youtube.com/watch?v=V467rq8OVsc,Youtube,I&#39;m the least healthy person all I crave all day is sugar and it&#39;s a problem.,0,,CS;;;;;;;\\r\\n2021-11-12,2021-12-15,sydneyserena,VIDEO,https://www.youtube.com/watch?v=V467rq8OVsc,Youtube,How has your day been?,0,,CS;;;;;;;;;\\r\\n\"2021-11-12,2021-12-15,sydneyserena,VIDEO,https://www.youtube.com/watch?v=V467rq8OVsc,Youtube,\"\"shes honestly such a happy sweet, fun person. she sounds like she would be an amazing supportive friend &lt\";\"3 love u syd!!\"\",0,,CS\";;;;;;;;\\r\\n2021-11-12,2021-12-15,sydneyserena,VIDEO,https://www.youtube.com/watch?v=V467rq8OVsc,Youtube,I love Sydney\\xe2\\x80\\x99s videos so much and I never miss a single one<br>I\\xe2\\x80\\x99ve been watching her for three years now &lt;3,0,,CS;;;;;;;;\\r\\n2021-11-12,2021-12-15,sydneyserena,VIDEO,https://www.youtube.com/watch?v=V467rq8OVsc,Youtube,Nice to see your video syd,0,,CS;;;;;;;;;\\r\\n2021-11-12,2021-12-15,sydneyserena,VIDEO,https://www.youtube.com/watch?v=V467rq8OVsc,Youtube,Love your outfit and your plans.  Thanks for sharing this sweetie.,0,,CS;;;;;;;;;\\r\\n2021-11-12,2021-12-15,sydneyserena,VIDEO,https://www.youtube.com/watch?v=V467rq8OVsc,Youtube,Hi!,0,,CS;;;;;;;;;\\r\\n2021-11-12,2021-12-15,sydneyserena,VIDEO,https://www.youtube.com/watch?v=V467rq8OVsc,Youtube,I&#39;m looking at it from Japan( \\xc2\\xa8\\xcc\\xae )!!,0,,CS;;;;;;;;\\r\\n2021-11-12,2021-12-15,sydneyserena,VIDEO,https://www.youtube.com/watch?v=V467rq8OVsc,Youtube,I kind of love how being healthy and happy is trendy,0,Helo i am very poor\\xf0\\x9f\\x98\\xa5<br> i dont have job to handle my family\\xf0\\x9f\\x98\\xad <br>i work on YOUTUBE but no a good reponse\\xf0\\x9f\\x98\\xad <br>youthink i am worse thank other...,CS;;;;;;;;;\\r\\n\"2021-11-12,2021-12-15,sydneyserena,VIDEO,https://www.youtube.com/watch?v=V467rq8OVsc,Youtube,\"\"Hey nice vlog  \\xf0\\x9f\\x92\\xaf, thanks for sharing with us Sydney, I love you! \\xf0\\x9f\\xa4\\x97\"\",0,,CS\";;;;;;;;;\\r\\n2021-11-12,2021-12-15,sydneyserena,VIDEO,https://www.youtube.com/watch?v=V467rq8OVsc,Youtube,You are look like Duygu \\xc3\\x96zaslan,0,,CS;;;;;;;;;\\r\\n2021-11-12,2021-12-15,sydneyserena,VIDEO,https://www.youtube.com/watch?v=V467rq8OVsc,Youtube,Friends with me yes or no,0,Let&#39;s talk now yes or no,CS;;;;;;;;\\r\\n2021-11-12,2021-12-15,sydneyserena,VIDEO,https://www.youtube.com/watch?v=V467rq8OVsc,Youtube,the thumbnail\\xe2\\x9c\\xa8,0,,CS;;;;;;;;;\\r\\n2021-11-12,2021-12-15,sydneyserena,VIDEO,https://www.youtube.com/watch?v=V467rq8OVsc,Youtube,Your video gives such an aesthetic vibe \\xf0\\x9f\\x92\\x97\\xf0\\x9f\\x98\\xa9,0,,CS;;;;;;;;;\\r\\n2021-11-12,2021-12-15,sydneyserena,VIDEO,https://www.youtube.com/watch?v=V467rq8OVsc,Youtube,Your vids are my favorite!! Also love your editing \\xf0\\x9f\\x98\\x8a,0,,CS;;;;;;;;;\\r\\n2021-11-12,2021-12-15,sydneyserena,VIDEO,https://www.youtube.com/watch?v=V467rq8OVsc,Youtube,\\xf0\\x9f\\x98\\x8d\\xf0\\x9f\\x98\\x8d\\xf0\\x9f\\x98\\x8d,0,,CS;;;;;;;;;\\r\\n\"2021-11-12,2021-12-15,sydneyserena,VIDEO,https://www.youtube.com/watch?v=V467rq8OVsc,Youtube,\"\"\\xe2\\x80\\x9cI also have a pimple here and I\\xe2\\x80\\x99m turning my face so you don\\xe2\\x80\\x99t see it bc I\\xe2\\x80\\x99m \\xe2\\x9c\\xa8fake\\xe2\\x9c\\xa8\\xf0\\x9f\\xa4\\xaa\\xe2\\x80\\x9d I\\xe2\\x80\\x99m dead\\xf0\\x9f\\x92\\x80 but also syd your smile is literally beautiful\\xf0\\x9f\\xa4\\xa9 and yes I agree abt the weather changing my mood, I literally don\\xe2\\x80\\x99t want to do anything when it\\xe2\\x80\\x99s cloudy\"\",0,,CS\";;;;;;;;;\\r\\n2021-11-12,2021-12-15,sydneyserena,VIDEO,https://www.youtube.com/watch?v=V467rq8OVsc,Youtube,How can you eat that small... Is this really how much some people eat in a day? No hate just surprised,0,,CS;;;;;;;;;\\r\\n2021-11-12,2021-12-15,sydneyserena,VIDEO,https://www.youtube.com/watch?v=V467rq8OVsc,Youtube,Love you syd\\xe2\\x98\\xb9\\xef\\xb8\\x8f\\xf0\\x9f\\x92\\x97,0,,CS;;;;;;;;;\\r\\n2021-11-12,2021-12-15,sydneyserena,VIDEO,https://www.youtube.com/watch?v=V467rq8OVsc,Youtube,Okay but I love how realistic this is because it is really hard to plan meals and everything while you are in college ( lol I love the fact that I&#39;m talking like I&#39;m a college student) \\xf0\\x9f\\x98\\x82\\xf0\\x9f\\x98\\x82,0,lol,CS;;;;;;;\\r\\n\"2021-11-12,2021-12-15,sydneyserena,VIDEO,https://www.youtube.com/watch?v=V467rq8OVsc,Youtube,\"\"I thought I was the only one who puts peanut butter in their oatmeal, but I can guess I&#39\";m not alone; it honestly brings out more flavor to it &amp; I love adding strawberries, bananas, &amp;\" honey to my oatmeal too!!\"\",0,\"\"@Zoe Jones it\\xe2\\x80\\x99s so good, isn\\xe2\\x80\\x99t it? it\\xe2\\x80\\x99s my new favorite obsession\"\",CS\";;;;;\\r\\n2021-11-12,2021-12-15,sydneyserena,VIDEO,https://www.youtube.com/watch?v=V467rq8OVsc,Youtube,Your so pretty omg,0,,CS;;;;;;;;;\\r\\n2021-11-12,2021-12-15,sydneyserena,VIDEO,https://www.youtube.com/watch?v=V467rq8OVsc,Youtube,I watch your videos all the time and they&#39;re so funny,0,,CS;;;;;;;;\\r\\n\"2021-11-12,2021-12-15,sydneyserena,VIDEO,https://www.youtube.com/watch?v=V467rq8OVsc,Youtube,\"\"once I commented on one of her vids saying how overrated she is. now that ive watched all her content,i realised she has been my comfort and the most realistic YouTuber for the whole year.she deserves so much love \\xe2\\x9d\\xa4\\xef\\xb8\\x8f\"\",0,,CS\";;;;;;;;;\\r\\n2021-11-12,2021-12-15,sydneyserena,VIDEO,https://www.youtube.com/watch?v=V467rq8OVsc,Youtube,First love your vids hope your college is easy for u,0,,CS;;;;;;;;;\\r\\n2021-11-12,2021-12-15,sydneyserena,VIDEO,https://www.youtube.com/watch?v=V467rq8OVsc,Youtube,Best channel I&#39;ve seen keep it up\\xf0\\x9f\\xa4\\x8d\\xf0\\x9f\\x87\\xb8\\xf0\\x9f\\x87\\xa6,0,,CS;;;;;;;;\\r\\n\"2021-11-12,2021-12-15,sydneyserena,VIDEO,https://www.youtube.com/watch?v=V467rq8OVsc,Youtube,\"\"\\xd9\\x88\\xd9\\x84\\xd8\\xa7\\xda\\xaf \\xd8\\xaf\\xd8\\xa7\\xd9\\x86\\xd8\\xb4\\xda\\xaf\\xd8\\xa7\\xdb\\x95<br>my collage vlog \\xe2\\x98\\x9f\\xe2\\x98\\x9f\\xf0\\x9f\\x98\\x8d<br><a href=\"\"\"\"https://youtu.be/Jf0AfHLw118\"\"\"\">https://youtu.be/Jf0AfHLw118</a>\"\",0,,CS\";;;;;;;;;\\r\\n2021-11-12,2021-12-15,sydneyserena,VIDEO,https://www.youtube.com/watch?v=V467rq8OVsc,Youtube,Veryyyy good sedney\\xe2\\x9d\\xa4\\xef\\xb8\\x8f,0,,CS;;;;;;;;;\\r\\n2021-11-12,2021-12-15,sydneyserena,VIDEO,https://www.youtube.com/watch?v=V467rq8OVsc,Youtube,i just woke up to a new video and i couldn&#39;t be happier! love your videos!!\\xe2\\x9c\\xa8\\xf0\\x9f\\x92\\x95,0,,CS;;;;;;;;\\r\\n2021-11-12,2021-12-15,sydneyserena,VIDEO,https://www.youtube.com/watch?v=V467rq8OVsc,Youtube,FIRST,0,,CS;;;;;;;;;\\r\\n2021-11-12,2021-12-15,sydneyserena,VIDEO,https://www.youtube.com/watch?v=V467rq8OVsc,Youtube,Yess this is a thing I&#39;ve been saying for years. Weather really affect our mood. Sunny weather always make me soo energetic while cloudy days make me lazy \\xf0\\x9f\\x98\\x8c,0,,CS;;;;;;;;\\r\\n2021-11-12,2021-12-15,sydneyserena,VIDEO,https://www.youtube.com/watch?v=V467rq8OVsc,Youtube,Love you so much but when you said \\xe2\\x80\\x9cbon appetit\\xe2\\x80\\x9d I thought you said \\xe2\\x80\\x9cbueno petit\\xe2\\x80\\x9d and I was really confused \\xf0\\x9f\\x98\\x85,0,,CS;;;;;;;;;\\r\\n2021-11-12,2021-12-15,sydneyserena,VIDEO,https://www.youtube.com/watch?v=V467rq8OVsc,Youtube,You need to put some salsa on that wrap,0,,CS;;;;;;;;;\\r\\n2021-11-12,2021-12-15,sydneyserena,VIDEO,https://www.youtube.com/watch?v=V467rq8OVsc,Youtube,If it\\xe2\\x80\\x99s vegan it\\xe2\\x80\\x99s vegetarian,0,,CS;;;;;;;;;\\r\\n2021-11-12,2021-12-15,sydneyserena,VIDEO,https://www.youtube.com/watch?v=V467rq8OVsc,Youtube,syd you\\xe2\\x80\\x99re gorgeous!!,0,,CS;;;;;;;;;\\r\\n\"2021-11-12,2021-12-15,sydneyserena,VIDEO,https://www.youtube.com/watch?v=V467rq8OVsc,Youtube,\"\"My college diet was: 50% machine food, 25% hot dogs, 25% beer.\"\",0,\"\"<a href=\"\"\"\"https://youtu.be/sh7tL1c2aMU\"\"\"\">https://youtu.be/sh7tL1c2aMU</a> Starbucks Christmas :)\"\",CS\";;;;;;;;;\\r\\n2021-11-12,2021-12-15,sydneyserena,VIDEO,https://www.youtube.com/watch?v=V467rq8OVsc,Youtube,Love youuuuuuu pretty \\xf0\\x9f\\xa5\\xb0\\xe2\\x9d\\xa4\\xef\\xb8\\x8f\\xe2\\x9d\\xa4\\xef\\xb8\\x8f\\xe2\\x9d\\xa4\\xef\\xb8\\x8f,0,,CS;;;;;;;;;\\r\\n2021-11-12,2021-12-15,sydneyserena,VIDEO,https://www.youtube.com/watch?v=V467rq8OVsc,Youtube,Omg I love you so much,0,,CS;;;;;;;;;\\r\\n2021-11-12,2021-12-15,sydneyserena,VIDEO,https://www.youtube.com/watch?v=V467rq8OVsc,Youtube,you lowkey look like angelina jolie,0,,CS;;;;;;;;;\\r\\n2021-11-12,2021-12-15,sydneyserena,VIDEO,https://www.youtube.com/watch?v=V467rq8OVsc,Youtube,Good Vlog Video as always <br>\\xf0\\x9f\\x98\\xbbLovely thumbnail tho\\xf0\\x9f\\x98\\xbb<br>Your Pretty Self <br>Keep Them Coming <br>Happy Fabulous Weekend Too <br>\\xf0\\x9f\\x98\\x87Stay Bless n Be safe always\\xf0\\x9f\\x98\\x87,0,,CS;;;;;;;;;\\r\\n2021-11-12,2021-12-15,sydneyserena,VIDEO,https://www.youtube.com/watch?v=V467rq8OVsc,Youtube,Omg yes I\\xe2\\x80\\x99ve been missing your videos!!,0,,CS;;;;;;;;;\\r\\n2021-11-12,2021-12-15,sydneyserena,VIDEO,https://www.youtube.com/watch?v=V467rq8OVsc,Youtube,Hello \\xf0\\x9f\\x8c\\xb8,0,,CS;;;;;;;;;\\r\\n2021-11-12,2021-12-15,sydneyserena,VIDEO,https://www.youtube.com/watch?v=V467rq8OVsc,Youtube,I had a bad week and wanted Syd to upload and she did yay!!! I am in my 30s and live alone\\xe2\\x80\\xa6.I cooked more 4 times a week when I first moved out in my 20s. Now I just cook twice a week and eat out or go to my parents for dinner. <br><br>Cooking for one person is hard so I either just buy food or food that I can warm up\\xe2\\x80\\xa6\\xe2\\x80\\xa6easier for me.,0,,CS;;;;;;;;;\\r\\n2021-11-12,2021-12-15,sydneyserena,VIDEO,https://www.youtube.com/watch?v=V467rq8OVsc,Youtube,Love you \\xf0\\x9f\\xa4\\x8d\\xf0\\x9f\\xa4\\x8d\\xf0\\x9f\\xa4\\x8d\\xf0\\x9f\\xa4\\x8d,0,,CS;;;;;;;;;\\r\\n2021-11-12,2021-12-15,sydneyserena,VIDEO,https://www.youtube.com/watch?v=V467rq8OVsc,Youtube,OMG HI,0,,CS;;;;;;;;;\\r\\n2021-11-12,2021-12-15,sydneyserena,VIDEO,https://www.youtube.com/watch?v=V467rq8OVsc,Youtube,Do yall remember when Sydney didn&#39;t like caffee. \\xf0\\x9f\\x98\\x86 those were the times,0,,CS;;;;;;;;\\r\\n2021-11-12,2021-12-15,sydneyserena,VIDEO,https://www.youtube.com/watch?v=V467rq8OVsc,Youtube,This sucks I can&#39;t seem to watch your vlog it says it&#39;s unavailable,0,,CS;;;;;;;\\r\\n2021-11-12,2021-12-15,sydneyserena,VIDEO,https://www.youtube.com/watch?v=V467rq8OVsc,Youtube,remember when Sydney was a vegan,0,,CS;;;;;;;;;\\r\\n2021-11-12,2021-12-15,sydneyserena,VIDEO,https://www.youtube.com/watch?v=V467rq8OVsc,Youtube,this video should be sponsored by trader joes LOL,0,,CS;;;;;;;;;\\r\\n2021-11-12,2021-12-15,sydneyserena,VIDEO,https://www.youtube.com/watch?v=V467rq8OVsc,Youtube,First,0,,CS;;;;;;;;;\\r\\n2021-11-12,2021-12-15,sydneyserena,VIDEO,https://www.youtube.com/watch?v=V467rq8OVsc,Youtube,Hi,0,,CS;;;;;;;;;\\r\\n2021-11-12,2021-12-15,sydneyserena,VIDEO,https://www.youtube.com/watch?v=V467rq8OVsc,Youtube,YOU NEED TO EAT WAYYY MORE FOOD !!!!!,0,,CS;;;;;;;;;\\r\\n\"2021-11-12,2021-12-15,sydneyserena,VIDEO,https://www.youtube.com/watch?v=V467rq8OVsc,Youtube,\"\"ahh i love your food videos, i get so many ideas LOL\"\",0,,CS\";;;;;;;;;\\r\\n2021-11-12,2021-12-15,sydneyserena,VIDEO,https://www.youtube.com/watch?v=V467rq8OVsc,Youtube,I loved you more u are my fv youtuber \\xf0\\x9f\\x92\\x97\\xf0\\x9f\\x98\\x81,0,,CS;;;;;;;;;\\r\\n\"2021-11-12,2021-12-15,sydneyserena,VIDEO,https://www.youtube.com/watch?v=V467rq8OVsc,Youtube,\"\"why was the transition at <a href=\"\"\"\"https://www.youtube.com/watch?v=V467rq8OVsc&amp\";\"t=2m41s\"\"\"\">2:41</a> so smooth?\"\",0,,CS\";;;;;;;;\\r\\n2021-11-12,2021-12-15,sydneyserena,VIDEO,https://www.youtube.com/watch?v=V467rq8OVsc,Youtube,Awww\\xf0\\x9f\\xa4\\xa4\\xf0\\x9f\\x92\\x9e,0,,CS;;;;;;;;;\\r\\n2021-11-12,2021-12-15,sydneyserena,VIDEO,https://www.youtube.com/watch?v=V467rq8OVsc,Youtube,Syd I dare you to pin this!,0,,CS;;;;;;;;;\\r\\n2021-11-12,2021-12-15,sydneyserena,VIDEO,https://www.youtube.com/watch?v=V467rq8OVsc,Youtube,Hryyyyy,0,,CS;;;;;;;;;\\r\\n2021-11-12,2021-12-15,sydneyserena,VIDEO,https://www.youtube.com/watch?v=V467rq8OVsc,Youtube,she literally owns my heart &lt;3,0,,CS;;;;;;;;\\r\\n2021-11-12,2021-12-15,sydneyserena,VIDEO,https://www.youtube.com/watch?v=V467rq8OVsc,Youtube,your life is so aesthetic \\xf0\\x9f\\x92\\x95\\xf0\\x9f\\x92\\x95,0,,CS;;;;;;;;;\\r\\n2021-11-12,2021-12-15,sydneyserena,VIDEO,https://www.youtube.com/watch?v=V467rq8OVsc,Youtube,Love you babe!,0,,CS;;;;;;;;;\\r\\n2021-11-12,2021-12-15,sydneyserena,VIDEO,https://www.youtube.com/watch?v=V467rq8OVsc,Youtube,We get you Syd college life can get to you sometimes lol but everything did look yummy \\xf0\\x9f\\x98\\x8b Love you xoxo \\xf0\\x9f\\xa4\\x8d\\xf0\\x9f\\xa4\\x8d\\xf0\\x9f\\xa4\\x8d,0,,CS;;;;;;;;;\\r\\n2021-11-12,2021-12-15,sydneyserena,VIDEO,https://www.youtube.com/watch?v=V467rq8OVsc,Youtube,\\xf0\\x9f\\xa4\\x8d\\xf0\\x9f\\xa4\\x8d\\xf0\\x9f\\xa4\\x8d,0,,CS;;;;;;;;;\\r\\n2021-11-12,2021-12-15,sydneyserena,VIDEO,https://www.youtube.com/watch?v=V467rq8OVsc,Youtube,Great video! \\xe2\\x9d\\xa4\\xef\\xb8\\x8f,0,,CS;;;;;;;;;\\r\\n2021-11-12,2021-12-15,sydneyserena,VIDEO,https://www.youtube.com/watch?v=V467rq8OVsc,Youtube,can u do a day in ur life video?<br>ps: i love u,0,,CS;;;;;;;;;\\r\\n\"2021-11-12,2021-12-15,sydneyserena,VIDEO,https://www.youtube.com/watch?v=V467rq8OVsc,Youtube,\"\"early, love u!\"\",0,,CS\";;;;;;;;;\\r\\n2021-11-12,2021-12-15,sydneyserena,VIDEO,https://www.youtube.com/watch?v=V467rq8OVsc,Youtube,You look gorgeous without makeup \\xf0\\x9f\\x92\\x99\\xf0\\x9f\\x92\\x99,0,,CS;;;;;;;;;\\r\\n2021-11-12,2021-12-15,sydneyserena,VIDEO,https://www.youtube.com/watch?v=V467rq8OVsc,Youtube,Her vlog is very comforting! Please keep on doing goodwork syd we love you,0,,CS;;;;;;;;;\\r\\n2021-11-12,2021-12-15,sydneyserena,VIDEO,https://www.youtube.com/watch?v=V467rq8OVsc,Youtube,Missed u,0,,CS;;;;;;;;;\\r\\n2021-11-12,2021-12-15,sydneyserena,VIDEO,https://www.youtube.com/watch?v=V467rq8OVsc,Youtube,Pin this cause why not,0,,CS;;;;;;;;;\\r\\n2021-11-12,2021-12-15,sydneyserena,VIDEO,https://www.youtube.com/watch?v=V467rq8OVsc,Youtube,My finals are just two days far\\xf0\\x9f\\xa7\\x98\\xf0\\x9f\\x8f\\xbb\\xe2\\x80\\x8d\\xe2\\x99\\x80\\xef\\xb8\\x8f\\xf0\\x9f\\x98\\xad\\xf0\\x9f\\x98\\xad\\xf0\\x9f\\x98\\xad,0,,CS;;;;;;;;;\\r\\n2021-11-12,2021-12-15,sydneyserena,VIDEO,https://www.youtube.com/watch?v=V467rq8OVsc,Youtube,Syd ur life is such a vibe I love it!,0,,CS;;;;;;;;;\\r\\n2021-11-12,2021-12-15,sydneyserena,VIDEO,https://www.youtube.com/watch?v=V467rq8OVsc,Youtube,Be careful guys! Some universities see Chegg as academic dishonesty and you can get in a lot of trouble.,0,,CS;;;;;;;;;\\r\\n2021-11-12,2021-12-15,sydneyserena,VIDEO,https://www.youtube.com/watch?v=V467rq8OVsc,Youtube,you came early and you don&#39;t know what to write\\xf0\\x9f\\x98\\x82\\xf0\\x9f\\x98\\x82\\xf0\\x9f\\x98\\x82<br>Hi from Azerbaijan \\xf0\\x9f\\x87\\xa6\\xf0\\x9f\\x87\\xbf\\xf0\\x9f\\x92\\x9c,0,,CS;;;;;;;;\\r\\n2021-11-12,2021-12-15,sydneyserena,VIDEO,https://www.youtube.com/watch?v=V467rq8OVsc,Youtube,I love your videos so much Sydney,0,,CS;;;;;;;;;\\r\\n2021-11-12,2021-12-15,sydneyserena,VIDEO,https://www.youtube.com/watch?v=V467rq8OVsc,Youtube,The thumbnail looks so aesthetic!!,0,,CS;;;;;;;;;\\r\\n\"2021-11-12,2021-12-15,sydneyserena,VIDEO,https://www.youtube.com/watch?v=V467rq8OVsc,Youtube,\"\"<a href=\"\"\"\"https://www.youtube.com/watch?v=V467rq8OVsc&amp\";\"t=2m26s\"\"\"\">2:26</a> in Saudi Arabia Riyadh city it\\xe2\\x80\\x99s hot as fuck and we only have summer winter and after winter we will see a little bit of flowers so maybe spring,but in Riyadh if it  rains u will see every family outside enjoying the rain and living a happy life oh also we only have one month of winter and it is December and in the beginning of the year we see cute flowers and then all the months are summer\"\",0,,CS\";;;;;;;;\\r\\n2021-11-12,2021-12-15,sydneyserena,VIDEO,https://www.youtube.com/watch?v=V467rq8OVsc,Youtube,4th ahh ily Sydney,0,,CS;;;;;;;;;\\r\\n2021-11-12,2021-12-15,sydneyserena,VIDEO,https://www.youtube.com/watch?v=V467rq8OVsc,Youtube,Yay first x,0,,CS;;;;;;;;;\\r\\n2021-11-12,2021-12-15,sydneyserena,VIDEO,https://www.youtube.com/watch?v=V467rq8OVsc,Youtube,I love your dimples sm \\xf0\\x9f\\x92\\x9c,0,,CS;;;;;;;;;\\r\\n2021-11-12,2021-12-15,sydneyserena,VIDEO,https://www.youtube.com/watch?v=V467rq8OVsc,Youtube,Love from India \\xe2\\x9d\\xa4\\xe2\\x9d\\xa4\\xe2\\x9d\\xa4,0,,CS;;;;;;;;;\\r\\n\"2021-11-12,2021-12-15,sydneyserena,VIDEO,https://www.youtube.com/watch?v=V467rq8OVsc,Youtube,\"\"<a href=\"\"\"\"https://www.youtube.com/watch?v=V467rq8OVsc&amp\";\"t=12m13s\"\"\"\">12:13</a> I thought it was someone screaming LMAO\"\",0,,CS\";;;;;;;;\\r\\n2021-11-12,2021-12-15,sydneyserena,VIDEO,https://www.youtube.com/watch?v=V467rq8OVsc,Youtube,did u get sponsidered by trader joes,0,,CS;;;;;;;;;\\r\\n\"2021-11-12,2021-12-15,sydneyserena,VIDEO,https://www.youtube.com/watch?v=V467rq8OVsc,Youtube,\"\"I luv u a lot\\xe2\\x9d\\xa4\\xef\\xb8\\x8f\\xe2\\x9d\\xa4\\xef\\xb8\\x8f\\xe2\\x9d\\xa4\\xef\\xb8\\x8f!! ur amazing but recently u hv just been posting a day in my life, college, week in my life or eating stuff. I would love for u to do a prank or hacks kinda stuff too. just an advice do not take it to ur heart!\"\",0,,CS\";;;;;;;;;\\r\\n2021-11-12,2021-12-15,sydneyserena,VIDEO,https://www.youtube.com/watch?v=V467rq8OVsc,Youtube,Hi,0,,CS;;;;;;;;;\\r\\n2021-11-12,2021-12-15,sydneyserena,VIDEO,https://www.youtube.com/watch?v=V467rq8OVsc,Youtube,Eu adoro seus v\\xc3\\xaddeos \\xe2\\x9d\\xa4\\xef\\xb8\\x8f,0,,CS;;;;;;;;;\\r\\n2021-11-12,2021-12-15,sydneyserena,VIDEO,https://www.youtube.com/watch?v=V467rq8OVsc,Youtube,SYD I KNOW YOUVE DEFINITELY SEEN THOSE REINDEER CAKE POPS AT STARBUCKS. IF YOU HAVENT SEEN THEM YET IM PRETTY SURPRISED,0,,CS;;;;;;;;;\\r\\n\"2021-11-12,2021-12-15,sydneyserena,VIDEO,https://www.youtube.com/watch?v=V467rq8OVsc,Youtube,\"\"Ahh the weather\\xe2\\x80\\xa6 you need to eat more sunlight in the winter\\xe2\\x80\\xa6 <br><br>or get better lighting in your room, with like 5500-6000K indirect lighting for alertness, and &lt\";\"3000K for late evening. (Make a deal with lighting product company, Get better lighting, and do a subtle plug in your video about how you like it so much).\"\",0,,CS\";;;;;;;;\\r\\n2021-11-12,2021-12-15,sydneyserena,VIDEO,https://www.youtube.com/watch?v=V467rq8OVsc,Youtube,Early af,0,,CS;;;;;;;;;\\r\\n2021-11-12,2021-12-15,sydneyserena,VIDEO,https://www.youtube.com/watch?v=V467rq8OVsc,Youtube,What happened at first \\xf0\\x9f\\x98\\xad?,0,,CS;;;;;;;;;\\r\\n2021-11-12,2021-12-15,sydneyserena,VIDEO,https://www.youtube.com/watch?v=V467rq8OVsc,Youtube,\\xd8\\xad\\xd8\\xb6\\xd9\\x83\\xd9\\x85 \\xd8\\xb9\\xd9\\x86\\xd8\\xaf\\xd9\\x83\\xd9\\x85 \\xd8\\xa7\\xd9\\x84\\xd8\\xb5\\xd8\\xa8\\xd8\\xad,0,,CS;;;;;;;;;\\r\\n2021-11-12,2021-12-15,sydneyserena,VIDEO,https://www.youtube.com/watch?v=V467rq8OVsc,Youtube,Sydney: &quot;what i eat in a week at college.&quot;,0,,CS;;;;;;;\\r\\n2021-11-12,2021-12-15,sydneyserena,VIDEO,https://www.youtube.com/watch?v=V467rq8OVsc,Youtube,Hey Syd! this is Kloud from Kesem! thanks so much for the little gift\\xf0\\x9f\\x98\\x89,0,,CS;;;;;;;;;\\r\\n2021-11-12,2021-12-15,sydneyserena,VIDEO,https://www.youtube.com/watch?v=V467rq8OVsc,Youtube,Yess the weather has my mood everywhere!! It&#39;s honestly very weird \\xf0\\x9f\\x98\\x85,0,,CS;;;;;;;;\\r\\n2021-11-12,2021-12-15,sydneyserena,VIDEO,https://www.youtube.com/watch?v=V467rq8OVsc,Youtube,I can\\xe2\\x80\\x99t watch it\\xf0\\x9f\\x98\\xad just kidding now I can!,0,,CS;;;;;;;;;\\r\\n2021-11-12,2021-12-15,sydneyserena,VIDEO,https://www.youtube.com/watch?v=V467rq8OVsc,Youtube,Friends with me yes or no,0,Can we talk now yes or no,CS;;;;;;;;;\\r\\n\"2021-11-12,2021-12-15,sydneyserena,VIDEO,https://www.youtube.com/watch?v=V467rq8OVsc,Youtube,\"\"<a href=\"\"\"\"https://www.youtube.com/watch?v=V467rq8OVsc&amp\";\"t=2m30s\"\"\"\">2:30</a> That was so funny for me because here in my country cloudy / rainy are soooo rare days so I would be so happy and productive in those days \\xf0\\x9f\\x98\\x82\\xf0\\x9f\\x98\\x82, I mean not just me literally everyone get outside like if it was a holiday \\xf0\\x9f\\xa5\\xb0\"\",0,,CS\";;;;;;;;\\r\\n2021-11-12,2021-12-15,sydneyserena,VIDEO,https://www.youtube.com/watch?v=V467rq8OVsc,Youtube,~~~\\xe2\\x98\\x85,0,,CS;;;;;;;;;\\r\\n2021-11-12,2021-12-15,sydneyserena,VIDEO,https://www.youtube.com/watch?v=V467rq8OVsc,Youtube,i love watching these videos!!,0,,CS;;;;;;;;;\\r\\n2021-11-12,2021-12-15,sydneyserena,VIDEO,https://www.youtube.com/watch?v=V467rq8OVsc,Youtube,I don\\xe2\\x80\\x99t think your fridge likes you \\xf0\\x9f\\x98\\x82,0,,CS;;;;;;;;;\\r\\n2021-11-12,2021-12-15,sydneyserena,VIDEO,https://www.youtube.com/watch?v=V467rq8OVsc,Youtube,Syd are you vegetarian?,0,,CS;;;;;;;;;\\r\\n2021-11-12,2021-12-15,sydneyserena,VIDEO,https://www.youtube.com/watch?v=V467rq8OVsc,Youtube,syd is so cool and comforting. Wow.,0,,CS;;;;;;;;;\\r\\n\"2021-11-12,2021-12-15,sydneyserena,VIDEO,https://www.youtube.com/watch?v=V467rq8OVsc,Youtube,I kind of love how being healthy and happy is trendy,0,\"\"<a href=\"\"\"\"https://youtu.be/sh7tL1c2aMU\"\"\"\">https://youtu.be/sh7tL1c2aMU</a> Christmas vid :)\"\",CS\";;;;;;;;;\\r\\n\"2021-11-12,2021-12-15,sydneyserena,VIDEO,https://www.youtube.com/watch?v=V467rq8OVsc,Youtube,\"\"This is off topic but there\\xe2\\x80\\x99s this guy: we used to like each other in 3 and 7th grade. But now in freshman year, we barely talk and he\\xe2\\x80\\x99s changed. He was a jerk before but a nice one but now he\\xe2\\x80\\x99s an asshole and popular bc American high schools are weird \\xf0\\x9f\\x92\\x80. So it\\xe2\\x80\\x99s awkward between us and I have math with him but he always talks to his friends or this one girl. I think I still like him but I\\xe2\\x80\\x99m not sure if I do. And the thing is every time we pass each other we make eye contact\\xe2\\x80\\xa6 idk if I\\xe2\\x80\\x99m reading the signs wrong tho. And before we really liked each other we did the thing where you would look at each other and smile. And we always talked. I need help deciding if I should shoot my shot. Help a girl out? \\xf0\\x9f\\x99\\x8f\"\",0,,CS\";;;;;;;;;\\r\\n2021-11-12,2021-12-15,sydneyserena,VIDEO,https://www.youtube.com/watch?v=V467rq8OVsc,Youtube,i think syd really likes trader joe\\xe2\\x80\\x99s,0,,CS;;;;;;;;;\\r\\n\"2021-11-12,2021-12-15,sydneyserena,VIDEO,https://www.youtube.com/watch?v=V467rq8OVsc,Youtube,\"\"I luv u a lot\\xe2\\x9d\\xa4\\xef\\xb8\\x8f\\xe2\\x9d\\xa4\\xef\\xb8\\x8f\\xe2\\x9d\\xa4\\xef\\xb8\\x8f!! ur amazing but recently u hv just been posting a day in my life, college, week in my life or eating stuff. I would love for u to do a prank or hacks kinda stuff too. just an advice do not take it to ur heart!\"\",0,,CS\";;;;;;;;;\\r\\n\"2021-11-12,2021-12-15,sydneyserena,VIDEO,https://www.youtube.com/watch?v=V467rq8OVsc,Youtube,\"\"Your videos always make my day!! you can always manage to put a smile on my face, I love you so much &lt\";\"3\"\",0,,CS\";;;;;;;;\\r\\n2021-11-12,2021-12-15,sydneyserena,VIDEO,https://www.youtube.com/watch?v=V467rq8OVsc,Youtube,did she skipped thursday,0,,CS;;;;;;;;;\\r\\n2021-11-12,2021-12-15,sydneyserena,VIDEO,https://www.youtube.com/watch?v=V467rq8OVsc,Youtube,Hy I&#39;m from fiji,0,,CS;;;;;;;;\\r\\n2021-11-12,2021-12-15,sydneyserena,VIDEO,https://www.youtube.com/watch?v=V467rq8OVsc,Youtube,hi sydney where did u bought ur slippers?,0,,CS;;;;;;;;;\\r\\n2021-11-12,2021-12-15,sydneyserena,VIDEO,https://www.youtube.com/watch?v=V467rq8OVsc,Youtube,HI,0,,CS;;;;;;;;;\\r\\n2021-11-12,2021-12-15,sydneyserena,VIDEO,https://www.youtube.com/watch?v=V467rq8OVsc,Youtube,YESSSS,0,,CS;;;;;;;;;\\r\\n2021-11-12,2021-12-15,sydneyserena,VIDEO,https://www.youtube.com/watch?v=V467rq8OVsc,Youtube,the fridge hahahahha,0,,CS;;;;;;;;;\\r\\n2021-11-12,2021-12-15,sydneyserena,VIDEO,https://www.youtube.com/watch?v=V467rq8OVsc,Youtube,i litteraly love ur videos smm,0,,CS;;;;;;;;;\\r\\n2021-11-12,2021-12-15,sydneyserena,VIDEO,https://www.youtube.com/watch?v=V467rq8OVsc,Youtube,Yes the weather is a thing syd it also get me I feel kind of unproductive and sad when it&#39;s cloudy,0,,CS;;;;;;;;\\r\\n\"2021-11-12,2021-12-15,sydneyserena,VIDEO,https://www.youtube.com/watch?v=V467rq8OVsc,Youtube,\"\"I just love her so much, I am so proud of her and how she has grown. I aspire to be her\"\",0,\"\"Sydney: &quot\";hey guys, it&#39;s syd...welcome back!&quot;\",CS\\n2021-11-12,2021-12-15,sydneyserena,VIDEO,https://www.youtube.com/watch?v=V467rq8OVsc,Youtube,I missed you syddy \\xf0\\x9f\\xa5\\xba You&#39;re so pretty Lysm \\xe2\\x9d\\xa4\\xef\\xb8\\x8f,0,,CS\\n2021-11-12,2021-12-15,sydneyserena,VIDEO,https://www.youtube.com/watch?v=V467rq8OVsc,Youtube,EARLY,0,,CS\\n2021-11-8,2021-12-01,medstudebt,VIDEO,https://www.tiktok.com/@medstudebt/video/7028312361073429765?lang=en,TikTok,is this university of washington?,0,,CS\\n2021-9-12,2021-12-01,espdaniella,VIDEO,https://www.tiktok.com/@espdaniella/video/7007109992926989574?lang=en,TikTok,Use course hero instead,0,,CS\\n2021-9-12,2021-12-01,espdaniella,VIDEO,https://www.tiktok.com/@espdaniella/video/7007109992926989574?lang=en,TikTok,hiii\";;;;;;\\r\\n\"pls any scholarship for nigerain student to study abroad\"\",0,,CS\";;;;;;;;;\\r\\n2021-9-12,2021-12-01,espdaniella,VIDEO,https://www.tiktok.com/@espdaniella/video/7007109992926989574?lang=en,TikTok,I live in ethiopia big fan by the way...my school grades are between good and average can I get a scholarship?,0,,CS;;;;;;;;;\\r\\n2021-9-12,2021-12-01,espdaniella,VIDEO,https://www.tiktok.com/@espdaniella/video/7007109992926989574?lang=en,TikTok,Yep lmao,0,,CS;;;;;;;;;\\r\\n2021-9-12,2021-12-01,espdaniella,VIDEO,https://www.tiktok.com/@espdaniella/video/7007109992926989574?lang=en,TikTok,i mean i\\xe2\\x80\\x99d assume so,0,,CS;;;;;;;;;\\r\\n2021-9-12,2021-12-01,espdaniella,VIDEO,https://www.tiktok.com/@espdaniella/video/7007109992926989574?lang=en,TikTok,Worth every penny!!!!,0,,CS;;;;;;;;;\\r\\n\"2021-9-12,2021-12-01,espdaniella,VIDEO,https://www.tiktok.com/@espdaniella/video/7007109992926989574?lang=en,TikTok,\"\"I\\'m applying for a scholarship and when answering what my gpa is, I didn\\'t know what year of highschool I should answer with\"\",0,,CS\";;;;;;;;;\\r\\n2021-9-12,2021-12-01,espdaniella,VIDEO,https://www.tiktok.com/@espdaniella/video/7007109992926989574?lang=en,TikTok,It got answers ?,0,,CS;;;;;;;;;\\r\\n2021-9-12,2021-12-01,espdaniella,VIDEO,https://www.tiktok.com/@espdaniella/video/7007109992926989574?lang=en,TikTok,We\\xe2\\x80\\x99re not allowed to use this at my university \\xf0\\x9f\\x99\\x83,0,,CS;;;;;;;;;\\r\\n2021-9-12,2021-12-01,espdaniella,VIDEO,https://www.tiktok.com/@espdaniella/video/7007109992926989574?lang=en,TikTok,Congratulations,0,,CS;;;;;;;;;\\r\\n2021-9-12,2021-12-01,espdaniella,VIDEO,https://www.tiktok.com/@espdaniella/video/7007109992926989574?lang=en,TikTok,Chegg is not that good and you have to pay for it,0,,CS;;;;;;;;;\\r\\n2021-9-12,2021-12-01,espdaniella,VIDEO,https://www.tiktok.com/@espdaniella/video/7007109992926989574?lang=en,TikTok,Excellent resource! Bravo for posting! HS college counselor here....you do great vids,0,,CS;;;;;;;;;\\r\\n2021-9-12,2021-12-01,espdaniella,VIDEO,https://www.tiktok.com/@espdaniella/video/7007109992926989574?lang=en,TikTok,is it possible for kids like me to win scholarships if we\\'re homeschooled through highschool,0,,CS;;;;;;;;;\\r\\n2021-9-12,2021-12-01,espdaniella,VIDEO,https://www.tiktok.com/@espdaniella/video/7007109992926989574?lang=en,TikTok,Yup,0,,CS;;;;;;;;;\\r\\n2021-8-28,2021-12-01,j0siahyoung,VIDEO,https://www.tiktok.com/@j0siahyoung/video/7001634150570560769?lang=en,TikTok,First,0,,CS;;;;;;;;;\\r\\n2021-8-28,2021-12-01,j0siahyoung,VIDEO,https://www.tiktok.com/@j0siahyoung/video/7001634150570560769?lang=en,TikTok,5 mins,0,,CS;;;;;;;;;\\r\\n2021-9-16,2021-12-01,j0siahyoung,VIDEO,https://www.tiktok.com/@j0siahyoung/video/7008763593508408578?lang=en,TikTok,hi,0,,CS;;;;;;;;;\\r\\n2021-9-16,2021-12-01,j0siahyoung,VIDEO,https://www.tiktok.com/@j0siahyoung/video/7008763593508408578?lang=en,TikTok,In first for a first \\xf0\\x9f\\x98\\xb3,0,,CS;;;;;;;;;\\r\\n2021-9-16,2021-12-01,j0siahyoung,VIDEO,https://www.tiktok.com/@j0siahyoung/video/7008763593508408578?lang=en,TikTok,I\\'m**,0,,CS;;;;;;;;;\\r\\n2021-9-16,2021-12-01,j0siahyoung,VIDEO,https://www.tiktok.com/@j0siahyoung/video/7008763593508408578?lang=en,TikTok,hi,0,,CS;;;;;;;;;\\r\\n\"2021-9-11,2021-12-01,themccartys,VIDEO,https://www.tiktok.com/@themccartys/video/7006777814015855878?lang=en,TikTok,\"\"Love you, Charlene!!! It\\xe2\\x80\\x99s all gonna be ok \\xf0\\x9f\\x98\\x98 thanks for being awesome \\xf0\\x9f\\xa5\\xb0\"\",0,,CS\";;;;;;;;;\\r\\n2021-9-11,2021-12-01,themccartys,VIDEO,https://www.tiktok.com/@themccartys/video/7006777814015855878?lang=en,TikTok,21st. \\xf0\\x9f\\x98\\x82\\xf0\\x9f\\x98\\x82,0,,CS;;;;;;;;;\\r\\n2021-9-11,2021-12-01,themccartys,VIDEO,https://www.tiktok.com/@themccartys/video/7006777814015855878?lang=en,TikTok,Oh come on now,0,,CS;;;;;;;;;\\r\\n2021-9-11,2021-12-01,themccartys,VIDEO,https://www.tiktok.com/@themccartys/video/7006777814015855878?lang=en,TikTok,yessir\\xf0\\x9f\\x98\\x82\\xf0\\x9f\\x98\\x82\\xf0\\x9f\\x98\\x82\\xf0\\x9f\\xa5\\xb0\\xf0\\x9f\\xa5\\xb0\\xf0\\x9f\\xa5\\xb0,0,,CS;;;;;;;;;\\r\\n2021-9-11,2021-12-01,themccartys,VIDEO,https://www.tiktok.com/@themccartys/video/7006777814015855878?lang=en,TikTok,\\xf0\\x9f\\x98\\xb3\\xf0\\x9f\\x98\\x82,0,,CS;;;;;;;;;\\r\\n2021-9-11,2021-12-01,themccartys,VIDEO,https://www.tiktok.com/@themccartys/video/7006777814015855878?lang=en,TikTok,\\xf0\\x9f\\x98\\x82\\xf0\\x9f\\x98\\x82\\xf0\\x9f\\x98\\x82 now I will check out Chegg,0,,CS;;;;;;;;;\\r\\n2021-9-11,2021-12-01,themccartys,VIDEO,https://www.tiktok.com/@themccartys/video/7006777814015855878?lang=en,TikTok,Chegg is the reason I will ruin lives as a doctor,0,,CS;;;;;;;;;\\r\\n2021-9-11,2021-12-01,themccartys,VIDEO,https://www.tiktok.com/@themccartys/video/7006777814015855878?lang=en,TikTok,Hey,0,,CS;;;;;;;;;\\r\\n\"2021-9-11,2021-12-01,themccartys,VIDEO,https://www.tiktok.com/@themccartys/video/7006777814015855878?lang=en,TikTok,\"\"This seems like it would only work for neurotypical people, have any neurodivergent people tested this out!?\"\",0,,CS\";;;;;;;;;\\r\\n2021-9-11,2021-12-01,themccartys,VIDEO,https://www.tiktok.com/@themccartys/video/7006777814015855878?lang=en,TikTok,haha,0,,CS;;;;;;;;;\\r\\n2021-9-11,2021-12-01,themccartys,VIDEO,https://www.tiktok.com/@themccartys/video/7006777814015855878?lang=en,TikTok,They grow up so fast,0,,CS;;;;;;;;;\\r\\n2021-9-11,2021-12-01,themccartys,VIDEO,https://www.tiktok.com/@themccartys/video/7006777814015855878?lang=en,TikTok,omg lol so this is what Audri will look like \\xf0\\x9f\\x98\\x82\\xf0\\x9f\\xa5\\xb0\\xf0\\x9f\\xa5\\xb0,0,,CS;;;;;;;;;\\r\\n\"2021-9-11,2021-12-01,themccartys,VIDEO,https://www.tiktok.com/@themccartys/video/7006777814015855878?lang=en,TikTok,\"\"My momma made that, as a teen \\xf0\\x9f\\x98\\xb3\\xf0\\x9f\\x98\\x82\"\",0,,CS\";;;;;;;;;\\r\\n2021-9-11,2021-12-01,themccartys,VIDEO,https://www.tiktok.com/@themccartys/video/7006777814015855878?lang=en,TikTok,And then she woke up and remembered every single one of her other teachers assigned home work,0,,CS;;;;;;;;;\\r\\n2021-9-11,2021-12-01,themccartys,VIDEO,https://www.tiktok.com/@themccartys/video/7006777814015855878?lang=en,TikTok,I would hope so \\xf0\\x9f\\x98\\x82,0,,CS;;;;;;;;;\\r\\n2021-11-12,2021-12-01,fernsulantay,VIDEO,https://www.tiktok.com/@fernsulantay/video/7029711391799987461?lang=en,TikTok,\\xf0\\x9f\\xa5\\xb0,0,,CS;;;;;;;;;\\r\\n2021-11-12,2021-12-01,fernsulantay,VIDEO,https://www.tiktok.com/@fernsulantay/video/7029711391799987461?lang=en,TikTok,Any tips or website for writing a long paper? \\xf0\\x9f\\x98\\xac,0,,CS;;;;;;;;;\\r\\n2021-11-12,2021-12-01,fernsulantay,VIDEO,https://www.tiktok.com/@fernsulantay/video/7029711391799987461?lang=en,TikTok,As far as Im aware they dont \\xf0\\x9f\\xa5\\xba,0,,CS;;;;;;;;;\\r\\n2021-11-24,2021-12-15,pacollective,VIDEO,https://www.tiktok.com/@pacollective/video/7033946265146756357?lang=en,TikTok,How did you get through chem \\xf0\\x9f\\x98\\xab,0,,CS;;;;;;;;;\\r\\n2021-10-15,2021-12-01,rrogersworld,VIDEO,https://www.tiktok.com/@rrogersworld/video/7019375006417308934?lang=en,TikTok,OMG ealryyyy can you say hi??,0,,CS;;;;;;;;;\\r\\n2021-10-15,2021-12-01,rrogersworld,VIDEO,https://www.tiktok.com/@rrogersworld/video/7019375006417308934?lang=en,TikTok,Same,0,,CS;;;;;;;;;\\r\\n2021-10-15,2021-12-01,rrogersworld,VIDEO,https://www.tiktok.com/@rrogersworld/video/7019375006417308934?lang=en,TikTok,I still don\\xe2\\x80\\x99t believe algebra is a needed skill for certain professions it is but my job I never deal with any thing more then affliction and sub,0,,CS;;;;;;;;;\\r\\n2021-10-15,2021-12-01,rrogersworld,VIDEO,https://www.tiktok.com/@rrogersworld/video/7019375006417308934?lang=en,TikTok,Stuff,0,,CS;;;;;;;;;\\r\\n2021-10-15,2021-12-01,rrogersworld,VIDEO,https://www.tiktok.com/@rrogersworld/video/7019375006417308934?lang=en,TikTok,for your story times how do I send you my story,0,,CS;;;;;;;;;\\r\\n2021-10-15,2021-12-01,rrogersworld,VIDEO,https://www.tiktok.com/@rrogersworld/video/7019375006417308934?lang=en,TikTok,This helps,0,,CS;;;;;;;;;\\r\\n2021-10-15,2021-12-01,rrogersworld,VIDEO,https://www.tiktok.com/@rrogersworld/video/7019375006417308934?lang=en,TikTok,Conner: \\xf0\\x9f\\x91\\x81\\xf0\\x9f\\x91\\x84\\xf0\\x9f\\x91\\x81,0,,CS;;;;;;;;;\\r\\n2021-10-15,2021-12-01,rrogersworld,VIDEO,https://www.tiktok.com/@rrogersworld/video/7019375006417308934?lang=en,TikTok,My student loan gives me chegg for free for 6 months,0,,CS;;;;;;;;;\\r\\n2021-10-15,2021-12-01,rrogersworld,VIDEO,https://www.tiktok.com/@rrogersworld/video/7019375006417308934?lang=en,TikTok,Khan academy,0,,CS;;;;;;;;;\\r\\n2021-10-15,2021-12-01,rrogersworld,VIDEO,https://www.tiktok.com/@rrogersworld/video/7019375006417308934?lang=en,TikTok,i am the exact opposite of you,0,,CS;;;;;;;;;\\r\\n2021-10-15,2021-12-01,rrogersworld,VIDEO,https://www.tiktok.com/@rrogersworld/video/7019375006417308934?lang=en,TikTok,chegg is great but you can also use symbolab and khan academy :) coming from a math student and khan is free,0,,CS;;;;;;;;;\\r\\n2021-10-15,2021-12-01,rrogersworld,VIDEO,https://www.tiktok.com/@rrogersworld/video/7019375006417308934?lang=en,TikTok,Going to a different math teacher once helped me with a math problem because I definitely needed my problem explained in a different way \\xe2\\x98\\xba\\xef\\xb8\\x8f\\xe2\\x98\\xba\\xef\\xb8\\x8f,0,,CS;;;;;;;;;\\r\\n2021-10-15,2021-12-01,rrogersworld,VIDEO,https://www.tiktok.com/@rrogersworld/video/7019375006417308934?lang=en,TikTok,As a,0,,CS;;;;;;;;;\\r\\n2021-10-15,2021-12-01,rrogersworld,VIDEO,https://www.tiktok.com/@rrogersworld/video/7019375006417308934?lang=en,TikTok,I actually use chegg for my college classes aha. Online bachelors degree for game design at full sail university chegg really does help,0,,CS;;;;;;;;;\\r\\n2021-10-15,2021-12-01,rrogersworld,VIDEO,https://www.tiktok.com/@rrogersworld/video/7019375006417308934?lang=en,TikTok,English was the hardest for me math and history was my best subjects,0,,CS;;;;;;;;;\\r\\n2021-10-15,2021-12-01,rrogersworld,VIDEO,https://www.tiktok.com/@rrogersworld/video/7019375006417308934?lang=en,TikTok,Posted seven minutes ago,0,,CS;;;;;;;;;\\r\\n2021-10-15,2021-12-01,rrogersworld,VIDEO,https://www.tiktok.com/@rrogersworld/video/7019375006417308934?lang=en,TikTok,I love your marvel posters!,0,,CS;;;;;;;;;\\r\\n2021-10-15,2021-12-01,rrogersworld,VIDEO,https://www.tiktok.com/@rrogersworld/video/7019375006417308934?lang=en,TikTok,Downloaded as soon you said has all other stuuf,0,,CS;;;;;;;;;\\r\\n2021-10-15,2021-12-01,rrogersworld,VIDEO,https://www.tiktok.com/@rrogersworld/video/7019375006417308934?lang=en,TikTok,early,0,,CS;;;;;;;;;\\r\\n2021-10-15,2021-12-01,rrogersworld,VIDEO,https://www.tiktok.com/@rrogersworld/video/7019375006417308934?lang=en,TikTok,Math is from the devil.,0,,CS;;;;;;;;;\\r\\n2021-10-15,2021-12-01,rrogersworld,VIDEO,https://www.tiktok.com/@rrogersworld/video/7019375006417308934?lang=en,TikTok,I\\xe2\\x80\\x99m an English teacher and sometimes I can\\xe2\\x80\\x99t English too. \\xf0\\x9f\\x98\\x85,0,,CS;;;;;;;;;\\r\\n\"2021-10-15,2021-12-01,rrogersworld,VIDEO,https://www.tiktok.com/@rrogersworld/video/7019375006417308934?lang=en,TikTok,\"\"hey hello, great see profile\\xf0\\x9f\\xa4\\xa9\"\",0,,CS\";;;;;;;;;\\r\\n2021-10-15,2021-12-01,rrogersworld,VIDEO,https://www.tiktok.com/@rrogersworld/video/7019375006417308934?lang=en,TikTok,Khan academy,0,,CS;;;;;;;;;\\r\\n2021-10-15,2021-12-01,rrogersworld,VIDEO,https://www.tiktok.com/@rrogersworld/video/7019375006417308934?lang=en,TikTok,Dang it I\\'m late,0,,CS;;;;;;;;;\\r\\n2021-10-15,2021-12-01,rrogersworld,VIDEO,https://www.tiktok.com/@rrogersworld/video/7019375006417308934?lang=en,TikTok,\\xf0\\x9f\\x98\\x82 Conner is such a classic character!,0,,CS;;;;;;;;;\\r\\n2021-10-15,2021-12-01,rrogersworld,VIDEO,https://www.tiktok.com/@rrogersworld/video/7019375006417308934?lang=en,TikTok,Kahn academy is the MVP for explaining math tbh... and its free \\xf0\\x9f\\x98\\x8f,0,,CS;;;;;;;;;\\r\\n2021-10-15,2021-12-01,rrogersworld,VIDEO,https://www.tiktok.com/@rrogersworld/video/7019375006417308934?lang=en,TikTok,2nd,0,,CS;;;;;;;;;\\r\\n\"2021-10-15,2021-12-01,rrogersworld,VIDEO,https://www.tiktok.com/@rrogersworld/video/7019375006417308934?lang=en,TikTok,\"\"Omg,WHY wasnt this around when i was in still in school 10 plus years ago?!\\xf0\\x9f\\x98\\x82\"\",0,,CS\";;;;;;;;;\\r\\n2021-10-15,2021-12-01,rrogersworld,VIDEO,https://www.tiktok.com/@rrogersworld/video/7019375006417308934?lang=en,TikTok,I finally found you I always see u I. YouTube,0,,CS;;;;;;;;;\\r\\n2021-10-15,2021-12-01,rrogersworld,VIDEO,https://www.tiktok.com/@rrogersworld/video/7019375006417308934?lang=en,TikTok,Miss Rogers was mr. Rogers a father\\xf0\\x9f\\x98\\x82\\xf0\\x9f\\x98\\x82\\xf0\\x9f\\x98\\x82\\xf0\\x9f\\x98\\x82\\xf0\\x9f\\x98\\x82\\xf0\\x9f\\x98\\x82\\xf0\\x9f\\x98\\x82\\xf0\\x9f\\x98\\x82\\xf0\\x9f\\x98\\x82\\xf0\\x9f\\x98\\x85\\xf0\\x9f\\x98\\x85\\xf0\\x9f\\x98\\x85\\xf0\\x9f\\x98\\x85\\xf0\\x9f\\x98\\x85\\xf0\\x9f\\x98\\x85,0,,CS;;;;;;;;;\\r\\n2021-10-15,2021-12-01,rrogersworld,VIDEO,https://www.tiktok.com/@rrogersworld/video/7019375006417308934?lang=en,TikTok,You are such an amazing teacher!,0,,CS;;;;;;;;;\\r\\n2021-10-15,2021-12-01,rrogersworld,VIDEO,https://www.tiktok.com/@rrogersworld/video/7019375006417308934?lang=en,TikTok,I can\\xe2\\x80\\x99t math either,0,,CS;;;;;;;;;\\r\\n2021-10-15,2021-12-01,rrogersworld,VIDEO,https://www.tiktok.com/@rrogersworld/video/7019375006417308934?lang=en,TikTok,and more you just said that is has text book,0,,CS;;;;;;;;;\\r\\n2021-10-15,2021-12-01,rrogersworld,VIDEO,https://www.tiktok.com/@rrogersworld/video/7019375006417308934?lang=en,TikTok,technically math is a language,0,,CS;;;;;;;;;\\r\\n2021-10-14,2021-12-01,lifeincollege,VIDEO,https://www.tiktok.com/@lifeincollege/video/7019016173169675526?lang=en,TikTok,Omw to get my grades up \\xf0\\x9f\\x98\\xad\\xf0\\x9f\\xa4\\x9a,0,,CS;;;;;;;;;\\r\\n2021-10-14,2021-12-01,lifeincollege,VIDEO,https://www.tiktok.com/@lifeincollege/video/7019016173169675526?lang=en,TikTok,My class ends next week this would\\xe2\\x80\\x99ve helped me sm \\xf0\\x9f\\x98\\xad,0,,CS;;;;;;;;;\\r\\n2021-10-14,2021-12-01,lifeincollege,VIDEO,https://www.tiktok.com/@lifeincollege/video/7019016173169675526?lang=en,TikTok,Brutal,0,,CS;;;;;;;;;\\r\\n2021-10-19,2021-12-01,maddyspencer5,VIDEO,https://www.tiktok.com/@maddyspencer5/video/7020752133184097537?lang=en,TikTok,This Cheggs out \\xf0\\x9f\\x98\\x8e,0,,CS;;;;;;;;;\\r\\n2021-10-19,2021-12-01,maddyspencer5,VIDEO,https://www.tiktok.com/@maddyspencer5/video/7020752133184097537?lang=en,TikTok,I don\\'t have to wait for my salary anymore and every of my dept has been paid...its all because @KARINA REEVES,0,,CS;;;;;;;;;\\r\\n2021-10-8,2021-12-01,cloutom,VIDEO,https://www.tiktok.com/@cloutom/video/7016955575757966593?is_from_webapp=v1,TikTok,That\\xe2\\x80\\x99s easy stuff,0,,CS;;;;;;;;;\\r\\n2021-10-8,2021-12-01,cloutom,VIDEO,https://www.tiktok.com/@cloutom/video/7016955575757966593?is_from_webapp=v1,TikTok,\\xf0\\x9f\\x98\\x80\\xf0\\x9f\\x98\\x80\\xf0\\x9f\\x98\\x80wow thx have a great day and have a wonderful day,0,,CS;;;;;;;;;\\r\\n2021-10-8,2021-12-01,cloutom,VIDEO,https://www.tiktok.com/@cloutom/video/7016955575757966593?is_from_webapp=v1,TikTok,55 mins ago,0,,CS;;;;;;;;;\\r\\n2021-10-8,2021-12-01,cloutom,VIDEO,https://www.tiktok.com/@cloutom/video/7016955575757966593?is_from_webapp=v1,TikTok,Nah i jus guess and keep it pushin,0,,CS;;;;;;;;;\\r\\n2021-10-8,2021-12-01,cloutom,VIDEO,https://www.tiktok.com/@cloutom/video/7016955575757966593?is_from_webapp=v1,TikTok,Early,0,,CS;;;;;;;;;\\r\\n2021-10-8,2021-12-01,cloutom,VIDEO,https://www.tiktok.com/@cloutom/video/7016955575757966593?is_from_webapp=v1,TikTok,I\\xe2\\x80\\x99m a cutie,0,,CS;;;;;;;;;\\r\\n2021-10-8,2021-12-01,cloutom,VIDEO,https://www.tiktok.com/@cloutom/video/7016955575757966593?is_from_webapp=v1,TikTok,grade 11 be like!!!UwU,0,,CS;;;;;;;;;\\r\\n2021-10-8,2021-12-01,cloutom,VIDEO,https://www.tiktok.com/@cloutom/video/7016955575757966593?is_from_webapp=v1,TikTok,@TOM you can also just scan it with Snapchat for the answer \\xf0\\x9f\\x98\\x8f,0,,CS;;;;;;;;;\\r\\n2021-10-8,2021-12-01,cloutom,VIDEO,https://www.tiktok.com/@cloutom/video/7016955575757966593?is_from_webapp=v1,TikTok,they have also the test,0,,CS;;;;;;;;;\\r\\n2021-10-8,2021-12-01,cloutom,VIDEO,https://www.tiktok.com/@cloutom/video/7016955575757966593?is_from_webapp=v1,TikTok,hi,0,,CS;;;;;;;;;\\r\\n2021-10-8,2021-12-01,cloutom,VIDEO,https://www.tiktok.com/@cloutom/video/7016955575757966593?is_from_webapp=v1,TikTok,I cant tell if this is cheating or not? \\xf0\\x9f\\xa4\\x94,0,,CS;;;;;;;;;\\r\\n2021-10-8,2021-12-01,cloutom,VIDEO,https://www.tiktok.com/@cloutom/video/7016955575757966593?is_from_webapp=v1,TikTok,teacher will watch you video\\xf0\\x9f\\x98\\x82,0,,CS;;;;;;;;;\\r\\n2021-10-8,2021-12-01,cloutom,VIDEO,https://www.tiktok.com/@cloutom/video/7016955575757966593?is_from_webapp=v1,TikTok,or listen in class,0,,CS;;;;;;;;;\\r\\n2021-10-8,2021-12-01,cloutom,VIDEO,https://www.tiktok.com/@cloutom/video/7016955575757966593?is_from_webapp=v1,TikTok,It\\xe2\\x80\\x99s grade 10 lol,0,,CS;;;;;;;;;\\r\\n2021-10-8,2021-12-01,cloutom,VIDEO,https://www.tiktok.com/@cloutom/video/7016955575757966593?is_from_webapp=v1,TikTok,ahhh thanks a million ur a life saver\\xf0\\x9f\\x98\\x85,0,,CS;;;;;;;;;\\r\\n2021-10-8,2021-12-01,cloutom,VIDEO,https://www.tiktok.com/@cloutom/video/7016955575757966593?is_from_webapp=v1,TikTok,Omg thank nu so much,0,,CS;;;;;;;;;\\r\\n2021-10-8,2021-12-01,cloutom,VIDEO,https://www.tiktok.com/@cloutom/video/7016955575757966593?is_from_webapp=v1,TikTok,No its not \\xf0\\x9f\\x98\\xb3,0,,CS;;;;;;;;;\\r\\n2021-10-8,2021-12-01,cloutom,VIDEO,https://www.tiktok.com/@cloutom/video/7016955575757966593?is_from_webapp=v1,TikTok,Yayyyy,0,,CS;;;;;;;;;\\r\\n2021-10-8,2021-12-01,cloutom,VIDEO,https://www.tiktok.com/@cloutom/video/7016955575757966593?is_from_webapp=v1,TikTok,R u Slavic?,0,,CS;;;;;;;;;\\r\\n2021-10-8,2021-12-01,cloutom,VIDEO,https://www.tiktok.com/@cloutom/video/7016955575757966593?is_from_webapp=v1,TikTok,4xplus5y isn\\xe2\\x80\\x99t grade 10 it\\xe2\\x80\\x99s so easy,0,,CS;;;;;;;;;\\r\\n2021-10-8,2021-12-01,cloutom,VIDEO,https://www.tiktok.com/@cloutom/video/7016955575757966593?is_from_webapp=v1,TikTok,had us at the first part...,0,,CS;;;;;;;;;\\r\\n2021-10-8,2021-12-01,cloutom,VIDEO,https://www.tiktok.com/@cloutom/video/7016955575757966593?is_from_webapp=v1,TikTok,Just scan it on snap,0,,CS;;;;;;;;;\\r\\n2021-10-8,2021-12-01,cloutom,VIDEO,https://www.tiktok.com/@cloutom/video/7016955575757966593?is_from_webapp=v1,TikTok,Gauth math will help,0,,CS;;;;;;;;;\\r\\n2021-10-8,2021-12-01,cloutom,VIDEO,https://www.tiktok.com/@cloutom/video/7016955575757966593?is_from_webapp=v1,TikTok,@Tanz.szn \\xf0\\x9f\\x98\\x82\\xf0\\x9f\\x98\\x82 we finally have something helpful for us in Maths,0,,CS;;;;;;;;;\\r\\n2021-10-8,2021-12-01,cloutom,VIDEO,https://www.tiktok.com/@cloutom/video/7016955575757966593?is_from_webapp=v1,TikTok,that\\'s easy bro,0,,CS;;;;;;;;;\\r\\n2021-10-8,2021-12-01,cloutom,VIDEO,https://www.tiktok.com/@cloutom/video/7016955575757966593?is_from_webapp=v1,TikTok,Bro where u from?,0,,CS;;;;;;;;;\\r\\n2021-10-8,2021-12-01,cloutom,VIDEO,https://www.tiktok.com/@cloutom/video/7016955575757966593?is_from_webapp=v1,TikTok,Or just download mathsway take a pic of the answer or type it in and it shows u you don\\xe2\\x80\\x99t have to pay \\xf0\\x9f\\x98\\x81,0,,CS;;;;;;;;;\\r\\n2021-10-8,2021-12-01,cloutom,VIDEO,https://www.tiktok.com/@cloutom/video/7016955575757966593?is_from_webapp=v1,TikTok,yes but doesnt work on other country math,0,,CS;;;;;;;;;\\r\\n2021-10-8,2021-12-01,cloutom,VIDEO,https://www.tiktok.com/@cloutom/video/7016955575757966593?is_from_webapp=v1,TikTok,Anybody else notice he\\xe2\\x80\\x99s speaking into the the part you plug into the phone?,0,,CS;;;;;;;;;\\r\\n\"2021-10-8,2021-12-01,cloutom,VIDEO,https://www.tiktok.com/@cloutom/video/7016955575757966593?is_from_webapp=v1,TikTok,\"\"\"\"\"\"To help you learn\"\"\"\" uh yeah right\"\",0,,CS\";;;;;;;;;\\r\\n2021-10-8,2021-12-01,cloutom,VIDEO,https://www.tiktok.com/@cloutom/video/7016955575757966593?is_from_webapp=v1,TikTok,just use gauthmath it\\'s free and it does the same thing,0,,CS;;;;;;;;;\\r\\n2021-10-8,2021-12-01,cloutom,VIDEO,https://www.tiktok.com/@cloutom/video/7016955575757966593?is_from_webapp=v1,TikTok,This is what we learn in Romania in the 6th grade\\xf0\\x9f\\x98\\x8f,0,,CS;;;;;;;;;\\r\\n2021-10-8,2021-12-01,cloutom,VIDEO,https://www.tiktok.com/@cloutom/video/7016955575757966593?is_from_webapp=v1,TikTok,\\xf0\\x9f\\x98\\x8f,0,,CS;;;;;;;;;\\r\\n2021-10-8,2021-12-01,cloutom,VIDEO,https://www.tiktok.com/@cloutom/video/7016955575757966593?is_from_webapp=v1,TikTok,thanks,0,,CS;;;;;;;;;\\r\\n2021-10-8,2021-12-01,cloutom,VIDEO,https://www.tiktok.com/@cloutom/video/7016955575757966593?is_from_webapp=v1,TikTok,Thinks its a microphone \\xf0\\x9f\\xa4\\xa3\\xf0\\x9f\\xa4\\xa3\\xf0\\x9f\\xa4\\xa3,0,,CS;;;;;;;;;\\r\\n2021-10-8,2021-12-01,cloutom,VIDEO,https://www.tiktok.com/@cloutom/video/7016955575757966593?is_from_webapp=v1,TikTok,@emma.devl photomath \\xe2\\x9c\\xa8,0,,CS;;;;;;;;;\\r\\n2021-10-8,2021-12-01,cloutom,VIDEO,https://www.tiktok.com/@cloutom/video/7016955575757966593?is_from_webapp=v1,TikTok,hi,0,,CS;;;;;;;;;\\r\\n2021-10-8,2021-12-01,cloutom,VIDEO,https://www.tiktok.com/@cloutom/video/7016955575757966593?is_from_webapp=v1,TikTok,That sounds amazing,0,,CS;;;;;;;;;\\r\\n2021-10-8,2021-12-01,cloutom,VIDEO,https://www.tiktok.com/@cloutom/video/7016955575757966593?is_from_webapp=v1,TikTok,Nah F that chegg are snitches use Gauthmath that\\xe2\\x80\\x99s the one,0,,CS;;;;;;;;;\\r\\n2021-9-10,2021-12-01,modern.day.classic,VIDEO,https://www.tiktok.com/@modern.day.classic/video/7006385167350631685?lang=en,TikTok,\\xf0\\x9f\\x91\\x8d,0,,CS;;;;;;;;;\\r\\n2021-9-10,2021-12-01,modern.day.classic,VIDEO,https://www.tiktok.com/@modern.day.classic/video/7006385167350631685?lang=en,TikTok,I always try to reply \\xf0\\x9f\\xa5\\xb0,0,,CS;;;;;;;;;\\r\\n2021-9-10,2021-12-01,modern.day.classic,VIDEO,https://www.tiktok.com/@modern.day.classic/video/7006385167350631685?lang=en,TikTok,\\xf0\\x9f\\x91\\x8f\\xf0\\x9f\\x8f\\xbd\\xf0\\x9f\\x91\\x8f\\xf0\\x9f\\x8f\\xbd\\xf0\\x9f\\x91\\x8f\\xf0\\x9f\\x8f\\xbd\\xf0\\x9f\\x91\\x8f\\xf0\\x9f\\x8f\\xbd\\xf0\\x9f\\xa4\\x97,0,,CS;;;;;;;;;\\r\\n2021-9-10,2021-12-01,modern.day.classic,VIDEO,https://www.tiktok.com/@modern.day.classic/video/7006385167350631685?lang=en,TikTok,Thank you for giving us citation advice. I am a student and need all the help I can get. \\xf0\\x9f\\x98\\xac,0,,CS;;;;;;;;;\\r\\n2021-9-10,2021-12-01,modern.day.classic,VIDEO,https://www.tiktok.com/@modern.day.classic/video/7006385167350631685?lang=en,TikTok,I love you more!,0,,CS;;;;;;;;;\\r\\n2021-9-10,2021-12-01,modern.day.classic,VIDEO,https://www.tiktok.com/@modern.day.classic/video/7006385167350631685?lang=en,TikTok,Love it!! I\\xe2\\x80\\x99m in masters program for NP. Yes to you and all you do!,0,,CS;;;;;;;;;\\r\\n2021-9-10,2021-12-01,modern.day.classic,VIDEO,https://www.tiktok.com/@modern.day.classic/video/7006385167350631685?lang=en,TikTok,yayyy she really replied,0,,CS;;;;;;;;;\\r\\n2021-9-10,2021-12-01,modern.day.classic,VIDEO,https://www.tiktok.com/@modern.day.classic/video/7006385167350631685?lang=en,TikTok,I really appreciate that! I also appreciate you engaging wjhh TA my sponsored content. It really helps!,0,,CS;;;;;;;;;\\r\\n2021-9-10,2021-12-01,modern.day.classic,VIDEO,https://www.tiktok.com/@modern.day.classic/video/7006385167350631685?lang=en,TikTok,Beauty and brains yeah,0,,CS;;;;;;;;;\\r\\n2021-9-10,2021-12-01,modern.day.classic,VIDEO,https://www.tiktok.com/@modern.day.classic/video/7006385167350631685?lang=en,TikTok,Umm I like your vid\\xf0\\x9f\\xa5\\xb0,0,,CS;;;;;;;;;\\r\\n2021-9-10,2021-12-01,modern.day.classic,VIDEO,https://www.tiktok.com/@modern.day.classic/video/7006385167350631685?lang=en,TikTok,i used chegg last year best ever,0,,CS;;;;;;;;;\\r\\n2021-9-10,2021-12-01,modern.day.classic,VIDEO,https://www.tiktok.com/@modern.day.classic/video/7006385167350631685?lang=en,TikTok,\\xf0\\x9f\\xa5\\xb0\\xf0\\x9f\\xa5\\xb0\\xf0\\x9f\\xa5\\xb0,0,,CS;;;;;;;;;\\r\\n2021-9-10,2021-12-01,modern.day.classic,VIDEO,https://www.tiktok.com/@modern.day.classic/video/7006385167350631685?lang=en,TikTok,I\\'m getting Nia Long vibes whenever I see you. Both are beauties \\xf0\\x9f\\x98\\x8f,0,,CS;;;;;;;;;\\r\\n2021-9-10,2021-12-01,modern.day.classic,VIDEO,https://www.tiktok.com/@modern.day.classic/video/7006385167350631685?lang=en,TikTok,you are so beautiful,0,,CS;;;;;;;;;\\r\\n\"2021-9-10,2021-12-01,modern.day.classic,VIDEO,https://www.tiktok.com/@modern.day.classic/video/7006385167350631685?lang=en,TikTok,\"\"You are so beautiful, I thought you were a model. That\\xe2\\x80\\x99s all! Have a great day Sunday!\\xf0\\x9f\\x98\\x8e\"\",0,,CS\";;;;;;;;;\\r\\n2021-9-10,2021-12-01,modern.day.classic,VIDEO,https://www.tiktok.com/@modern.day.classic/video/7006385167350631685?lang=en,TikTok,Yes \\xf0\\x9f\\x99\\x8c\\xf0\\x9f\\x8f\\xbe,0,,CS;;;;;;;;;\\r\\n2021-9-10,2021-12-01,modern.day.classic,VIDEO,https://www.tiktok.com/@modern.day.classic/video/7006385167350631685?lang=en,TikTok,\\xf0\\x9f\\x91\\x8d\\xf0\\x9f\\x91\\x8d\\xf0\\x9f\\x91\\x8d,0,,CS;;;;;;;;;\\r\\n2021-9-10,2021-12-01,modern.day.classic,VIDEO,https://www.tiktok.com/@modern.day.classic/video/7006385167350631685?lang=en,TikTok,I Would love to be in one of your Classes \\xe2\\x98\\xba\\xef\\xb8\\x8f\\xf0\\x9f\\x8c\\xb9,0,,CS;;;;;;;;;\\r\\n2021-9-10,2021-12-01,modern.day.classic,VIDEO,https://www.tiktok.com/@modern.day.classic/video/7006385167350631685?lang=en,TikTok,interesting \\xf0\\x9f\\xa5\\xb0,0,,CS;;;;;;;;;\\r\\n2021-9-10,2021-12-01,modern.day.classic,VIDEO,https://www.tiktok.com/@modern.day.classic/video/7006385167350631685?lang=en,TikTok,\\xf0\\x9f\\xa5\\xb0\\xf0\\x9f\\xa5\\xb0\\xf0\\x9f\\xa5\\xb0... You\\'re marvelous \\xf0\\x9f\\xa5\\xb0,0,,CS;;;;;;;;;\\r\\n\"2021-9-10,2021-12-01,modern.day.classic,VIDEO,https://www.tiktok.com/@modern.day.classic/video/7006385167350631685?lang=en,TikTok,\"\"It\\xe2\\x80\\x99s a great resource, I use it for my graduate courses.\"\",0,,CS\";;;;;;;;;\\r\\n2021-9-10,2021-12-01,modern.day.classic,VIDEO,https://www.tiktok.com/@modern.day.classic/video/7006385167350631685?lang=en,TikTok,you have great content bmf?,0,,CS;;;;;;;;;\\r\\n2021-9-10,2021-12-01,modern.day.classic,VIDEO,https://www.tiktok.com/@modern.day.classic/video/7006385167350631685?lang=en,TikTok,Thank you!!,0,,CS;;;;;;;;;\\r\\n2021-9-10,2021-12-01,modern.day.classic,VIDEO,https://www.tiktok.com/@modern.day.classic/video/7006385167350631685?lang=en,TikTok,\\xf0\\x9f\\xa5\\xb0\\xf0\\x9f\\xa5\\xb0\\xf0\\x9f\\xa5\\xb0\\xf0\\x9f\\xa5\\xb0,0,,CS;;;;;;;;;\\r\\n2021-9-10,2021-12-01,modern.day.classic,VIDEO,https://www.tiktok.com/@modern.day.classic/video/7006385167350631685?lang=en,TikTok,woaw,0,,CS;;;;;;;;;\\r\\n2021-9-10,2021-12-01,modern.day.classic,VIDEO,https://www.tiktok.com/@modern.day.classic/video/7006385167350631685?lang=en,TikTok,early,0,,CS;;;;;;;;;\\r\\n2021-9-10,2021-12-01,modern.day.classic,VIDEO,https://www.tiktok.com/@modern.day.classic/video/7006385167350631685?lang=en,TikTok,\\xf0\\x9f\\x92\\x96 i am about to send this vid to all my friends,0,,CS;;;;;;;;;\\r\\n2021-9-10,2021-12-01,modern.day.classic,VIDEO,https://www.tiktok.com/@modern.day.classic/video/7006385167350631685?lang=en,TikTok,I knew you was giving teacher vibes \\xf0\\x9f\\x98\\x85\\xf0\\x9f\\x98\\x85\\xf0\\x9f\\x98\\x85\\xf0\\x9f\\xa5\\xb0\\xf0\\x9f\\xa5\\xb0\\xf0\\x9f\\xa5\\xb0,0,,CS;;;;;;;;;\\r\\n2021-8-28,2021-12-01,ryanmarksutherland,VIDEO,https://www.tiktok.com/@ryanmarksutherland/video/7001597800790117637?lang=en,TikTok,Is this a joke or not I\\xe2\\x80\\x99m so lost\\xf0\\x9f\\x98\\xb3,0,,CS;;;;;;;;;\\r\\n2021-8-28,2021-12-01,ryanmarksutherland,VIDEO,https://www.tiktok.com/@ryanmarksutherland/video/7001597800790117637?lang=en,TikTok,I don\\xe2\\x80\\x99t know,0,,CS;;;;;;;;;\\r\\n2021-8-28,2021-12-01,ryanmarksutherland,VIDEO,https://www.tiktok.com/@ryanmarksutherland/video/7001597800790117637?lang=en,TikTok,you looked like a nun,0,,CS;;;;;;;;;\\r\\n2021-8-28,2021-12-01,ryanmarksutherland,VIDEO,https://www.tiktok.com/@ryanmarksutherland/video/7001597800790117637?lang=en,TikTok,okRRRR,0,,CS;;;;;;;;;\\r\\n2021-8-28,2021-12-01,ryanmarksutherland,VIDEO,https://www.tiktok.com/@ryanmarksutherland/video/7001597800790117637?lang=en,TikTok,And then you realize you\\xe2\\x80\\x99re stuck on question one and it\\xe2\\x80\\x99s due tomorrow \\xf0\\x9f\\x98\\xad,0,,CS;;;;;;;;;\\r\\n2021-8-28,2021-12-01,ryanmarksutherland,VIDEO,https://www.tiktok.com/@ryanmarksutherland/video/7001597800790117637?lang=en,TikTok,no I stay up all night or until 5:00am,0,,CS;;;;;;;;;\\r\\n2021-8-28,2021-12-01,ryanmarksutherland,VIDEO,https://www.tiktok.com/@ryanmarksutherland/video/7001597800790117637?lang=en,TikTok,For me its the same except I had one night to do all the assignments from the year...pretty simaliar though,0,,CS;;;;;;;;;\\r\\n2021-8-28,2021-12-01,ryanmarksutherland,VIDEO,https://www.tiktok.com/@ryanmarksutherland/video/7001597800790117637?lang=en,TikTok,something that\\'s free in a good idea just use the Google calculator,0,,CS;;;;;;;;;\\r\\n2021-8-28,2021-12-01,ryanmarksutherland,VIDEO,https://www.tiktok.com/@ryanmarksutherland/video/7001597800790117637?lang=en,TikTok,i can\\xe2\\x80\\x99t tell if this is real or not,0,,CS;;;;;;;;;\\r\\n2021-8-28,2021-12-01,ryanmarksutherland,VIDEO,https://www.tiktok.com/@ryanmarksutherland/video/7001597800790117637?lang=en,TikTok,U should be verified,0,,CS;;;;;;;;;\\r\\n2021-8-28,2021-12-01,ryanmarksutherland,VIDEO,https://www.tiktok.com/@ryanmarksutherland/video/7001597800790117637?lang=en,TikTok,GUYS STAY SAFE ON CHRISTMAS SANTA IS FARTING INSIDE EVERY PRESENT WHEN YOU OPEN IT IT WILL SMELL LIKE SH!T \\xe2\\x9a\\xa0\\xef\\xb8\\x8fSTAY SAFE\\xe2\\x9a\\xa0\\xef\\xb8\\x8f!,0,,CS;;;;;;;;;\\r\\n2021-10-11,2021-12-01,themccartys,VIDEO,https://www.tiktok.com/@themccartys/video/7017889678607142149?is_from_webapp=v1&lang=en,TikTok,It\\xe2\\x80\\x99s an all guys school,0,,CS;;;;;;;;;\\r\\n2021-10-11,2021-12-01,themccartys,VIDEO,https://www.tiktok.com/@themccartys/video/7017889678607142149?is_from_webapp=v1&lang=en,TikTok,No this be history,0,,CS;;;;;;;;;\\r\\n2021-10-11,2021-12-01,themccartys,VIDEO,https://www.tiktok.com/@themccartys/video/7017889678607142149?is_from_webapp=v1&lang=en,TikTok,One class nahh it\\xe2\\x80\\x99s not one it\\xe2\\x80\\x99s all for me,0,,CS;;;;;;;;;\\r\\n2021-10-11,2021-12-01,themccartys,VIDEO,https://www.tiktok.com/@themccartys/video/7017889678607142149?is_from_webapp=v1&lang=en,TikTok,chegg snitches on you !! don\\'t use it \\xf0\\x9f\\x98\\x89,0,,CS;;;;;;;;;\\r\\n2021-10-11,2021-12-01,themccartys,VIDEO,https://www.tiktok.com/@themccartys/video/7017889678607142149?is_from_webapp=v1&lang=en,TikTok,No all boys school,0,,CS;;;;;;;;;\\r\\n2021-10-11,2021-12-01,themccartys,VIDEO,https://www.tiktok.com/@themccartys/video/7017889678607142149?is_from_webapp=v1&lang=en,TikTok,How do you need help with photosynthesis we did that in frouth grade,0,,CS;;;;;;;;;\\r\\n2021-10-11,2021-12-01,themccartys,VIDEO,https://www.tiktok.com/@themccartys/video/7017889678607142149?is_from_webapp=v1&lang=en,TikTok,No it doesn\\xe2\\x80\\x99t,0,,CS;;;;;;;;;\\r\\n2021-10-11,2021-12-01,themccartys,VIDEO,https://www.tiktok.com/@themccartys/video/7017889678607142149?is_from_webapp=v1&lang=en,TikTok,AINT NO WAYYYY,0,,CS;;;;;;;;;\\r\\n2021-10-11,2021-12-01,themccartys,VIDEO,https://www.tiktok.com/@themccartys/video/7017889678607142149?is_from_webapp=v1&lang=en,TikTok,\\xf0\\x9f\\x98\\x81,0,,CS;;;;;;;;;\\r\\n2021-10-11,2021-12-01,themccartys,VIDEO,https://www.tiktok.com/@themccartys/video/7017889678607142149?is_from_webapp=v1&lang=en,TikTok,First of all I saw two kids they look the same exact look,0,,CS;;;;;;;;;\\r\\n2021-10-11,2021-12-01,themccartys,VIDEO,https://www.tiktok.com/@themccartys/video/7017889678607142149?is_from_webapp=v1&lang=en,TikTok,BOWJACK?!,0,,CS;;;;;;;;;\\r\\n2021-10-11,2021-12-01,themccartys,VIDEO,https://www.tiktok.com/@themccartys/video/7017889678607142149?is_from_webapp=v1&lang=en,TikTok,hi,0,,CS;;;;;;;;;\\r\\n2021-10-11,2021-12-01,themccartys,VIDEO,https://www.tiktok.com/@themccartys/video/7017889678607142149?is_from_webapp=v1&lang=en,TikTok,This is \\xf0\\x9f\\x92\\xaf accurate \\xf0\\x9f\\x98\\x82\\xf0\\x9f\\x98\\x82\\xf0\\x9f\\x98\\x82\\xf0\\x9f\\x98\\x82,0,,CS;;;;;;;;;\\r\\n2021-10-11,2021-12-01,themccartys,VIDEO,https://www.tiktok.com/@themccartys/video/7017889678607142149?is_from_webapp=v1&lang=en,TikTok,no,0,,CS;;;;;;;;;\\r\\n2021-10-11,2021-12-01,themccartys,VIDEO,https://www.tiktok.com/@themccartys/video/7017889678607142149?is_from_webapp=v1&lang=en,TikTok,Yes...,0,,CS;;;;;;;;;\\r\\n\"2021-10-11,2021-12-01,thelawerangela,VIDEO,https://www.tiktok.com/@thelawyerangela/video/7018016230283988230?is_from_webapp=v1&lang=en,TikTok,\"\"Does anyone else think of: \"\"\"\"Christ, seven years of college down the drain\"\"\"\" (John Belushi, Animal House)? \\xf0\\x9f\\x98\\x89\"\",0,,CS\";;;;;;;;;\\r\\n2021-10-11,2021-12-01,thelawerangela,VIDEO,https://www.tiktok.com/@thelawyerangela/video/7018016230283988230?is_from_webapp=v1&lang=en,TikTok,Everyone I took it too is saying just about the same price cause apparently the piece is expensive,0,,CS;;;;;;;;;\\r\\n2021-10-11,2021-12-01,thelawerangela,VIDEO,https://www.tiktok.com/@thelawyerangela/video/7018016230283988230?is_from_webapp=v1&lang=en,TikTok,this is an add,0,,CS;;;;;;;;;\\r\\n\"2021-10-11,2021-12-01,thelawerangela,VIDEO,https://www.tiktok.com/@thelawyerangela/video/7018016230283988230?is_from_webapp=v1&lang=en,TikTok,\"\"Harvard mostly produces educated woke idiots, but you\\xe2\\x80\\x99re pretty smart.\"\",0,,CS\";;;;;;;;;\\r\\n2021-10-11,2021-12-01,thelawerangela,VIDEO,https://www.tiktok.com/@thelawyerangela/video/7018016230283988230?is_from_webapp=v1&lang=en,TikTok,Please help cause the class action was thrown out even tho the judge agreed,0,,CS;;;;;;;;;\\r\\n2021-10-11,2021-12-01,thelawerangela,VIDEO,https://www.tiktok.com/@thelawyerangela/video/7018016230283988230?is_from_webapp=v1&lang=en,TikTok,Not yet,0,,CS;;;;;;;;;\\r\\n\"2021-10-11,2021-12-01,thelawerangela,VIDEO,https://www.tiktok.com/@thelawyerangela/video/7018016230283988230?is_from_webapp=v1&lang=en,TikTok,\"\"If you use it at a UC, it\\'s an AI violation.\"\",0,,CS\";;;;;;;;;\\r\\n\"2021-10-11,2021-12-01,thelawerangela,VIDEO,https://www.tiktok.com/@thelawyerangela/video/7018016230283988230?is_from_webapp=v1&lang=en,TikTok,\"\"I am not a lawyer but I am sure that Apple will not help you, but Apple charges thousands for simple repairs and often repair the wrong thing, (1)\"\",0,,CS\";;;;;;;;;\\r\\n2021-10-11,2021-12-01,thelawerangela,VIDEO,https://www.tiktok.com/@thelawyerangela/video/7018016230283988230?is_from_webapp=v1&lang=en,TikTok,Chegg literally had a class action lawsuit for a data breach not long ago. Ask me how I know \\xf0\\x9f\\x98\\x8f,0,,CS;;;;;;;;;\\r\\n2021-10-11,2021-12-01,thelawerangela,VIDEO,https://www.tiktok.com/@thelawyerangela/video/7018016230283988230?is_from_webapp=v1&lang=en,TikTok,recommend that call a CREDIBLE 3rd party repair business and tell them about your issue and they can probably sort it out for way cheaper than Apple,0,,CS;;;;;;;;;\\r\\n2021-10-11,2021-12-01,thelawerangela,VIDEO,https://www.tiktok.com/@thelawyerangela/video/7018016230283988230?is_from_webapp=v1&lang=en,TikTok,Fixed the issue w/ 2018. Never checked if 2017 had the same issue. Now they want me to pay 950 to fix something they diagnosed as the fan,0,,CS;;;;;;;;;\\r\\n2021-10-11,2021-12-01,thelawerangela,VIDEO,https://www.tiktok.com/@thelawyerangela/video/7018016230283988230?is_from_webapp=v1&lang=en,TikTok,\\xf0\\x9f\\xa5\\xb0\\xf0\\x9f\\xa5\\xb0\\xf0\\x9f\\xa5\\xb0,0,,CS;;;;;;;;;\\r\\n2021-10-11,2021-12-01,thelawerangela,VIDEO,https://www.tiktok.com/@thelawyerangela/video/7018016230283988230?is_from_webapp=v1&lang=en,TikTok,sounds like something Apple would do,0,,CS;;;;;;;;;\\r\\n2021-10-11,2021-12-01,thelawerangela,VIDEO,https://www.tiktok.com/@thelawyerangela/video/7018016230283988230?is_from_webapp=v1&lang=en,TikTok,Did the second cereal lawsuit never pay out?,0,,CS;;;;;;;;;\\r\\n2021-10-11,2021-12-01,thelawerangela,VIDEO,https://www.tiktok.com/@thelawyerangela/video/7018016230283988230?is_from_webapp=v1&lang=en,TikTok,I have a 2017 model that I spent 4K on including AppleCare. Apple will only fix 2016 models for free said eff 2017 as a whole discontinued my modelz,0,,CS;;;;;;;;;\\r\\n2021-10-11,2021-12-01,thelawerangela,VIDEO,https://www.tiktok.com/@thelawyerangela/video/7018016230283988230?is_from_webapp=v1&lang=en,TikTok,\\xe2\\x9d\\xa4\\xef\\xb8\\x8f\\xe2\\x9d\\xa4\\xef\\xb8\\x8f\\xe2\\x9d\\xa4\\xef\\xb8\\x8f,0,,CS;;;;;;;;;\\r\\n2021-10-11,2021-12-01,thelawerangela,VIDEO,https://www.tiktok.com/@thelawyerangela/video/7018016230283988230?is_from_webapp=v1&lang=en,TikTok,what kind of business sense does this make for them!? I had not heard,0,,CS;;;;;;;;;\\r\\n\"2021-10-11,2021-12-01,thelawerangela,VIDEO,https://www.tiktok.com/@thelawyerangela/video/7018016230283988230?is_from_webapp=v1&lang=en,TikTok,\"\"So they take your money, answer your question and snitch your out?\"\",0,,CS\";;;;;;;;;\\r\\n2021-10-11,2021-12-01,thelawerangela,VIDEO,https://www.tiktok.com/@thelawyerangela/video/7018016230283988230?is_from_webapp=v1&lang=en,TikTok,Me too. Love the way you present EVERYTHING! And really really love your style too,0,,CS;;;;;;;;;\\r\\n2021-10-11,2021-12-01,thelawerangela,VIDEO,https://www.tiktok.com/@thelawyerangela/video/7018016230283988230?is_from_webapp=v1&lang=en,TikTok,and it\\'s paying out several hundred per claim,0,,CS;;;;;;;;;\\r\\n2021-10-11,2021-12-01,thelawerangela,VIDEO,https://www.tiktok.com/@thelawyerangela/video/7018016230283988230?is_from_webapp=v1&lang=en,TikTok,Lol yt boy,0,,CS;;;;;;;;;\\r\\n2021-9-28,2021-12-01,niki_patton,VIDEO,https://www.tiktok.com/@niki_patton/video/7013188950898658566?is_copy_url=1&is_from_webapp=v1,TikTok,@thund3r_ju4n,0,,CS;;;;;;;;;\\r\\n2021-9-28,2021-12-01,niki_patton,VIDEO,https://www.tiktok.com/@niki_patton/video/7013188950898658566?is_copy_url=1&is_from_webapp=v1,TikTok,@photomath,0,,CS;;;;;;;;;\\r\\n2021-9-28,2021-12-01,niki_patton,VIDEO,https://www.tiktok.com/@niki_patton/video/7013188950898658566?is_copy_url=1&is_from_webapp=v1,TikTok,Hii,0,,CS;;;;;;;;;\\r\\n2021-9-28,2021-12-01,niki_patton,VIDEO,https://www.tiktok.com/@niki_patton/video/7013188950898658566?is_copy_url=1&is_from_webapp=v1,TikTok,So you chegging on chegg,0,,CS;;;;;;;;;\\r\\n2021-9-28,2021-12-01,niki_patton,VIDEO,https://www.tiktok.com/@niki_patton/video/7013188950898658566?is_copy_url=1&is_from_webapp=v1,TikTok,@issabell13nolan,0,,CS;;;;;;;;;\\r\\n2021-9-28,2021-12-01,niki_patton,VIDEO,https://www.tiktok.com/@niki_patton/video/7013188950898658566?is_copy_url=1&is_from_webapp=v1,TikTok,\\xf0\\x9f\\xa5\\xb0\\xf0\\x9f\\xa5\\xb0Ily,0,,CS;;;;;;;;;\\r\\n2021-9-28,2021-12-01,niki_patton,VIDEO,https://www.tiktok.com/@niki_patton/video/7013188950898658566?is_copy_url=1&is_from_webapp=v1,TikTok,Go,0,,CS;;;;;;;;;\\r\\n2021-9-26,2021-12-01,ryanmarksutherland,VIDEO,https://www.tiktok.com/@ryanmarksutherland/video/7012400629788265733?is_from_webapp=v1&lang=en,TikTok,Dead!!!\\xf0\\x9f\\x98\\x81,0,,CS;;;;;;;;;\\r\\n2021-9-26,2021-12-01,ryanmarksutherland,VIDEO,https://www.tiktok.com/@ryanmarksutherland/video/7012400629788265733?is_from_webapp=v1&lang=en,TikTok,ayyyy you are THE BESTTT \\xf0\\x9f\\x92\\x9a WHATS upppp???\\xf0\\x9f\\x98\\x8f,0,,CS;;;;;;;;;\\r\\n2021-9-26,2021-12-01,ryanmarksutherland,VIDEO,https://www.tiktok.com/@ryanmarksutherland/video/7012400629788265733?is_from_webapp=v1&lang=en,TikTok,congratulations on one million \\xe2\\x9c\\xa8\\xf0\\x9f\\x92\\x83,0,,CS;;;;;;;;;\\r\\n2021-9-26,2021-12-01,ryanmarksutherland,VIDEO,https://www.tiktok.com/@ryanmarksutherland/video/7012400629788265733?is_from_webapp=v1&lang=en,TikTok,0ne day ago!,0,,CS;;;;;;;;;\\r\\n2021-9-26,2021-12-01,ryanmarksutherland,VIDEO,https://www.tiktok.com/@ryanmarksutherland/video/7012400629788265733?is_from_webapp=v1&lang=en,TikTok,BRO U ARE TO FUNNY,0,,CS;;;;;;;;;\\r\\n2021-9-26,2021-12-01,ryanmarksutherland,VIDEO,https://www.tiktok.com/@ryanmarksutherland/video/7012400629788265733?is_from_webapp=v1&lang=en,TikTok,It says I need a code for the promo,0,,CS;;;;;;;;;\\r\\n2021-9-26,2021-12-01,ryanmarksutherland,VIDEO,https://www.tiktok.com/@ryanmarksutherland/video/7012400629788265733?is_from_webapp=v1&lang=en,TikTok,yes ryan get that promo,0,,CS;;;;;;;;;\\r\\n2021-9-26,2021-12-01,ryanmarksutherland,VIDEO,https://www.tiktok.com/@ryanmarksutherland/video/7012400629788265733?is_from_webapp=v1&lang=en,TikTok,Dose this work for highschool?,0,,CS;;;;;;;;;\\r\\n\"2021-9-26,2021-12-01,ryanmarksutherland,VIDEO,https://www.tiktok.com/@ryanmarksutherland/video/7012400629788265733?is_from_webapp=v1&lang=en,TikTok,\"\"\\xef\\xbd\\xa1\\xe0\\xb3\\x83\\xe0\\xbf\\x94\\xe2\\x82\\x8a Not to be rude or make you angry,but it\\xe2\\x80\\x99s actually against the community guidelines to have such an AMAZING account! \\xef\\xbd\\xa1\\xe0\\xb3\\x83\\xe0\\xbf\\x94\\xe2\\x82\\x8a\"\",0,,CS\";;;;;;;;;\\r\\n2021-9-26,2021-12-01,ryanmarksutherland,VIDEO,https://www.tiktok.com/@ryanmarksutherland/video/7012400629788265733?is_from_webapp=v1&lang=en,TikTok,early\\xf0\\x9f\\x98\\xb3,0,,CS;;;;;;;;;\\r\\n2021-9-26,2021-12-01,ryanmarksutherland,VIDEO,https://www.tiktok.com/@ryanmarksutherland/video/7012400629788265733?is_from_webapp=v1&lang=en,TikTok,Does the king respond \\xf0\\x9f\\x98\\x8f,0,,CS;;;;;;;;;\\r\\n2021-9-26,2021-12-01,ryanmarksutherland,VIDEO,https://www.tiktok.com/@ryanmarksutherland/video/7012400629788265733?is_from_webapp=v1&lang=en,TikTok,Congrats on 1 million followers \\xf0\\x9f\\x8e\\x89,0,,CS;;;;;;;;;\\r\\n2021-9-26,2021-12-01,ryanmarksutherland,VIDEO,https://www.tiktok.com/@ryanmarksutherland/video/7012400629788265733?is_from_webapp=v1&lang=en,TikTok,Was that Harry Potter,0,,CS;;;;;;;;;\\r\\n2021-9-26,2021-12-01,ryanmarksutherland,VIDEO,https://www.tiktok.com/@ryanmarksutherland/video/7012400629788265733?is_from_webapp=v1&lang=en,TikTok,Why does the caption move,0,,CS;;;;;;;;;\\r\\n2021-9-26,2021-12-01,ryanmarksutherland,VIDEO,https://www.tiktok.com/@ryanmarksutherland/video/7012400629788265733?is_from_webapp=v1&lang=en,TikTok,LOL,0,,CS;;;;;;;;;\\r\\n2021-9-26,2021-12-01,ryanmarksutherland,VIDEO,https://www.tiktok.com/@ryanmarksutherland/video/7012400629788265733?is_from_webapp=v1&lang=en,TikTok,I don\\xe2\\x80\\x99t stay up to study I just stay up,0,,CS;;;;;;;;;\\r\\n2021-9-26,2021-12-01,ryanmarksutherland,VIDEO,https://www.tiktok.com/@ryanmarksutherland/video/7012400629788265733?is_from_webapp=v1&lang=en,TikTok,ayyyy,0,,CS;;;;;;;;;\\r\\n2021-9-26,2021-12-01,ryanmarksutherland,VIDEO,https://www.tiktok.com/@ryanmarksutherland/video/7012400629788265733?is_from_webapp=v1&lang=en,TikTok,congrats,0,,CS;;;;;;;;;\\r\\n2021-9-26,2021-12-01,ryanmarksutherland,VIDEO,https://www.tiktok.com/@ryanmarksutherland/video/7012400629788265733?is_from_webapp=v1&lang=en,TikTok,EARLY \\xf0\\x9f\\x98\\x81 LOVE YOUR VIDS!!,0,,CS;;;;;;;;;\\r\\n2021-9-26,2021-12-01,ryanmarksutherland,VIDEO,https://www.tiktok.com/@ryanmarksutherland/video/7012400629788265733?is_from_webapp=v1&lang=en,TikTok,Wear orange in your next video if you need help \\xf0\\x9f\\xa5\\xb0\\xf0\\x9f\\xa5\\xb0\\xf0\\x9f\\xa5\\xb0,0,,CS;;;;;;;;;\\r\\n2021-9-26,2021-12-01,ryanmarksutherland,VIDEO,https://www.tiktok.com/@ryanmarksutherland/video/7012400629788265733?is_from_webapp=v1&lang=en,TikTok,Should\\xe2\\x80\\x99ve had Cegg,0,,CS;;;;;;;;;\\r\\n2021-9-26,2021-12-01,ryanmarksutherland,VIDEO,https://www.tiktok.com/@ryanmarksutherland/video/7012400629788265733?is_from_webapp=v1&lang=en,TikTok,i heard money and gave up \\xf0\\x9f\\x91\\x81\\xf0\\x9f\\x91\\x81,0,,CS;;;;;;;;;\\r\\n2021-9-26,2021-12-01,ryanmarksutherland,VIDEO,https://www.tiktok.com/@ryanmarksutherland/video/7012400629788265733?is_from_webapp=v1&lang=en,TikTok,congratulations for the 1m subscribers\\xf0\\x9f\\x98\\x81\\xf0\\x9f\\x98\\x81,0,,CS;;;;;;;;;\\r\\n2021-9-26,2021-12-01,ryanmarksutherland,VIDEO,https://www.tiktok.com/@ryanmarksutherland/video/7012400629788265733?is_from_webapp=v1&lang=en,TikTok,@twicycle bestie I think we need thus,0,,CS;;;;;;;;;\\r\\n2021-9-26,2021-12-01,ryanmarksutherland,VIDEO,https://www.tiktok.com/@ryanmarksutherland/video/7012400629788265733?is_from_webapp=v1&lang=en,TikTok,Congrats on 1M!! I love you vids \\xe2\\x9d\\xa4\\xef\\xb8\\x8f,0,,CS;;;;;;;;;\\r\\n2021-9-26,2021-12-01,ryanmarksutherland,VIDEO,https://www.tiktok.com/@ryanmarksutherland/video/7012400629788265733?is_from_webapp=v1&lang=en,TikTok,Happy 1 mil,0,,CS;;;;;;;;;\\r\\n2021-9-2,2021-12-01,itssozer,VIDEO,https://www.tiktok.com/@itssozer/video/7003502008355278082?lang=en&is_copy_url=1&is_from_webapp=v1,TikTok,if i got chegg as a gift i would fucking die @Antedragz,0,,CS;;;;;;;;;\\r\\n2021-9-2,2021-12-01,itssozer,VIDEO,https://www.tiktok.com/@itssozer/video/7003502008355278082?lang=en&is_copy_url=1&is_from_webapp=v1,TikTok,That\\xe2\\x80\\x99s a different thing in my country tho,0,,CS;;;;;;;;;\\r\\n2021-9-2,2021-12-01,itssozer,VIDEO,https://www.tiktok.com/@itssozer/video/7003502008355278082?lang=en&is_copy_url=1&is_from_webapp=v1,TikTok,\\xef\\xbc\\x9aCe gars est une legende \\xf0\\x9f\\x91\\x8f,0,,CS;;;;;;;;;\\r\\n2021-9-2,2021-12-01,itssozer,VIDEO,https://www.tiktok.com/@itssozer/video/7003502008355278082?lang=en&is_copy_url=1&is_from_webapp=v1,TikTok,Omg your so nice,0,,CS;;;;;;;;;\\r\\n2021-9-2,2021-12-01,itssozer,VIDEO,https://www.tiktok.com/@itssozer/video/7003502008355278082?lang=en&is_copy_url=1&is_from_webapp=v1,TikTok,What a gift,0,,CS;;;;;;;;;\\r\\n2021-9-2,2021-12-01,itssozer,VIDEO,https://www.tiktok.com/@itssozer/video/7003502008355278082?lang=en&is_copy_url=1&is_from_webapp=v1,TikTok,HEAVEN NOW,0,,CS;;;;;;;;;\\r\\n2021-9-2,2021-12-01,itssozer,VIDEO,https://www.tiktok.com/@itssozer/video/7003502008355278082?lang=en&is_copy_url=1&is_from_webapp=v1,TikTok,I love your page @itssozer \\xf0\\x9f\\xa5\\xb0\\xf0\\x9f\\x98\\x81,0,,CS;;;;;;;;;\\r\\n2021-9-2,2021-12-01,itssozer,VIDEO,https://www.tiktok.com/@itssozer/video/7003502008355278082?lang=en&is_copy_url=1&is_from_webapp=v1,TikTok,Why would anyone ever hurt you? Your the nicest person I know\\xf0\\x9f\\xa5\\xb0\\xf0\\x9f\\x98\\x81,0,,CS;;;;;;;;;\\r\\n2021-9-2,2021-12-01,itssozer,VIDEO,https://www.tiktok.com/@itssozer/video/7003502008355278082?lang=en&is_copy_url=1&is_from_webapp=v1,TikTok,hii I have CRPS a very rare disease and my mum dose not have enough money to pay for my medical bills,0,,CS;;;;;;;;;\\r\\n2021-9-2,2021-12-01,itssozer,VIDEO,https://www.tiktok.com/@itssozer/video/7003502008355278082?lang=en&is_copy_url=1&is_from_webapp=v1,TikTok,Yes it\\xe2\\x80\\x99s university,0,,CS;;;;;;;;;\\r\\n2021-9-2,2021-12-01,itssozer,VIDEO,https://www.tiktok.com/@itssozer/video/7003502008355278082?lang=en&is_copy_url=1&is_from_webapp=v1,TikTok,Why don\\xe2\\x80\\x99t you guys get some goods from the soulmia app\\xf0\\x9f\\xa5\\xb0,0,,CS;;;;;;;;;\\r\\n2021-9-2,2021-12-01,itssozer,VIDEO,https://www.tiktok.com/@itssozer/video/7003502008355278082?lang=en&is_copy_url=1&is_from_webapp=v1,TikTok,@Antedragz,0,,CS;;;;;;;;;\\r\\n2021-9-2,2021-12-01,itssozer,VIDEO,https://www.tiktok.com/@itssozer/video/7003502008355278082?lang=en&is_copy_url=1&is_from_webapp=v1,TikTok,The best,0,,CS;;;;;;;;;\\r\\n2021-9-2,2021-12-01,itssozer,VIDEO,https://www.tiktok.com/@itssozer/video/7003502008355278082?lang=en&is_copy_url=1&is_from_webapp=v1,TikTok,is this sponsored? idk what gave it away\\xf0\\x9f\\x98\\xb3,0,,CS;;;;;;;;;\\r\\n\"2021-9-2,2021-12-01,itssozer,VIDEO,https://www.tiktok.com/@itssozer/video/7003502008355278082?lang=en&is_copy_url=1&is_from_webapp=v1,TikTok,\"\"me wathching her tiktok:\\xf0\\x9f\\x98\\xb3..\";;;;;;;;;\\r\\nmom:why you sad;;;;;;;;;\\r\\nme:because my brother he broke my cellphone...;;;;;;;;;\\r\\n\"@itssozer this not making story this is true...\"\",0,,CS\";;;;;;;;;\\r\\n2021-9-2,2021-12-01,itssozer,VIDEO,https://www.tiktok.com/@itssozer/video/7003502008355278082?lang=en&is_copy_url=1&is_from_webapp=v1,TikTok,uni means university and usually a uni will have lots of colleges under it that have different fields and majors you can study,0,,CS;;;;;;;;;\\r\\n\"2021-9-2,2021-12-01,itssozer,VIDEO,https://www.tiktok.com/@itssozer/video/7003502008355278082?lang=en&is_copy_url=1&is_from_webapp=v1,TikTok,\"\"this is the best acount i\\xe2\\x80\\x99ve ever seen, it makes me be happy, you are the best bro\\xf0\\x9f\\xa5\\xb0\"\",0,,CS\";;;;;;;;;\\r\\n2021-9-2,2021-12-01,itssozer,VIDEO,https://www.tiktok.com/@itssozer/video/7003502008355278082?lang=en&is_copy_url=1&is_from_webapp=v1,TikTok,sorry to educate myself,0,,CS;;;;;;;;;\\r\\n2021-9-2,2021-12-01,itssozer,VIDEO,https://www.tiktok.com/@itssozer/video/7003502008355278082?lang=en&is_copy_url=1&is_from_webapp=v1,TikTok,You are awesome nice kind and it makes me and everyone happy,0,,CS;;;;;;;;;\\r\\n2021-9-2,2021-12-01,itssozer,VIDEO,https://www.tiktok.com/@itssozer/video/7003502008355278082?lang=en&is_copy_url=1&is_from_webapp=v1,TikTok,This guy literally always makes my day,0,,CS;;;;;;;;;\\r\\n2021-9-2,2021-12-01,itssozer,VIDEO,https://www.tiktok.com/@itssozer/video/7003502008355278082?lang=en&is_copy_url=1&is_from_webapp=v1,TikTok,He\\xe2\\x80\\x99s in Adelaide,0,,CS;;;;;;;;;\\r\\n2021-9-2,2021-12-01,itssozer,VIDEO,https://www.tiktok.com/@itssozer/video/7003502008355278082?lang=en&is_copy_url=1&is_from_webapp=v1,TikTok,@jenna.michellle RAWR,0,,CS;;;;;;;;;\\r\\n2021-9-2,2021-12-01,itssozer,VIDEO,https://www.tiktok.com/@itssozer/video/7003502008355278082?lang=en&is_copy_url=1&is_from_webapp=v1,TikTok,\\xf0\\x9f\\x99\\x8c\\xe2\\x9d\\xa4\\xef\\xb8\\x8f,0,,CS;;;;;;;;;\\r\\n2021-9-2,2021-12-01,itssozer,VIDEO,https://www.tiktok.com/@itssozer/video/7003502008355278082?lang=en&is_copy_url=1&is_from_webapp=v1,TikTok,Uni is so hard! so happy to see you\\'re supporting some uni students,0,,CS;;;;;;;;;\\r\\n2021-9-2,2021-12-01,emilyballz,VIDEO,https://www.tiktok.com/@emilyballz/video/7003434464344870150?lang=en&is_copy_url=1&is_from_webapp=v1,TikTok,Hi,0,,CS;;;;;;;;;\\r\\n2021-9-2,2021-12-01,emilyballz,VIDEO,https://www.tiktok.com/@emilyballz/video/7003434464344870150?lang=en&is_copy_url=1&is_from_webapp=v1,TikTok,it\\'s just to much effort and I hate school,0,,CS;;;;;;;;;\\r\\n2021-9-2,2021-12-01,emilyballz,VIDEO,https://www.tiktok.com/@emilyballz/video/7003434464344870150?lang=en&is_copy_url=1&is_from_webapp=v1,TikTok,I\\xe2\\x80\\x99ve been following for a year! I\\xe2\\x80\\x99m making you a go now!,0,,CS;;;;;;;;;\\r\\n2021-9-2,2021-12-01,emilyballz,VIDEO,https://www.tiktok.com/@emilyballz/video/7003434464344870150?lang=en&is_copy_url=1&is_from_webapp=v1,TikTok,Hi,0,,CS;;;;;;;;;\\r\\n2021-9-2,2021-12-01,emilyballz,VIDEO,https://www.tiktok.com/@emilyballz/video/7003434464344870150?lang=en&is_copy_url=1&is_from_webapp=v1,TikTok,Emily are you single?,0,,CS;;;;;;;;;\\r\\n2021-9-2,2021-12-01,emilyballz,VIDEO,https://www.tiktok.com/@emilyballz/video/7003434464344870150?lang=en&is_copy_url=1&is_from_webapp=v1,TikTok,Ty for replying \\xf0\\x9f\\x98\\x8a,0,,CS;;;;;;;;;\\r\\n\"2021-11-11,2021-12-01,espdaniella,VIDEO,https://www.tiktok.com/@espdaniella/video/7029393919960075567?is_copy_url=1&is_from_webapp=v1&lang=en,TikTok,\"\"Expensive, and I don\\xe2\\x80\\x99t know where to look for scholarships\"\",0,,CS\";;;;;;;;;\\r\\n\"2021-11-11,2021-12-01,espdaniella,VIDEO,https://www.tiktok.com/@espdaniella/video/7029393919960075567?is_copy_url=1&is_from_webapp=v1&lang=en,TikTok,\"\"Can you please help?! I\\xe2\\x80\\x99m a kinesiology major, specifically exercise science, and I really want to stay at the school I\\xe2\\x80\\x99m at rn but it\\xe2\\x80\\x99s really\"\",0,,CS\";;;;;;;;;\\r\\n2021-11-11,2021-12-01,espdaniella,VIDEO,https://www.tiktok.com/@espdaniella/video/7029393919960075567?is_copy_url=1&is_from_webapp=v1&lang=en,TikTok,How are y\\xe2\\x80\\x99all feeling this semester?,0,,CS;;;;;;;;;\\r\\n2021-9-9,2021-12-01,sakshammagic,VIDEO,https://www.tiktok.com/@sakshammagic/video/7005825447434996993?lang=en&is_copy_url=1&is_from_webapp=v1,TikTok,i follow,0,,CS;;;;;;;;;\\r\\n2021-9-9,2021-12-01,sakshammagic,VIDEO,https://www.tiktok.com/@sakshammagic/video/7005825447434996993?lang=en&is_copy_url=1&is_from_webapp=v1,TikTok,did just study you make me ashamed,0,,CS;;;;;;;;;\\r\\n2021-9-9,2021-12-01,sakshammagic,VIDEO,https://www.tiktok.com/@sakshammagic/video/7005825447434996993?lang=en&is_copy_url=1&is_from_webapp=v1,TikTok,Smh,0,,CS;;;;;;;;;\\r\\n2021-9-9,2021-12-01,sakshammagic,VIDEO,https://www.tiktok.com/@sakshammagic/video/7005825447434996993?lang=en&is_copy_url=1&is_from_webapp=v1,TikTok,i love when u do magic,0,,CS;;;;;;;;;\\r\\n2021-11-16,2021-12-01,sakshammagic,VIDEO,https://www.tiktok.com/@sakshammagic/video/7030985235298929921?is_copy_url=1&is_from_webapp=v1&lang=en,TikTok,ye,0,,CS;;;;;;;;;\\r\\n2021-11-16,2021-12-01,sakshammagic,VIDEO,https://www.tiktok.com/@sakshammagic/video/7030985235298929921?is_copy_url=1&is_from_webapp=v1&lang=en,TikTok,Who is early,0,,CS;;;;;;;;;\\r\\n2021-11-16,2021-12-01,sakshammagic,VIDEO,https://www.tiktok.com/@sakshammagic/video/7030985235298929921?is_copy_url=1&is_from_webapp=v1&lang=en,TikTok,thanks know i can do my homework\\xf0\\x9f\\x98\\x82,0,,CS;;;;;;;;;\\r\\n2021-11-16,2021-12-01,sakshammagic,VIDEO,https://www.tiktok.com/@sakshammagic/video/7030985235298929921?is_copy_url=1&is_from_webapp=v1&lang=en,TikTok,\\xf0\\x9f\\xa7\\x90\\xf0\\x9f\\x98\\xb1,0,,CS;;;;;;;;;\\r\\n2021-11-16,2021-12-01,sakshammagic,VIDEO,https://www.tiktok.com/@sakshammagic/video/7030985235298929921?is_copy_url=1&is_from_webapp=v1&lang=en,TikTok,me,0,,CS;;;;;;;;;\\r\\n2021-11-16,2021-12-01,sakshammagic,VIDEO,https://www.tiktok.com/@sakshammagic/video/7030985235298929921?is_copy_url=1&is_from_webapp=v1&lang=en,TikTok,now*,0,,CS;;;;;;;;;\\r\\n2021-11-12,2021-12-01,sydneyserena,VIDEO,https://www.tiktok.com/@sydneyserena/video/7029840852591660293?lang=en&is_copy_url=1&is_from_webapp=v1,TikTok,Ur so prerttyyyy?,0,,CS;;;;;;;;;\\r\\n2021-11-12,2021-12-01,sydneyserena,VIDEO,https://www.tiktok.com/@sydneyserena/video/7029840852591660293?lang=en&is_copy_url=1&is_from_webapp=v1,TikTok,@Pacob U need,0,,CS;;;;;;;;;\\r\\n2021-11-12,2021-12-01,sydneyserena,VIDEO,https://www.tiktok.com/@sydneyserena/video/7029840852591660293?lang=en&is_copy_url=1&is_from_webapp=v1,TikTok,YouTube pose video,0,,CS;;;;;;;;;\\r\\n2021-11-12,2021-12-01,sydneyserena,VIDEO,https://www.tiktok.com/@sydneyserena/video/7029840852591660293?lang=en&is_copy_url=1&is_from_webapp=v1,TikTok,Hi,0,,CS;;;;;;;;;\\r\\n2021-11-12,2021-12-01,sydneyserena,VIDEO,https://www.tiktok.com/@sydneyserena/video/7029840852591660293?lang=en&is_copy_url=1&is_from_webapp=v1,TikTok,Thanks bestie,0,,CS;;;;;;;;;\\r\\n2021-11-12,2021-12-01,sydneyserena,VIDEO,https://www.tiktok.com/@sydneyserena/video/7029840852591660293?lang=en&is_copy_url=1&is_from_webapp=v1,TikTok,First-,0,,CS;;;;;;;;;\\r\\n2021-11-12,2021-12-01,sydneyserena,VIDEO,https://www.tiktok.com/@sydneyserena/video/7029840852591660293?lang=en&is_copy_url=1&is_from_webapp=v1,TikTok,u make me buy glasses\\xf0\\x9f\\x98\\x85,0,,CS;;;;;;;;;\\r\\n2021-11-12,2021-12-01,sydneyserena,VIDEO,https://www.tiktok.com/@sydneyserena/video/7029840852591660293?lang=en&is_copy_url=1&is_from_webapp=v1,TikTok,Hiii early,0,,CS;;;;;;;;;\\r\\n2021-11-12,2021-12-01,sydneyserena,VIDEO,https://www.tiktok.com/@sydneyserena/video/7029840852591660293?lang=en&is_copy_url=1&is_from_webapp=v1,TikTok,9th,0,,CS;;;;;;;;;\\r\\n2021-11-12,2021-12-01,sydneyserena,VIDEO,https://www.tiktok.com/@sydneyserena/video/7029840852591660293?lang=en&is_copy_url=1&is_from_webapp=v1,TikTok,hiii,0,,CS;;;;;;;;;\\r\\n2021-11-12,2021-12-01,sydneyserena,VIDEO,https://www.tiktok.com/@sydneyserena/video/7029840852591660293?lang=en&is_copy_url=1&is_from_webapp=v1,TikTok,Can you do the natural blush challenge? \\xf0\\x9f\\x98\\x8d,0,,CS;;;;;;;;;\\r\\n2021-11-12,2021-12-01,sydneyserena,VIDEO,https://www.tiktok.com/@sydneyserena/video/7029840852591660293?lang=en&is_copy_url=1&is_from_webapp=v1,TikTok,Ya haha,0,,CS;;;;;;;;;\\r\\n2021-11-12,2021-12-01,sydneyserena,VIDEO,https://www.tiktok.com/@sydneyserena/video/7029840852591660293?lang=en&is_copy_url=1&is_from_webapp=v1,TikTok,Hi,0,,CS;;;;;;;;;\\r\\n2021-11-12,2021-12-01,sydneyserena,VIDEO,https://www.tiktok.com/@sydneyserena/video/7029840852591660293?lang=en&is_copy_url=1&is_from_webapp=v1,TikTok,I\\xe2\\x80\\x99m had a bad reaction to blue light,0,,CS;;;;;;;;;\\r\\n2021-11-12,2021-12-01,sydneyserena,VIDEO,https://www.tiktok.com/@sydneyserena/video/7029840852591660293?lang=en&is_copy_url=1&is_from_webapp=v1,TikTok,\\xf0\\x9f\\xa5\\xb0\\xf0\\x9f\\xa5\\xb0\\xf0\\x9f\\xa5\\xb0\\xe2\\x9d\\xa4\\xef\\xb8\\x8f\\xe2\\x9d\\xa4\\xef\\xb8\\x8f\\xe2\\x9d\\xa4\\xef\\xb8\\x8f,0,,CS;;;;;;;;;\\r\\n2021-11-12,2021-12-01,sydneyserena,VIDEO,https://www.tiktok.com/@sydneyserena/video/7029840852591660293?lang=en&is_copy_url=1&is_from_webapp=v1,TikTok,@Riley is this the place ur mom used to work for,0,,CS;;;;;;;;;\\r\\n2021-9-7,2021-12-01,iamalilstitious,VIDEO,https://www.tiktok.com/@iamalilstitious/video/7005376930103053574?lang=en&is_copy_url=1&is_from_webapp=v1,TikTok,congrats on the sponsorship !!!! \\xe2\\x99\\xa1\\xe2\\x99\\xa1,0,,CS;;;;;;;;;\\r\\n2021-9-7,2021-12-01,iamalilstitious,VIDEO,https://www.tiktok.com/@iamalilstitious/video/7005376930103053574?lang=en&is_copy_url=1&is_from_webapp=v1,TikTok,I loved Chegg ebook rental in grad school!,0,,CS;;;;;;;;;\\r\\n2021-9-7,2021-12-01,iamalilstitious,VIDEO,https://www.tiktok.com/@iamalilstitious/video/7005376930103053574?lang=en&is_copy_url=1&is_from_webapp=v1,TikTok,I love your hair!,0,,CS;;;;;;;;;\\r\\n2021-11-10,2021-12-01,rollewitit_math,VIDEO,https://www.tiktok.com/@rollewitit_math/video/7029034615377595695?lang=en&is_copy_url=1&is_from_webapp=v1,TikTok,\\xf0\\x9f\\xa5\\xb0\\xf0\\x9f\\xa5\\xb0,0,,CS;;;;;;;;;\\r\\n2021-11-10,2021-12-01,rollewitit_math,VIDEO,https://www.tiktok.com/@rollewitit_math/video/7029034615377595695?lang=en&is_copy_url=1&is_from_webapp=v1,TikTok,There is always an assignment \\xf0\\x9f\\xa5\\xb0,0,,CS;;;;;;;;;\\r\\n2021-8-27,2021-12-01,sarahrav,VIDEO,https://www.tiktok.com/@sarahrav/video/7001002356573752578?_d=secCgYIASAHKAESPgo8tMu0r4MbRgSe3A4aOx7CTY2zVqKgpkKjRA2zMDkxA7FgnjOWLpIhEzIwUhnSy42cjaFEbRJpN5o%2FjF3sGgA%3D&checksum=b2ac879f6a7b184db94193af32bc618831ad998110b336b208bb03217f1e7161&language=en&preview_pb=0&sec_user_id=MS4wLjABAAAAaXa4BGfx8fjVB9bjDYf-LnFzxLIrLN9HEf44LOywX3KRpmdKGVQcVHi0k-QTMwH1&share_app_id=1233&share_item_id=7001002356573752578&share_link_id=721ACA01-606D-4C44-8858-EFA016BDF2F2&source=h5_m&timestamp=1630099779&tt_from=copy&u_code=d9de51l2g219d3&user_id=6762679979047388166&utm_campaign=client_share&utm_medium=ios&utm_source=copy&_r=1,TikTok,Also khan academy,0,,CS;;;;;;;;;\\r\\n2021-8-27,2021-12-01,sarahrav,VIDEO,https://www.tiktok.com/@sarahrav/video/7001002356573752578?_d=secCgYIASAHKAESPgo8tMu0r4MbRgSe3A4aOx7CTY2zVqKgpkKjRA2zMDkxA7FgnjOWLpIhEzIwUhnSy42cjaFEbRJpN5o%2FjF3sGgA%3D&checksum=b2ac879f6a7b184db94193af32bc618831ad998110b336b208bb03217f1e7161&language=en&preview_pb=0&sec_user_id=MS4wLjABAAAAaXa4BGfx8fjVB9bjDYf-LnFzxLIrLN9HEf44LOywX3KRpmdKGVQcVHi0k-QTMwH1&share_app_id=1233&share_item_id=7001002356573752578&share_link_id=721ACA01-606D-4C44-8858-EFA016BDF2F2&source=h5_m&timestamp=1630099779&tt_from=copy&u_code=d9de51l2g219d3&user_id=6762679979047388166&utm_campaign=client_share&utm_medium=ios&utm_source=copy&_r=1,TikTok,how can you get ahead in the holidays before starting biology 3/4,0,,CS;;;;;;;;;\\r\\n2021-8-27,2021-12-01,sarahrav,VIDEO,https://www.tiktok.com/@sarahrav/video/7001002356573752578?_d=secCgYIASAHKAESPgo8tMu0r4MbRgSe3A4aOx7CTY2zVqKgpkKjRA2zMDkxA7FgnjOWLpIhEzIwUhnSy42cjaFEbRJpN5o%2FjF3sGgA%3D&checksum=b2ac879f6a7b184db94193af32bc618831ad998110b336b208bb03217f1e7161&language=en&preview_pb=0&sec_user_id=MS4wLjABAAAAaXa4BGfx8fjVB9bjDYf-LnFzxLIrLN9HEf44LOywX3KRpmdKGVQcVHi0k-QTMwH1&share_app_id=1233&share_item_id=7001002356573752578&share_link_id=721ACA01-606D-4C44-8858-EFA016BDF2F2&source=h5_m&timestamp=1630099779&tt_from=copy&u_code=d9de51l2g219d3&user_id=6762679979047388166&utm_campaign=client_share&utm_medium=ios&utm_source=copy&_r=1,TikTok,\\xf0\\x9f\\xa5\\xb0\\xf0\\x9f\\xa5\\xb0\\xf0\\x9f\\xa5\\xb0,0,,CS;;;;;;;;;\\r\\n2021-8-27,2021-12-01,sarahrav,VIDEO,https://www.tiktok.com/@sarahrav/video/7001002356573752578?_d=secCgYIASAHKAESPgo8tMu0r4MbRgSe3A4aOx7CTY2zVqKgpkKjRA2zMDkxA7FgnjOWLpIhEzIwUhnSy42cjaFEbRJpN5o%2FjF3sGgA%3D&checksum=b2ac879f6a7b184db94193af32bc618831ad998110b336b208bb03217f1e7161&language=en&preview_pb=0&sec_user_id=MS4wLjABAAAAaXa4BGfx8fjVB9bjDYf-LnFzxLIrLN9HEf44LOywX3KRpmdKGVQcVHi0k-QTMwH1&share_app_id=1233&share_item_id=7001002356573752578&share_link_id=721ACA01-606D-4C44-8858-EFA016BDF2F2&source=h5_m&timestamp=1630099779&tt_from=copy&u_code=d9de51l2g219d3&user_id=6762679979047388166&utm_campaign=client_share&utm_medium=ios&utm_source=copy&_r=1,TikTok,do you suggest atar notes?,0,,CS;;;;;;;;;\\r\\n\"2021-8-27,2021-12-01,sarahrav,VIDEO,https://www.tiktok.com/@sarahrav/video/7001002356573752578?_d=secCgYIASAHKAESPgo8tMu0r4MbRgSe3A4aOx7CTY2zVqKgpkKjRA2zMDkxA7FgnjOWLpIhEzIwUhnSy42cjaFEbRJpN5o%2FjF3sGgA%3D&checksum=b2ac879f6a7b184db94193af32bc618831ad998110b336b208bb03217f1e7161&language=en&preview_pb=0&sec_user_id=MS4wLjABAAAAaXa4BGfx8fjVB9bjDYf-LnFzxLIrLN9HEf44LOywX3KRpmdKGVQcVHi0k-QTMwH1&share_app_id=1233&share_item_id=7001002356573752578&share_link_id=721ACA01-606D-4C44-8858-EFA016BDF2F2&source=h5_m&timestamp=1630099779&tt_from=copy&u_code=d9de51l2g219d3&user_id=6762679979047388166&utm_campaign=client_share&utm_medium=ios&utm_source=copy&_r=1,TikTok,\"\"I honestly went for subject I enjoy as after year 9 everything become serious, so enjoy that year\"\",0,,CS\";;;;;;;;;\\r\\n2021-8-27,2021-12-01,sarahrav,VIDEO,https://www.tiktok.com/@sarahrav/video/7001002356573752578?_d=secCgYIASAHKAESPgo8tMu0r4MbRgSe3A4aOx7CTY2zVqKgpkKjRA2zMDkxA7FgnjOWLpIhEzIwUhnSy42cjaFEbRJpN5o%2FjF3sGgA%3D&checksum=b2ac879f6a7b184db94193af32bc618831ad998110b336b208bb03217f1e7161&language=en&preview_pb=0&sec_user_id=MS4wLjABAAAAaXa4BGfx8fjVB9bjDYf-LnFzxLIrLN9HEf44LOywX3KRpmdKGVQcVHi0k-QTMwH1&share_app_id=1233&share_item_id=7001002356573752578&share_link_id=721ACA01-606D-4C44-8858-EFA016BDF2F2&source=h5_m&timestamp=1630099779&tt_from=copy&u_code=d9de51l2g219d3&user_id=6762679979047388166&utm_campaign=client_share&utm_medium=ios&utm_source=copy&_r=1,TikTok,This is dope!,0,,CS;;;;;;;;;\\r\\n2021-8-27,2021-12-01,sarahrav,VIDEO,https://www.tiktok.com/@sarahrav/video/7001002356573752578?_d=secCgYIASAHKAESPgo8tMu0r4MbRgSe3A4aOx7CTY2zVqKgpkKjRA2zMDkxA7FgnjOWLpIhEzIwUhnSy42cjaFEbRJpN5o%2FjF3sGgA%3D&checksum=b2ac879f6a7b184db94193af32bc618831ad998110b336b208bb03217f1e7161&language=en&preview_pb=0&sec_user_id=MS4wLjABAAAAaXa4BGfx8fjVB9bjDYf-LnFzxLIrLN9HEf44LOywX3KRpmdKGVQcVHi0k-QTMwH1&share_app_id=1233&share_item_id=7001002356573752578&share_link_id=721ACA01-606D-4C44-8858-EFA016BDF2F2&source=h5_m&timestamp=1630099779&tt_from=copy&u_code=d9de51l2g219d3&user_id=6762679979047388166&utm_campaign=client_share&utm_medium=ios&utm_source=copy&_r=1,TikTok,Would you say studying the practice questions from your textbook be effective?,0,,CS;;;;;;;;;\\r\\n2021-8-27,2021-12-01,sarahrav,VIDEO,https://www.tiktok.com/@sarahrav/video/7001002356573752578?_d=secCgYIASAHKAESPgo8tMu0r4MbRgSe3A4aOx7CTY2zVqKgpkKjRA2zMDkxA7FgnjOWLpIhEzIwUhnSy42cjaFEbRJpN5o%2FjF3sGgA%3D&checksum=b2ac879f6a7b184db94193af32bc618831ad998110b336b208bb03217f1e7161&language=en&preview_pb=0&sec_user_id=MS4wLjABAAAAaXa4BGfx8fjVB9bjDYf-LnFzxLIrLN9HEf44LOywX3KRpmdKGVQcVHi0k-QTMwH1&share_app_id=1233&share_item_id=7001002356573752578&share_link_id=721ACA01-606D-4C44-8858-EFA016BDF2F2&source=h5_m&timestamp=1630099779&tt_from=copy&u_code=d9de51l2g219d3&user_id=6762679979047388166&utm_campaign=client_share&utm_medium=ios&utm_source=copy&_r=1,TikTok,I would choose subject that I enjoy but if you want to take year 9 serious then pick subject that might help you when your older.,0,,CS;;;;;;;;;\\r\\n\"2021-8-27,2021-12-01,sarahrav,VIDEO,https://www.tiktok.com/@sarahrav/video/7001002356573752578?_d=secCgYIASAHKAESPgo8tMu0r4MbRgSe3A4aOx7CTY2zVqKgpkKjRA2zMDkxA7FgnjOWLpIhEzIwUhnSy42cjaFEbRJpN5o%2FjF3sGgA%3D&checksum=b2ac879f6a7b184db94193af32bc618831ad998110b336b208bb03217f1e7161&language=en&preview_pb=0&sec_user_id=MS4wLjABAAAAaXa4BGfx8fjVB9bjDYf-LnFzxLIrLN9HEf44LOywX3KRpmdKGVQcVHi0k-QTMwH1&share_app_id=1233&share_item_id=7001002356573752578&share_link_id=721ACA01-606D-4C44-8858-EFA016BDF2F2&source=h5_m&timestamp=1630099779&tt_from=copy&u_code=d9de51l2g219d3&user_id=6762679979047388166&utm_campaign=client_share&utm_medium=ios&utm_source=copy&_r=1,TikTok,\"\"Pass,commerce,child studies,drama,stem,dance,drama,desighns and technology,food tech,visual arts,music,textile\"\",0,,CS\";;;;;;;;;\\r\\n2021-8-27,2021-12-01,sarahrav,VIDEO,https://www.tiktok.com/@sarahrav/video/7001002356573752578?_d=secCgYIASAHKAESPgo8tMu0r4MbRgSe3A4aOx7CTY2zVqKgpkKjRA2zMDkxA7FgnjOWLpIhEzIwUhnSy42cjaFEbRJpN5o%2FjF3sGgA%3D&checksum=b2ac879f6a7b184db94193af32bc618831ad998110b336b208bb03217f1e7161&language=en&preview_pb=0&sec_user_id=MS4wLjABAAAAaXa4BGfx8fjVB9bjDYf-LnFzxLIrLN9HEf44LOywX3KRpmdKGVQcVHi0k-QTMwH1&share_app_id=1233&share_item_id=7001002356573752578&share_link_id=721ACA01-606D-4C44-8858-EFA016BDF2F2&source=h5_m&timestamp=1630099779&tt_from=copy&u_code=d9de51l2g219d3&user_id=6762679979047388166&utm_campaign=client_share&utm_medium=ios&utm_source=copy&_r=1,TikTok,yh no we have to pay and I\\'m toooo broke,0,,CS;;;;;;;;;\\r\\n2021-8-27,2021-12-01,sarahrav,VIDEO,https://www.tiktok.com/@sarahrav/video/7001002356573752578?_d=secCgYIASAHKAESPgo8tMu0r4MbRgSe3A4aOx7CTY2zVqKgpkKjRA2zMDkxA7FgnjOWLpIhEzIwUhnSy42cjaFEbRJpN5o%2FjF3sGgA%3D&checksum=b2ac879f6a7b184db94193af32bc618831ad998110b336b208bb03217f1e7161&language=en&preview_pb=0&sec_user_id=MS4wLjABAAAAaXa4BGfx8fjVB9bjDYf-LnFzxLIrLN9HEf44LOywX3KRpmdKGVQcVHi0k-QTMwH1&share_app_id=1233&share_item_id=7001002356573752578&share_link_id=721ACA01-606D-4C44-8858-EFA016BDF2F2&source=h5_m&timestamp=1630099779&tt_from=copy&u_code=d9de51l2g219d3&user_id=6762679979047388166&utm_campaign=client_share&utm_medium=ios&utm_source=copy&_r=1,TikTok,\\xf0\\x9f\\x99\\x82,0,,CS;;;;;;;;;\\r\\n2021-8-27,2021-12-01,sarahrav,VIDEO,https://www.tiktok.com/@sarahrav/video/7001002356573752578?_d=secCgYIASAHKAESPgo8tMu0r4MbRgSe3A4aOx7CTY2zVqKgpkKjRA2zMDkxA7FgnjOWLpIhEzIwUhnSy42cjaFEbRJpN5o%2FjF3sGgA%3D&checksum=b2ac879f6a7b184db94193af32bc618831ad998110b336b208bb03217f1e7161&language=en&preview_pb=0&sec_user_id=MS4wLjABAAAAaXa4BGfx8fjVB9bjDYf-LnFzxLIrLN9HEf44LOywX3KRpmdKGVQcVHi0k-QTMwH1&share_app_id=1233&share_item_id=7001002356573752578&share_link_id=721ACA01-606D-4C44-8858-EFA016BDF2F2&source=h5_m&timestamp=1630099779&tt_from=copy&u_code=d9de51l2g219d3&user_id=6762679979047388166&utm_campaign=client_share&utm_medium=ios&utm_source=copy&_r=1,TikTok,We will help!!,0,,CS;;;;;;;;;\\r\\n\"2021-8-27,2021-12-01,sarahrav,VIDEO,https://www.tiktok.com/@sarahrav/video/7001002356573752578?_d=secCgYIASAHKAESPgo8tMu0r4MbRgSe3A4aOx7CTY2zVqKgpkKjRA2zMDkxA7FgnjOWLpIhEzIwUhnSy42cjaFEbRJpN5o%2FjF3sGgA%3D&checksum=b2ac879f6a7b184db94193af32bc618831ad998110b336b208bb03217f1e7161&language=en&preview_pb=0&sec_user_id=MS4wLjABAAAAaXa4BGfx8fjVB9bjDYf-LnFzxLIrLN9HEf44LOywX3KRpmdKGVQcVHi0k-QTMwH1&share_app_id=1233&share_item_id=7001002356573752578&share_link_id=721ACA01-606D-4C44-8858-EFA016BDF2F2&source=h5_m&timestamp=1630099779&tt_from=copy&u_code=d9de51l2g219d3&user_id=6762679979047388166&utm_campaign=client_share&utm_medium=ios&utm_source=copy&_r=1,TikTok,\"\"SOMEONE PLS HELP WITH THIS BIO QUESTION ON DISTRIBUTION: for a 100km^2 study area, should u use one line transect across the entire region or\"\",0,,CS\";;;;;;;;;\\r\\n2021-8-27,2021-12-01,sarahrav,VIDEO,https://www.tiktok.com/@sarahrav/video/7001002356573752578?_d=secCgYIASAHKAESPgo8tMu0r4MbRgSe3A4aOx7CTY2zVqKgpkKjRA2zMDkxA7FgnjOWLpIhEzIwUhnSy42cjaFEbRJpN5o%2FjF3sGgA%3D&checksum=b2ac879f6a7b184db94193af32bc618831ad998110b336b208bb03217f1e7161&language=en&preview_pb=0&sec_user_id=MS4wLjABAAAAaXa4BGfx8fjVB9bjDYf-LnFzxLIrLN9HEf44LOywX3KRpmdKGVQcVHi0k-QTMwH1&share_app_id=1233&share_item_id=7001002356573752578&share_link_id=721ACA01-606D-4C44-8858-EFA016BDF2F2&source=h5_m&timestamp=1630099779&tt_from=copy&u_code=d9de51l2g219d3&user_id=6762679979047388166&utm_campaign=client_share&utm_medium=ios&utm_source=copy&_r=1,TikTok,What can you choose from?,0,,CS;;;;;;;;;\\r\\n2021-8-27,2021-12-01,sarahrav,VIDEO,https://www.tiktok.com/@sarahrav/video/7001002356573752578?_d=secCgYIASAHKAESPgo8tMu0r4MbRgSe3A4aOx7CTY2zVqKgpkKjRA2zMDkxA7FgnjOWLpIhEzIwUhnSy42cjaFEbRJpN5o%2FjF3sGgA%3D&checksum=b2ac879f6a7b184db94193af32bc618831ad998110b336b208bb03217f1e7161&language=en&preview_pb=0&sec_user_id=MS4wLjABAAAAaXa4BGfx8fjVB9bjDYf-LnFzxLIrLN9HEf44LOywX3KRpmdKGVQcVHi0k-QTMwH1&share_app_id=1233&share_item_id=7001002356573752578&share_link_id=721ACA01-606D-4C44-8858-EFA016BDF2F2&source=h5_m&timestamp=1630099779&tt_from=copy&u_code=d9de51l2g219d3&user_id=6762679979047388166&utm_campaign=client_share&utm_medium=ios&utm_source=copy&_r=1,TikTok,Hey what electives do you personally recommend for yr9,0,,CS;;;;;;;;;\\r\\n\"2021-8-27,2021-12-01,sarahrav,VIDEO,https://www.tiktok.com/@sarahrav/video/7001002356573752578?_d=secCgYIASAHKAESPgo8tMu0r4MbRgSe3A4aOx7CTY2zVqKgpkKjRA2zMDkxA7FgnjOWLpIhEzIwUhnSy42cjaFEbRJpN5o%2FjF3sGgA%3D&checksum=b2ac879f6a7b184db94193af32bc618831ad998110b336b208bb03217f1e7161&language=en&preview_pb=0&sec_user_id=MS4wLjABAAAAaXa4BGfx8fjVB9bjDYf-LnFzxLIrLN9HEf44LOywX3KRpmdKGVQcVHi0k-QTMwH1&share_app_id=1233&share_item_id=7001002356573752578&share_link_id=721ACA01-606D-4C44-8858-EFA016BDF2F2&source=h5_m&timestamp=1630099779&tt_from=copy&u_code=d9de51l2g219d3&user_id=6762679979047388166&utm_campaign=client_share&utm_medium=ios&utm_source=copy&_r=1,TikTok,\"\"Learn the content ahead of time, or revise Unit 1/2 content\"\",0,,CS\";;;;;;;;;\\r\\n2021-8-27,2021-12-01,sarahrav,VIDEO,https://www.tiktok.com/@sarahrav/video/7001002356573752578?_d=secCgYIASAHKAESPgo8tMu0r4MbRgSe3A4aOx7CTY2zVqKgpkKjRA2zMDkxA7FgnjOWLpIhEzIwUhnSy42cjaFEbRJpN5o%2FjF3sGgA%3D&checksum=b2ac879f6a7b184db94193af32bc618831ad998110b336b208bb03217f1e7161&language=en&preview_pb=0&sec_user_id=MS4wLjABAAAAaXa4BGfx8fjVB9bjDYf-LnFzxLIrLN9HEf44LOywX3KRpmdKGVQcVHi0k-QTMwH1&share_app_id=1233&share_item_id=7001002356573752578&share_link_id=721ACA01-606D-4C44-8858-EFA016BDF2F2&source=h5_m&timestamp=1630099779&tt_from=copy&u_code=d9de51l2g219d3&user_id=6762679979047388166&utm_campaign=client_share&utm_medium=ios&utm_source=copy&_r=1,TikTok,We will answer all of your maths questions for free !!,0,,CS;;;;;;;;;\\r\\n2021-8-27,2021-12-01,sarahrav,VIDEO,https://www.tiktok.com/@sarahrav/video/7001002356573752578?_d=secCgYIASAHKAESPgo8tMu0r4MbRgSe3A4aOx7CTY2zVqKgpkKjRA2zMDkxA7FgnjOWLpIhEzIwUhnSy42cjaFEbRJpN5o%2FjF3sGgA%3D&checksum=b2ac879f6a7b184db94193af32bc618831ad998110b336b208bb03217f1e7161&language=en&preview_pb=0&sec_user_id=MS4wLjABAAAAaXa4BGfx8fjVB9bjDYf-LnFzxLIrLN9HEf44LOywX3KRpmdKGVQcVHi0k-QTMwH1&share_app_id=1233&share_item_id=7001002356573752578&share_link_id=721ACA01-606D-4C44-8858-EFA016BDF2F2&source=h5_m&timestamp=1630099779&tt_from=copy&u_code=d9de51l2g219d3&user_id=6762679979047388166&utm_campaign=client_share&utm_medium=ios&utm_source=copy&_r=1,TikTok,\\xf0\\x9f\\xa5\\xb0\\xf0\\x9f\\xa5\\xb0\\xf0\\x9f\\xa5\\xb0,0,,CS;;;;;;;;;\\r\\n2021-8-27,2021-12-01,sarahrav,VIDEO,https://www.tiktok.com/@sarahrav/video/7001002356573752578?_d=secCgYIASAHKAESPgo8tMu0r4MbRgSe3A4aOx7CTY2zVqKgpkKjRA2zMDkxA7FgnjOWLpIhEzIwUhnSy42cjaFEbRJpN5o%2FjF3sGgA%3D&checksum=b2ac879f6a7b184db94193af32bc618831ad998110b336b208bb03217f1e7161&language=en&preview_pb=0&sec_user_id=MS4wLjABAAAAaXa4BGfx8fjVB9bjDYf-LnFzxLIrLN9HEf44LOywX3KRpmdKGVQcVHi0k-QTMwH1&share_app_id=1233&share_item_id=7001002356573752578&share_link_id=721ACA01-606D-4C44-8858-EFA016BDF2F2&source=h5_m&timestamp=1630099779&tt_from=copy&u_code=d9de51l2g219d3&user_id=6762679979047388166&utm_campaign=client_share&utm_medium=ios&utm_source=copy&_r=1,TikTok,Happy mood activated not for the first time but for the 3rd time still getting paid all thanks to a wonderful account manager @official.annaclaudia,0,,CS;;;;;;;;;\\r\\n2021-8-27,2021-12-01,sarahrav,VIDEO,https://www.tiktok.com/@sarahrav/video/7001002356573752578?_d=secCgYIASAHKAESPgo8tMu0r4MbRgSe3A4aOx7CTY2zVqKgpkKjRA2zMDkxA7FgnjOWLpIhEzIwUhnSy42cjaFEbRJpN5o%2FjF3sGgA%3D&checksum=b2ac879f6a7b184db94193af32bc618831ad998110b336b208bb03217f1e7161&language=en&preview_pb=0&sec_user_id=MS4wLjABAAAAaXa4BGfx8fjVB9bjDYf-LnFzxLIrLN9HEf44LOywX3KRpmdKGVQcVHi0k-QTMwH1&share_app_id=1233&share_item_id=7001002356573752578&share_link_id=721ACA01-606D-4C44-8858-EFA016BDF2F2&source=h5_m&timestamp=1630099779&tt_from=copy&u_code=d9de51l2g219d3&user_id=6762679979047388166&utm_campaign=client_share&utm_medium=ios&utm_source=copy&_r=1,TikTok,We can help with maths! For free,0,,CS;;;;;;;;;\\r\\n2021-8-27,2021-12-01,sarahrav,VIDEO,https://www.tiktok.com/@sarahrav/video/7001002356573752578?_d=secCgYIASAHKAESPgo8tMu0r4MbRgSe3A4aOx7CTY2zVqKgpkKjRA2zMDkxA7FgnjOWLpIhEzIwUhnSy42cjaFEbRJpN5o%2FjF3sGgA%3D&checksum=b2ac879f6a7b184db94193af32bc618831ad998110b336b208bb03217f1e7161&language=en&preview_pb=0&sec_user_id=MS4wLjABAAAAaXa4BGfx8fjVB9bjDYf-LnFzxLIrLN9HEf44LOywX3KRpmdKGVQcVHi0k-QTMwH1&share_app_id=1233&share_item_id=7001002356573752578&share_link_id=721ACA01-606D-4C44-8858-EFA016BDF2F2&source=h5_m&timestamp=1630099779&tt_from=copy&u_code=d9de51l2g219d3&user_id=6762679979047388166&utm_campaign=client_share&utm_medium=ios&utm_source=copy&_r=1,TikTok,Use a grid of the region and select evenly distributed controllable areas and carry out a transect in each,0,,CS;;;;;;;;;\\r\\n2021-8-27,2021-12-01,sarahrav,VIDEO,https://www.tiktok.com/@sarahrav/video/7001002356573752578?_d=secCgYIASAHKAESPgo8tMu0r4MbRgSe3A4aOx7CTY2zVqKgpkKjRA2zMDkxA7FgnjOWLpIhEzIwUhnSy42cjaFEbRJpN5o%2FjF3sGgA%3D&checksum=b2ac879f6a7b184db94193af32bc618831ad998110b336b208bb03217f1e7161&language=en&preview_pb=0&sec_user_id=MS4wLjABAAAAaXa4BGfx8fjVB9bjDYf-LnFzxLIrLN9HEf44LOywX3KRpmdKGVQcVHi0k-QTMwH1&share_app_id=1233&share_item_id=7001002356573752578&share_link_id=721ACA01-606D-4C44-8858-EFA016BDF2F2&source=h5_m&timestamp=1630099779&tt_from=copy&u_code=d9de51l2g219d3&user_id=6762679979047388166&utm_campaign=client_share&utm_medium=ios&utm_source=copy&_r=1,TikTok,We will answer your maths questions for free !!,0,,CS;;;;;;;;;\\r\\n2021-11-9,2021-12-01,modern.day.classic,VIDEO,https://www.tiktok.com/@modern.day.classic/video/7028663188652592431?is_copy_url=1&is_from_webapp=v1&lang=en,TikTok,Of course!,0,,CS;;;;;;;;;\\r\\n\"2021-11-9,2021-12-01,modern.day.classic,VIDEO,https://www.tiktok.com/@modern.day.classic/video/7028663188652592431?is_copy_url=1&is_from_webapp=v1&lang=en,TikTok,\"\"Sou muito sua f\\xc3\\xa3, Te Amo\\xf0\\x9f\\xa5\\xb0\"\",0,,CS\";;;;;;;;;\\r\\n2021-11-9,2021-12-01,modern.day.classic,VIDEO,https://www.tiktok.com/@modern.day.classic/video/7028663188652592431?is_copy_url=1&is_from_webapp=v1&lang=en,TikTok,What I would like to know is how do you read and grade all those papers ?\\xf0\\x9f\\x98\\x85,0,,CS;;;;;;;;;\\r\\n2021-11-9,2021-12-01,modern.day.classic,VIDEO,https://www.tiktok.com/@modern.day.classic/video/7028663188652592431?is_copy_url=1&is_from_webapp=v1&lang=en,TikTok,Wow! College instructor?? Can I pic your brain?,0,,CS;;;;;;;;;\\r\\n2021-11-9,2021-12-01,modern.day.classic,VIDEO,https://www.tiktok.com/@modern.day.classic/video/7028663188652592431?is_copy_url=1&is_from_webapp=v1&lang=en,TikTok,LINDA\\xf0\\x9f\\xa5\\xb0\\xf0\\x9f\\xa5\\xb0,0,,CS;;;;;;;;;\\r\\n\"2021-11-9,2021-12-01,modern.day.classic,VIDEO,https://www.tiktok.com/@modern.day.classic/video/7028663188652592431?is_copy_url=1&is_from_webapp=v1&lang=en,TikTok,\"\"wow, fellow English instructor,, love it\\xf0\\x9f\\xa5\\xb0\\xf0\\x9f\\xa5\\xb0\\xf0\\x9f\\xa5\\xb0\\xf0\\x9f\\xa5\\xb0\"\",0,,CS\";;;;;;;;;\\r\\n2021-11-9,2021-12-01,modern.day.classic,VIDEO,https://www.tiktok.com/@modern.day.classic/video/7028663188652592431?is_copy_url=1&is_from_webapp=v1&lang=en,TikTok,It\\xe2\\x80\\x99s literally why I haven\\xe2\\x80\\x99t been active on Instagram. I\\xe2\\x80\\x99m stressed \\xf0\\x9f\\x98\\xab,0,,CS;;;;;;;;;\\r\\n2021-11-9,2021-12-01,modern.day.classic,VIDEO,https://www.tiktok.com/@modern.day.classic/video/7028663188652592431?is_copy_url=1&is_from_webapp=v1&lang=en,TikTok,LOVE YOU,0,,CS;;;;;;;;;\\r\\n2021-11-9,2021-12-01,modern.day.classic,VIDEO,https://www.tiktok.com/@modern.day.classic/video/7028663188652592431?is_copy_url=1&is_from_webapp=v1&lang=en,TikTok,Of course!! \\xf0\\x9f\\xa5\\xb0\\xf0\\x9f\\xa5\\xb0,0,,CS;;;;;;;;;\\r\\n2021-11-9,2021-12-01,modern.day.classic,VIDEO,https://www.tiktok.com/@modern.day.classic/video/7028663188652592431?is_copy_url=1&is_from_webapp=v1&lang=en,TikTok,BEAUTIFUL,0,,CS;;;;;;;;;\\r\\n2021-11-9,2021-12-01,modern.day.classic,VIDEO,https://www.tiktok.com/@modern.day.classic/video/7028663188652592431?is_copy_url=1&is_from_webapp=v1&lang=en,TikTok,I LOVE YOU,0,,CS;;;;;;;;;\\r\\n2021-11-9,2021-12-01,modern.day.classic,VIDEO,https://www.tiktok.com/@modern.day.classic/video/7028663188652592431?is_copy_url=1&is_from_webapp=v1&lang=en,TikTok,Guurl you\\'re so beautiful \\xf0\\x9f\\x98\\x8d....can you show your nails too,0,,CS;;;;;;;;;\\r\\n2021-11-9,2021-12-01,modern.day.classic,VIDEO,https://www.tiktok.com/@modern.day.classic/video/7028663188652592431?is_copy_url=1&is_from_webapp=v1&lang=en,TikTok,Love you more!!!\\xf0\\x9f\\xa5\\xb0\\xf0\\x9f\\xa5\\xb0\\xf0\\x9f\\xa5\\xb0,0,,CS;;;;;;;;;\\r\\n2021-11-9,2021-12-01,modern.day.classic,VIDEO,https://www.tiktok.com/@modern.day.classic/video/7028663188652592431?is_copy_url=1&is_from_webapp=v1&lang=en,TikTok,wanna know how you did to you scaf.,0,,CS;;;;;;;;;\\r\\n2021-11-9,2021-12-01,modern.day.classic,VIDEO,https://www.tiktok.com/@modern.day.classic/video/7028663188652592431?is_copy_url=1&is_from_webapp=v1&lang=en,TikTok,I\\'m your fan,0,,CS;;;;;;;;;\\r\\n2021-11-9,2021-12-01,modern.day.classic,VIDEO,https://www.tiktok.com/@modern.day.classic/video/7028663188652592431?is_copy_url=1&is_from_webapp=v1&lang=en,TikTok,BRASIL \\xf0\\x9f\\x87\\xa7\\xf0\\x9f\\x87\\xb7,0,,CS;;;;;;;;;\\r\\n2021-11-9,2021-12-01,modern.day.classic,VIDEO,https://www.tiktok.com/@modern.day.classic/video/7028663188652592431?is_copy_url=1&is_from_webapp=v1&lang=en,TikTok,Thank you!!\\xf0\\x9f\\xa5\\xb0\\xf0\\x9f\\xa5\\xb0\\xf0\\x9f\\xa5\\xb0,0,,CS;;;;;;;;;\\r\\n2021-11-9,2021-12-01,modern.day.classic,VIDEO,https://www.tiktok.com/@modern.day.classic/video/7028663188652592431?is_copy_url=1&is_from_webapp=v1&lang=en,TikTok,thank you for doing it wz passion,0,,CS;;;;;;;;;\\r\\n2021-9-8,2021-12-01,sarahbada_,VIDEO,https://www.tiktok.com/@sarahbada_/video/7005537463057878277?source=h5_m&_r=1&is_copy_url=1&is_from_webapp=v1,TikTok,Do they help with accounting,0,,CS;;;;;;;;;\\r\\n2021-9-8,2021-12-01,sarahbada_,VIDEO,https://www.tiktok.com/@sarahbada_/video/7005537463057878277?source=h5_m&_r=1&is_copy_url=1&is_from_webapp=v1,TikTok,would\\xe2\\x80\\x99ve been life saving,0,,CS;;;;;;;;;\\r\\n2021-9-8,2021-12-01,sarahbada_,VIDEO,https://www.tiktok.com/@sarahbada_/video/7005537463057878277?source=h5_m&_r=1&is_copy_url=1&is_from_webapp=v1,TikTok,\\xf0\\x9f\\x98\\xb3,0,,CS;;;;;;;;;\\r\\n2021-9-8,2021-12-01,sarahbada_,VIDEO,https://www.tiktok.com/@sarahbada_/video/7005537463057878277?source=h5_m&_r=1&is_copy_url=1&is_from_webapp=v1,TikTok,YAY I LOVED THOSE,0,,CS;;;;;;;;;\\r\\n2021-9-8,2021-12-01,sarahbada_,VIDEO,https://www.tiktok.com/@sarahbada_/video/7005537463057878277?source=h5_m&_r=1&is_copy_url=1&is_from_webapp=v1,TikTok,LITERALLY,0,,CS;;;;;;;;;\\r\\n2021-8-28,2021-12-01,cloutom,VIDEO,https://www.tiktok.com/@cloutom/video/7001434701755862273?_d=secCgYIASAHKAESPgo8zdgjKZNzhBqRfcWHyCznvVbI7mwO3NoloOj%2BeH6CFlQ0nRma%2B5JjPVZoWaxJyvsLQDpgO6%2FPPAWFbSFjGgA%3D&checksum=3e47baf0c22546acc0c59dcf8ccb24761e9be53e28c17e8f8b5a3635ddf7a85c&language=en&preview_pb=0&sec_user_id=MS4wLjABAAAA6fGjpiJgOUc16EQDgC6If0CB1RKTnh19HVtAkcXMiwGolY9cjlf6bEnBaeXj8BS7&share_app_id=1233&share_item_id=7001434701755862273&share_link_id=C7CC82E6-B05F-4124-AF88-84DD659EA92F&source=h5_m&timestamp=1630149706&tt_from=copy&u_code=d2d8573m3574lf&user_id=6609029460412973062&utm_campaign=client_share&utm_medium=ios&utm_source=copy&_r=1,TikTok,hello,0,,CS;;;;;;;;;\\r\\n2021-8-28,2021-12-01,cloutom,VIDEO,https://www.tiktok.com/@cloutom/video/7001434701755862273?_d=secCgYIASAHKAESPgo8zdgjKZNzhBqRfcWHyCznvVbI7mwO3NoloOj%2BeH6CFlQ0nRma%2B5JjPVZoWaxJyvsLQDpgO6%2FPPAWFbSFjGgA%3D&checksum=3e47baf0c22546acc0c59dcf8ccb24761e9be53e28c17e8f8b5a3635ddf7a85c&language=en&preview_pb=0&sec_user_id=MS4wLjABAAAA6fGjpiJgOUc16EQDgC6If0CB1RKTnh19HVtAkcXMiwGolY9cjlf6bEnBaeXj8BS7&share_app_id=1233&share_item_id=7001434701755862273&share_link_id=C7CC82E6-B05F-4124-AF88-84DD659EA92F&source=h5_m&timestamp=1630149706&tt_from=copy&u_code=d2d8573m3574lf&user_id=6609029460412973062&utm_campaign=client_share&utm_medium=ios&utm_source=copy&_r=1,TikTok,YESSS NEED THIS THANKYOU CLOUTOM\\xf0\\x9f\\x99\\x8f\\xf0\\x9f\\x99\\x8f\\xf0\\x9f\\x98\\x8a,0,,CS;;;;;;;;;\\r\\n2021-8-28,2021-12-01,cloutom,VIDEO,https://www.tiktok.com/@cloutom/video/7001434701755862273?_d=secCgYIASAHKAESPgo8zdgjKZNzhBqRfcWHyCznvVbI7mwO3NoloOj%2BeH6CFlQ0nRma%2B5JjPVZoWaxJyvsLQDpgO6%2FPPAWFbSFjGgA%3D&checksum=3e47baf0c22546acc0c59dcf8ccb24761e9be53e28c17e8f8b5a3635ddf7a85c&language=en&preview_pb=0&sec_user_id=MS4wLjABAAAA6fGjpiJgOUc16EQDgC6If0CB1RKTnh19HVtAkcXMiwGolY9cjlf6bEnBaeXj8BS7&share_app_id=1233&share_item_id=7001434701755862273&share_link_id=C7CC82E6-B05F-4124-AF88-84DD659EA92F&source=h5_m&timestamp=1630149706&tt_from=copy&u_code=d2d8573m3574lf&user_id=6609029460412973062&utm_campaign=client_share&utm_medium=ios&utm_source=copy&_r=1,TikTok,Does the king reply,0,,CS;;;;;;;;;\\r\\n2021-8-28,2021-12-01,cloutom,VIDEO,https://www.tiktok.com/@cloutom/video/7001434701755862273?_d=secCgYIASAHKAESPgo8zdgjKZNzhBqRfcWHyCznvVbI7mwO3NoloOj%2BeH6CFlQ0nRma%2B5JjPVZoWaxJyvsLQDpgO6%2FPPAWFbSFjGgA%3D&checksum=3e47baf0c22546acc0c59dcf8ccb24761e9be53e28c17e8f8b5a3635ddf7a85c&language=en&preview_pb=0&sec_user_id=MS4wLjABAAAA6fGjpiJgOUc16EQDgC6If0CB1RKTnh19HVtAkcXMiwGolY9cjlf6bEnBaeXj8BS7&share_app_id=1233&share_item_id=7001434701755862273&share_link_id=C7CC82E6-B05F-4124-AF88-84DD659EA92F&source=h5_m&timestamp=1630149706&tt_from=copy&u_code=d2d8573m3574lf&user_id=6609029460412973062&utm_campaign=client_share&utm_medium=ios&utm_source=copy&_r=1,TikTok,Yep \\xf0\\x9f\\x98\\x82,0,,CS;;;;;;;;;\\r\\n2021-8-28,2021-12-01,cloutom,VIDEO,https://www.tiktok.com/@cloutom/video/7001434701755862273?_d=secCgYIASAHKAESPgo8zdgjKZNzhBqRfcWHyCznvVbI7mwO3NoloOj%2BeH6CFlQ0nRma%2B5JjPVZoWaxJyvsLQDpgO6%2FPPAWFbSFjGgA%3D&checksum=3e47baf0c22546acc0c59dcf8ccb24761e9be53e28c17e8f8b5a3635ddf7a85c&language=en&preview_pb=0&sec_user_id=MS4wLjABAAAA6fGjpiJgOUc16EQDgC6If0CB1RKTnh19HVtAkcXMiwGolY9cjlf6bEnBaeXj8BS7&share_app_id=1233&share_item_id=7001434701755862273&share_link_id=C7CC82E6-B05F-4124-AF88-84DD659EA92F&source=h5_m&timestamp=1630149706&tt_from=copy&u_code=d2d8573m3574lf&user_id=6609029460412973062&utm_campaign=client_share&utm_medium=ios&utm_source=copy&_r=1,TikTok,20th\\xe2\\x9d\\xa4\\xef\\xb8\\x8f,0,,CS;;;;;;;;;\\r\\n2021-8-28,2021-12-01,cloutom,VIDEO,https://www.tiktok.com/@cloutom/video/7001434701755862273?_d=secCgYIASAHKAESPgo8zdgjKZNzhBqRfcWHyCznvVbI7mwO3NoloOj%2BeH6CFlQ0nRma%2B5JjPVZoWaxJyvsLQDpgO6%2FPPAWFbSFjGgA%3D&checksum=3e47baf0c22546acc0c59dcf8ccb24761e9be53e28c17e8f8b5a3635ddf7a85c&language=en&preview_pb=0&sec_user_id=MS4wLjABAAAA6fGjpiJgOUc16EQDgC6If0CB1RKTnh19HVtAkcXMiwGolY9cjlf6bEnBaeXj8BS7&share_app_id=1233&share_item_id=7001434701755862273&share_link_id=C7CC82E6-B05F-4124-AF88-84DD659EA92F&source=h5_m&timestamp=1630149706&tt_from=copy&u_code=d2d8573m3574lf&user_id=6609029460412973062&utm_campaign=client_share&utm_medium=ios&utm_source=copy&_r=1,TikTok,Guathmath,0,,CS;;;;;;;;;\\r\\n2021-8-28,2021-12-01,cloutom,VIDEO,https://www.tiktok.com/@cloutom/video/7001434701755862273?_d=secCgYIASAHKAESPgo8zdgjKZNzhBqRfcWHyCznvVbI7mwO3NoloOj%2BeH6CFlQ0nRma%2B5JjPVZoWaxJyvsLQDpgO6%2FPPAWFbSFjGgA%3D&checksum=3e47baf0c22546acc0c59dcf8ccb24761e9be53e28c17e8f8b5a3635ddf7a85c&language=en&preview_pb=0&sec_user_id=MS4wLjABAAAA6fGjpiJgOUc16EQDgC6If0CB1RKTnh19HVtAkcXMiwGolY9cjlf6bEnBaeXj8BS7&share_app_id=1233&share_item_id=7001434701755862273&share_link_id=C7CC82E6-B05F-4124-AF88-84DD659EA92F&source=h5_m&timestamp=1630149706&tt_from=copy&u_code=d2d8573m3574lf&user_id=6609029460412973062&utm_campaign=client_share&utm_medium=ios&utm_source=copy&_r=1,TikTok,how do you do your hair pls Tel meee,0,,CS;;;;;;;;;\\r\\n2021-8-28,2021-12-01,cloutom,VIDEO,https://www.tiktok.com/@cloutom/video/7001434701755862273?_d=secCgYIASAHKAESPgo8zdgjKZNzhBqRfcWHyCznvVbI7mwO3NoloOj%2BeH6CFlQ0nRma%2B5JjPVZoWaxJyvsLQDpgO6%2FPPAWFbSFjGgA%3D&checksum=3e47baf0c22546acc0c59dcf8ccb24761e9be53e28c17e8f8b5a3635ddf7a85c&language=en&preview_pb=0&sec_user_id=MS4wLjABAAAA6fGjpiJgOUc16EQDgC6If0CB1RKTnh19HVtAkcXMiwGolY9cjlf6bEnBaeXj8BS7&share_app_id=1233&share_item_id=7001434701755862273&share_link_id=C7CC82E6-B05F-4124-AF88-84DD659EA92F&source=h5_m&timestamp=1630149706&tt_from=copy&u_code=d2d8573m3574lf&user_id=6609029460412973062&utm_campaign=client_share&utm_medium=ios&utm_source=copy&_r=1,TikTok,Hiii,0,,CS;;;;;;;;;\\r\\n2021-8-28,2021-12-01,cloutom,VIDEO,https://www.tiktok.com/@cloutom/video/7001434701755862273?_d=secCgYIASAHKAESPgo8zdgjKZNzhBqRfcWHyCznvVbI7mwO3NoloOj%2BeH6CFlQ0nRma%2B5JjPVZoWaxJyvsLQDpgO6%2FPPAWFbSFjGgA%3D&checksum=3e47baf0c22546acc0c59dcf8ccb24761e9be53e28c17e8f8b5a3635ddf7a85c&language=en&preview_pb=0&sec_user_id=MS4wLjABAAAA6fGjpiJgOUc16EQDgC6If0CB1RKTnh19HVtAkcXMiwGolY9cjlf6bEnBaeXj8BS7&share_app_id=1233&share_item_id=7001434701755862273&share_link_id=C7CC82E6-B05F-4124-AF88-84DD659EA92F&source=h5_m&timestamp=1630149706&tt_from=copy&u_code=d2d8573m3574lf&user_id=6609029460412973062&utm_campaign=client_share&utm_medium=ios&utm_source=copy&_r=1,TikTok,Going to get an A\\xf0\\x9f\\x98\\xb3,0,,CS;;;;;;;;;\\r\\n2021-9-21,2021-12-01,thatrelatablestudent,VIDEO,https://www.tiktok.com/@thatrelatablestudent/video/7010543731241733382?lang=en&is_copy_url=1&is_from_webapp=v1,TikTok,Google :),0,,CS;;;;;;;;;\\r\\n2021-9-21,2021-12-01,thatrelatablestudent,VIDEO,https://www.tiktok.com/@thatrelatablestudent/video/7010543731241733382?lang=en&is_copy_url=1&is_from_webapp=v1,TikTok,What are you studying??,0,,CS;;;;;;;;;\\r\\n2021-9-21,2021-12-01,thatrelatablestudent,VIDEO,https://www.tiktok.com/@thatrelatablestudent/video/7010543731241733382?lang=en&is_copy_url=1&is_from_webapp=v1,TikTok,But is it free,0,,CS;;;;;;;;;\\r\\n2021-9-21,2021-12-01,thatrelatablestudent,VIDEO,https://www.tiktok.com/@thatrelatablestudent/video/7010543731241733382?lang=en&is_copy_url=1&is_from_webapp=v1,TikTok,Love the hoodiee,0,,CS;;;;;;;;;\\r\\n2021-9-21,2021-12-01,thatrelatablestudent,VIDEO,https://www.tiktok.com/@thatrelatablestudent/video/7010543731241733382?lang=en&is_copy_url=1&is_from_webapp=v1,TikTok,Does it wirk with french biology questions??,0,,CS;;;;;;;;;\\r\\n2021-9-21,2021-12-01,thatrelatablestudent,VIDEO,https://www.tiktok.com/@thatrelatablestudent/video/7010543731241733382?lang=en&is_copy_url=1&is_from_webapp=v1,TikTok,Earlyyy,0,,CS;;;;;;;;;\\r\\n2021-9-21,2021-12-01,thatrelatablestudent,VIDEO,https://www.tiktok.com/@thatrelatablestudent/video/7010543731241733382?lang=en&is_copy_url=1&is_from_webapp=v1,TikTok,i allways using brainly\\xf0\\x9f\\x98\\x85\\xf0\\x9f\\x98\\x85,0,,CS;;;;;;;;;\\r\\n\"2021-9-21,2021-12-01,thatrelatablestudent,VIDEO,https://www.tiktok.com/@thatrelatablestudent/video/7010543731241733382?lang=en&is_copy_url=1&is_from_webapp=v1,TikTok,\"\"Sorry to rant but can somebody please give me advice. I went to high school for a few months in Yeat 7, then I dropped out because of what was most\"\",0,,CS\";;;;;;;;;\\r\\n2021-9-21,2021-12-01,thatrelatablestudent,VIDEO,https://www.tiktok.com/@thatrelatablestudent/video/7010543731241733382?lang=en&is_copy_url=1&is_from_webapp=v1,TikTok,most problems are in there tho,0,,CS;;;;;;;;;\\r\\n2021-9-21,2021-12-01,thatrelatablestudent,VIDEO,https://www.tiktok.com/@thatrelatablestudent/video/7010543731241733382?lang=en&is_copy_url=1&is_from_webapp=v1,TikTok,*lernt,0,,CS;;;;;;;;;\\r\\n2021-9-21,2021-12-01,thatrelatablestudent,VIDEO,https://www.tiktok.com/@thatrelatablestudent/video/7010543731241733382?lang=en&is_copy_url=1&is_from_webapp=v1,TikTok,so it took you almost 4 hours for 1 question.........,0,,CS;;;;;;;;;\\r\\n2021-9-21,2021-12-01,thatrelatablestudent,VIDEO,https://www.tiktok.com/@thatrelatablestudent/video/7010543731241733382?lang=en&is_copy_url=1&is_from_webapp=v1,TikTok,Where the link?,0,,CS;;;;;;;;;\\r\\n2021-9-21,2021-12-01,thatrelatablestudent,VIDEO,https://www.tiktok.com/@thatrelatablestudent/video/7010543731241733382?lang=en&is_copy_url=1&is_from_webapp=v1,TikTok,mathway and askrose.org,0,,CS;;;;;;;;;\\r\\n2021-9-21,2021-12-01,thatrelatablestudent,VIDEO,https://www.tiktok.com/@thatrelatablestudent/video/7010543731241733382?lang=en&is_copy_url=1&is_from_webapp=v1,TikTok,@gursimrann29,0,,CS;;;;;;;;;\\r\\n2021-9-21,2021-12-01,thatrelatablestudent,VIDEO,https://www.tiktok.com/@thatrelatablestudent/video/7010543731241733382?lang=en&is_copy_url=1&is_from_webapp=v1,TikTok,Guess,0,,CS;;;;;;;;;\\r\\n2021-9-21,2021-12-01,thatrelatablestudent,VIDEO,https://www.tiktok.com/@thatrelatablestudent/video/7010543731241733382?lang=en&is_copy_url=1&is_from_webapp=v1,TikTok,Nope\\xe2\\x80\\xa6 I\\xe2\\x80\\x99ve been waiting for 10+ hours so no thank you I\\xe2\\x80\\x99d rather do it myself and google it or sum,0,,CS;;;;;;;;;\\r\\n\"2021-9-21,2021-12-01,thatrelatablestudent,VIDEO,https://www.tiktok.com/@thatrelatablestudent/video/7010543731241733382?lang=en&is_copy_url=1&is_from_webapp=v1,TikTok,\"\"or brainly, or math papa if its math\"\",0,,CS\";;;;;;;;;\\r\\n2021-9-21,2021-12-01,thatrelatablestudent,VIDEO,https://www.tiktok.com/@thatrelatablestudent/video/7010543731241733382?lang=en&is_copy_url=1&is_from_webapp=v1,TikTok,ouais,0,,CS;;;;;;;;;\\r\\n2021-9-21,2021-12-01,thatrelatablestudent,VIDEO,https://www.tiktok.com/@thatrelatablestudent/video/7010543731241733382?lang=en&is_copy_url=1&is_from_webapp=v1,TikTok,Is this free,0,,CS;;;;;;;;;\\r\\n2021-9-21,2021-12-01,thatrelatablestudent,VIDEO,https://www.tiktok.com/@thatrelatablestudent/video/7010543731241733382?lang=en&is_copy_url=1&is_from_webapp=v1,TikTok,3 hours for one prob \\xf0\\x9f\\x98\\xb3 before U thought of chegg \\xf0\\x9f\\x98\\xb3 or just moved on \\xf0\\x9f\\x98\\xb3,0,,CS;;;;;;;;;\\r\\n2021-10-16,2021-12-01,lexistrechak,VIDEO,https://www.tiktok.com/foryou?is_from_webapp=v1&item_id=7019443237479861509&lang=en#/@lexistrechak/video/7019443237479861509,TikTok,early,0,,CS;;;;;;;;;\\r\\n2021-10-16,2021-12-01,lexistrechak,VIDEO,https://www.tiktok.com/foryou?is_from_webapp=v1&item_id=7019443237479861509&lang=en#/@lexistrechak/video/7019443237479861509,TikTok,Hiii,0,,CS;;;;;;;;;\\r\\n2021-10-16,2021-12-01,lexistrechak,VIDEO,https://www.tiktok.com/foryou?is_from_webapp=v1&item_id=7019443237479861509&lang=en#/@lexistrechak/video/7019443237479861509,TikTok,Early,0,,CS;;;;;;;;;\\r\\n2021-10-16,2021-12-01,lexistrechak,VIDEO,https://www.tiktok.com/foryou?is_from_webapp=v1&item_id=7019443237479861509&lang=en#/@lexistrechak/video/7019443237479861509,TikTok,Early queen \\xf0\\x9f\\xa5\\xb0,0,,CS;;;;;;;;;\\r\\n2021-10-16,2021-12-01,lexistrechak,VIDEO,https://www.tiktok.com/foryou?is_from_webapp=v1&item_id=7019443237479861509&lang=en#/@lexistrechak/video/7019443237479861509,TikTok,Same,0,,CS;;;;;;;;;\\r\\n2021-10-16,2021-12-01,lexistrechak,VIDEO,https://www.tiktok.com/foryou?is_from_webapp=v1&item_id=7019443237479861509&lang=en#/@lexistrechak/video/7019443237479861509,TikTok,First,0,,CS;;;;;;;;;\\r\\n2021-10-16,2021-12-01,lexistrechak,VIDEO,https://www.tiktok.com/foryou?is_from_webapp=v1&item_id=7019443237479861509&lang=en#/@lexistrechak/video/7019443237479861509,TikTok,Oh wait nvm I thought that was just the video nvm it\\xe2\\x80\\x99s an add,0,,CS;;;;;;;;;\\r\\n2021-10-16,2021-12-01,lexistrechak,VIDEO,https://www.tiktok.com/foryou?is_from_webapp=v1&item_id=7019443237479861509&lang=en#/@lexistrechak/video/7019443237479861509,TikTok,u started studying with chegg \\xf0\\x9f\\x98\\x81,0,,CS;;;;;;;;;\\r\\n2021-10-16,2021-12-01,lexistrechak,VIDEO,https://www.tiktok.com/foryou?is_from_webapp=v1&item_id=7019443237479861509&lang=en#/@lexistrechak/video/7019443237479861509,TikTok,I didn\\'t even know this was a ad,0,,CS;;;;;;;;;\\r\\n2021-10-16,2021-12-01,lexistrechak,VIDEO,https://www.tiktok.com/foryou?is_from_webapp=v1&item_id=7019443237479861509&lang=en#/@lexistrechak/video/7019443237479861509,TikTok,omg you replied :),0,,CS;;;;;;;;;\\r\\n2021-10-16,2021-12-01,lexistrechak,VIDEO,https://www.tiktok.com/foryou?is_from_webapp=v1&item_id=7019443237479861509&lang=en#/@lexistrechak/video/7019443237479861509,TikTok,Heyy queen love you babe,0,,CS;;;;;;;;;\\r\\n2021-10-16,2021-12-01,lexistrechak,VIDEO,https://www.tiktok.com/foryou?is_from_webapp=v1&item_id=7019443237479861509&lang=en#/@lexistrechak/video/7019443237479861509,TikTok,I am in middle school and I\\xe2\\x80\\x99m already at that point last week and I\\xe2\\x80\\x99ve been in school for seven weeks,0,,CS;;;;;;;;;\\r\\n2021-10-16,2021-12-01,lexistrechak,VIDEO,https://www.tiktok.com/foryou?is_from_webapp=v1&item_id=7019443237479861509&lang=en#/@lexistrechak/video/7019443237479861509,TikTok,@mayy_karim__1 brevet,0,,CS;;;;;;;;;\\r\\n\"2021-10-16,2021-12-01,lexistrechak,VIDEO,https://www.tiktok.com/foryou?is_from_webapp=v1&item_id=7019443237479861509&lang=en#/@lexistrechak/video/7019443237479861509,TikTok,\"\"\"\"\"\"thank you so much \\xf0\\x9f\\x98\\x81 now get out of my room\\xf0\\x9f\\x98\\x91\"\"\"\"\"\",0,,CS\";;;;;;;;;\\r\\n2021-10-16,2021-12-01,lexistrechak,VIDEO,https://www.tiktok.com/foryou?is_from_webapp=v1&item_id=7019443237479861509&lang=en#/@lexistrechak/video/7019443237479861509,TikTok,First,0,,CS;;;;;;;;;\\r\\n2021-10-16,2021-12-01,lexistrechak,VIDEO,https://www.tiktok.com/foryou?is_from_webapp=v1&item_id=7019443237479861509&lang=en#/@lexistrechak/video/7019443237479861509,TikTok,God bless Jesus saves!,0,,CS;;;;;;;;;\\r\\n2021-10-16,2021-12-01,lexistrechak,VIDEO,https://www.tiktok.com/foryou?is_from_webapp=v1&item_id=7019443237479861509&lang=en#/@lexistrechak/video/7019443237479861509,TikTok,hi,0,,CS;;;;;;;;;\\r\\n2021-10-16,2021-12-01,lexistrechak,VIDEO,https://www.tiktok.com/foryou?is_from_webapp=v1&item_id=7019443237479861509&lang=en#/@lexistrechak/video/7019443237479861509,TikTok,\\xf0\\x9f\\xa5\\xb0,0,,CS;;;;;;;;;\\r\\n2021-10-16,2021-12-01,lexistrechak,VIDEO,https://www.tiktok.com/foryou?is_from_webapp=v1&item_id=7019443237479861509&lang=en#/@lexistrechak/video/7019443237479861509,TikTok,Wait so this app is basically a virtual tutor?,0,,CS;;;;;;;;;\\r\\n2021-10-16,2021-12-01,lexistrechak,VIDEO,https://www.tiktok.com/foryou?is_from_webapp=v1&item_id=7019443237479861509&lang=en#/@lexistrechak/video/7019443237479861509,TikTok,Oh girl I already got to that point when we had homework in the summer \\xf0\\x9f\\xa5\\xba\\xf0\\x9f\\x98\\x82,0,,CS;;;;;;;;;\\r\\n2021-10-16,2021-12-01,lexistrechak,VIDEO,https://www.tiktok.com/foryou?is_from_webapp=v1&item_id=7019443237479861509&lang=en#/@lexistrechak/video/7019443237479861509,TikTok,this is every point in my semester.,0,,CS;;;;;;;;;\\r\\n2021-10-16,2021-12-01,lexistrechak,VIDEO,https://www.tiktok.com/foryou?is_from_webapp=v1&item_id=7019443237479861509&lang=en#/@lexistrechak/video/7019443237479861509,TikTok,First!!,0,,CS;;;;;;;;;\\r\\n2021-10-16,2021-12-01,lexistrechak,VIDEO,https://www.tiktok.com/foryou?is_from_webapp=v1&item_id=7019443237479861509&lang=en#/@lexistrechak/video/7019443237479861509,TikTok,hello gday super get account.,0,,CS;;;;;;;;;\\r\\n2021-10-16,2021-12-01,lexistrechak,VIDEO,https://www.tiktok.com/foryou?is_from_webapp=v1&item_id=7019443237479861509&lang=en#/@lexistrechak/video/7019443237479861509,TikTok,This is literally me every time I get hw,0,,CS;;;;;;;;;\\r\\n2021-10-16,2021-12-01,lexistrechak,VIDEO,https://www.tiktok.com/foryou?is_from_webapp=v1&item_id=7019443237479861509&lang=en#/@lexistrechak/video/7019443237479861509,TikTok,early,0,,CS;;;;;;;;;\\r\\n2021-10-16,2021-12-01,lexistrechak,VIDEO,https://www.tiktok.com/foryou?is_from_webapp=v1&item_id=7019443237479861509&lang=en#/@lexistrechak/video/7019443237479861509,TikTok,LOL,0,,CS;;;;;;;;;\\r\\n2021-10-16,2021-12-01,lexistrechak,VIDEO,https://www.tiktok.com/foryou?is_from_webapp=v1&item_id=7019443237479861509&lang=en#/@lexistrechak/video/7019443237479861509,TikTok,First,0,,CS;;;;;;;;;\\r\\n2021-10-16,2021-12-01,lexistrechak,VIDEO,https://www.tiktok.com/foryou?is_from_webapp=v1&item_id=7019443237479861509&lang=en#/@lexistrechak/video/7019443237479861509,TikTok,early 3 minss,0,,CS;;;;;;;;;\\r\\n2021-10-16,2021-12-01,lexistrechak,VIDEO,https://www.tiktok.com/foryou?is_from_webapp=v1&item_id=7019443237479861509&lang=en#/@lexistrechak/video/7019443237479861509,TikTok,3min ago,0,,CS;;;;;;;;;\\r\\n2021-10-16,2021-12-01,lexistrechak,VIDEO,https://www.tiktok.com/foryou?is_from_webapp=v1&item_id=7019443237479861509&lang=en#/@lexistrechak/video/7019443237479861509,TikTok,First,0,,CS;;;;;;;;;\\r\\n2021-10-16,2021-12-01,lexistrechak,VIDEO,https://www.tiktok.com/foryou?is_from_webapp=v1&item_id=7019443237479861509&lang=en#/@lexistrechak/video/7019443237479861509,TikTok,@_regan_ @sachi.forbs me,0,,CS;;;;;;;;;\\r\\n2021-9-19,2021-12-01,sarahbada_,VIDEO,https://www.tiktok.com/@sarahbada_/video/7009591980183309573?is_copy_url=0&is_from_webapp=v1&sender_device=pc&sender_web_id=6986418500073326081,TikTok,Uhhh if I use chegg my uni literally expels me,0,,CS;;;;;;;;;\\r\\n2021-11-19,2021-12-01,sarahbada_,VIDEO,https://www.tiktok.com/@sarahbada_/video/7032191393779010821?lang=en&is_copy_url=0&is_from_webapp=v1&sender_device=pc&sender_web_id=6986418500073326081,TikTok,most of it isnt very helpful for those outside the USA,0,,CS;;;;;;;;;\\r\\n\"2021-9-24,2021-12-01,modern.day.classic,VIDEO,https://www.tiktok.com/foryou?_d=secCgYIASAHKAESPgo8WHgI%2BtMUBk6UpEY8XJrCh9nhDYmc%2FtEaqPMNoxfswWmKNZBVL%2FRZL2mIgVNOPfafxQiBimsUqPLWH5V%2BGgA%3D&_r=1&checksum=5631d46fae9893694bda8256fc39e17a39854eb422a7e0ee2ebb7c191899ce0b&is_from_webapp=v1&item_id=7011526528886525190&language=en&preview_pb=0&sec_user_id=MS4wLjABAAAAqA2jfCtaHhY58qGVxZYTCR2DtfbC8SQi0Oh1LEGsH03IA4P2fBOvG5bzgL57pnQ0&share_app_id=1233&share_item_id=7011526528886525190&share_link_id=9E9292E8-BC65-43F9-BFD4-9099E6DAA8CF&source=h5_m&timestamp=1634239189&tt_from=copy&u_code=dbbmeib4hm4le8&user_id=6804952528405906438&utm_campaign=client_share&utm_medium=ios&utm_source=copy#/@modern.day.classic/video/7011526528886525190,TikTok,\"\"Same!!! Even as a teacher, it\\xe2\\x80\\x99s so helpful \\xf0\\x9f\\x99\\x8c\\xf0\\x9f\\x8f\\xbe\"\",0,,CS\";;;;;;;;;\\r\\n2021-9-24,2021-12-01,modern.day.classic,VIDEO,https://www.tiktok.com/foryou?_d=secCgYIASAHKAESPgo8WHgI%2BtMUBk6UpEY8XJrCh9nhDYmc%2FtEaqPMNoxfswWmKNZBVL%2FRZL2mIgVNOPfafxQiBimsUqPLWH5V%2BGgA%3D&_r=1&checksum=5631d46fae9893694bda8256fc39e17a39854eb422a7e0ee2ebb7c191899ce0b&is_from_webapp=v1&item_id=7011526528886525190&language=en&preview_pb=0&sec_user_id=MS4wLjABAAAAqA2jfCtaHhY58qGVxZYTCR2DtfbC8SQi0Oh1LEGsH03IA4P2fBOvG5bzgL57pnQ0&share_app_id=1233&share_item_id=7011526528886525190&share_link_id=9E9292E8-BC65-43F9-BFD4-9099E6DAA8CF&source=h5_m&timestamp=1634239189&tt_from=copy&u_code=dbbmeib4hm4le8&user_id=6804952528405906438&utm_campaign=client_share&utm_medium=ios&utm_source=copy#/@modern.day.classic/video/7011526528886525190,TikTok,This hairstyle needs a tutorial \\xf0\\x9f\\x98\\xa9. You should see how my hair looks right now after attempting 4 times.,0,,CS;;;;;;;;;\\r\\n2021-9-24,2021-12-01,modern.day.classic,VIDEO,https://www.tiktok.com/foryou?_d=secCgYIASAHKAESPgo8WHgI%2BtMUBk6UpEY8XJrCh9nhDYmc%2FtEaqPMNoxfswWmKNZBVL%2FRZL2mIgVNOPfafxQiBimsUqPLWH5V%2BGgA%3D&_r=1&checksum=5631d46fae9893694bda8256fc39e17a39854eb422a7e0ee2ebb7c191899ce0b&is_from_webapp=v1&item_id=7011526528886525190&language=en&preview_pb=0&sec_user_id=MS4wLjABAAAAqA2jfCtaHhY58qGVxZYTCR2DtfbC8SQi0Oh1LEGsH03IA4P2fBOvG5bzgL57pnQ0&share_app_id=1233&share_item_id=7011526528886525190&share_link_id=9E9292E8-BC65-43F9-BFD4-9099E6DAA8CF&source=h5_m&timestamp=1634239189&tt_from=copy&u_code=dbbmeib4hm4le8&user_id=6804952528405906438&utm_campaign=client_share&utm_medium=ios&utm_source=copy#/@modern.day.classic/video/7011526528886525190,TikTok,\\xe2\\x98\\xba\\xef\\xb8\\x8f,0,,CS;;;;;;;;;\\r\\n2021-9-24,2021-12-01,modern.day.classic,VIDEO,https://www.tiktok.com/foryou?_d=secCgYIASAHKAESPgo8WHgI%2BtMUBk6UpEY8XJrCh9nhDYmc%2FtEaqPMNoxfswWmKNZBVL%2FRZL2mIgVNOPfafxQiBimsUqPLWH5V%2BGgA%3D&_r=1&checksum=5631d46fae9893694bda8256fc39e17a39854eb422a7e0ee2ebb7c191899ce0b&is_from_webapp=v1&item_id=7011526528886525190&language=en&preview_pb=0&sec_user_id=MS4wLjABAAAAqA2jfCtaHhY58qGVxZYTCR2DtfbC8SQi0Oh1LEGsH03IA4P2fBOvG5bzgL57pnQ0&share_app_id=1233&share_item_id=7011526528886525190&share_link_id=9E9292E8-BC65-43F9-BFD4-9099E6DAA8CF&source=h5_m&timestamp=1634239189&tt_from=copy&u_code=dbbmeib4hm4le8&user_id=6804952528405906438&utm_campaign=client_share&utm_medium=ios&utm_source=copy#/@modern.day.classic/video/7011526528886525190,TikTok,starting college in the spring definitely going to use this,0,,CS;;;;;;;;;\\r\\n2021-9-24,2021-12-01,modern.day.classic,VIDEO,https://www.tiktok.com/foryou?_d=secCgYIASAHKAESPgo8WHgI%2BtMUBk6UpEY8XJrCh9nhDYmc%2FtEaqPMNoxfswWmKNZBVL%2FRZL2mIgVNOPfafxQiBimsUqPLWH5V%2BGgA%3D&_r=1&checksum=5631d46fae9893694bda8256fc39e17a39854eb422a7e0ee2ebb7c191899ce0b&is_from_webapp=v1&item_id=7011526528886525190&language=en&preview_pb=0&sec_user_id=MS4wLjABAAAAqA2jfCtaHhY58qGVxZYTCR2DtfbC8SQi0Oh1LEGsH03IA4P2fBOvG5bzgL57pnQ0&share_app_id=1233&share_item_id=7011526528886525190&share_link_id=9E9292E8-BC65-43F9-BFD4-9099E6DAA8CF&source=h5_m&timestamp=1634239189&tt_from=copy&u_code=dbbmeib4hm4le8&user_id=6804952528405906438&utm_campaign=client_share&utm_medium=ios&utm_source=copy#/@modern.day.classic/video/7011526528886525190,TikTok,I\\'m not in school but I could use this in my life..... I think \\xf0\\x9f\\xa4\\x94,0,,CS;;;;;;;;;\\r\\n2021-9-24,2021-12-01,modern.day.classic,VIDEO,https://www.tiktok.com/foryou?_d=secCgYIASAHKAESPgo8WHgI%2BtMUBk6UpEY8XJrCh9nhDYmc%2FtEaqPMNoxfswWmKNZBVL%2FRZL2mIgVNOPfafxQiBimsUqPLWH5V%2BGgA%3D&_r=1&checksum=5631d46fae9893694bda8256fc39e17a39854eb422a7e0ee2ebb7c191899ce0b&is_from_webapp=v1&item_id=7011526528886525190&language=en&preview_pb=0&sec_user_id=MS4wLjABAAAAqA2jfCtaHhY58qGVxZYTCR2DtfbC8SQi0Oh1LEGsH03IA4P2fBOvG5bzgL57pnQ0&share_app_id=1233&share_item_id=7011526528886525190&share_link_id=9E9292E8-BC65-43F9-BFD4-9099E6DAA8CF&source=h5_m&timestamp=1634239189&tt_from=copy&u_code=dbbmeib4hm4le8&user_id=6804952528405906438&utm_campaign=client_share&utm_medium=ios&utm_source=copy#/@modern.day.classic/video/7011526528886525190,TikTok,my daughter \\xe2\\x9d\\xa4 is in 9th grade I got her to an AAplus student I send this video to her....Thanks\\xf0\\x9f\\x91\\x8d\\xf0\\x9f\\x91\\x8d\\xf0\\x9f\\x91\\x8d\\xf0\\x9f\\x91\\x8d\\xf0\\x9f\\x91\\x8d,0,,CS;;;;;;;;;\\r\\n2021-11-8,2021-12-01,medstudebt,VIDEO,https://www.tiktok.com/@medstudebt/video/7028312361073429765?lang=en,TikTok,You look like my family member shakes,1,,CS;;;;;;;;;\\r\\n\"2021-9-12,2021-12-01,espdaniella,VIDEO,https://www.tiktok.com/@espdaniella/video/7007109992926989574?lang=en,TikTok,\"\"Yes it may be an ad, but I have genuinely been using this for years before i made an ad about it \\xf0\\x9f\\x91\\x8c\"\",1,,CS\";;;;;;;;;\\r\\n\"2021-9-12,2021-12-01,espdaniella,VIDEO,https://www.tiktok.com/@espdaniella/video/7007109992926989574?lang=en,TikTok,\"\"REALLY? Smh, that\\xe2\\x80\\x99s why I don\\xe2\\x80\\x99t use my name\"\",1,,CS\";;;;;;;;;\\r\\n2021-9-12,2021-12-01,espdaniella,VIDEO,https://www.tiktok.com/@espdaniella/video/7007109992926989574?lang=en,TikTok,No,1,,CS;;;;;;;;;\\r\\n2021-9-11,2021-12-01,themccartys,VIDEO,https://www.tiktok.com/@themccartys/video/7006777814015855878?lang=en,TikTok,you have to daughters,1,,CS;;;;;;;;;\\r\\n2021-9-11,2021-12-01,themccartys,VIDEO,https://www.tiktok.com/@themccartys/video/7006777814015855878?lang=en,TikTok,\\xf0\\x9f\\x98\\x82\\xf0\\x9f\\x98\\x82,1,,CS;;;;;;;;;\\r\\n2021-9-11,2021-12-01,themccartys,VIDEO,https://www.tiktok.com/@themccartys/video/7006777814015855878?lang=en,TikTok,Hey,1,,CS;;;;;;;;;\\r\\n2021-9-11,2021-12-01,themccartys,VIDEO,https://www.tiktok.com/@themccartys/video/7006777814015855878?lang=en,TikTok,\\xf0\\x9f\\x98\\x82 So so true \\xf0\\x9f\\x98\\x82,1,,CS;;;;;;;;;\\r\\n2021-9-11,2021-12-01,themccartys,VIDEO,https://www.tiktok.com/@themccartys/video/7006777814015855878?lang=en,TikTok,wow Audri grew up fast. It\\'s like only yesterday she was in elementary,1,,CS;;;;;;;;;\\r\\n2021-9-11,2021-12-01,themccartys,VIDEO,https://www.tiktok.com/@themccartys/video/7006777814015855878?lang=en,TikTok,Cliffs Notes \\xf0\\x9f\\x98\\x82\\xf0\\x9f\\x98\\x82\\xf0\\x9f\\x98\\x82,1,,CS;;;;;;;;;\\r\\n2021-9-11,2021-12-01,themccartys,VIDEO,https://www.tiktok.com/@themccartys/video/7006777814015855878?lang=en,TikTok,Good question,1,,CS;;;;;;;;;\\r\\n2021-9-11,2021-12-01,themccartys,VIDEO,https://www.tiktok.com/@themccartys/video/7006777814015855878?lang=en,TikTok,\\xf0\\x9f\\xa5\\xb0\\xf0\\x9f\\xa5\\xb0\\xf0\\x9f\\x98\\x82,1,,CS;;;;;;;;;\\r\\n2021-9-11,2021-12-01,themccartys,VIDEO,https://www.tiktok.com/@themccartys/video/7006777814015855878?lang=en,TikTok,Hiiiiiii,1,,CS;;;;;;;;;\\r\\n\"2021-9-11,2021-12-01,themccartys,VIDEO,https://www.tiktok.com/@themccartys/video/7006777814015855878?lang=en,TikTok,\"\"My mom made that dress, as a teenager \\xf0\\x9f\\x98\\x82\\xf0\\x9f\\x98\\xb3\"\",1,,CS\";;;;;;;;;\\r\\n2021-9-11,2021-12-01,themccartys,VIDEO,https://www.tiktok.com/@themccartys/video/7006777814015855878?lang=en,TikTok,\\xf0\\x9f\\x98\\x82\\xf0\\x9f\\x98\\x82\\xf0\\x9f\\x98\\x82\\xf0\\x9f\\x98\\x82would have been nice to have this in school huh? we didn\\'t even have the internet yet\\xf0\\x9f\\x98\\xb3\\xf0\\x9f\\x98\\xb3\\xf0\\x9f\\x98\\xb3,1,,CS;;;;;;;;;\\r\\n2021-9-11,2021-12-01,themccartys,VIDEO,https://www.tiktok.com/@themccartys/video/7006777814015855878?lang=en,TikTok,\\xf0\\x9f\\x98\\x81,1,,CS;;;;;;;;;\\r\\n2021-9-11,2021-12-01,themccartys,VIDEO,https://www.tiktok.com/@themccartys/video/7006777814015855878?lang=en,TikTok,the dressz\\xf0\\x9f\\x98\\x82\\xf0\\x9f\\x98\\x82,1,,CS;;;;;;;;;\\r\\n2021-9-11,2021-12-01,themccartys,VIDEO,https://www.tiktok.com/@themccartys/video/7006777814015855878?lang=en,TikTok,\\xf0\\x9f\\x98\\xb3,1,,CS;;;;;;;;;\\r\\n2021-9-11,2021-12-01,themccartys,VIDEO,https://www.tiktok.com/@themccartys/video/7006777814015855878?lang=en,TikTok,Audrey must be at a friends house.. HAHAH,1,,CS;;;;;;;;;\\r\\n2021-11-12,2021-12-01,fernsulantay,VIDEO,https://www.tiktok.com/@fernsulantay/video/7029711391799987461?lang=en,TikTok,do they offer scholarships because it won\\'t let me take to the scholarship,1,,CS;;;;;;;;;\\r\\n2021-11-12,2021-12-01,fernsulantay,VIDEO,https://www.tiktok.com/@fernsulantay/video/7029711391799987461?lang=en,TikTok,\\xf0\\x9f\\xa5\\xb0@,1,,CS;;;;;;;;;\\r\\n2021-11-24,2021-12-15,pacollective,VIDEO,https://www.tiktok.com/@pacollective/video/7033946265146756357?lang=en,TikTok,Chem was rough! I used @Chegg !!,1,,CS;;;;;;;;;\\r\\n2021-10-15,2021-12-01,rrogersworld,VIDEO,https://www.tiktok.com/@rrogersworld/video/7019375006417308934?lang=en,TikTok,hi,1,,CS;;;;;;;;;\\r\\n2021-10-15,2021-12-01,rrogersworld,VIDEO,https://www.tiktok.com/@rrogersworld/video/7019375006417308934?lang=en,TikTok,Will Chegg help me study for my pilots license? \\xf0\\x9f\\x98\\x82,1,,CS;;;;;;;;;\\r\\n2021-10-15,2021-12-01,rrogersworld,VIDEO,https://www.tiktok.com/@rrogersworld/video/7019375006417308934?lang=en,TikTok,dam \\xf0\\x9f\\xa5\\xba,1,,CS;;;;;;;;;\\r\\n2021-10-15,2021-12-01,rrogersworld,VIDEO,https://www.tiktok.com/@rrogersworld/video/7019375006417308934?lang=en,TikTok,Gothmarh is better than Chang it let\\'s you take a pic of the homework and gives you the steps if you still don\\'t understand they have tutors to help,1,,CS;;;;;;;;;\\r\\n2021-10-15,2021-12-01,rrogersworld,VIDEO,https://www.tiktok.com/@rrogersworld/video/7019375006417308934?lang=en,TikTok,Lol who knows,1,,CS;;;;;;;;;\\r\\n2021-10-15,2021-12-01,rrogersworld,VIDEO,https://www.tiktok.com/@rrogersworld/video/7019375006417308934?lang=en,TikTok,Frist lol,1,,CS;;;;;;;;;\\r\\n2021-10-19,2021-12-01,maddyspencer5,VIDEO,https://www.tiktok.com/@maddyspencer5/video/7020752133184097537?lang=en,TikTok,\\xf0\\x9f\\xa5\\xb0\\xf0\\x9f\\xa5\\xb0\\xf0\\x9f\\xa5\\xb0\\xf0\\x9f\\xa5\\xb0,1,,CS;;;;;;;;;\\r\\n2021-10-19,2021-12-01,maddyspencer5,VIDEO,https://www.tiktok.com/@maddyspencer5/video/7020752133184097537?lang=en,TikTok,firstt,1,,CS;;;;;;;;;\\r\\n2021-10-19,2021-12-01,maddyspencer5,VIDEO,https://www.tiktok.com/@maddyspencer5/video/7020752133184097537?lang=en,TikTok,And she sticks the landing \\xf0\\x9f\\x91\\x8f,1,,CS;;;;;;;;;\\r\\n2021-10-8,2021-12-01,cloutom,VIDEO,https://www.tiktok.com/@cloutom/video/7016955575757966593?is_from_webapp=v1,TikTok,Jeez 10? Never bro that\\xe2\\x80\\x99s 7th,1,,CS;;;;;;;;;\\r\\n2021-10-8,2021-12-01,cloutom,VIDEO,https://www.tiktok.com/@cloutom/video/7016955575757966593?is_from_webapp=v1,TikTok,Bro I\\xe2\\x80\\x99m broke can\\xe2\\x80\\x99t even afford 5 dollars\\xf0\\x9f\\x98\\x82\\xf0\\x9f\\x98\\x82,1,,CS;;;;;;;;;\\r\\n2021-10-8,2021-12-01,cloutom,VIDEO,https://www.tiktok.com/@cloutom/video/7016955575757966593?is_from_webapp=v1,TikTok,@Hashii d\\xc3\\xb9ng c\\xc3\\xa1ch n\\xc3\\xa0y kh\\xc3\\xb4ng s\\xe1\\xbb\\xa3 to\\xc3\\xa1n n\\xe1\\xbb\\xafa r\\xe1\\xbb\\x93i \\xf0\\x9f\\x92\\x83,1,,CS;;;;;;;;;\\r\\n2021-10-8,2021-12-01,cloutom,VIDEO,https://www.tiktok.com/@cloutom/video/7016955575757966593?is_from_webapp=v1,TikTok,@Loic.U jaaaaaaa,1,,CS;;;;;;;;;\\r\\n2021-10-8,2021-12-01,cloutom,VIDEO,https://www.tiktok.com/@cloutom/video/7016955575757966593?is_from_webapp=v1,TikTok,Lol 0 views,1,,CS;;;;;;;;;\\r\\n2021-10-8,2021-12-01,cloutom,VIDEO,https://www.tiktok.com/@cloutom/video/7016955575757966593?is_from_webapp=v1,TikTok,Sorry for this H79\\xf0\\x9f\\x98\\x81andHi\\xf0\\x9f\\xa5\\xb0\\xf0\\x9f\\x98\\x81\\xf0\\x9f\\x99\\x82,1,,CS;;;;;;;;;\\r\\n2021-10-8,2021-12-01,cloutom,VIDEO,https://www.tiktok.com/@cloutom/video/7016955575757966593?is_from_webapp=v1,TikTok,Ohhh thanks,1,,CS;;;;;;;;;\\r\\n2021-9-10,2021-12-01,modern.day.classic,VIDEO,https://www.tiktok.com/@modern.day.classic/video/7006385167350631685?lang=en,TikTok,COOL,1,,CS;;;;;;;;;\\r\\n2021-9-10,2021-12-01,modern.day.classic,VIDEO,https://www.tiktok.com/@modern.day.classic/video/7006385167350631685?lang=en,TikTok,\\xf0\\x9f\\x98\\x81\\xf0\\x9f\\x98\\x81\\xf0\\x9f\\x98\\x81,1,,CS;;;;;;;;;\\r\\n\"2021-9-10,2021-12-01,modern.day.classic,VIDEO,https://www.tiktok.com/@modern.day.classic/video/7006385167350631685?lang=en,TikTok,\"\"Only used chegg for books. Although I\\xe2\\x80\\x99m no longer in school, I definitely would like to see writing content.\"\",1,,CS\";;;;;;;;;\\r\\n2021-9-10,2021-12-01,modern.day.classic,VIDEO,https://www.tiktok.com/@modern.day.classic/video/7006385167350631685?lang=en,TikTok,yes it do like i love you,1,,CS;;;;;;;;;\\r\\n2021-9-10,2021-12-01,modern.day.classic,VIDEO,https://www.tiktok.com/@modern.day.classic/video/7006385167350631685?lang=en,TikTok,pls teach me how to tie this ur heatie pls,1,,CS;;;;;;;;;\\r\\n2021-8-28,2021-12-01,ryanmarksutherland,VIDEO,https://www.tiktok.com/@ryanmarksutherland/video/7001597800790117637?lang=en,TikTok,Early\\xf0\\x9f\\x98\\x8f\\xf0\\x9f\\x98\\x8f,1,,CS;;;;;;;;;\\r\\n2021-8-28,2021-12-01,ryanmarksutherland,VIDEO,https://www.tiktok.com/@ryanmarksutherland/video/7001597800790117637?lang=en,TikTok,Early!,1,,CS;;;;;;;;;\\r\\n2021-8-28,2021-12-01,ryanmarksutherland,VIDEO,https://www.tiktok.com/@ryanmarksutherland/video/7001597800790117637?lang=en,TikTok,Early!!!,1,,CS;;;;;;;;;\\r\\n2021-8-28,2021-12-01,ryanmarksutherland,VIDEO,https://www.tiktok.com/@ryanmarksutherland/video/7001597800790117637?lang=en,TikTok,Chile\\xe2\\x80\\xa6.Anyways\\xe2\\x80\\xa6.SOOOOOO,1,,CS;;;;;;;;;\\r\\n2021-8-28,2021-12-01,ryanmarksutherland,VIDEO,https://www.tiktok.com/@ryanmarksutherland/video/7001597800790117637?lang=en,TikTok,I thought u were a nun at first \\xf0\\x9f\\x98\\xb3,1,,CS;;;;;;;;;\\r\\n2021-8-28,2021-12-01,ryanmarksutherland,VIDEO,https://www.tiktok.com/@ryanmarksutherland/video/7001597800790117637?lang=en,TikTok,Wow \\xf0\\x9f\\x98\\xaf..,1,,CS;;;;;;;;;\\r\\n2021-8-28,2021-12-01,ryanmarksutherland,VIDEO,https://www.tiktok.com/@ryanmarksutherland/video/7001597800790117637?lang=en,TikTok,I love ur videos so much .. u make me happy every day \\xe2\\x9d\\xa4\\xef\\xb8\\x8f..,1,,CS;;;;;;;;;\\r\\n2021-8-28,2021-12-01,ryanmarksutherland,VIDEO,https://www.tiktok.com/@ryanmarksutherland/video/7001597800790117637?lang=en,TikTok,SAME,1,,CS;;;;;;;;;\\r\\n2021-8-28,2021-12-01,ryanmarksutherland,VIDEO,https://www.tiktok.com/@ryanmarksutherland/video/7001597800790117637?lang=en,TikTok,earlyy,1,,CS;;;;;;;;;\\r\\n2021-8-28,2021-12-01,ryanmarksutherland,VIDEO,https://www.tiktok.com/@ryanmarksutherland/video/7001597800790117637?lang=en,TikTok,EARLY!!!,1,,CS;;;;;;;;;\\r\\n2021-8-28,2021-12-01,ryanmarksutherland,VIDEO,https://www.tiktok.com/@ryanmarksutherland/video/7001597800790117637?lang=en,TikTok,Early :),1,,CS;;;;;;;;;\\r\\n2021-8-28,2021-12-01,ryanmarksutherland,VIDEO,https://www.tiktok.com/@ryanmarksutherland/video/7001597800790117637?lang=en,TikTok,Hey,1,,CS;;;;;;;;;\\r\\n2021-8-28,2021-12-01,ryanmarksutherland,VIDEO,https://www.tiktok.com/@ryanmarksutherland/video/7001597800790117637?lang=en,TikTok,Early!!!!!!!!,1,,CS;;;;;;;;;\\r\\n2021-10-11,2021-12-01,themccartys,VIDEO,https://www.tiktok.com/@themccartys/video/7017889678607142149?is_from_webapp=v1&lang=en,TikTok,tf,1,,CS;;;;;;;;;\\r\\n2021-10-11,2021-12-01,themccartys,VIDEO,https://www.tiktok.com/@themccartys/video/7017889678607142149?is_from_webapp=v1&lang=en,TikTok,@hattiedenny something we\\xe2\\x80\\x99ll never use but good to know about,1,,CS;;;;;;;;;\\r\\n2021-10-11,2021-12-01,themccartys,VIDEO,https://www.tiktok.com/@themccartys/video/7017889678607142149?is_from_webapp=v1&lang=en,TikTok,Spanish,1,,CS;;;;;;;;;\\r\\n2021-10-11,2021-12-01,themccartys,VIDEO,https://www.tiktok.com/@themccartys/video/7017889678607142149?is_from_webapp=v1&lang=en,TikTok,Hiii,1,,CS;;;;;;;;;\\r\\n2021-10-11,2021-12-01,themccartys,VIDEO,https://www.tiktok.com/@themccartys/video/7017889678607142149?is_from_webapp=v1&lang=en,TikTok,The other room,1,,CS;;;;;;;;;\\r\\n2021-10-11,2021-12-01,themccartys,VIDEO,https://www.tiktok.com/@themccartys/video/7017889678607142149?is_from_webapp=v1&lang=en,TikTok,why are they all guys? (not hating just asking),1,,CS;;;;;;;;;\\r\\n2021-10-11,2021-12-01,themccartys,VIDEO,https://www.tiktok.com/@themccartys/video/7017889678607142149?is_from_webapp=v1&lang=en,TikTok,Hi,1,,CS;;;;;;;;;\\r\\n2021-10-11,2021-12-01,themccartys,VIDEO,https://www.tiktok.com/@themccartys/video/7017889678607142149?is_from_webapp=v1&lang=en,TikTok,Where de chicks ?,1,,CS;;;;;;;;;\\r\\n2021-10-11,2021-12-01,themccartys,VIDEO,https://www.tiktok.com/@themccartys/video/7017889678607142149?is_from_webapp=v1&lang=en,TikTok,Hey,1,,CS;;;;;;;;;\\r\\n2021-10-11,2021-12-01,themccartys,VIDEO,https://www.tiktok.com/@themccartys/video/7017889678607142149?is_from_webapp=v1&lang=en,TikTok,\\xf0\\x9f\\x98\\x82\\xf0\\x9f\\x98\\x82\\xf0\\x9f\\x98\\x82\\xf0\\x9f\\x98\\x82\\xf0\\x9f\\x98\\x82Dead \\xf0\\x9f\\x92\\x80,1,,CS;;;;;;;;;\\r\\n2021-10-11,2021-12-01,themccartys,VIDEO,https://www.tiktok.com/@themccartys/video/7017889678607142149?is_from_webapp=v1&lang=en,TikTok,\\xf0\\x9f\\xa5\\xb0\\xf0\\x9f\\x92\\x9d\\xf0\\x9f\\x87\\xba\\xf0\\x9f\\x87\\xb8I can find where though?\\xf0\\x9f\\x87\\xba\\xf0\\x9f\\x87\\xb8\\xf0\\x9f\\x87\\xac\\xf0\\x9f\\x87\\xa7\\xf0\\x9f\\x87\\xa8\\xf0\\x9f\\x87\\xa6\\xf0\\x9f\\x98\\x84\\xf0\\x9f\\x98\\xb1\\xf0\\x9f\\xa5\\xb0,1,,CS;;;;;;;;;\\r\\n2021-10-11,2021-12-01,themccartys,VIDEO,https://www.tiktok.com/@themccartys/video/7017889678607142149?is_from_webapp=v1&lang=en,TikTok,\\xf0\\x9f\\x98\\xb3,1,,CS;;;;;;;;;\\r\\n2021-10-11,2021-12-01,themccartys,VIDEO,https://www.tiktok.com/@themccartys/video/7017889678607142149?is_from_webapp=v1&lang=en,TikTok,I agree \\xe2\\x98\\x9d\\xef\\xb8\\x8f,1,,CS;;;;;;;;;\\r\\n2021-10-11,2021-12-01,themccartys,VIDEO,https://www.tiktok.com/@themccartys/video/7017889678607142149?is_from_webapp=v1&lang=en,TikTok,Was that guy wearing a Miami university shirt,1,,CS;;;;;;;;;\\r\\n2021-10-11,2021-12-01,themccartys,VIDEO,https://www.tiktok.com/@themccartys/video/7017889678607142149?is_from_webapp=v1&lang=en,TikTok,No it\\xe2\\x80\\x99s not it\\xe2\\x80\\x99s just an all boy class,1,,CS;;;;;;;;;\\r\\n2021-10-11,2021-12-01,themccartys,VIDEO,https://www.tiktok.com/@themccartys/video/7017889678607142149?is_from_webapp=v1&lang=en,TikTok,It\\xe2\\x80\\x99s an all boy school,1,,CS;;;;;;;;;\\r\\n2021-10-11,2021-12-01,themccartys,VIDEO,https://www.tiktok.com/@themccartys/video/7017889678607142149?is_from_webapp=v1&lang=en,TikTok,frr,1,,CS;;;;;;;;;\\r\\n2021-10-11,2021-12-01,thelawerangela,VIDEO,https://www.tiktok.com/@thelawyerangela/video/7018016230283988230?is_from_webapp=v1&lang=en,TikTok,FYI chegg is undergoing a massive data breach lawsuit,1,,CS;;;;;;;;;\\r\\n2021-10-11,2021-12-01,thelawerangela,VIDEO,https://www.tiktok.com/@thelawyerangela/video/7018016230283988230?is_from_webapp=v1&lang=en,TikTok,So Apple has a scandal called flexgate. They knowingly sold faulty MacBooks. They deleted comments on their support form to cover it up,1,,CS;;;;;;;;;\\r\\n\"2021-10-11,2021-12-01,thelawerangela,VIDEO,https://www.tiktok.com/@thelawyerangela/video/7018016230283988230?is_from_webapp=v1&lang=en,TikTok,\"\"Makes no sense. They reported me, but luckily I changed the numbers in the equation and some of the word problem.\"\",1,,CS\";;;;;;;;;\\r\\n2021-10-11,2021-12-01,thelawerangela,VIDEO,https://www.tiktok.com/@thelawyerangela/video/7018016230283988230?is_from_webapp=v1&lang=en,TikTok,Do you have video/procedure for hospital/medical bill forgiveness?,1,,CS;;;;;;;;;\\r\\n2021-10-11,2021-12-01,thelawerangela,VIDEO,https://www.tiktok.com/@thelawyerangela/video/7018016230283988230?is_from_webapp=v1&lang=en,TikTok,Also I did a video about it,1,,CS;;;;;;;;;\\r\\n2021-10-11,2021-12-01,thelawerangela,VIDEO,https://www.tiktok.com/@thelawyerangela/video/7018016230283988230?is_from_webapp=v1&lang=en,TikTok,to you*,1,,CS;;;;;;;;;\\r\\n2021-10-11,2021-12-01,thelawerangela,VIDEO,https://www.tiktok.com/@thelawyerangela/video/7018016230283988230?is_from_webapp=v1&lang=en,TikTok,Thank you girlie:),1,,CS;;;;;;;;;\\r\\n2021-10-11,2021-12-01,thelawerangela,VIDEO,https://www.tiktok.com/@thelawyerangela/video/7018016230283988230?is_from_webapp=v1&lang=en,TikTok,Your kind words mean a lot \\xf0\\x9f\\x92\\x9e,1,,CS;;;;;;;;;\\r\\n2021-10-11,2021-12-01,thelawerangela,VIDEO,https://www.tiktok.com/@thelawyerangela/video/7018016230283988230?is_from_webapp=v1&lang=en,TikTok,Ideally we will get paid tmw,1,,CS;;;;;;;;;\\r\\n2021-10-11,2021-12-01,thelawerangela,VIDEO,https://www.tiktok.com/@thelawyerangela/video/7018016230283988230?is_from_webapp=v1&lang=en,TikTok,Yeah I literally just got paid out $250 for that class action. Filed it 6 years ago\\xe2\\x80\\xa6.,1,,CS;;;;;;;;;\\r\\n2021-9-28,2021-12-01,niki_patton,VIDEO,https://www.tiktok.com/@niki_patton/video/7013188950898658566?is_copy_url=1&is_from_webapp=v1,TikTok,We love the sponsorship also this website is absolute flames,1,,CS;;;;;;;;;\\r\\n2021-9-28,2021-12-01,niki_patton,VIDEO,https://www.tiktok.com/@niki_patton/video/7013188950898658566?is_copy_url=1&is_from_webapp=v1,TikTok,dam I would use this last year but like I loved last year so much I reapted it again,1,,CS;;;;;;;;;\\r\\n2021-9-28,2021-12-01,niki_patton,VIDEO,https://www.tiktok.com/@niki_patton/video/7013188950898658566?is_copy_url=1&is_from_webapp=v1,TikTok,second \\xf0\\x9f\\xa5\\xb0\\xf0\\x9f\\xa5\\xb0\\xf0\\x9f\\xa5\\xb0,1,,CS;;;;;;;;;\\r\\n2021-9-28,2021-12-01,niki_patton,VIDEO,https://www.tiktok.com/@niki_patton/video/7013188950898658566?is_copy_url=1&is_from_webapp=v1,TikTok,Hiiiii,1,,CS;;;;;;;;;\\r\\n2021-9-28,2021-12-01,niki_patton,VIDEO,https://www.tiktok.com/@niki_patton/video/7013188950898658566?is_copy_url=1&is_from_webapp=v1,TikTok,Hi lovieee,1,,CS;;;;;;;;;\\r\\n2021-9-28,2021-12-01,niki_patton,VIDEO,https://www.tiktok.com/@niki_patton/video/7013188950898658566?is_copy_url=1&is_from_webapp=v1,TikTok,HI,1,,CS;;;;;;;;;\\r\\n2021-9-26,2021-12-01,ryanmarksutherland,VIDEO,https://www.tiktok.com/@ryanmarksutherland/video/7012400629788265733?is_from_webapp=v1&lang=en,TikTok,Me,1,,CS;;;;;;;;;\\r\\n2021-9-26,2021-12-01,ryanmarksutherland,VIDEO,https://www.tiktok.com/@ryanmarksutherland/video/7012400629788265733?is_from_webapp=v1&lang=en,TikTok,Ayyyy,1,,CS;;;;;;;;;\\r\\n2021-9-26,2021-12-01,ryanmarksutherland,VIDEO,https://www.tiktok.com/@ryanmarksutherland/video/7012400629788265733?is_from_webapp=v1&lang=en,TikTok,What\\xe2\\x80\\x99s UPP,1,,CS;;;;;;;;;\\r\\n2021-9-26,2021-12-01,ryanmarksutherland,VIDEO,https://www.tiktok.com/@ryanmarksutherland/video/7012400629788265733?is_from_webapp=v1&lang=en,TikTok,early,1,,CS;;;;;;;;;\\r\\n2021-9-26,2021-12-01,ryanmarksutherland,VIDEO,https://www.tiktok.com/@ryanmarksutherland/video/7012400629788265733?is_from_webapp=v1&lang=en,TikTok,Do you reply?,1,,CS;;;;;;;;;\\r\\n2021-9-26,2021-12-01,ryanmarksutherland,VIDEO,https://www.tiktok.com/@ryanmarksutherland/video/7012400629788265733?is_from_webapp=v1&lang=en,TikTok,Ayyy I am not early at all,1,,CS;;;;;;;;;\\r\\n2021-9-26,2021-12-01,ryanmarksutherland,VIDEO,https://www.tiktok.com/@ryanmarksutherland/video/7012400629788265733?is_from_webapp=v1&lang=en,TikTok,get that bag \\xf0\\x9f\\xa4\\xaa,1,,CS;;;;;;;;;\\r\\n2021-9-26,2021-12-01,ryanmarksutherland,VIDEO,https://www.tiktok.com/@ryanmarksutherland/video/7012400629788265733?is_from_webapp=v1&lang=en,TikTok,Early,1,,CS;;;;;;;;;\\r\\n2021-9-26,2021-12-01,ryanmarksutherland,VIDEO,https://www.tiktok.com/@ryanmarksutherland/video/7012400629788265733?is_from_webapp=v1&lang=en,TikTok,\\xf0\\x9f\\x98\\xb3\\xf0\\x9f\\x8c\\x9d,1,,CS;;;;;;;;;\\r\\n2021-9-26,2021-12-01,ryanmarksutherland,VIDEO,https://www.tiktok.com/@ryanmarksutherland/video/7012400629788265733?is_from_webapp=v1&lang=en,TikTok,Earlyyyy,1,,CS;;;;;;;;;\\r\\n2021-9-26,2021-12-01,ryanmarksutherland,VIDEO,https://www.tiktok.com/@ryanmarksutherland/video/7012400629788265733?is_from_webapp=v1&lang=en,TikTok,73th,1,,CS;;;;;;;;;\\r\\n2021-9-26,2021-12-01,ryanmarksutherland,VIDEO,https://www.tiktok.com/@ryanmarksutherland/video/7012400629788265733?is_from_webapp=v1&lang=en,TikTok,ayyyyy,1,,CS;;;;;;;;;\\r\\n2021-9-2,2021-12-01,itssozer,VIDEO,https://www.tiktok.com/@itssozer/video/7003502008355278082?lang=en&is_copy_url=1&is_from_webapp=v1,TikTok,I\\xe2\\x80\\x99m just trying to educate him like he wanted \\xf0\\x9f\\xa4\\xb7\\xf0\\x9f\\x8f\\xbb\\xe2\\x80\\x8d\\xe2\\x99\\x80\\xef\\xb8\\x8f,1,,CS;;;;;;;;;\\r\\n2021-9-2,2021-12-01,itssozer,VIDEO,https://www.tiktok.com/@itssozer/video/7003502008355278082?lang=en&is_copy_url=1&is_from_webapp=v1,TikTok,Same here but I think this person is American,1,,CS;;;;;;;;;\\r\\n2021-9-2,2021-12-01,itssozer,VIDEO,https://www.tiktok.com/@itssozer/video/7003502008355278082?lang=en&is_copy_url=1&is_from_webapp=v1,TikTok,Lmao good for you? \\xf0\\x9f\\x98\\x82,1,,CS;;;;;;;;;\\r\\n2021-9-2,2021-12-01,itssozer,VIDEO,https://www.tiktok.com/@itssozer/video/7003502008355278082?lang=en&is_copy_url=1&is_from_webapp=v1,TikTok,Okay so will I,1,,CS;;;;;;;;;\\r\\n2021-9-2,2021-12-01,itssozer,VIDEO,https://www.tiktok.com/@itssozer/video/7003502008355278082?lang=en&is_copy_url=1&is_from_webapp=v1,TikTok,You too \\xf0\\x9f\\x98\\x82,1,,CS;;;;;;;;;\\r\\n2021-9-2,2021-12-01,itssozer,VIDEO,https://www.tiktok.com/@itssozer/video/7003502008355278082?lang=en&is_copy_url=1&is_from_webapp=v1,TikTok,I\\xe2\\x80\\x99m so glad I came across you ma\\xe2\\x80\\x99am @Aviana Dominic my financial debt is now a thing of the past. God bless you ma\\xe2\\x80\\x99am,1,,CS;;;;;;;;;\\r\\n2021-9-2,2021-12-01,itssozer,VIDEO,https://www.tiktok.com/@itssozer/video/7003502008355278082?lang=en&is_copy_url=1&is_from_webapp=v1,TikTok,Your a very kind person \\xf0\\x9f\\xa5\\xb0,1,,CS;;;;;;;;;\\r\\n2021-9-2,2021-12-01,itssozer,VIDEO,https://www.tiktok.com/@itssozer/video/7003502008355278082?lang=en&is_copy_url=1&is_from_webapp=v1,TikTok,No problem \\xf0\\x9f\\x98\\x81,1,,CS;;;;;;;;;\\r\\n2021-9-2,2021-12-01,itssozer,VIDEO,https://www.tiktok.com/@itssozer/video/7003502008355278082?lang=en&is_copy_url=1&is_from_webapp=v1,TikTok,Can I get a hi \\xf0\\x9f\\xa5\\xb0 your my favourite and first to like!,1,,CS;;;;;;;;;\\r\\n2021-9-2,2021-12-01,itssozer,VIDEO,https://www.tiktok.com/@itssozer/video/7003502008355278082?lang=en&is_copy_url=1&is_from_webapp=v1,TikTok,OMG,1,,CS;;;;;;;;;\\r\\n2021-9-2,2021-12-01,itssozer,VIDEO,https://www.tiktok.com/@itssozer/video/7003502008355278082?lang=en&is_copy_url=1&is_from_webapp=v1,TikTok,Does the king reply? \\xf0\\x9f\\x91\\x91,1,,CS;;;;;;;;;\\r\\n2021-9-2,2021-12-01,itssozer,VIDEO,https://www.tiktok.com/@itssozer/video/7003502008355278082?lang=en&is_copy_url=1&is_from_webapp=v1,TikTok,I\\xe2\\x80\\x99ll do what i want thankssss,1,,CS;;;;;;;;;\\r\\n2021-9-2,2021-12-01,itssozer,VIDEO,https://www.tiktok.com/@itssozer/video/7003502008355278082?lang=en&is_copy_url=1&is_from_webapp=v1,TikTok,Uni is stresssssfffffuuuuulllllllll,1,,CS;;;;;;;;;\\r\\n2021-9-2,2021-12-01,itssozer,VIDEO,https://www.tiktok.com/@itssozer/video/7003502008355278082?lang=en&is_copy_url=1&is_from_webapp=v1,TikTok,thanks,1,,CS;;;;;;;;;\\r\\n2021-9-2,2021-12-01,itssozer,VIDEO,https://www.tiktok.com/@itssozer/video/7003502008355278082?lang=en&is_copy_url=1&is_from_webapp=v1,TikTok,Does the goat reply? Pls do it will make my day \\xf0\\x9f\\x98\\x85,1,,CS;;;;;;;;;\\r\\n2021-9-2,2021-12-01,emilyballz,VIDEO,https://www.tiktok.com/@emilyballz/video/7003434464344870150?lang=en&is_copy_url=1&is_from_webapp=v1,TikTok,Ya,1,,CS;;;;;;;;;\\r\\n\"2021-9-2,2021-12-01,emilyballz,VIDEO,https://www.tiktok.com/@emilyballz/video/7003434464344870150?lang=en&is_copy_url=1&is_from_webapp=v1,TikTok,\"\"Hi,I am really interested in you I would like us to work something out ,am ready to give you 200bucks\"\",1,,CS\";;;;;;;;;\\r\\n2021-9-2,2021-12-01,emilyballz,VIDEO,https://www.tiktok.com/@emilyballz/video/7003434464344870150?lang=en&is_copy_url=1&is_from_webapp=v1,TikTok,Hi,1,,CS;;;;;;;;;\\r\\n2021-9-2,2021-12-01,emilyballz,VIDEO,https://www.tiktok.com/@emilyballz/video/7003434464344870150?lang=en&is_copy_url=1&is_from_webapp=v1,TikTok,Damn,1,,CS;;;;;;;;;\\r\\n2021-9-2,2021-12-01,emilyballz,VIDEO,https://www.tiktok.com/@emilyballz/video/7003434464344870150?lang=en&is_copy_url=1&is_from_webapp=v1,TikTok,Hi!,1,,CS;;;;;;;;;\\r\\n2021-11-8,2021-12-01,j0siahyoung,VIDEO,https://www.tiktok.com/@j0siahyoung/video/7028084710660132097?lang=en&is_copy_url=1&is_from_webapp=v1,TikTok,1st lol,1,,CS;;;;;;;;;\\r\\n\"2021-11-8,2021-12-01,j0siahyoung,VIDEO,https://www.tiktok.com/@j0siahyoung/video/7028084710660132097?lang=en&is_copy_url=1&is_from_webapp=v1,TikTok,\"\"ok but like, I\\'m also bad at grammar and spelling\"\",1,,CS\";;;;;;;;;\\r\\n2021-9-9,2021-12-01,sakshammagic,VIDEO,https://www.tiktok.com/@sakshammagic/video/7005825447434996993?lang=en&is_copy_url=1&is_from_webapp=v1,TikTok,hii saksham,1,,CS;;;;;;;;;\\r\\n2021-9-9,2021-12-01,sakshammagic,VIDEO,https://www.tiktok.com/@sakshammagic/video/7005825447434996993?lang=en&is_copy_url=1&is_from_webapp=v1,TikTok,i like ur video,1,,CS;;;;;;;;;\\r\\n2021-9-9,2021-12-01,sakshammagic,VIDEO,https://www.tiktok.com/@sakshammagic/video/7005825447434996993?lang=en&is_copy_url=1&is_from_webapp=v1,TikTok,Hi,1,,CS;;;;;;;;;\\r\\n2021-9-9,2021-12-01,sakshammagic,VIDEO,https://www.tiktok.com/@sakshammagic/video/7005825447434996993?lang=en&is_copy_url=1&is_from_webapp=v1,TikTok,thats help a lot,1,,CS;;;;;;;;;\\r\\n2021-9-9,2021-12-01,sakshammagic,VIDEO,https://www.tiktok.com/@sakshammagic/video/7005825447434996993?lang=en&is_copy_url=1&is_from_webapp=v1,TikTok,i try that that is so helping thxx saksham,1,,CS;;;;;;;;;\\r\\n2021-9-9,2021-12-01,sakshammagic,VIDEO,https://www.tiktok.com/@sakshammagic/video/7005825447434996993?lang=en&is_copy_url=1&is_from_webapp=v1,TikTok,ya,1,,CS;;;;;;;;;\\r\\n2021-9-9,2021-12-01,sakshammagic,VIDEO,https://www.tiktok.com/@sakshammagic/video/7005825447434996993?lang=en&is_copy_url=1&is_from_webapp=v1,TikTok,Yo,1,,CS;;;;;;;;;\\r\\n\"2021-11-12,2021-12-01,sydneyserena,VIDEO,https://www.tiktok.com/@sydneyserena/video/7029840852591660293?lang=en&is_copy_url=1&is_from_webapp=v1,TikTok,\"\"\\xf0\\x9f\\x92\\x9d\\xf0\\x9f\\x87\\xba\\xf0\\x9f\\x87\\xb8 Hello, tell me, am I beautiful???\\xf0\\x9f\\x87\\xba\\xf0\\x9f\\x87\\xb8\\xf0\\x9f\\x87\\xac\\xf0\\x9f\\x87\\xa7\\xf0\\x9f\\x87\\xa8\\xf0\\x9f\\x87\\xa6\\xf0\\x9f\\x87\\xa6\\xf0\\x9f\\x87\\xba\\xf0\\x9f\\x98\\xb3\"\",1,,CS\";;;;;;;;;\\r\\n2021-11-12,2021-12-01,sydneyserena,VIDEO,https://www.tiktok.com/@sydneyserena/video/7029840852591660293?lang=en&is_copy_url=1&is_from_webapp=v1,TikTok,Beautiful laptop @sydneyserena \\xf0\\x9f\\x92\\xbb,1,,CS;;;;;;;;;\\r\\n2021-11-12,2021-12-01,sydneyserena,VIDEO,https://www.tiktok.com/@sydneyserena/video/7029840852591660293?lang=en&is_copy_url=1&is_from_webapp=v1,TikTok,thank uuuu\\xf0\\x9f\\x98\\x8d\\xf0\\x9f\\x98\\x8d,1,,CS;;;;;;;;;\\r\\n2021-11-12,2021-12-01,sydneyserena,VIDEO,https://www.tiktok.com/@sydneyserena/video/7029840852591660293?lang=en&is_copy_url=1&is_from_webapp=v1,TikTok,KONNICHIWA \\xf0\\x9f\\xa5\\xba,1,,CS;;;;;;;;;\\r\\n2021-11-12,2021-12-01,sydneyserena,VIDEO,https://www.tiktok.com/@sydneyserena/video/7029840852591660293?lang=en&is_copy_url=1&is_from_webapp=v1,TikTok,@meilanijoi,1,,CS;;;;;;;;;\\r\\n2021-9-7,2021-12-01,iamalilstitious,VIDEO,https://www.tiktok.com/@iamalilstitious/video/7005376930103053574?lang=en&is_copy_url=1&is_from_webapp=v1,TikTok,Yesssss I always got my books with them too. So much cheaper than the campus bookstore \\xf0\\x9f\\x98\\x8c,1,,CS;;;;;;;;;\\r\\n2021-11-10,2021-12-01,rollewitit_math,VIDEO,https://www.tiktok.com/@rollewitit_math/video/7029034615377595695?lang=en&is_copy_url=1&is_from_webapp=v1,TikTok,I don\\'t know there was an assignment,1,,CS;;;;;;;;;\\r\\n2021-11-10,2021-12-01,rollewitit_math,VIDEO,https://www.tiktok.com/@rollewitit_math/video/7029034615377595695?lang=en&is_copy_url=1&is_from_webapp=v1,TikTok,\\xf0\\x9f\\x91\\x8f\\xf0\\x9f\\x8f\\xbe So true!,1,,CS;;;;;;;;;\\r\\n2021-8-27,2021-12-01,sarahrav,VIDEO,https://www.tiktok.com/@sarahrav/video/7001002356573752578?_d=secCgYIASAHKAESPgo8tMu0r4MbRgSe3A4aOx7CTY2zVqKgpkKjRA2zMDkxA7FgnjOWLpIhEzIwUhnSy42cjaFEbRJpN5o%2FjF3sGgA%3D&checksum=b2ac879f6a7b184db94193af32bc618831ad998110b336b208bb03217f1e7161&language=en&preview_pb=0&sec_user_id=MS4wLjABAAAAaXa4BGfx8fjVB9bjDYf-LnFzxLIrLN9HEf44LOywX3KRpmdKGVQcVHi0k-QTMwH1&share_app_id=1233&share_item_id=7001002356573752578&share_link_id=721ACA01-606D-4C44-8858-EFA016BDF2F2&source=h5_m&timestamp=1630099779&tt_from=copy&u_code=d9de51l2g219d3&user_id=6762679979047388166&utm_campaign=client_share&utm_medium=ios&utm_source=copy&_r=1,TikTok,Yasss \\xf0\\x9f\\x94\\xa5\\xf0\\x9f\\x94\\xa5,1,,CS;;;;;;;;;\\r\\n\"2021-8-27,2021-12-01,sarahrav,VIDEO,https://www.tiktok.com/@sarahrav/video/7001002356573752578?_d=secCgYIASAHKAESPgo8tMu0r4MbRgSe3A4aOx7CTY2zVqKgpkKjRA2zMDkxA7FgnjOWLpIhEzIwUhnSy42cjaFEbRJpN5o%2FjF3sGgA%3D&checksum=b2ac879f6a7b184db94193af32bc618831ad998110b336b208bb03217f1e7161&language=en&preview_pb=0&sec_user_id=MS4wLjABAAAAaXa4BGfx8fjVB9bjDYf-LnFzxLIrLN9HEf44LOywX3KRpmdKGVQcVHi0k-QTMwH1&share_app_id=1233&share_item_id=7001002356573752578&share_link_id=721ACA01-606D-4C44-8858-EFA016BDF2F2&source=h5_m&timestamp=1630099779&tt_from=copy&u_code=d9de51l2g219d3&user_id=6762679979047388166&utm_campaign=client_share&utm_medium=ios&utm_source=copy&_r=1,TikTok,\"\"Yes, I\\xe2\\x80\\x99ve done heaps of videos on this \\xf0\\x9f\\xa5\\xb0\\xf0\\x9f\\xa5\\xb0\"\",1,,CS\";;;;;;;;;\\r\\n2021-8-27,2021-12-01,sarahrav,VIDEO,https://www.tiktok.com/@sarahrav/video/7001002356573752578?_d=secCgYIASAHKAESPgo8tMu0r4MbRgSe3A4aOx7CTY2zVqKgpkKjRA2zMDkxA7FgnjOWLpIhEzIwUhnSy42cjaFEbRJpN5o%2FjF3sGgA%3D&checksum=b2ac879f6a7b184db94193af32bc618831ad998110b336b208bb03217f1e7161&language=en&preview_pb=0&sec_user_id=MS4wLjABAAAAaXa4BGfx8fjVB9bjDYf-LnFzxLIrLN9HEf44LOywX3KRpmdKGVQcVHi0k-QTMwH1&share_app_id=1233&share_item_id=7001002356573752578&share_link_id=721ACA01-606D-4C44-8858-EFA016BDF2F2&source=h5_m&timestamp=1630099779&tt_from=copy&u_code=d9de51l2g219d3&user_id=6762679979047388166&utm_campaign=client_share&utm_medium=ios&utm_source=copy&_r=1,TikTok,\\xf0\\x9f\\xa5\\xb0\\xf0\\x9f\\xa5\\xb0\\xf0\\x9f\\xa5\\xb0\\xf0\\x9f\\xa5\\xb0,1,,CS;;;;;;;;;\\r\\n\"2021-8-27,2021-12-01,sarahrav,VIDEO,https://www.tiktok.com/@sarahrav/video/7001002356573752578?_d=secCgYIASAHKAESPgo8tMu0r4MbRgSe3A4aOx7CTY2zVqKgpkKjRA2zMDkxA7FgnjOWLpIhEzIwUhnSy42cjaFEbRJpN5o%2FjF3sGgA%3D&checksum=b2ac879f6a7b184db94193af32bc618831ad998110b336b208bb03217f1e7161&language=en&preview_pb=0&sec_user_id=MS4wLjABAAAAaXa4BGfx8fjVB9bjDYf-LnFzxLIrLN9HEf44LOywX3KRpmdKGVQcVHi0k-QTMwH1&share_app_id=1233&share_item_id=7001002356573752578&share_link_id=721ACA01-606D-4C44-8858-EFA016BDF2F2&source=h5_m&timestamp=1630099779&tt_from=copy&u_code=d9de51l2g219d3&user_id=6762679979047388166&utm_campaign=client_share&utm_medium=ios&utm_source=copy&_r=1,TikTok,\"\"Okay thank you so much, really appreciate it!\\xf0\\x9f\\xa5\\xb0\"\",1,,CS\";;;;;;;;;\\r\\n2021-8-27,2021-12-01,sarahrav,VIDEO,https://www.tiktok.com/@sarahrav/video/7001002356573752578?_d=secCgYIASAHKAESPgo8tMu0r4MbRgSe3A4aOx7CTY2zVqKgpkKjRA2zMDkxA7FgnjOWLpIhEzIwUhnSy42cjaFEbRJpN5o%2FjF3sGgA%3D&checksum=b2ac879f6a7b184db94193af32bc618831ad998110b336b208bb03217f1e7161&language=en&preview_pb=0&sec_user_id=MS4wLjABAAAAaXa4BGfx8fjVB9bjDYf-LnFzxLIrLN9HEf44LOywX3KRpmdKGVQcVHi0k-QTMwH1&share_app_id=1233&share_item_id=7001002356573752578&share_link_id=721ACA01-606D-4C44-8858-EFA016BDF2F2&source=h5_m&timestamp=1630099779&tt_from=copy&u_code=d9de51l2g219d3&user_id=6762679979047388166&utm_campaign=client_share&utm_medium=ios&utm_source=copy&_r=1,TikTok,Thank you mate \\xf0\\x9f\\xa5\\xb0,1,,CS;;;;;;;;;\\r\\n2021-8-27,2021-12-01,sarahrav,VIDEO,https://www.tiktok.com/@sarahrav/video/7001002356573752578?_d=secCgYIASAHKAESPgo8tMu0r4MbRgSe3A4aOx7CTY2zVqKgpkKjRA2zMDkxA7FgnjOWLpIhEzIwUhnSy42cjaFEbRJpN5o%2FjF3sGgA%3D&checksum=b2ac879f6a7b184db94193af32bc618831ad998110b336b208bb03217f1e7161&language=en&preview_pb=0&sec_user_id=MS4wLjABAAAAaXa4BGfx8fjVB9bjDYf-LnFzxLIrLN9HEf44LOywX3KRpmdKGVQcVHi0k-QTMwH1&share_app_id=1233&share_item_id=7001002356573752578&share_link_id=721ACA01-606D-4C44-8858-EFA016BDF2F2&source=h5_m&timestamp=1630099779&tt_from=copy&u_code=d9de51l2g219d3&user_id=6762679979047388166&utm_campaign=client_share&utm_medium=ios&utm_source=copy&_r=1,TikTok,Do you have any tips on how to set up your notes?,1,,CS;;;;;;;;;\\r\\n2021-8-27,2021-12-01,sarahrav,VIDEO,https://www.tiktok.com/@sarahrav/video/7001002356573752578?_d=secCgYIASAHKAESPgo8tMu0r4MbRgSe3A4aOx7CTY2zVqKgpkKjRA2zMDkxA7FgnjOWLpIhEzIwUhnSy42cjaFEbRJpN5o%2FjF3sGgA%3D&checksum=b2ac879f6a7b184db94193af32bc618831ad998110b336b208bb03217f1e7161&language=en&preview_pb=0&sec_user_id=MS4wLjABAAAAaXa4BGfx8fjVB9bjDYf-LnFzxLIrLN9HEf44LOywX3KRpmdKGVQcVHi0k-QTMwH1&share_app_id=1233&share_item_id=7001002356573752578&share_link_id=721ACA01-606D-4C44-8858-EFA016BDF2F2&source=h5_m&timestamp=1630099779&tt_from=copy&u_code=d9de51l2g219d3&user_id=6762679979047388166&utm_campaign=client_share&utm_medium=ios&utm_source=copy&_r=1,TikTok,this is awesome I have my first exam of the term tomorrow thank you!!,1,,CS;;;;;;;;;\\r\\n2021-8-27,2021-12-01,sarahrav,VIDEO,https://www.tiktok.com/@sarahrav/video/7001002356573752578?_d=secCgYIASAHKAESPgo8tMu0r4MbRgSe3A4aOx7CTY2zVqKgpkKjRA2zMDkxA7FgnjOWLpIhEzIwUhnSy42cjaFEbRJpN5o%2FjF3sGgA%3D&checksum=b2ac879f6a7b184db94193af32bc618831ad998110b336b208bb03217f1e7161&language=en&preview_pb=0&sec_user_id=MS4wLjABAAAAaXa4BGfx8fjVB9bjDYf-LnFzxLIrLN9HEf44LOywX3KRpmdKGVQcVHi0k-QTMwH1&share_app_id=1233&share_item_id=7001002356573752578&share_link_id=721ACA01-606D-4C44-8858-EFA016BDF2F2&source=h5_m&timestamp=1630099779&tt_from=copy&u_code=d9de51l2g219d3&user_id=6762679979047388166&utm_campaign=client_share&utm_medium=ios&utm_source=copy&_r=1,TikTok,\\xf0\\x9f\\x98\\x8c\\xe2\\x9c\\x8c\\xef\\xb8\\x8f,1,,CS;;;;;;;;;\\r\\n2021-8-27,2021-12-01,sarahrav,VIDEO,https://www.tiktok.com/@sarahrav/video/7001002356573752578?_d=secCgYIASAHKAESPgo8tMu0r4MbRgSe3A4aOx7CTY2zVqKgpkKjRA2zMDkxA7FgnjOWLpIhEzIwUhnSy42cjaFEbRJpN5o%2FjF3sGgA%3D&checksum=b2ac879f6a7b184db94193af32bc618831ad998110b336b208bb03217f1e7161&language=en&preview_pb=0&sec_user_id=MS4wLjABAAAAaXa4BGfx8fjVB9bjDYf-LnFzxLIrLN9HEf44LOywX3KRpmdKGVQcVHi0k-QTMwH1&share_app_id=1233&share_item_id=7001002356573752578&share_link_id=721ACA01-606D-4C44-8858-EFA016BDF2F2&source=h5_m&timestamp=1630099779&tt_from=copy&u_code=d9de51l2g219d3&user_id=6762679979047388166&utm_campaign=client_share&utm_medium=ios&utm_source=copy&_r=1,TikTok,Yess,1,,CS;;;;;;;;;\\r\\n2021-8-27,2021-12-01,sarahrav,VIDEO,https://www.tiktok.com/@sarahrav/video/7001002356573752578?_d=secCgYIASAHKAESPgo8tMu0r4MbRgSe3A4aOx7CTY2zVqKgpkKjRA2zMDkxA7FgnjOWLpIhEzIwUhnSy42cjaFEbRJpN5o%2FjF3sGgA%3D&checksum=b2ac879f6a7b184db94193af32bc618831ad998110b336b208bb03217f1e7161&language=en&preview_pb=0&sec_user_id=MS4wLjABAAAAaXa4BGfx8fjVB9bjDYf-LnFzxLIrLN9HEf44LOywX3KRpmdKGVQcVHi0k-QTMwH1&share_app_id=1233&share_item_id=7001002356573752578&share_link_id=721ACA01-606D-4C44-8858-EFA016BDF2F2&source=h5_m&timestamp=1630099779&tt_from=copy&u_code=d9de51l2g219d3&user_id=6762679979047388166&utm_campaign=client_share&utm_medium=ios&utm_source=copy&_r=1,TikTok,Sameee!!!,1,,CS;;;;;;;;;\\r\\n2021-9-8,2021-12-01,sarahbada_,VIDEO,https://www.tiktok.com/@sarahbada_/video/7005537463057878277?source=h5_m&_r=1&is_copy_url=1&is_from_webapp=v1,TikTok,where was this when i was in school?!,1,,CS;;;;;;;;;\\r\\n2021-9-8,2021-12-01,sarahbada_,VIDEO,https://www.tiktok.com/@sarahbada_/video/7005537463057878277?source=h5_m&_r=1&is_copy_url=1&is_from_webapp=v1,TikTok,stop why did i not realise this was an ad i was oh tbt to her study series,1,,CS;;;;;;;;;\\r\\n2021-9-8,2021-12-01,sarahbada_,VIDEO,https://www.tiktok.com/@sarahbada_/video/7005537463057878277?source=h5_m&_r=1&is_copy_url=1&is_from_webapp=v1,TikTok,Except that most people just use it to cheat,1,,CS;;;;;;;;;\\r\\n2021-9-8,2021-12-01,sarahbada_,VIDEO,https://www.tiktok.com/@sarahbada_/video/7005537463057878277?source=h5_m&_r=1&is_copy_url=1&is_from_webapp=v1,TikTok,YASSSS so useful!!!,1,,CS;;;;;;;;;\\r\\n\"2021-9-8,2021-12-01,sarahbada_,VIDEO,https://www.tiktok.com/@sarahbada_/video/7005537463057878277?source=h5_m&_r=1&is_copy_url=1&is_from_webapp=v1,TikTok,\"\"HAHAHA sorry, they may make a slight come back soon\"\",1,,CS\";;;;;;;;;\\r\\n2021-8-28,2021-12-01,cloutom,VIDEO,https://www.tiktok.com/@cloutom/video/7001434701755862273?_d=secCgYIASAHKAESPgo8zdgjKZNzhBqRfcWHyCznvVbI7mwO3NoloOj%2BeH6CFlQ0nRma%2B5JjPVZoWaxJyvsLQDpgO6%2FPPAWFbSFjGgA%3D&checksum=3e47baf0c22546acc0c59dcf8ccb24761e9be53e28c17e8f8b5a3635ddf7a85c&language=en&preview_pb=0&sec_user_id=MS4wLjABAAAA6fGjpiJgOUc16EQDgC6If0CB1RKTnh19HVtAkcXMiwGolY9cjlf6bEnBaeXj8BS7&share_app_id=1233&share_item_id=7001434701755862273&share_link_id=C7CC82E6-B05F-4124-AF88-84DD659EA92F&source=h5_m&timestamp=1630149706&tt_from=copy&u_code=d2d8573m3574lf&user_id=6609029460412973062&utm_campaign=client_share&utm_medium=ios&utm_source=copy&_r=1,TikTok,Early,1,,CS;;;;;;;;;\\r\\n2021-8-28,2021-12-01,cloutom,VIDEO,https://www.tiktok.com/@cloutom/video/7001434701755862273?_d=secCgYIASAHKAESPgo8zdgjKZNzhBqRfcWHyCznvVbI7mwO3NoloOj%2BeH6CFlQ0nRma%2B5JjPVZoWaxJyvsLQDpgO6%2FPPAWFbSFjGgA%3D&checksum=3e47baf0c22546acc0c59dcf8ccb24761e9be53e28c17e8f8b5a3635ddf7a85c&language=en&preview_pb=0&sec_user_id=MS4wLjABAAAA6fGjpiJgOUc16EQDgC6If0CB1RKTnh19HVtAkcXMiwGolY9cjlf6bEnBaeXj8BS7&share_app_id=1233&share_item_id=7001434701755862273&share_link_id=C7CC82E6-B05F-4124-AF88-84DD659EA92F&source=h5_m&timestamp=1630149706&tt_from=copy&u_code=d2d8573m3574lf&user_id=6609029460412973062&utm_campaign=client_share&utm_medium=ios&utm_source=copy&_r=1,TikTok,ay yo thirdddd\\xf0\\x9f\\x98\\x81,1,,CS;;;;;;;;;\\r\\n2021-8-28,2021-12-01,cloutom,VIDEO,https://www.tiktok.com/@cloutom/video/7001434701755862273?_d=secCgYIASAHKAESPgo8zdgjKZNzhBqRfcWHyCznvVbI7mwO3NoloOj%2BeH6CFlQ0nRma%2B5JjPVZoWaxJyvsLQDpgO6%2FPPAWFbSFjGgA%3D&checksum=3e47baf0c22546acc0c59dcf8ccb24761e9be53e28c17e8f8b5a3635ddf7a85c&language=en&preview_pb=0&sec_user_id=MS4wLjABAAAA6fGjpiJgOUc16EQDgC6If0CB1RKTnh19HVtAkcXMiwGolY9cjlf6bEnBaeXj8BS7&share_app_id=1233&share_item_id=7001434701755862273&share_link_id=C7CC82E6-B05F-4124-AF88-84DD659EA92F&source=h5_m&timestamp=1630149706&tt_from=copy&u_code=d2d8573m3574lf&user_id=6609029460412973062&utm_campaign=client_share&utm_medium=ios&utm_source=copy&_r=1,TikTok,First,1,,CS;;;;;;;;;\\r\\n2021-8-28,2021-12-01,cloutom,VIDEO,https://www.tiktok.com/@cloutom/video/7001434701755862273?_d=secCgYIASAHKAESPgo8zdgjKZNzhBqRfcWHyCznvVbI7mwO3NoloOj%2BeH6CFlQ0nRma%2B5JjPVZoWaxJyvsLQDpgO6%2FPPAWFbSFjGgA%3D&checksum=3e47baf0c22546acc0c59dcf8ccb24761e9be53e28c17e8f8b5a3635ddf7a85c&language=en&preview_pb=0&sec_user_id=MS4wLjABAAAA6fGjpiJgOUc16EQDgC6If0CB1RKTnh19HVtAkcXMiwGolY9cjlf6bEnBaeXj8BS7&share_app_id=1233&share_item_id=7001434701755862273&share_link_id=C7CC82E6-B05F-4124-AF88-84DD659EA92F&source=h5_m&timestamp=1630149706&tt_from=copy&u_code=d2d8573m3574lf&user_id=6609029460412973062&utm_campaign=client_share&utm_medium=ios&utm_source=copy&_r=1,TikTok,First \\xf0\\x9f\\x98\\x8f,1,,CS;;;;;;;;;\\r\\n2021-8-28,2021-12-01,cloutom,VIDEO,https://www.tiktok.com/@cloutom/video/7001434701755862273?_d=secCgYIASAHKAESPgo8zdgjKZNzhBqRfcWHyCznvVbI7mwO3NoloOj%2BeH6CFlQ0nRma%2B5JjPVZoWaxJyvsLQDpgO6%2FPPAWFbSFjGgA%3D&checksum=3e47baf0c22546acc0c59dcf8ccb24761e9be53e28c17e8f8b5a3635ddf7a85c&language=en&preview_pb=0&sec_user_id=MS4wLjABAAAA6fGjpiJgOUc16EQDgC6If0CB1RKTnh19HVtAkcXMiwGolY9cjlf6bEnBaeXj8BS7&share_app_id=1233&share_item_id=7001434701755862273&share_link_id=C7CC82E6-B05F-4124-AF88-84DD659EA92F&source=h5_m&timestamp=1630149706&tt_from=copy&u_code=d2d8573m3574lf&user_id=6609029460412973062&utm_campaign=client_share&utm_medium=ios&utm_source=copy&_r=1,TikTok,Cheg rules \\xf0\\x9f\\x98\\x8f\\xf0\\x9f\\x98\\x8f\\xf0\\x9f\\x98\\x8f,1,,CS;;;;;;;;;\\r\\n2021-8-28,2021-12-01,cloutom,VIDEO,https://www.tiktok.com/@cloutom/video/7001434701755862273?_d=secCgYIASAHKAESPgo8zdgjKZNzhBqRfcWHyCznvVbI7mwO3NoloOj%2BeH6CFlQ0nRma%2B5JjPVZoWaxJyvsLQDpgO6%2FPPAWFbSFjGgA%3D&checksum=3e47baf0c22546acc0c59dcf8ccb24761e9be53e28c17e8f8b5a3635ddf7a85c&language=en&preview_pb=0&sec_user_id=MS4wLjABAAAA6fGjpiJgOUc16EQDgC6If0CB1RKTnh19HVtAkcXMiwGolY9cjlf6bEnBaeXj8BS7&share_app_id=1233&share_item_id=7001434701755862273&share_link_id=C7CC82E6-B05F-4124-AF88-84DD659EA92F&source=h5_m&timestamp=1630149706&tt_from=copy&u_code=d2d8573m3574lf&user_id=6609029460412973062&utm_campaign=client_share&utm_medium=ios&utm_source=copy&_r=1,TikTok,Dose he reply????,1,,CS;;;;;;;;;\\r\\n2021-9-21,2021-12-01,thatrelatablestudent,VIDEO,https://www.tiktok.com/@thatrelatablestudent/video/7010543731241733382?lang=en&is_copy_url=1&is_from_webapp=v1,TikTok,oui,1,,CS;;;;;;;;;\\r\\n2021-9-21,2021-12-01,thatrelatablestudent,VIDEO,https://www.tiktok.com/@thatrelatablestudent/video/7010543731241733382?lang=en&is_copy_url=1&is_from_webapp=v1,TikTok,@kissekaten AHHH JAAAA,1,,CS;;;;;;;;;\\r\\n2021-9-21,2021-12-01,thatrelatablestudent,VIDEO,https://www.tiktok.com/@thatrelatablestudent/video/7010543731241733382?lang=en&is_copy_url=1&is_from_webapp=v1,TikTok,Hi! I really need help I have a project due and I want to make it stand out. How do I do that?!?,1,,CS;;;;;;;;;\\r\\n2021-9-21,2021-12-01,thatrelatablestudent,VIDEO,https://www.tiktok.com/@thatrelatablestudent/video/7010543731241733382?lang=en&is_copy_url=1&is_from_webapp=v1,TikTok,@_autmn6 dieses m\\xc3\\xa4dchen ist meine motivation die elent manchmal um 3 uhr,1,,CS;;;;;;;;;\\r\\n2021-9-21,2021-12-01,thatrelatablestudent,VIDEO,https://www.tiktok.com/@thatrelatablestudent/video/7010543731241733382?lang=en&is_copy_url=1&is_from_webapp=v1,TikTok,Oui,1,,CS;;;;;;;;;\\r\\n2021-9-21,2021-12-01,thatrelatablestudent,VIDEO,https://www.tiktok.com/@thatrelatablestudent/video/7010543731241733382?lang=en&is_copy_url=1&is_from_webapp=v1,TikTok,$2.50c.,1,,CS;;;;;;;;;\\r\\n2021-9-21,2021-12-01,thatrelatablestudent,VIDEO,https://www.tiktok.com/@thatrelatablestudent/video/7010543731241733382?lang=en&is_copy_url=1&is_from_webapp=v1,TikTok,Norwegian + American = <3,1,,CS;;;;;;;;;\\r\\n2021-9-21,2021-12-01,thatrelatablestudent,VIDEO,https://www.tiktok.com/@thatrelatablestudent/video/7010543731241733382?lang=en&is_copy_url=1&is_from_webapp=v1,TikTok,Omg I mean chegg \\xf0\\x9f\\x98\\x82\\xf0\\x9f\\x98\\x82\\xf0\\x9f\\x98\\x82\\xf0\\x9f\\x98\\x82\\xf0\\x9f\\x98\\x82,1,,CS;;;;;;;;;\\r\\n2021-9-21,2021-12-01,thatrelatablestudent,VIDEO,https://www.tiktok.com/@thatrelatablestudent/video/7010543731241733382?lang=en&is_copy_url=1&is_from_webapp=v1,TikTok,Thanj you,1,,CS;;;;;;;;;\\r\\n2021-10-16,2021-12-01,lexistrechak,VIDEO,https://www.tiktok.com/foryou?is_from_webapp=v1&item_id=7019443237479861509&lang=en#/@lexistrechak/video/7019443237479861509,TikTok,you with everything,1,,CS;;;;;;;;;\\r\\n2021-10-16,2021-12-01,lexistrechak,VIDEO,https://www.tiktok.com/foryou?is_from_webapp=v1&item_id=7019443237479861509&lang=en#/@lexistrechak/video/7019443237479861509,TikTok,me on thursday \\xf0\\x9f\\x98\\xb3\\xf0\\x9f\\x98\\xb3,1,,CS;;;;;;;;;\\r\\n2021-10-16,2021-12-01,lexistrechak,VIDEO,https://www.tiktok.com/foryou?is_from_webapp=v1&item_id=7019443237479861509&lang=en#/@lexistrechak/video/7019443237479861509,TikTok,@brenleylol POV it\\xe2\\x80\\x99s you,1,,CS;;;;;;;;;\\r\\n2021-10-16,2021-12-01,lexistrechak,VIDEO,https://www.tiktok.com/foryou?is_from_webapp=v1&item_id=7019443237479861509&lang=en#/@lexistrechak/video/7019443237479861509,TikTok,Hii,1,,CS;;;;;;;;;\\r\\n2021-10-16,2021-12-01,lexistrechak,VIDEO,https://www.tiktok.com/foryou?is_from_webapp=v1&item_id=7019443237479861509&lang=en#/@lexistrechak/video/7019443237479861509,TikTok,LMAO,1,,CS;;;;;;;;;\\r\\n2021-10-16,2021-12-01,lexistrechak,VIDEO,https://www.tiktok.com/foryou?is_from_webapp=v1&item_id=7019443237479861509&lang=en#/@lexistrechak/video/7019443237479861509,TikTok,@kateunderhill_ literally me last night,1,,CS;;;;;;;;;\\r\\n2021-10-16,2021-12-01,lexistrechak,VIDEO,https://www.tiktok.com/foryou?is_from_webapp=v1&item_id=7019443237479861509&lang=en#/@lexistrechak/video/7019443237479861509,TikTok,Love your videos so much,1,,CS;;;;;;;;;\\r\\n2021-10-16,2021-12-01,lexistrechak,VIDEO,https://www.tiktok.com/foryou?is_from_webapp=v1&item_id=7019443237479861509&lang=en#/@lexistrechak/video/7019443237479861509,TikTok,omg,1,,CS;;;;;;;;;\\r\\n2021-10-16,2021-12-01,lexistrechak,VIDEO,https://www.tiktok.com/foryou?is_from_webapp=v1&item_id=7019443237479861509&lang=en#/@lexistrechak/video/7019443237479861509,TikTok,Yess,1,,CS;;;;;;;;;\\r\\n2021-9-19,2021-12-01,sarahbada_,VIDEO,https://www.tiktok.com/@sarahbada_/video/7009591980183309573?is_copy_url=0&is_from_webapp=v1&sender_device=pc&sender_web_id=6986418500073326081,TikTok,Thanks Bestiee,1,,CS;;;;;;;;;\\r\\n2021-9-19,2021-12-01,sarahbada_,VIDEO,https://www.tiktok.com/@sarahbada_/video/7009591980183309573?is_copy_url=0&is_from_webapp=v1&sender_device=pc&sender_web_id=6986418500073326081,TikTok,one of the best ads,1,,CS;;;;;;;;;\\r\\n2021-11-19,2021-12-01,sarahbada_,VIDEO,https://www.tiktok.com/@sarahbada_/video/7032191393779010821?lang=en&is_copy_url=0&is_from_webapp=v1&sender_device=pc&sender_web_id=6986418500073326081,TikTok,Wait where can I find it for 5$,1,,CS;;;;;;;;;\\r\\n2021-9-24,2021-12-01,modern.day.classic,VIDEO,https://www.tiktok.com/foryou?_d=secCgYIASAHKAESPgo8WHgI%2BtMUBk6UpEY8XJrCh9nhDYmc%2FtEaqPMNoxfswWmKNZBVL%2FRZL2mIgVNOPfafxQiBimsUqPLWH5V%2BGgA%3D&_r=1&checksum=5631d46fae9893694bda8256fc39e17a39854eb422a7e0ee2ebb7c191899ce0b&is_from_webapp=v1&item_id=7011526528886525190&language=en&preview_pb=0&sec_user_id=MS4wLjABAAAAqA2jfCtaHhY58qGVxZYTCR2DtfbC8SQi0Oh1LEGsH03IA4P2fBOvG5bzgL57pnQ0&share_app_id=1233&share_item_id=7011526528886525190&share_link_id=9E9292E8-BC65-43F9-BFD4-9099E6DAA8CF&source=h5_m&timestamp=1634239189&tt_from=copy&u_code=dbbmeib4hm4le8&user_id=6804952528405906438&utm_campaign=client_share&utm_medium=ios&utm_source=copy#/@modern.day.classic/video/7011526528886525190,TikTok,I came here to see your braided-bun tutorial for my interview the other day! I am a college writing instructor as well and just realized you were!,1,,CS;;;;;;;;;\\r\\n2021-9-24,2021-12-01,modern.day.classic,VIDEO,https://www.tiktok.com/foryou?_d=secCgYIASAHKAESPgo8WHgI%2BtMUBk6UpEY8XJrCh9nhDYmc%2FtEaqPMNoxfswWmKNZBVL%2FRZL2mIgVNOPfafxQiBimsUqPLWH5V%2BGgA%3D&_r=1&checksum=5631d46fae9893694bda8256fc39e17a39854eb422a7e0ee2ebb7c191899ce0b&is_from_webapp=v1&item_id=7011526528886525190&language=en&preview_pb=0&sec_user_id=MS4wLjABAAAAqA2jfCtaHhY58qGVxZYTCR2DtfbC8SQi0Oh1LEGsH03IA4P2fBOvG5bzgL57pnQ0&share_app_id=1233&share_item_id=7011526528886525190&share_link_id=9E9292E8-BC65-43F9-BFD4-9099E6DAA8CF&source=h5_m&timestamp=1634239189&tt_from=copy&u_code=dbbmeib4hm4le8&user_id=6804952528405906438&utm_campaign=client_share&utm_medium=ios&utm_source=copy#/@modern.day.classic/video/7011526528886525190,TikTok,You just gained a new follower\\xf0\\x9f\\x98\\x98\\xf0\\x9f\\x98\\x98\\xf0\\x9f\\x98\\x98\\xf0\\x9f\\x98\\x98,1,,CS;;;;;;;;;\\r\\n2021-11-8,2021-12-01,medstudebt,VIDEO,https://www.tiktok.com/@medstudebt/video/7028312361073429765?lang=en,TikTok,Omg I used to study in Harper all the time.. good mems,2,,CS;;;;;;;;;\\r\\n2021-9-12,2021-12-01,espdaniella,VIDEO,https://www.tiktok.com/@espdaniella/video/7007109992926989574?lang=en,TikTok,let\\'s go,2,,CS;;;;;;;;;\\r\\n2021-9-11,2021-12-01,themccartys,VIDEO,https://www.tiktok.com/@themccartys/video/7006777814015855878?lang=en,TikTok,My mother in law actually made them to wear some 45 years ago \\xf0\\x9f\\x98\\x82,2,,CS;;;;;;;;;\\r\\n2021-9-11,2021-12-01,themccartys,VIDEO,https://www.tiktok.com/@themccartys/video/7006777814015855878?lang=en,TikTok,\\xf0\\x9f\\x98\\x82,2,,CS;;;;;;;;;\\r\\n2021-9-11,2021-12-01,themccartys,VIDEO,https://www.tiktok.com/@themccartys/video/7006777814015855878?lang=en,TikTok,\\xf0\\x9f\\x98\\x82,2,,CS;;;;;;;;;\\r\\n2021-9-11,2021-12-01,themccartys,VIDEO,https://www.tiktok.com/@themccartys/video/7006777814015855878?lang=en,TikTok,hahaha the way you dress \\xf0\\x9f\\x98\\x82\\xf0\\x9f\\x98\\x82,2,,CS;;;;;;;;;\\r\\n2021-9-11,2021-12-01,themccartys,VIDEO,https://www.tiktok.com/@themccartys/video/7006777814015855878?lang=en,TikTok,my friend has that bag,2,,CS;;;;;;;;;\\r\\n2021-9-11,2021-12-01,themccartys,VIDEO,https://www.tiktok.com/@themccartys/video/7006777814015855878?lang=en,TikTok,Me too!!!! Also please continue to portray her as \\xe2\\x80\\x9ccollege Audri\\xe2\\x80\\x9d,2,,CS;;;;;;;;;\\r\\n2021-9-11,2021-12-01,themccartys,VIDEO,https://www.tiktok.com/@themccartys/video/7006777814015855878?lang=en,TikTok,\\xf0\\x9f\\x98\\x82,2,,CS;;;;;;;;;\\r\\n2021-9-11,2021-12-01,themccartys,VIDEO,https://www.tiktok.com/@themccartys/video/7006777814015855878?lang=en,TikTok,\\xf0\\x9f\\x98\\x82,2,,CS;;;;;;;;;\\r\\n2021-9-11,2021-12-01,themccartys,VIDEO,https://www.tiktok.com/@themccartys/video/7006777814015855878?lang=en,TikTok,\\xf0\\x9f\\x98\\x82,2,,CS;;;;;;;;;\\r\\n2021-10-15,2021-12-01,rrogersworld,VIDEO,https://www.tiktok.com/@rrogersworld/video/7019375006417308934?lang=en,TikTok,This sentence makes my brain hurt,2,,CS;;;;;;;;;\\r\\n2021-10-15,2021-12-01,rrogersworld,VIDEO,https://www.tiktok.com/@rrogersworld/video/7019375006417308934?lang=en,TikTok,First.,2,,CS;;;;;;;;;\\r\\n2021-10-19,2021-12-01,maddyspencer5,VIDEO,https://www.tiktok.com/@maddyspencer5/video/7020752133184097537?lang=en,TikTok,I love your content so much! it makes my day \\xf0\\x9f\\xa5\\xb0\\xf0\\x9f\\xa5\\xb0\\xf0\\x9f\\xa5\\xb0,2,,CS;;;;;;;;;\\r\\n2021-9-10,2021-12-01,modern.day.classic,VIDEO,https://www.tiktok.com/@modern.day.classic/video/7006385167350631685?lang=en,TikTok,Thank you!!\\xf0\\x9f\\xa5\\xb0\\xf0\\x9f\\xa5\\xb0,2,,CS;;;;;;;;;\\r\\n2021-8-28,2021-12-01,ryanmarksutherland,VIDEO,https://www.tiktok.com/@ryanmarksutherland/video/7001597800790117637?lang=en,TikTok,heyy Early\\xf0\\x9f\\x98\\x81\\xf0\\x9f\\x98\\x81\\xf0\\x9f\\x98\\x81,2,,CS;;;;;;;;;\\r\\n2021-8-28,2021-12-01,ryanmarksutherland,VIDEO,https://www.tiktok.com/@ryanmarksutherland/video/7001597800790117637?lang=en,TikTok,hayyy,2,,CS;;;;;;;;;\\r\\n2021-8-28,2021-12-01,ryanmarksutherland,VIDEO,https://www.tiktok.com/@ryanmarksutherland/video/7001597800790117637?lang=en,TikTok,Same,2,,CS;;;;;;;;;\\r\\n2021-8-28,2021-12-01,ryanmarksutherland,VIDEO,https://www.tiktok.com/@ryanmarksutherland/video/7001597800790117637?lang=en,TikTok,AYYY,2,,CS;;;;;;;;;\\r\\n2021-8-28,2021-12-01,ryanmarksutherland,VIDEO,https://www.tiktok.com/@ryanmarksutherland/video/7001597800790117637?lang=en,TikTok,HI,2,,CS;;;;;;;;;\\r\\n2021-8-28,2021-12-01,ryanmarksutherland,VIDEO,https://www.tiktok.com/@ryanmarksutherland/video/7001597800790117637?lang=en,TikTok,46 seconds ago\\xe2\\x80\\xa6. I feel like a new person,2,,CS;;;;;;;;;\\r\\n2021-8-28,2021-12-01,ryanmarksutherland,VIDEO,https://www.tiktok.com/@ryanmarksutherland/video/7001597800790117637?lang=en,TikTok,Google.,2,,CS;;;;;;;;;\\r\\n2021-8-28,2021-12-01,ryanmarksutherland,VIDEO,https://www.tiktok.com/@ryanmarksutherland/video/7001597800790117637?lang=en,TikTok,Ayyyy,2,,CS;;;;;;;;;\\r\\n2021-8-28,2021-12-01,ryanmarksutherland,VIDEO,https://www.tiktok.com/@ryanmarksutherland/video/7001597800790117637?lang=en,TikTok,Ikr \\xf0\\x9f\\x98\\x82\\xf0\\x9f\\x98\\x82\\xf0\\x9f\\x98\\x82,2,,CS;;;;;;;;;\\r\\n2021-8-28,2021-12-01,ryanmarksutherland,VIDEO,https://www.tiktok.com/@ryanmarksutherland/video/7001597800790117637?lang=en,TikTok,ayyyy what\\xe2\\x80\\x99s up,2,,CS;;;;;;;;;\\r\\n2021-10-11,2021-12-01,themccartys,VIDEO,https://www.tiktok.com/@themccartys/video/7017889678607142149?is_from_webapp=v1&lang=en,TikTok,biology is easy it geometry,2,,CS;;;;;;;;;\\r\\n2021-10-11,2021-12-01,themccartys,VIDEO,https://www.tiktok.com/@themccartys/video/7017889678607142149?is_from_webapp=v1&lang=en,TikTok,Hi i\\xe2\\x80\\x99m your biggest fan,2,,CS;;;;;;;;;\\r\\n2021-10-11,2021-12-01,themccartys,VIDEO,https://www.tiktok.com/@themccartys/video/7017889678607142149?is_from_webapp=v1&lang=en,TikTok,i want to be in the front of that class,2,,CS;;;;;;;;;\\r\\n2021-10-11,2021-12-01,themccartys,VIDEO,https://www.tiktok.com/@themccartys/video/7017889678607142149?is_from_webapp=v1&lang=en,TikTok,haaa hee,2,,CS;;;;;;;;;\\r\\n\"2021-10-11,2021-12-01,themccartys,VIDEO,https://www.tiktok.com/@themccartys/video/7017889678607142149?is_from_webapp=v1&lang=en,TikTok,\"\"no not with your Majin sonic looking ass chin\";;;;;;;;;\\r\\n\"just to make sure are you the crimson chins daughter?\"\",2,,CS\";;;;;;;;;\\r\\n2021-10-11,2021-12-01,themccartys,VIDEO,https://www.tiktok.com/@themccartys/video/7017889678607142149?is_from_webapp=v1&lang=en,TikTok,@Cheyenne mr wheeler,2,,CS;;;;;;;;;\\r\\n2021-10-11,2021-12-01,thelawerangela,VIDEO,https://www.tiktok.com/@thelawyerangela/video/7018016230283988230?is_from_webapp=v1&lang=en,TikTok,Why do I like your voice so much and the way you present literally everything!! Talk about using ur talent!,2,,CS;;;;;;;;;\\r\\n\"2021-10-11,2021-12-01,thelawerangela,VIDEO,https://www.tiktok.com/@thelawyerangela/video/7018016230283988230?is_from_webapp=v1&lang=en,TikTok,\"\"You know as well as all students should that chegg on homework questions is still plagiarism. (But I admit, it\\xe2\\x80\\x99s sometimes almost necessary\\xe2\\x80\\xa6)\"\",2,,CS\";;;;;;;;;\\r\\n2021-10-11,2021-12-01,thelawerangela,VIDEO,https://www.tiktok.com/@thelawyerangela/video/7018016230283988230?is_from_webapp=v1&lang=en,TikTok,Hey I just wanted to say thank you because my check for $36 off the Johnson & Johnson lawsuit just came!,2,,CS;;;;;;;;;\\r\\n2021-10-11,2021-12-01,thelawerangela,VIDEO,https://www.tiktok.com/@thelawyerangela/video/7018016230283988230?is_from_webapp=v1&lang=en,TikTok,\\xf0\\x9f\\x92\\xa5,2,,CS;;;;;;;;;\\r\\n2021-9-26,2021-12-01,ryanmarksutherland,VIDEO,https://www.tiktok.com/@ryanmarksutherland/video/7012400629788265733?is_from_webapp=v1&lang=en,TikTok,Early,2,,CS;;;;;;;;;\\r\\n2021-9-26,2021-12-01,ryanmarksutherland,VIDEO,https://www.tiktok.com/@ryanmarksutherland/video/7012400629788265733?is_from_webapp=v1&lang=en,TikTok,FIRST,2,,CS;;;;;;;;;\\r\\n2021-9-26,2021-12-01,ryanmarksutherland,VIDEO,https://www.tiktok.com/@ryanmarksutherland/video/7012400629788265733?is_from_webapp=v1&lang=en,TikTok,First\\xf0\\x9f\\x98\\xac,2,,CS;;;;;;;;;\\r\\n2021-9-26,2021-12-01,ryanmarksutherland,VIDEO,https://www.tiktok.com/@ryanmarksutherland/video/7012400629788265733?is_from_webapp=v1&lang=en,TikTok,HII,2,,CS;;;;;;;;;\\r\\n2021-9-2,2021-12-01,itssozer,VIDEO,https://www.tiktok.com/@itssozer/video/7003502008355278082?lang=en&is_copy_url=1&is_from_webapp=v1,TikTok,you so nice,2,,CS;;;;;;;;;\\r\\n2021-11-8,2021-12-01,j0siahyoung,VIDEO,https://www.tiktok.com/@j0siahyoung/video/7028084710660132097?lang=en&is_copy_url=1&is_from_webapp=v1,TikTok,\\xf0\\x9f\\x90\\x84\\xf0\\x9f\\x90\\x84\\xf0\\x9f\\x90\\x84,2,,CS;;;;;;;;;\\r\\n2021-11-8,2021-12-01,j0siahyoung,VIDEO,https://www.tiktok.com/@j0siahyoung/video/7028084710660132097?lang=en&is_copy_url=1&is_from_webapp=v1,TikTok,I\\'m sad I am not first \\xf0\\x9f\\x98\\x94,2,,CS;;;;;;;;;\\r\\n2021-9-9,2021-12-01,sakshammagic,VIDEO,https://www.tiktok.com/@sakshammagic/video/7005825447434996993?lang=en&is_copy_url=1&is_from_webapp=v1,TikTok,Where is my early gang,2,,CS;;;;;;;;;\\r\\n2021-9-9,2021-12-01,sakshammagic,VIDEO,https://www.tiktok.com/@sakshammagic/video/7005825447434996993?lang=en&is_copy_url=1&is_from_webapp=v1,TikTok,iam here,2,,CS;;;;;;;;;\\r\\n2021-9-9,2021-12-01,sakshammagic,VIDEO,https://www.tiktok.com/@sakshammagic/video/7005825447434996993?lang=en&is_copy_url=1&is_from_webapp=v1,TikTok,iam firts dude,2,,CS;;;;;;;;;\\r\\n2021-9-9,2021-12-01,sakshammagic,VIDEO,https://www.tiktok.com/@sakshammagic/video/7005825447434996993?lang=en&is_copy_url=1&is_from_webapp=v1,TikTok,Hey,2,,CS;;;;;;;;;\\r\\n2021-11-12,2021-12-01,sydneyserena,VIDEO,https://www.tiktok.com/@sydneyserena/video/7029840852591660293?lang=en&is_copy_url=1&is_from_webapp=v1,TikTok,tysm xx,2,,CS;;;;;;;;;\\r\\n2021-11-12,2021-12-01,sydneyserena,VIDEO,https://www.tiktok.com/@sydneyserena/video/7029840852591660293?lang=en&is_copy_url=1&is_from_webapp=v1,TikTok,Thank you Syd \\xf0\\x9f\\x92\\x9e,2,,CS;;;;;;;;;\\r\\n2021-11-12,2021-12-01,sydneyserena,VIDEO,https://www.tiktok.com/@sydneyserena/video/7029840852591660293?lang=en&is_copy_url=1&is_from_webapp=v1,TikTok,Cute,2,,CS;;;;;;;;;\\r\\n2021-9-7,2021-12-01,iamalilstitious,VIDEO,https://www.tiktok.com/@iamalilstitious/video/7005376930103053574?lang=en&is_copy_url=1&is_from_webapp=v1,TikTok,Chegg has tutors to help in a PhD program? i don\\xe2\\x80\\x99t even know what they\\xe2\\x80\\x99d help me with \\xf0\\x9f\\x98\\x82,2,,CS;;;;;;;;;\\r\\n2021-8-27,2021-12-01,sarahrav,VIDEO,https://www.tiktok.com/@sarahrav/video/7001002356573752578?_d=secCgYIASAHKAESPgo8tMu0r4MbRgSe3A4aOx7CTY2zVqKgpkKjRA2zMDkxA7FgnjOWLpIhEzIwUhnSy42cjaFEbRJpN5o%2FjF3sGgA%3D&checksum=b2ac879f6a7b184db94193af32bc618831ad998110b336b208bb03217f1e7161&language=en&preview_pb=0&sec_user_id=MS4wLjABAAAAaXa4BGfx8fjVB9bjDYf-LnFzxLIrLN9HEf44LOywX3KRpmdKGVQcVHi0k-QTMwH1&share_app_id=1233&share_item_id=7001002356573752578&share_link_id=721ACA01-606D-4C44-8858-EFA016BDF2F2&source=h5_m&timestamp=1630099779&tt_from=copy&u_code=d9de51l2g219d3&user_id=6762679979047388166&utm_campaign=client_share&utm_medium=ios&utm_source=copy&_r=1,TikTok,@holly_mc4,2,,CS;;;;;;;;;\\r\\n2021-9-8,2021-12-01,sarahbada_,VIDEO,https://www.tiktok.com/@sarahbada_/video/7005537463057878277?source=h5_m&_r=1&is_copy_url=1&is_from_webapp=v1,TikTok,Should\\xe2\\x80\\x99ve had this when I was in school \\xf0\\x9f\\x98\\x8c\\xf0\\x9f\\x98\\x8c,2,,CS;;;;;;;;;\\r\\n2021-8-28,2021-12-01,cloutom,VIDEO,https://www.tiktok.com/@cloutom/video/7001434701755862273?_d=secCgYIASAHKAESPgo8zdgjKZNzhBqRfcWHyCznvVbI7mwO3NoloOj%2BeH6CFlQ0nRma%2B5JjPVZoWaxJyvsLQDpgO6%2FPPAWFbSFjGgA%3D&checksum=3e47baf0c22546acc0c59dcf8ccb24761e9be53e28c17e8f8b5a3635ddf7a85c&language=en&preview_pb=0&sec_user_id=MS4wLjABAAAA6fGjpiJgOUc16EQDgC6If0CB1RKTnh19HVtAkcXMiwGolY9cjlf6bEnBaeXj8BS7&share_app_id=1233&share_item_id=7001434701755862273&share_link_id=C7CC82E6-B05F-4124-AF88-84DD659EA92F&source=h5_m&timestamp=1630149706&tt_from=copy&u_code=d2d8573m3574lf&user_id=6609029460412973062&utm_campaign=client_share&utm_medium=ios&utm_source=copy&_r=1,TikTok,Puke,2,,CS;;;;;;;;;\\r\\n2021-8-28,2021-12-01,cloutom,VIDEO,https://www.tiktok.com/@cloutom/video/7001434701755862273?_d=secCgYIASAHKAESPgo8zdgjKZNzhBqRfcWHyCznvVbI7mwO3NoloOj%2BeH6CFlQ0nRma%2B5JjPVZoWaxJyvsLQDpgO6%2FPPAWFbSFjGgA%3D&checksum=3e47baf0c22546acc0c59dcf8ccb24761e9be53e28c17e8f8b5a3635ddf7a85c&language=en&preview_pb=0&sec_user_id=MS4wLjABAAAA6fGjpiJgOUc16EQDgC6If0CB1RKTnh19HVtAkcXMiwGolY9cjlf6bEnBaeXj8BS7&share_app_id=1233&share_item_id=7001434701755862273&share_link_id=C7CC82E6-B05F-4124-AF88-84DD659EA92F&source=h5_m&timestamp=1630149706&tt_from=copy&u_code=d2d8573m3574lf&user_id=6609029460412973062&utm_campaign=client_share&utm_medium=ios&utm_source=copy&_r=1,TikTok,Hi,2,,CS;;;;;;;;;\\r\\n2021-8-28,2021-12-01,cloutom,VIDEO,https://www.tiktok.com/@cloutom/video/7001434701755862273?_d=secCgYIASAHKAESPgo8zdgjKZNzhBqRfcWHyCznvVbI7mwO3NoloOj%2BeH6CFlQ0nRma%2B5JjPVZoWaxJyvsLQDpgO6%2FPPAWFbSFjGgA%3D&checksum=3e47baf0c22546acc0c59dcf8ccb24761e9be53e28c17e8f8b5a3635ddf7a85c&language=en&preview_pb=0&sec_user_id=MS4wLjABAAAA6fGjpiJgOUc16EQDgC6If0CB1RKTnh19HVtAkcXMiwGolY9cjlf6bEnBaeXj8BS7&share_app_id=1233&share_item_id=7001434701755862273&share_link_id=C7CC82E6-B05F-4124-AF88-84DD659EA92F&source=h5_m&timestamp=1630149706&tt_from=copy&u_code=d2d8573m3574lf&user_id=6609029460412973062&utm_campaign=client_share&utm_medium=ios&utm_source=copy&_r=1,TikTok,hayyy,2,,CS;;;;;;;;;\\r\\n2021-8-28,2021-12-01,cloutom,VIDEO,https://www.tiktok.com/@cloutom/video/7001434701755862273?_d=secCgYIASAHKAESPgo8zdgjKZNzhBqRfcWHyCznvVbI7mwO3NoloOj%2BeH6CFlQ0nRma%2B5JjPVZoWaxJyvsLQDpgO6%2FPPAWFbSFjGgA%3D&checksum=3e47baf0c22546acc0c59dcf8ccb24761e9be53e28c17e8f8b5a3635ddf7a85c&language=en&preview_pb=0&sec_user_id=MS4wLjABAAAA6fGjpiJgOUc16EQDgC6If0CB1RKTnh19HVtAkcXMiwGolY9cjlf6bEnBaeXj8BS7&share_app_id=1233&share_item_id=7001434701755862273&share_link_id=C7CC82E6-B05F-4124-AF88-84DD659EA92F&source=h5_m&timestamp=1630149706&tt_from=copy&u_code=d2d8573m3574lf&user_id=6609029460412973062&utm_campaign=client_share&utm_medium=ios&utm_source=copy&_r=1,TikTok,how am I this early \\xf0\\x9f\\x98\\x85,2,,CS;;;;;;;;;\\r\\n2021-8-28,2021-12-01,cloutom,VIDEO,https://www.tiktok.com/@cloutom/video/7001434701755862273?_d=secCgYIASAHKAESPgo8zdgjKZNzhBqRfcWHyCznvVbI7mwO3NoloOj%2BeH6CFlQ0nRma%2B5JjPVZoWaxJyvsLQDpgO6%2FPPAWFbSFjGgA%3D&checksum=3e47baf0c22546acc0c59dcf8ccb24761e9be53e28c17e8f8b5a3635ddf7a85c&language=en&preview_pb=0&sec_user_id=MS4wLjABAAAA6fGjpiJgOUc16EQDgC6If0CB1RKTnh19HVtAkcXMiwGolY9cjlf6bEnBaeXj8BS7&share_app_id=1233&share_item_id=7001434701755862273&share_link_id=C7CC82E6-B05F-4124-AF88-84DD659EA92F&source=h5_m&timestamp=1630149706&tt_from=copy&u_code=d2d8573m3574lf&user_id=6609029460412973062&utm_campaign=client_share&utm_medium=ios&utm_source=copy&_r=1,TikTok,I\\xe2\\x80\\x99m if best fan,2,,CS;;;;;;;;;\\r\\n2021-8-28,2021-12-01,cloutom,VIDEO,https://www.tiktok.com/@cloutom/video/7001434701755862273?_d=secCgYIASAHKAESPgo8zdgjKZNzhBqRfcWHyCznvVbI7mwO3NoloOj%2BeH6CFlQ0nRma%2B5JjPVZoWaxJyvsLQDpgO6%2FPPAWFbSFjGgA%3D&checksum=3e47baf0c22546acc0c59dcf8ccb24761e9be53e28c17e8f8b5a3635ddf7a85c&language=en&preview_pb=0&sec_user_id=MS4wLjABAAAA6fGjpiJgOUc16EQDgC6If0CB1RKTnh19HVtAkcXMiwGolY9cjlf6bEnBaeXj8BS7&share_app_id=1233&share_item_id=7001434701755862273&share_link_id=C7CC82E6-B05F-4124-AF88-84DD659EA92F&source=h5_m&timestamp=1630149706&tt_from=copy&u_code=d2d8573m3574lf&user_id=6609029460412973062&utm_campaign=client_share&utm_medium=ios&utm_source=copy&_r=1,TikTok,Thirddd,2,,CS;;;;;;;;;\\r\\n2021-8-28,2021-12-01,cloutom,VIDEO,https://www.tiktok.com/@cloutom/video/7001434701755862273?_d=secCgYIASAHKAESPgo8zdgjKZNzhBqRfcWHyCznvVbI7mwO3NoloOj%2BeH6CFlQ0nRma%2B5JjPVZoWaxJyvsLQDpgO6%2FPPAWFbSFjGgA%3D&checksum=3e47baf0c22546acc0c59dcf8ccb24761e9be53e28c17e8f8b5a3635ddf7a85c&language=en&preview_pb=0&sec_user_id=MS4wLjABAAAA6fGjpiJgOUc16EQDgC6If0CB1RKTnh19HVtAkcXMiwGolY9cjlf6bEnBaeXj8BS7&share_app_id=1233&share_item_id=7001434701755862273&share_link_id=C7CC82E6-B05F-4124-AF88-84DD659EA92F&source=h5_m&timestamp=1630149706&tt_from=copy&u_code=d2d8573m3574lf&user_id=6609029460412973062&utm_campaign=client_share&utm_medium=ios&utm_source=copy&_r=1,TikTok,2 aaaa,2,,CS;;;;;;;;;\\r\\n2021-8-28,2021-12-01,cloutom,VIDEO,https://www.tiktok.com/@cloutom/video/7001434701755862273?_d=secCgYIASAHKAESPgo8zdgjKZNzhBqRfcWHyCznvVbI7mwO3NoloOj%2BeH6CFlQ0nRma%2B5JjPVZoWaxJyvsLQDpgO6%2FPPAWFbSFjGgA%3D&checksum=3e47baf0c22546acc0c59dcf8ccb24761e9be53e28c17e8f8b5a3635ddf7a85c&language=en&preview_pb=0&sec_user_id=MS4wLjABAAAA6fGjpiJgOUc16EQDgC6If0CB1RKTnh19HVtAkcXMiwGolY9cjlf6bEnBaeXj8BS7&share_app_id=1233&share_item_id=7001434701755862273&share_link_id=C7CC82E6-B05F-4124-AF88-84DD659EA92F&source=h5_m&timestamp=1630149706&tt_from=copy&u_code=d2d8573m3574lf&user_id=6609029460412973062&utm_campaign=client_share&utm_medium=ios&utm_source=copy&_r=1,TikTok,@isabelwallace22 @aoibheeeeeeeee not me getting school vids on my fyp \\xf0\\x9f\\x98\\xad\\xf0\\x9f\\x98\\xad\\xf0\\x9f\\x98\\xad,2,,CS;;;;;;;;;\\r\\n2021-9-21,2021-12-01,thatrelatablestudent,VIDEO,https://www.tiktok.com/@thatrelatablestudent/video/7010543731241733382?lang=en&is_copy_url=1&is_from_webapp=v1,TikTok,Earlyyyy plus Cheng really does help just used it \\xf0\\x9f\\xa5\\xb0,2,,CS;;;;;;;;;\\r\\n2021-9-21,2021-12-01,thatrelatablestudent,VIDEO,https://www.tiktok.com/@thatrelatablestudent/video/7010543731241733382?lang=en&is_copy_url=1&is_from_webapp=v1,TikTok,Will chegg be there during exams,2,,CS;;;;;;;;;\\r\\n2021-9-21,2021-12-01,thatrelatablestudent,VIDEO,https://www.tiktok.com/@thatrelatablestudent/video/7010543731241733382?lang=en&is_copy_url=1&is_from_webapp=v1,TikTok,Gibt es sowas auch in Deutschland,2,,CS;;;;;;;;;\\r\\n2021-9-21,2021-12-01,thatrelatablestudent,VIDEO,https://www.tiktok.com/@thatrelatablestudent/video/7010543731241733382?lang=en&is_copy_url=1&is_from_webapp=v1,TikTok,Parlez-vous fran\\xc3\\xa7ais?,2,,CS;;;;;;;;;\\r\\n2021-9-21,2021-12-01,thatrelatablestudent,VIDEO,https://www.tiktok.com/@thatrelatablestudent/video/7010543731241733382?lang=en&is_copy_url=1&is_from_webapp=v1,TikTok,Earlyyyy,2,,CS;;;;;;;;;\\r\\n2021-9-21,2021-12-01,thatrelatablestudent,VIDEO,https://www.tiktok.com/@thatrelatablestudent/video/7010543731241733382?lang=en&is_copy_url=1&is_from_webapp=v1,TikTok,First,2,,CS;;;;;;;;;\\r\\n2021-10-16,2021-12-01,lexistrechak,VIDEO,https://www.tiktok.com/foryou?is_from_webapp=v1&item_id=7019443237479861509&lang=en#/@lexistrechak/video/7019443237479861509,TikTok,Heyy,2,,CS;;;;;;;;;\\r\\n2021-10-16,2021-12-01,lexistrechak,VIDEO,https://www.tiktok.com/foryou?is_from_webapp=v1&item_id=7019443237479861509&lang=en#/@lexistrechak/video/7019443237479861509,TikTok,Thank you!!,2,,CS;;;;;;;;;\\r\\n2021-10-16,2021-12-01,lexistrechak,VIDEO,https://www.tiktok.com/foryou?is_from_webapp=v1&item_id=7019443237479861509&lang=en#/@lexistrechak/video/7019443237479861509,TikTok,Heyyyyy\\xf0\\x9f\\xa5\\xb0,2,,CS;;;;;;;;;\\r\\n2021-9-12,2021-12-01,espdaniella,VIDEO,https://www.tiktok.com/@espdaniella/video/7007109992926989574?lang=en,TikTok,yeah chegg finds locations of students and emails their school and tells them they are using it,3,,CS;;;;;;;;;\\r\\n2021-9-11,2021-12-01,themccartys,VIDEO,https://www.tiktok.com/@themccartys/video/7006777814015855878?lang=en,TikTok,This gives me life \\xf0\\x9f\\x98\\x85\\xf0\\x9f\\x98\\x85\\xf0\\x9f\\x98\\x85,3,,CS;;;;;;;;;\\r\\n2021-9-11,2021-12-01,themccartys,VIDEO,https://www.tiktok.com/@themccartys/video/7006777814015855878?lang=en,TikTok,Karen goes to College!\\xf0\\x9f\\x98\\x82\\xf0\\x9f\\x98\\x82\\xf0\\x9f\\x98\\x82\\xf0\\x9f\\x98\\x82\\xf0\\x9f\\x98\\x82,3,,CS;;;;;;;;;\\r\\n2021-9-11,2021-12-01,themccartys,VIDEO,https://www.tiktok.com/@themccartys/video/7006777814015855878?lang=en,TikTok,\\xf0\\x9f\\xa5\\xb0,3,,CS;;;;;;;;;\\r\\n2021-10-15,2021-12-01,rrogersworld,VIDEO,https://www.tiktok.com/@rrogersworld/video/7019375006417308934?lang=en,TikTok,Photomath also works,3,,CS;;;;;;;;;\\r\\n2021-10-19,2021-12-01,maddyspencer5,VIDEO,https://www.tiktok.com/@maddyspencer5/video/7020752133184097537?lang=en,TikTok,Chegg it out,3,,CS;;;;;;;;;\\r\\n2021-10-19,2021-12-01,maddyspencer5,VIDEO,https://www.tiktok.com/@maddyspencer5/video/7020752133184097537?lang=en,TikTok,Yesssss \\xf0\\x9f\\x91\\x8f,3,,CS;;;;;;;;;\\r\\n2021-10-19,2021-12-01,maddyspencer5,VIDEO,https://www.tiktok.com/@maddyspencer5/video/7020752133184097537?lang=en,TikTok,\\xf0\\x9f\\xa4\\xa9,3,,CS;;;;;;;;;\\r\\n2021-10-8,2021-12-01,cloutom,VIDEO,https://www.tiktok.com/@cloutom/video/7016955575757966593?is_from_webapp=v1,TikTok,Does this work on college Calc ? \\xf0\\x9f\\x98\\x82,3,,CS;;;;;;;;;\\r\\n2021-10-8,2021-12-01,cloutom,VIDEO,https://www.tiktok.com/@cloutom/video/7016955575757966593?is_from_webapp=v1,TikTok,.\\xe2\\x9d\\xa3\\xef\\xb8\\x8f\\xf0\\x9f\\x99\\x84 Are you boy\\'s here \\xe2\\x9d\\xa3\\xef\\xb8\\x8f\\xe2\\x9d\\xa3\\xef\\xb8\\x8f.,3,,CS;;;;;;;;;\\r\\n2021-9-10,2021-12-01,modern.day.classic,VIDEO,https://www.tiktok.com/@modern.day.classic/video/7006385167350631685?lang=en,TikTok,Hey!,3,,CS;;;;;;;;;\\r\\n2021-9-10,2021-12-01,modern.day.classic,VIDEO,https://www.tiktok.com/@modern.day.classic/video/7006385167350631685?lang=en,TikTok,Hi,3,,CS;;;;;;;;;\\r\\n2021-8-28,2021-12-01,ryanmarksutherland,VIDEO,https://www.tiktok.com/@ryanmarksutherland/video/7001597800790117637?lang=en,TikTok,4th \\xf0\\x9f\\xa5\\xba\\xf0\\x9f\\xa5\\xba\\xf0\\x9f\\xa5\\xba\\xf0\\x9f\\x98\\xa9\\xf0\\x9f\\x98\\xa9\\xf0\\x9f\\x98\\xa9\\xf0\\x9f\\xa4\\xa9\\xf0\\x9f\\xa4\\xa9\\xf0\\x9f\\xa4\\xa9\\xf0\\x9f\\xa4\\xa9\\xf0\\x9f\\x98\\x98\\xf0\\x9f\\x98\\x98\\xf0\\x9f\\x98\\x98\\xf0\\x9f\\x98\\x98,3,,CS;;;;;;;;;\\r\\n2021-8-28,2021-12-01,ryanmarksutherland,VIDEO,https://www.tiktok.com/@ryanmarksutherland/video/7001597800790117637?lang=en,TikTok,Hayyyyy,3,,CS;;;;;;;;;\\r\\n2021-8-28,2021-12-01,ryanmarksutherland,VIDEO,https://www.tiktok.com/@ryanmarksutherland/video/7001597800790117637?lang=en,TikTok,EARLY,3,,CS;;;;;;;;;\\r\\n2021-10-11,2021-12-01,themccartys,VIDEO,https://www.tiktok.com/@themccartys/video/7017889678607142149?is_from_webapp=v1&lang=en,TikTok,Share if you know that kid that knows everything,3,,CS;;;;;;;;;\\r\\n2021-10-11,2021-12-01,themccartys,VIDEO,https://www.tiktok.com/@themccartys/video/7017889678607142149?is_from_webapp=v1&lang=en,TikTok,Doesn\\xe2\\x80\\x99t cheg give your info to schools if they ask to see if you cheating,3,,CS;;;;;;;;;\\r\\n2021-10-11,2021-12-01,thelawerangela,VIDEO,https://www.tiktok.com/@thelawyerangela/video/7018016230283988230?is_from_webapp=v1&lang=en,TikTok,I will make one !!,3,,CS;;;;;;;;;\\r\\n2021-10-11,2021-12-01,thelawerangela,VIDEO,https://www.tiktok.com/@thelawyerangela/video/7018016230283988230?is_from_webapp=v1&lang=en,TikTok,#ad is literally in the caption\\xe2\\x80\\xa6.,3,,CS;;;;;;;;;\\r\\n2021-10-11,2021-12-01,thelawerangela,VIDEO,https://www.tiktok.com/@thelawyerangela/video/7018016230283988230?is_from_webapp=v1&lang=en,TikTok,yes Chegg is legit,3,,CS;;;;;;;;;\\r\\n2021-9-26,2021-12-01,ryanmarksutherland,VIDEO,https://www.tiktok.com/@ryanmarksutherland/video/7012400629788265733?is_from_webapp=v1&lang=en,TikTok,EARLYUY,3,,CS;;;;;;;;;\\r\\n2021-9-26,2021-12-01,ryanmarksutherland,VIDEO,https://www.tiktok.com/@ryanmarksutherland/video/7012400629788265733?is_from_webapp=v1&lang=en,TikTok,Im not first but i will say that i am,3,,CS;;;;;;;;;\\r\\n2021-9-2,2021-12-01,itssozer,VIDEO,https://www.tiktok.com/@itssozer/video/7003502008355278082?lang=en&is_copy_url=1&is_from_webapp=v1,TikTok,Not in the UK; college & Uni are different things,3,,CS;;;;;;;;\\r\\n2021-9-2,2021-12-01,emilyballz,VIDEO,https://www.tiktok.com/@emilyballz/video/7003434464344870150?lang=en&is_copy_url=1&is_from_webapp=v1,TikTok,Quizlet is also mad helpfully too and free,3,,CS;;;;;;;;;\\r\\n2021-8-28,2021-12-01,cloutom,VIDEO,https://www.tiktok.com/@cloutom/video/7001434701755862273?_d=secCgYIASAHKAESPgo8zdgjKZNzhBqRfcWHyCznvVbI7mwO3NoloOj%2BeH6CFlQ0nRma%2B5JjPVZoWaxJyvsLQDpgO6%2FPPAWFbSFjGgA%3D&checksum=3e47baf0c22546acc0c59dcf8ccb24761e9be53e28c17e8f8b5a3635ddf7a85c&language=en&preview_pb=0&sec_user_id=MS4wLjABAAAA6fGjpiJgOUc16EQDgC6If0CB1RKTnh19HVtAkcXMiwGolY9cjlf6bEnBaeXj8BS7&share_app_id=1233&share_item_id=7001434701755862273&share_link_id=C7CC82E6-B05F-4124-AF88-84DD659EA92F&source=h5_m&timestamp=1630149706&tt_from=copy&u_code=d2d8573m3574lf&user_id=6609029460412973062&utm_campaign=client_share&utm_medium=ios&utm_source=copy&_r=1,TikTok,Second,3,,CS;;;;;;;;;\\r\\n2021-9-21,2021-12-01,thatrelatablestudent,VIDEO,https://www.tiktok.com/@thatrelatablestudent/video/7010543731241733382?lang=en&is_copy_url=1&is_from_webapp=v1,TikTok,Just search it up,3,,CS;;;;;;;;;\\r\\n2021-9-21,2021-12-01,thatrelatablestudent,VIDEO,https://www.tiktok.com/@thatrelatablestudent/video/7010543731241733382?lang=en&is_copy_url=1&is_from_webapp=v1,TikTok,Can it work for uk uni work ?,3,,CS;;;;;;;;;\\r\\n2021-10-16,2021-12-01,lexistrechak,VIDEO,https://www.tiktok.com/foryou?is_from_webapp=v1&item_id=7019443237479861509&lang=en#/@lexistrechak/video/7019443237479861509,TikTok,@0.berriesandcream this is so me when I do my homework,3,,CS;;;;;;;;;\\r\\n2021-10-16,2021-12-01,lexistrechak,VIDEO,https://www.tiktok.com/foryou?is_from_webapp=v1&item_id=7019443237479861509&lang=en#/@lexistrechak/video/7019443237479861509,TikTok,You use canvas in college!?!?!?! Bro i used it in middle school\\xf0\\x9f\\x98\\xb3,3,,CS;;;;;;;;;\\r\\n2021-9-19,2021-12-01,sarahbada_,VIDEO,https://www.tiktok.com/@sarahbada_/video/7009591980183309573?is_copy_url=0&is_from_webapp=v1&sender_device=pc&sender_web_id=6986418500073326081,TikTok,Ngl finding the exact assignment on chegg gets me smiling crazy \\xf0\\x9f\\x98\\x82,3,,CS;;;;;;;;;\\r\\n2021-11-19,2021-12-01,sarahbada_,VIDEO,https://www.tiktok.com/@sarahbada_/video/7032191393779010821?lang=en&is_copy_url=0&is_from_webapp=v1&sender_device=pc&sender_web_id=6986418500073326081,TikTok,As an engineering student chegg is a life saver for us all \\xf0\\x9f\\x98\\xad,3,,CS;;;;;;;;;\\r\\n2021-9-24,2021-12-01,modern.day.classic,VIDEO,https://www.tiktok.com/foryou?_d=secCgYIASAHKAESPgo8WHgI%2BtMUBk6UpEY8XJrCh9nhDYmc%2FtEaqPMNoxfswWmKNZBVL%2FRZL2mIgVNOPfafxQiBimsUqPLWH5V%2BGgA%3D&_r=1&checksum=5631d46fae9893694bda8256fc39e17a39854eb422a7e0ee2ebb7c191899ce0b&is_from_webapp=v1&item_id=7011526528886525190&language=en&preview_pb=0&sec_user_id=MS4wLjABAAAAqA2jfCtaHhY58qGVxZYTCR2DtfbC8SQi0Oh1LEGsH03IA4P2fBOvG5bzgL57pnQ0&share_app_id=1233&share_item_id=7011526528886525190&share_link_id=9E9292E8-BC65-43F9-BFD4-9099E6DAA8CF&source=h5_m&timestamp=1634239189&tt_from=copy&u_code=dbbmeib4hm4le8&user_id=6804952528405906438&utm_campaign=client_share&utm_medium=ios&utm_source=copy#/@modern.day.classic/video/7011526528886525190,TikTok,My favorite app,3,,CS;;;;;;;;;\\r\\n2021-9-24,2021-12-01,modern.day.classic,VIDEO,https://www.tiktok.com/foryou?_d=secCgYIASAHKAESPgo8WHgI%2BtMUBk6UpEY8XJrCh9nhDYmc%2FtEaqPMNoxfswWmKNZBVL%2FRZL2mIgVNOPfafxQiBimsUqPLWH5V%2BGgA%3D&_r=1&checksum=5631d46fae9893694bda8256fc39e17a39854eb422a7e0ee2ebb7c191899ce0b&is_from_webapp=v1&item_id=7011526528886525190&language=en&preview_pb=0&sec_user_id=MS4wLjABAAAAqA2jfCtaHhY58qGVxZYTCR2DtfbC8SQi0Oh1LEGsH03IA4P2fBOvG5bzgL57pnQ0&share_app_id=1233&share_item_id=7011526528886525190&share_link_id=9E9292E8-BC65-43F9-BFD4-9099E6DAA8CF&source=h5_m&timestamp=1634239189&tt_from=copy&u_code=dbbmeib4hm4le8&user_id=6804952528405906438&utm_campaign=client_share&utm_medium=ios&utm_source=copy#/@modern.day.classic/video/7011526528886525190,TikTok,@Ethel chitsike,3,,CS;;;;;;;;;\\r\\n2021-11-8,2021-12-01,medstudebt,VIDEO,https://www.tiktok.com/@medstudebt/video/7028312361073429765?lang=en,TikTok,where do u study?,4,,CS;;;;;;;;;\\r\\n2021-9-11,2021-12-01,themccartys,VIDEO,https://www.tiktok.com/@themccartys/video/7006777814015855878?lang=en,TikTok,oh my goodness I just hollered laughing \\xf0\\x9f\\x98\\x82\\xf0\\x9f\\x98\\x82\\xf0\\x9f\\x98\\x82,4,,CS;;;;;;;;;\\r\\n\"2021-10-15,2021-12-01,rrogersworld,VIDEO,https://www.tiktok.com/@rrogersworld/video/7019375006417308934?lang=en,TikTok,\"\"hi, mrs rogers i want all teachers to know, i hate social studies but i love my social studies class bc the teacher is nice and treats me like a human\"\",4,,CS\";;;;;;;;;\\r\\n2021-10-15,2021-12-01,rrogersworld,VIDEO,https://www.tiktok.com/@rrogersworld/video/7019375006417308934?lang=en,TikTok,Where was this when I was in school?! This is amazing,4,,CS;;;;;;;;;\\r\\n2021-9-10,2021-12-01,modern.day.classic,VIDEO,https://www.tiktok.com/@modern.day.classic/video/7006385167350631685?lang=en,TikTok,\\xf0\\x9f\\xa5\\xb0\\xf0\\x9f\\xa5\\xb0\\xf0\\x9f\\xa5\\xb0,4,,CS;;;;;;;;;\\r\\n2021-8-28,2021-12-01,ryanmarksutherland,VIDEO,https://www.tiktok.com/@ryanmarksutherland/video/7001597800790117637?lang=en,TikTok,ayyy,4,,CS;;;;;;;;;\\r\\n2021-10-11,2021-12-01,themccartys,VIDEO,https://www.tiktok.com/@themccartys/video/7017889678607142149?is_from_webapp=v1&lang=en,TikTok,Great student! Awesome teacher for teaching \\xf0\\x9f\\xa5\\xb0\\xf0\\x9f\\xa5\\xb0,4,,CS;;;;;;;;;\\r\\n2021-10-11,2021-12-01,themccartys,VIDEO,https://www.tiktok.com/@themccartys/video/7017889678607142149?is_from_webapp=v1&lang=en,TikTok,not the emojis,4,,CS;;;;;;;;;\\r\\n2021-10-11,2021-12-01,thelawerangela,VIDEO,https://www.tiktok.com/@thelawyerangela/video/7018016230283988230?is_from_webapp=v1&lang=en,TikTok,Chegg didn\\xe2\\x80\\x99t exist like this when you were in Harvard \\xf0\\x9f\\x99\\x84,4,,CS;;;;;;;;;\\r\\n2021-10-11,2021-12-01,thelawerangela,VIDEO,https://www.tiktok.com/@thelawyerangela/video/7018016230283988230?is_from_webapp=v1&lang=en,TikTok,I got a check today for $24 from Johnson & Johnson thanks you you!! \\xf0\\x9f\\x96\\xa4\\xf0\\x9f\\x96\\xa4,4,,CS;;;;;;;;;\\r\\n2021-9-28,2021-12-01,niki_patton,VIDEO,https://www.tiktok.com/@niki_patton/video/7013188950898658566?is_copy_url=1&is_from_webapp=v1,TikTok,Hi,4,,CS;;;;;;;;;\\r\\n2021-9-26,2021-12-01,ryanmarksutherland,VIDEO,https://www.tiktok.com/@ryanmarksutherland/video/7012400629788265733?is_from_webapp=v1&lang=en,TikTok,Ayyyy what\\xe2\\x80\\x99s upppp,4,,CS;;;;;;;;;\\r\\n2021-9-26,2021-12-01,ryanmarksutherland,VIDEO,https://www.tiktok.com/@ryanmarksutherland/video/7012400629788265733?is_from_webapp=v1&lang=en,TikTok,Ayyyy,4,,CS;;;;;;;;;\\r\\n2021-9-26,2021-12-01,ryanmarksutherland,VIDEO,https://www.tiktok.com/@ryanmarksutherland/video/7012400629788265733?is_from_webapp=v1&lang=en,TikTok,How r u not verified,4,,CS;;;;;;;;;\\r\\n2021-9-2,2021-12-01,itssozer,VIDEO,https://www.tiktok.com/@itssozer/video/7003502008355278082?lang=en&is_copy_url=1&is_from_webapp=v1,TikTok,Yeah I know but that person I think is from America and they call uni college,4,,CS;;;;;;;;;\\r\\n2021-9-2,2021-12-01,itssozer,VIDEO,https://www.tiktok.com/@itssozer/video/7003502008355278082?lang=en&is_copy_url=1&is_from_webapp=v1,TikTok,14th,4,,CS;;;;;;;;;\\r\\n2021-9-2,2021-12-01,emilyballz,VIDEO,https://www.tiktok.com/@emilyballz/video/7003434464344870150?lang=en&is_copy_url=1&is_from_webapp=v1,TikTok,I\\'m to lazy to do homework,4,,CS;;;;;;;;;\\r\\n2021-8-27,2021-12-01,sarahrav,VIDEO,https://www.tiktok.com/@sarahrav/video/7001002356573752578?_d=secCgYIASAHKAESPgo8tMu0r4MbRgSe3A4aOx7CTY2zVqKgpkKjRA2zMDkxA7FgnjOWLpIhEzIwUhnSy42cjaFEbRJpN5o%2FjF3sGgA%3D&checksum=b2ac879f6a7b184db94193af32bc618831ad998110b336b208bb03217f1e7161&language=en&preview_pb=0&sec_user_id=MS4wLjABAAAAaXa4BGfx8fjVB9bjDYf-LnFzxLIrLN9HEf44LOywX3KRpmdKGVQcVHi0k-QTMwH1&share_app_id=1233&share_item_id=7001002356573752578&share_link_id=721ACA01-606D-4C44-8858-EFA016BDF2F2&source=h5_m&timestamp=1630099779&tt_from=copy&u_code=d9de51l2g219d3&user_id=6762679979047388166&utm_campaign=client_share&utm_medium=ios&utm_source=copy&_r=1,TikTok,A++ for great video,4,,CS;;;;;;;;;\\r\\n2021-9-21,2021-12-01,thatrelatablestudent,VIDEO,https://www.tiktok.com/@thatrelatablestudent/video/7010543731241733382?lang=en&is_copy_url=1&is_from_webapp=v1,TikTok,nah i\\'m too lazy for this omfg \\xf0\\x9f\\x98\\xad,4,,CS;;;;;;;;;\\r\\n2021-10-16,2021-12-01,lexistrechak,VIDEO,https://www.tiktok.com/foryou?is_from_webapp=v1&item_id=7019443237479861509&lang=en#/@lexistrechak/video/7019443237479861509,TikTok,nah that\\xe2\\x80\\x99s me on the second week of school,4,,CS;;;;;;;;;\\r\\n2021-9-11,2021-12-01,themccartys,VIDEO,https://www.tiktok.com/@themccartys/video/7006777814015855878?lang=en,TikTok,Audri has gotten so tall! And shared.,5,,CS;;;;;;;;;\\r\\n2021-9-11,2021-12-01,themccartys,VIDEO,https://www.tiktok.com/@themccartys/video/7006777814015855878?lang=en,TikTok,Who did you borrow that dress from \\xf0\\x9f\\x98\\x82\\xf0\\x9f\\x98\\x82\\xf0\\x9f\\x98\\x82,5,,CS;;;;;;;;;\\r\\n2021-10-11,2021-12-01,themccartys,VIDEO,https://www.tiktok.com/@themccartys/video/7017889678607142149?is_from_webapp=v1&lang=en,TikTok,far away from you that\\'s for sure,5,,CS;;;;;;;;;\\r\\n2021-10-11,2021-12-01,thelawerangela,VIDEO,https://www.tiktok.com/@thelawyerangela/video/7018016230283988230?is_from_webapp=v1&lang=en,TikTok,Girl just say youre getting paid for this :(,5,,CS;;;;;;;;;\\r\\n2021-10-11,2021-12-01,thelawerangela,VIDEO,https://www.tiktok.com/@thelawyerangela/video/7018016230283988230?is_from_webapp=v1&lang=en,TikTok,Chegg reports people for uploading homework (to their schools). Don\\xe2\\x80\\x99t waste your money. This is likely a sponsored advertisement.,5,,CS;;;;;;;;;\\r\\n2021-9-2,2021-12-01,itssozer,VIDEO,https://www.tiktok.com/@itssozer/video/7003502008355278082?lang=en&is_copy_url=1&is_from_webapp=v1,TikTok,1m and hi,5,,CS;;;;;;;;;\\r\\n2021-11-12,2021-12-01,sydneyserena,VIDEO,https://www.tiktok.com/@sydneyserena/video/7029840852591660293?lang=en&is_copy_url=1&is_from_webapp=v1,TikTok,hii,5,,CS;;;;;;;;;\\r\\n2021-10-16,2021-12-01,lexistrechak,VIDEO,https://www.tiktok.com/foryou?is_from_webapp=v1&item_id=7019443237479861509&lang=en#/@lexistrechak/video/7019443237479861509,TikTok,OMG I have a Physics test tomorrow \\xf0\\x9f\\x98\\x82\\xf0\\x9f\\xa5\\xba,5,,CS;;;;;;;;;\\r\\n2021-9-12,2021-12-01,espdaniella,VIDEO,https://www.tiktok.com/@espdaniella/video/7007109992926989574?lang=en,TikTok,#ad who has already used Chegg to help with school?,6,,CS;;;;;;;;;\\r\\n2021-8-28,2021-12-01,ryanmarksutherland,VIDEO,https://www.tiktok.com/@ryanmarksutherland/video/7001597800790117637?lang=en,TikTok,EARLY!,6,,CS;;;;;;;;;\\r\\n2021-8-28,2021-12-01,ryanmarksutherland,VIDEO,https://www.tiktok.com/@ryanmarksutherland/video/7001597800790117637?lang=en,TikTok,EARLYYY,6,,CS;;;;;;;;;\\r\\n2021-10-11,2021-12-01,themccartys,VIDEO,https://www.tiktok.com/@themccartys/video/7017889678607142149?is_from_webapp=v1&lang=en,TikTok,\\xe2\\x9d\\xa4\\xef\\xb8\\x8f,6,,CS;;;;;;;;;\\r\\n2021-10-11,2021-12-01,themccartys,VIDEO,https://www.tiktok.com/@themccartys/video/7017889678607142149?is_from_webapp=v1&lang=en,TikTok,You know you want to stick it to that kid,6,,CS;;;;;;;;;\\r\\n2021-10-11,2021-12-01,thelawerangela,VIDEO,https://www.tiktok.com/@thelawyerangela/video/7018016230283988230?is_from_webapp=v1&lang=en,TikTok,As a teacher we know when people cheating,6,,CS;;;;;;;;;\\r\\n2021-8-28,2021-12-01,ryanmarksutherland,VIDEO,https://www.tiktok.com/@ryanmarksutherland/video/7001597800790117637?lang=en,TikTok,its not sponsered,7,,CS;;;;;;;;;\\r\\n2021-10-11,2021-12-01,thelawerangela,VIDEO,https://www.tiktok.com/@thelawyerangela/video/7018016230283988230?is_from_webapp=v1&lang=en,TikTok,She\\'s getting paid for this ad,7,,CS;;;;;;;;;\\r\\n2021-9-2,2021-12-01,emilyballz,VIDEO,https://www.tiktok.com/@emilyballz/video/7003434464344870150?lang=en&is_copy_url=1&is_from_webapp=v1,TikTok,True but not the same as Chegg:) Chegg can help teach you where quizlets is for flash cards and memorization,7,,CS;;;;;;;;;\\r\\n2021-8-27,2021-12-01,sarahrav,VIDEO,https://www.tiktok.com/@sarahrav/video/7001002356573752578?_d=secCgYIASAHKAESPgo8tMu0r4MbRgSe3A4aOx7CTY2zVqKgpkKjRA2zMDkxA7FgnjOWLpIhEzIwUhnSy42cjaFEbRJpN5o%2FjF3sGgA%3D&checksum=b2ac879f6a7b184db94193af32bc618831ad998110b336b208bb03217f1e7161&language=en&preview_pb=0&sec_user_id=MS4wLjABAAAAaXa4BGfx8fjVB9bjDYf-LnFzxLIrLN9HEf44LOywX3KRpmdKGVQcVHi0k-QTMwH1&share_app_id=1233&share_item_id=7001002356573752578&share_link_id=721ACA01-606D-4C44-8858-EFA016BDF2F2&source=h5_m&timestamp=1630099779&tt_from=copy&u_code=d9de51l2g219d3&user_id=6762679979047388166&utm_campaign=client_share&utm_medium=ios&utm_source=copy&_r=1,TikTok,I was all about practice questions.,7,,CS;;;;;;;;;\\r\\n2021-8-28,2021-12-01,cloutom,VIDEO,https://www.tiktok.com/@cloutom/video/7001434701755862273?_d=secCgYIASAHKAESPgo8zdgjKZNzhBqRfcWHyCznvVbI7mwO3NoloOj%2BeH6CFlQ0nRma%2B5JjPVZoWaxJyvsLQDpgO6%2FPPAWFbSFjGgA%3D&checksum=3e47baf0c22546acc0c59dcf8ccb24761e9be53e28c17e8f8b5a3635ddf7a85c&language=en&preview_pb=0&sec_user_id=MS4wLjABAAAA6fGjpiJgOUc16EQDgC6If0CB1RKTnh19HVtAkcXMiwGolY9cjlf6bEnBaeXj8BS7&share_app_id=1233&share_item_id=7001434701755862273&share_link_id=C7CC82E6-B05F-4124-AF88-84DD659EA92F&source=h5_m&timestamp=1630149706&tt_from=copy&u_code=d2d8573m3574lf&user_id=6609029460412973062&utm_campaign=client_share&utm_medium=ios&utm_source=copy&_r=1,TikTok,Heyyyy,7,,CS;;;;;;;;;\\r\\n2021-9-21,2021-12-01,thatrelatablestudent,VIDEO,https://www.tiktok.com/@thatrelatablestudent/video/7010543731241733382?lang=en&is_copy_url=1&is_from_webapp=v1,TikTok,@itsthatrelatablestudent,7,,CS;;;;;;;;;\\r\\n2021-9-21,2021-12-01,thatrelatablestudent,VIDEO,https://www.tiktok.com/@thatrelatablestudent/video/7010543731241733382?lang=en&is_copy_url=1&is_from_webapp=v1,TikTok,what is your instagram,7,,CS;;;;;;;;;\\r\\n2021-11-19,2021-12-01,sarahbada_,VIDEO,https://www.tiktok.com/@sarahbada_/video/7032191393779010821?lang=en&is_copy_url=0&is_from_webapp=v1&sender_device=pc&sender_web_id=6986418500073326081,TikTok,The amount of times I wanted to use chegg but then decided not to pay and just struggle \\xf0\\x9f\\x98\\x82\\xf0\\x9f\\x98\\x82,7,,CS;;;;;;;;;\\r\\n2021-8-28,2021-12-01,ryanmarksutherland,VIDEO,https://www.tiktok.com/@ryanmarksutherland/video/7001597800790117637?lang=en,TikTok,AYYY,11,,CS;;;;;;;;;\\r\\n2021-8-28,2021-12-01,ryanmarksutherland,VIDEO,https://www.tiktok.com/@ryanmarksutherland/video/7001597800790117637?lang=en,TikTok,guys there is a 100% free app called oh my homework its rly good,11,,CS;;;;;;;;;\\r\\n2021-10-11,2021-12-01,themccartys,VIDEO,https://www.tiktok.com/@themccartys/video/7017889678607142149?is_from_webapp=v1&lang=en,TikTok,WHY THERE NO GIRLS OML\\xf0\\x9f\\x98\\x82,11,,CS;;;;;;;;;\\r\\n2021-10-11,2021-12-01,themccartys,VIDEO,https://www.tiktok.com/@themccartys/video/7017889678607142149?is_from_webapp=v1&lang=en,TikTok,Really good teacher\\xf0\\x9f\\xa5\\xb0! love,11,,CS;;;;;;;;;\\r\\n2021-9-2,2021-12-01,itssozer,VIDEO,https://www.tiktok.com/@itssozer/video/7003502008355278082?lang=en&is_copy_url=1&is_from_webapp=v1,TikTok,what\\'s UNI? College?,11,,CS;;;;;;;;;\\r\\n'}"
            ]
          },
          "metadata": {},
          "execution_count": 1
        }
      ],
      "source": [
        "from google.colab import files\n",
        "files.upload()"
      ]
    },
    {
      "cell_type": "code",
      "source": [
        "import nltk\n",
        "nltk.download('vader_lexicon')"
      ],
      "metadata": {
        "colab": {
          "base_uri": "https://localhost:8080/"
        },
        "id": "mnJX0L4kkBo8",
        "outputId": "c34cb376-d115-42b4-e340-6203f42bcf43"
      },
      "execution_count": 2,
      "outputs": [
        {
          "output_type": "stream",
          "name": "stdout",
          "text": [
            "[nltk_data] Downloading package vader_lexicon to /root/nltk_data...\n"
          ]
        },
        {
          "output_type": "execute_result",
          "data": {
            "text/plain": [
              "True"
            ]
          },
          "metadata": {},
          "execution_count": 2
        }
      ]
    },
    {
      "cell_type": "code",
      "source": [
        "from nltk.sentiment.vader import SentimentIntensityAnalyzer\n",
        "\n",
        "sid = SentimentIntensityAnalyzer()"
      ],
      "metadata": {
        "colab": {
          "base_uri": "https://localhost:8080/"
        },
        "id": "FdCKxzKtkQjW",
        "outputId": "b0a3ac2e-865c-4b0c-dd44-00a8f520817c"
      },
      "execution_count": 3,
      "outputs": [
        {
          "output_type": "stream",
          "name": "stderr",
          "text": [
            "/usr/local/lib/python3.7/dist-packages/nltk/twitter/__init__.py:20: UserWarning: The twython library has not been installed. Some functionality from the twitter package will not be available.\n",
            "  warnings.warn(\"The twython library has not been installed. \"\n"
          ]
        }
      ]
    },
    {
      "cell_type": "markdown",
      "source": [
        "vADER’s SentimentIntensityAnalyzer() takes in a string and returns a dictionary of scores in each of four categories:\n",
        "negative\n",
        "neutral\n",
        "positive\n",
        "compound (computed by normalizing the scores above"
      ],
      "metadata": {
        "id": "wEsVepjvkSzG"
      }
    },
    {
      "cell_type": "code",
      "source": [
        "a = 'This was a good movie.'\n",
        "sid.polarity_scores(a)\n",
        "\n",
        "a = 'This was the best, most awesome movie EVER MADE!!!'\n",
        "sid.polarity_scores(a)\n"
      ],
      "metadata": {
        "colab": {
          "base_uri": "https://localhost:8080/"
        },
        "id": "nKyu7gb_kXtC",
        "outputId": "f1a3652a-3009-4e93-f164-e6bb4f2250ea"
      },
      "execution_count": 4,
      "outputs": [
        {
          "output_type": "execute_result",
          "data": {
            "text/plain": [
              "{'compound': 0.8877, 'neg': 0.0, 'neu': 0.425, 'pos': 0.575}"
            ]
          },
          "metadata": {},
          "execution_count": 4
        }
      ]
    },
    {
      "cell_type": "code",
      "source": [
        "import numpy as np\n",
        "import pandas as pd\n",
        "df = pd.read_csv('analisis_comments_tiktok.csv')\n",
        "df.head()"
      ],
      "metadata": {
        "colab": {
          "base_uri": "https://localhost:8080/",
          "height": 513
        },
        "id": "8ulp2CxHkaib",
        "outputId": "1c8a05aa-81bc-4236-c708-1008eeb688d8"
      },
      "execution_count": 5,
      "outputs": [
        {
          "output_type": "execute_result",
          "data": {
            "text/html": [
              "\n",
              "  <div id=\"df-e959b2d1-4434-41f8-a03e-f3e6adf5e776\">\n",
              "    <div class=\"colab-df-container\">\n",
              "      <div>\n",
              "<style scoped>\n",
              "    .dataframe tbody tr th:only-of-type {\n",
              "        vertical-align: middle;\n",
              "    }\n",
              "\n",
              "    .dataframe tbody tr th {\n",
              "        vertical-align: top;\n",
              "    }\n",
              "\n",
              "    .dataframe thead th {\n",
              "        text-align: right;\n",
              "    }\n",
              "</style>\n",
              "<table border=\"1\" class=\"dataframe\">\n",
              "  <thead>\n",
              "    <tr style=\"text-align: right;\">\n",
              "      <th></th>\n",
              "      <th>date_post</th>\n",
              "      <th>date_extraction</th>\n",
              "      <th>influencer</th>\n",
              "      <th>post_type</th>\n",
              "      <th>post_url</th>\n",
              "      <th>platform</th>\n",
              "      <th>comment</th>\n",
              "      <th>comment_likecount</th>\n",
              "      <th>replies</th>\n",
              "      <th>BU;;;;;;;;;</th>\n",
              "    </tr>\n",
              "  </thead>\n",
              "  <tbody>\n",
              "    <tr>\n",
              "      <th>0</th>\n",
              "      <td>2021-9-12,2021-12-01,espdaniella,VIDEO,https:/...</td>\n",
              "      <td>NaN</td>\n",
              "      <td>NaN</td>\n",
              "      <td>NaN</td>\n",
              "      <td>NaN</td>\n",
              "      <td>NaN</td>\n",
              "      <td>NaN</td>\n",
              "      <td>NaN</td>\n",
              "      <td>NaN</td>\n",
              "      <td>NaN</td>\n",
              "    </tr>\n",
              "    <tr>\n",
              "      <th>1</th>\n",
              "      <td>2021-9-12</td>\n",
              "      <td>2021-12-01</td>\n",
              "      <td>espdaniella</td>\n",
              "      <td>VIDEO</td>\n",
              "      <td>https://www.tiktok.com/@espdaniella/video/7007...</td>\n",
              "      <td>TikTok</td>\n",
              "      <td>it’s not good chegg apparently rats out on stu...</td>\n",
              "      <td>14</td>\n",
              "      <td>NaN</td>\n",
              "      <td>CS;;;;;;;;;</td>\n",
              "    </tr>\n",
              "    <tr>\n",
              "      <th>2</th>\n",
              "      <td>2021-9-11,2021-12-01,themccartys,VIDEO,https:/...</td>\n",
              "      <td>NaN</td>\n",
              "      <td>NaN</td>\n",
              "      <td>NaN</td>\n",
              "      <td>NaN</td>\n",
              "      <td>NaN</td>\n",
              "      <td>NaN</td>\n",
              "      <td>NaN</td>\n",
              "      <td>NaN</td>\n",
              "      <td>NaN</td>\n",
              "    </tr>\n",
              "    <tr>\n",
              "      <th>3</th>\n",
              "      <td>2021-9-11</td>\n",
              "      <td>2021-12-01</td>\n",
              "      <td>themccartys</td>\n",
              "      <td>VIDEO</td>\n",
              "      <td>https://www.tiktok.com/@themccartys/video/7006...</td>\n",
              "      <td>TikTok</td>\n",
              "      <td>I hope Audri looks different at that age</td>\n",
              "      <td>71</td>\n",
              "      <td>NaN</td>\n",
              "      <td>CS;;;;;;;;;</td>\n",
              "    </tr>\n",
              "    <tr>\n",
              "      <th>4</th>\n",
              "      <td>2021-9-11</td>\n",
              "      <td>2021-12-01</td>\n",
              "      <td>themccartys</td>\n",
              "      <td>VIDEO</td>\n",
              "      <td>https://www.tiktok.com/@themccartys/video/7006...</td>\n",
              "      <td>TikTok</td>\n",
              "      <td>I absolutely love it!</td>\n",
              "      <td>26</td>\n",
              "      <td>NaN</td>\n",
              "      <td>CS;;;;;;;;;</td>\n",
              "    </tr>\n",
              "  </tbody>\n",
              "</table>\n",
              "</div>\n",
              "      <button class=\"colab-df-convert\" onclick=\"convertToInteractive('df-e959b2d1-4434-41f8-a03e-f3e6adf5e776')\"\n",
              "              title=\"Convert this dataframe to an interactive table.\"\n",
              "              style=\"display:none;\">\n",
              "        \n",
              "  <svg xmlns=\"http://www.w3.org/2000/svg\" height=\"24px\"viewBox=\"0 0 24 24\"\n",
              "       width=\"24px\">\n",
              "    <path d=\"M0 0h24v24H0V0z\" fill=\"none\"/>\n",
              "    <path d=\"M18.56 5.44l.94 2.06.94-2.06 2.06-.94-2.06-.94-.94-2.06-.94 2.06-2.06.94zm-11 1L8.5 8.5l.94-2.06 2.06-.94-2.06-.94L8.5 2.5l-.94 2.06-2.06.94zm10 10l.94 2.06.94-2.06 2.06-.94-2.06-.94-.94-2.06-.94 2.06-2.06.94z\"/><path d=\"M17.41 7.96l-1.37-1.37c-.4-.4-.92-.59-1.43-.59-.52 0-1.04.2-1.43.59L10.3 9.45l-7.72 7.72c-.78.78-.78 2.05 0 2.83L4 21.41c.39.39.9.59 1.41.59.51 0 1.02-.2 1.41-.59l7.78-7.78 2.81-2.81c.8-.78.8-2.07 0-2.86zM5.41 20L4 18.59l7.72-7.72 1.47 1.35L5.41 20z\"/>\n",
              "  </svg>\n",
              "      </button>\n",
              "      \n",
              "  <style>\n",
              "    .colab-df-container {\n",
              "      display:flex;\n",
              "      flex-wrap:wrap;\n",
              "      gap: 12px;\n",
              "    }\n",
              "\n",
              "    .colab-df-convert {\n",
              "      background-color: #E8F0FE;\n",
              "      border: none;\n",
              "      border-radius: 50%;\n",
              "      cursor: pointer;\n",
              "      display: none;\n",
              "      fill: #1967D2;\n",
              "      height: 32px;\n",
              "      padding: 0 0 0 0;\n",
              "      width: 32px;\n",
              "    }\n",
              "\n",
              "    .colab-df-convert:hover {\n",
              "      background-color: #E2EBFA;\n",
              "      box-shadow: 0px 1px 2px rgba(60, 64, 67, 0.3), 0px 1px 3px 1px rgba(60, 64, 67, 0.15);\n",
              "      fill: #174EA6;\n",
              "    }\n",
              "\n",
              "    [theme=dark] .colab-df-convert {\n",
              "      background-color: #3B4455;\n",
              "      fill: #D2E3FC;\n",
              "    }\n",
              "\n",
              "    [theme=dark] .colab-df-convert:hover {\n",
              "      background-color: #434B5C;\n",
              "      box-shadow: 0px 1px 3px 1px rgba(0, 0, 0, 0.15);\n",
              "      filter: drop-shadow(0px 1px 2px rgba(0, 0, 0, 0.3));\n",
              "      fill: #FFFFFF;\n",
              "    }\n",
              "  </style>\n",
              "\n",
              "      <script>\n",
              "        const buttonEl =\n",
              "          document.querySelector('#df-e959b2d1-4434-41f8-a03e-f3e6adf5e776 button.colab-df-convert');\n",
              "        buttonEl.style.display =\n",
              "          google.colab.kernel.accessAllowed ? 'block' : 'none';\n",
              "\n",
              "        async function convertToInteractive(key) {\n",
              "          const element = document.querySelector('#df-e959b2d1-4434-41f8-a03e-f3e6adf5e776');\n",
              "          const dataTable =\n",
              "            await google.colab.kernel.invokeFunction('convertToInteractive',\n",
              "                                                     [key], {});\n",
              "          if (!dataTable) return;\n",
              "\n",
              "          const docLinkHtml = 'Like what you see? Visit the ' +\n",
              "            '<a target=\"_blank\" href=https://colab.research.google.com/notebooks/data_table.ipynb>data table notebook</a>'\n",
              "            + ' to learn more about interactive tables.';\n",
              "          element.innerHTML = '';\n",
              "          dataTable['output_type'] = 'display_data';\n",
              "          await google.colab.output.renderOutput(dataTable, element);\n",
              "          const docLink = document.createElement('div');\n",
              "          docLink.innerHTML = docLinkHtml;\n",
              "          element.appendChild(docLink);\n",
              "        }\n",
              "      </script>\n",
              "    </div>\n",
              "  </div>\n",
              "  "
            ],
            "text/plain": [
              "                                           date_post  ...  BU;;;;;;;;;\n",
              "0  2021-9-12,2021-12-01,espdaniella,VIDEO,https:/...  ...          NaN\n",
              "1                                          2021-9-12  ...  CS;;;;;;;;;\n",
              "2  2021-9-11,2021-12-01,themccartys,VIDEO,https:/...  ...          NaN\n",
              "3                                          2021-9-11  ...  CS;;;;;;;;;\n",
              "4                                          2021-9-11  ...  CS;;;;;;;;;\n",
              "\n",
              "[5 rows x 10 columns]"
            ]
          },
          "metadata": {},
          "execution_count": 5
        }
      ]
    },
    {
      "cell_type": "code",
      "source": [
        "df['scores'] = df['comment'].apply(lambda review: sid.polarity_scores(review))\n",
        "\n",
        "df.head()"
      ],
      "metadata": {
        "colab": {
          "base_uri": "https://localhost:8080/",
          "height": 790
        },
        "id": "iGys9WAtkpmh",
        "outputId": "5e9b8b25-4cd7-494f-c0f4-837e206967da"
      },
      "execution_count": 8,
      "outputs": [
        {
          "output_type": "execute_result",
          "data": {
            "text/html": [
              "\n",
              "  <div id=\"df-a3a46962-502d-481d-87af-118c30db3b81\">\n",
              "    <div class=\"colab-df-container\">\n",
              "      <div>\n",
              "<style scoped>\n",
              "    .dataframe tbody tr th:only-of-type {\n",
              "        vertical-align: middle;\n",
              "    }\n",
              "\n",
              "    .dataframe tbody tr th {\n",
              "        vertical-align: top;\n",
              "    }\n",
              "\n",
              "    .dataframe thead th {\n",
              "        text-align: right;\n",
              "    }\n",
              "</style>\n",
              "<table border=\"1\" class=\"dataframe\">\n",
              "  <thead>\n",
              "    <tr style=\"text-align: right;\">\n",
              "      <th></th>\n",
              "      <th>date_post</th>\n",
              "      <th>date_extraction</th>\n",
              "      <th>influencer</th>\n",
              "      <th>post_type</th>\n",
              "      <th>post_url</th>\n",
              "      <th>platform</th>\n",
              "      <th>comment</th>\n",
              "      <th>comment_likecount</th>\n",
              "      <th>replies</th>\n",
              "      <th>BU;;;;;;;;;</th>\n",
              "      <th>scores</th>\n",
              "    </tr>\n",
              "  </thead>\n",
              "  <tbody>\n",
              "    <tr>\n",
              "      <th>41</th>\n",
              "      <td>2021-10-14</td>\n",
              "      <td>2021-12-15</td>\n",
              "      <td>JJ Medicine</td>\n",
              "      <td>VIDEO</td>\n",
              "      <td>https://www.youtube.com/watch?v=FwiaoKrdzx4</td>\n",
              "      <td>Youtube</td>\n",
              "      <td>I&amp;#39;ve heard this often goes with anciety/ d...</td>\n",
              "      <td>0</td>\n",
              "      <td>I too had mono...ever since high Epstein bar l...</td>\n",
              "      <td>CS;;;;;</td>\n",
              "      <td>{'neg': 0.286, 'neu': 0.714, 'pos': 0.0, 'comp...</td>\n",
              "    </tr>\n",
              "    <tr>\n",
              "      <th>51</th>\n",
              "      <td>2021-10-14</td>\n",
              "      <td>2021-12-15</td>\n",
              "      <td>JJ Medicine</td>\n",
              "      <td>VIDEO</td>\n",
              "      <td>https://www.youtube.com/watch?v=FwiaoKrdzx4</td>\n",
              "      <td>Youtube</td>\n",
              "      <td>Falling asleep whilst watching this....zzzzzzzzx</td>\n",
              "      <td>0</td>\n",
              "      <td>Coffee 😁😁</td>\n",
              "      <td>CS;;;;;;;;;</td>\n",
              "      <td>{'neg': 0.286, 'neu': 0.714, 'pos': 0.0, 'comp...</td>\n",
              "    </tr>\n",
              "    <tr>\n",
              "      <th>56</th>\n",
              "      <td>2021-10-14</td>\n",
              "      <td>2021-12-15</td>\n",
              "      <td>JJ Medicine</td>\n",
              "      <td>VIDEO</td>\n",
              "      <td>https://www.youtube.com/watch?v=FwiaoKrdzx4</td>\n",
              "      <td>Youtube</td>\n",
              "      <td>Falling asleep whilst watching this....zzzzzzzzx</td>\n",
              "      <td>0</td>\n",
              "      <td>While?</td>\n",
              "      <td>CS;;;;;;;;;</td>\n",
              "      <td>{'neg': 0.286, 'neu': 0.714, 'pos': 0.0, 'comp...</td>\n",
              "    </tr>\n",
              "    <tr>\n",
              "      <th>89</th>\n",
              "      <td>2021-11-22</td>\n",
              "      <td>2021-12-15</td>\n",
              "      <td>ninjanerdscience</td>\n",
              "      <td>VIDEO</td>\n",
              "      <td>https://www.youtube.com/watch?v=UJw2WUtHLIk</td>\n",
              "      <td>Youtube</td>\n",
              "      <td>Ninja nerd I&amp;#39;m so happy that you choose th...</td>\n",
              "      <td>0</td>\n",
              "      <td>Ulcerative Colitis is next to be released! Hop...</td>\n",
              "      <td>CS;;;;;;;;</td>\n",
              "      <td>{'neg': 0.068, 'neu': 0.622, 'pos': 0.31, 'com...</td>\n",
              "    </tr>\n",
              "    <tr>\n",
              "      <th>96</th>\n",
              "      <td>2021-11-22,2021-12-15,ninjanerdscience,VIDEO,h...</td>\n",
              "      <td>ad many other diseases.  What&amp;#39;s the word ...</td>\n",
              "      <td>as usual</td>\n",
              "      <td>it&amp;#39;\"s hard to distinguish cause from effe...</td>\n",
              "      <td>it seems that substantial D3 supplementation ...</td>\n",
              "      <td>0</td>\n",
              "      <td>That’s interesting. I’m a nurse on a GI ward a...</td>\n",
              "      <td>it maybe causation</td>\n",
              "      <td>it may be just me looking out for it.\"\"</td>\n",
              "      <td>CS\";;;;;;</td>\n",
              "      <td>{'neg': 0.0, 'neu': 0.915, 'pos': 0.085, 'comp...</td>\n",
              "    </tr>\n",
              "  </tbody>\n",
              "</table>\n",
              "</div>\n",
              "      <button class=\"colab-df-convert\" onclick=\"convertToInteractive('df-a3a46962-502d-481d-87af-118c30db3b81')\"\n",
              "              title=\"Convert this dataframe to an interactive table.\"\n",
              "              style=\"display:none;\">\n",
              "        \n",
              "  <svg xmlns=\"http://www.w3.org/2000/svg\" height=\"24px\"viewBox=\"0 0 24 24\"\n",
              "       width=\"24px\">\n",
              "    <path d=\"M0 0h24v24H0V0z\" fill=\"none\"/>\n",
              "    <path d=\"M18.56 5.44l.94 2.06.94-2.06 2.06-.94-2.06-.94-.94-2.06-.94 2.06-2.06.94zm-11 1L8.5 8.5l.94-2.06 2.06-.94-2.06-.94L8.5 2.5l-.94 2.06-2.06.94zm10 10l.94 2.06.94-2.06 2.06-.94-2.06-.94-.94-2.06-.94 2.06-2.06.94z\"/><path d=\"M17.41 7.96l-1.37-1.37c-.4-.4-.92-.59-1.43-.59-.52 0-1.04.2-1.43.59L10.3 9.45l-7.72 7.72c-.78.78-.78 2.05 0 2.83L4 21.41c.39.39.9.59 1.41.59.51 0 1.02-.2 1.41-.59l7.78-7.78 2.81-2.81c.8-.78.8-2.07 0-2.86zM5.41 20L4 18.59l7.72-7.72 1.47 1.35L5.41 20z\"/>\n",
              "  </svg>\n",
              "      </button>\n",
              "      \n",
              "  <style>\n",
              "    .colab-df-container {\n",
              "      display:flex;\n",
              "      flex-wrap:wrap;\n",
              "      gap: 12px;\n",
              "    }\n",
              "\n",
              "    .colab-df-convert {\n",
              "      background-color: #E8F0FE;\n",
              "      border: none;\n",
              "      border-radius: 50%;\n",
              "      cursor: pointer;\n",
              "      display: none;\n",
              "      fill: #1967D2;\n",
              "      height: 32px;\n",
              "      padding: 0 0 0 0;\n",
              "      width: 32px;\n",
              "    }\n",
              "\n",
              "    .colab-df-convert:hover {\n",
              "      background-color: #E2EBFA;\n",
              "      box-shadow: 0px 1px 2px rgba(60, 64, 67, 0.3), 0px 1px 3px 1px rgba(60, 64, 67, 0.15);\n",
              "      fill: #174EA6;\n",
              "    }\n",
              "\n",
              "    [theme=dark] .colab-df-convert {\n",
              "      background-color: #3B4455;\n",
              "      fill: #D2E3FC;\n",
              "    }\n",
              "\n",
              "    [theme=dark] .colab-df-convert:hover {\n",
              "      background-color: #434B5C;\n",
              "      box-shadow: 0px 1px 3px 1px rgba(0, 0, 0, 0.15);\n",
              "      filter: drop-shadow(0px 1px 2px rgba(0, 0, 0, 0.3));\n",
              "      fill: #FFFFFF;\n",
              "    }\n",
              "  </style>\n",
              "\n",
              "      <script>\n",
              "        const buttonEl =\n",
              "          document.querySelector('#df-a3a46962-502d-481d-87af-118c30db3b81 button.colab-df-convert');\n",
              "        buttonEl.style.display =\n",
              "          google.colab.kernel.accessAllowed ? 'block' : 'none';\n",
              "\n",
              "        async function convertToInteractive(key) {\n",
              "          const element = document.querySelector('#df-a3a46962-502d-481d-87af-118c30db3b81');\n",
              "          const dataTable =\n",
              "            await google.colab.kernel.invokeFunction('convertToInteractive',\n",
              "                                                     [key], {});\n",
              "          if (!dataTable) return;\n",
              "\n",
              "          const docLinkHtml = 'Like what you see? Visit the ' +\n",
              "            '<a target=\"_blank\" href=https://colab.research.google.com/notebooks/data_table.ipynb>data table notebook</a>'\n",
              "            + ' to learn more about interactive tables.';\n",
              "          element.innerHTML = '';\n",
              "          dataTable['output_type'] = 'display_data';\n",
              "          await google.colab.output.renderOutput(dataTable, element);\n",
              "          const docLink = document.createElement('div');\n",
              "          docLink.innerHTML = docLinkHtml;\n",
              "          element.appendChild(docLink);\n",
              "        }\n",
              "      </script>\n",
              "    </div>\n",
              "  </div>\n",
              "  "
            ],
            "text/plain": [
              "                                            date_post  ...                                             scores\n",
              "41                                         2021-10-14  ...  {'neg': 0.286, 'neu': 0.714, 'pos': 0.0, 'comp...\n",
              "51                                         2021-10-14  ...  {'neg': 0.286, 'neu': 0.714, 'pos': 0.0, 'comp...\n",
              "56                                         2021-10-14  ...  {'neg': 0.286, 'neu': 0.714, 'pos': 0.0, 'comp...\n",
              "89                                         2021-11-22  ...  {'neg': 0.068, 'neu': 0.622, 'pos': 0.31, 'com...\n",
              "96  2021-11-22,2021-12-15,ninjanerdscience,VIDEO,h...  ...  {'neg': 0.0, 'neu': 0.915, 'pos': 0.085, 'comp...\n",
              "\n",
              "[5 rows x 11 columns]"
            ]
          },
          "metadata": {},
          "execution_count": 8
        }
      ]
    },
    {
      "cell_type": "code",
      "source": [
        "df['compound']  = df['scores'].apply(lambda score_dict: score_dict['compound'])\n",
        "\n",
        "df.head()"
      ],
      "metadata": {
        "colab": {
          "base_uri": "https://localhost:8080/",
          "height": 790
        },
        "id": "emBaJLBNk1vs",
        "outputId": "3380a7eb-2b25-47de-a51f-7a37a078d88d"
      },
      "execution_count": 9,
      "outputs": [
        {
          "output_type": "execute_result",
          "data": {
            "text/html": [
              "\n",
              "  <div id=\"df-0db7ad3f-4a45-4c82-870f-13ce500d8cd2\">\n",
              "    <div class=\"colab-df-container\">\n",
              "      <div>\n",
              "<style scoped>\n",
              "    .dataframe tbody tr th:only-of-type {\n",
              "        vertical-align: middle;\n",
              "    }\n",
              "\n",
              "    .dataframe tbody tr th {\n",
              "        vertical-align: top;\n",
              "    }\n",
              "\n",
              "    .dataframe thead th {\n",
              "        text-align: right;\n",
              "    }\n",
              "</style>\n",
              "<table border=\"1\" class=\"dataframe\">\n",
              "  <thead>\n",
              "    <tr style=\"text-align: right;\">\n",
              "      <th></th>\n",
              "      <th>date_post</th>\n",
              "      <th>date_extraction</th>\n",
              "      <th>influencer</th>\n",
              "      <th>post_type</th>\n",
              "      <th>post_url</th>\n",
              "      <th>platform</th>\n",
              "      <th>comment</th>\n",
              "      <th>comment_likecount</th>\n",
              "      <th>replies</th>\n",
              "      <th>BU;;;;;;;;;</th>\n",
              "      <th>scores</th>\n",
              "      <th>compound</th>\n",
              "    </tr>\n",
              "  </thead>\n",
              "  <tbody>\n",
              "    <tr>\n",
              "      <th>41</th>\n",
              "      <td>2021-10-14</td>\n",
              "      <td>2021-12-15</td>\n",
              "      <td>JJ Medicine</td>\n",
              "      <td>VIDEO</td>\n",
              "      <td>https://www.youtube.com/watch?v=FwiaoKrdzx4</td>\n",
              "      <td>Youtube</td>\n",
              "      <td>I&amp;#39;ve heard this often goes with anciety/ d...</td>\n",
              "      <td>0</td>\n",
              "      <td>I too had mono...ever since high Epstein bar l...</td>\n",
              "      <td>CS;;;;;</td>\n",
              "      <td>{'neg': 0.286, 'neu': 0.714, 'pos': 0.0, 'comp...</td>\n",
              "      <td>-0.7783</td>\n",
              "    </tr>\n",
              "    <tr>\n",
              "      <th>51</th>\n",
              "      <td>2021-10-14</td>\n",
              "      <td>2021-12-15</td>\n",
              "      <td>JJ Medicine</td>\n",
              "      <td>VIDEO</td>\n",
              "      <td>https://www.youtube.com/watch?v=FwiaoKrdzx4</td>\n",
              "      <td>Youtube</td>\n",
              "      <td>Falling asleep whilst watching this....zzzzzzzzx</td>\n",
              "      <td>0</td>\n",
              "      <td>Coffee 😁😁</td>\n",
              "      <td>CS;;;;;;;;;</td>\n",
              "      <td>{'neg': 0.286, 'neu': 0.714, 'pos': 0.0, 'comp...</td>\n",
              "      <td>-0.1531</td>\n",
              "    </tr>\n",
              "    <tr>\n",
              "      <th>56</th>\n",
              "      <td>2021-10-14</td>\n",
              "      <td>2021-12-15</td>\n",
              "      <td>JJ Medicine</td>\n",
              "      <td>VIDEO</td>\n",
              "      <td>https://www.youtube.com/watch?v=FwiaoKrdzx4</td>\n",
              "      <td>Youtube</td>\n",
              "      <td>Falling asleep whilst watching this....zzzzzzzzx</td>\n",
              "      <td>0</td>\n",
              "      <td>While?</td>\n",
              "      <td>CS;;;;;;;;;</td>\n",
              "      <td>{'neg': 0.286, 'neu': 0.714, 'pos': 0.0, 'comp...</td>\n",
              "      <td>-0.1531</td>\n",
              "    </tr>\n",
              "    <tr>\n",
              "      <th>89</th>\n",
              "      <td>2021-11-22</td>\n",
              "      <td>2021-12-15</td>\n",
              "      <td>ninjanerdscience</td>\n",
              "      <td>VIDEO</td>\n",
              "      <td>https://www.youtube.com/watch?v=UJw2WUtHLIk</td>\n",
              "      <td>Youtube</td>\n",
              "      <td>Ninja nerd I&amp;#39;m so happy that you choose th...</td>\n",
              "      <td>0</td>\n",
              "      <td>Ulcerative Colitis is next to be released! Hop...</td>\n",
              "      <td>CS;;;;;;;;</td>\n",
              "      <td>{'neg': 0.068, 'neu': 0.622, 'pos': 0.31, 'com...</td>\n",
              "      <td>0.8303</td>\n",
              "    </tr>\n",
              "    <tr>\n",
              "      <th>96</th>\n",
              "      <td>2021-11-22,2021-12-15,ninjanerdscience,VIDEO,h...</td>\n",
              "      <td>ad many other diseases.  What&amp;#39;s the word ...</td>\n",
              "      <td>as usual</td>\n",
              "      <td>it&amp;#39;\"s hard to distinguish cause from effe...</td>\n",
              "      <td>it seems that substantial D3 supplementation ...</td>\n",
              "      <td>0</td>\n",
              "      <td>That’s interesting. I’m a nurse on a GI ward a...</td>\n",
              "      <td>it maybe causation</td>\n",
              "      <td>it may be just me looking out for it.\"\"</td>\n",
              "      <td>CS\";;;;;;</td>\n",
              "      <td>{'neg': 0.0, 'neu': 0.915, 'pos': 0.085, 'comp...</td>\n",
              "      <td>0.4019</td>\n",
              "    </tr>\n",
              "  </tbody>\n",
              "</table>\n",
              "</div>\n",
              "      <button class=\"colab-df-convert\" onclick=\"convertToInteractive('df-0db7ad3f-4a45-4c82-870f-13ce500d8cd2')\"\n",
              "              title=\"Convert this dataframe to an interactive table.\"\n",
              "              style=\"display:none;\">\n",
              "        \n",
              "  <svg xmlns=\"http://www.w3.org/2000/svg\" height=\"24px\"viewBox=\"0 0 24 24\"\n",
              "       width=\"24px\">\n",
              "    <path d=\"M0 0h24v24H0V0z\" fill=\"none\"/>\n",
              "    <path d=\"M18.56 5.44l.94 2.06.94-2.06 2.06-.94-2.06-.94-.94-2.06-.94 2.06-2.06.94zm-11 1L8.5 8.5l.94-2.06 2.06-.94-2.06-.94L8.5 2.5l-.94 2.06-2.06.94zm10 10l.94 2.06.94-2.06 2.06-.94-2.06-.94-.94-2.06-.94 2.06-2.06.94z\"/><path d=\"M17.41 7.96l-1.37-1.37c-.4-.4-.92-.59-1.43-.59-.52 0-1.04.2-1.43.59L10.3 9.45l-7.72 7.72c-.78.78-.78 2.05 0 2.83L4 21.41c.39.39.9.59 1.41.59.51 0 1.02-.2 1.41-.59l7.78-7.78 2.81-2.81c.8-.78.8-2.07 0-2.86zM5.41 20L4 18.59l7.72-7.72 1.47 1.35L5.41 20z\"/>\n",
              "  </svg>\n",
              "      </button>\n",
              "      \n",
              "  <style>\n",
              "    .colab-df-container {\n",
              "      display:flex;\n",
              "      flex-wrap:wrap;\n",
              "      gap: 12px;\n",
              "    }\n",
              "\n",
              "    .colab-df-convert {\n",
              "      background-color: #E8F0FE;\n",
              "      border: none;\n",
              "      border-radius: 50%;\n",
              "      cursor: pointer;\n",
              "      display: none;\n",
              "      fill: #1967D2;\n",
              "      height: 32px;\n",
              "      padding: 0 0 0 0;\n",
              "      width: 32px;\n",
              "    }\n",
              "\n",
              "    .colab-df-convert:hover {\n",
              "      background-color: #E2EBFA;\n",
              "      box-shadow: 0px 1px 2px rgba(60, 64, 67, 0.3), 0px 1px 3px 1px rgba(60, 64, 67, 0.15);\n",
              "      fill: #174EA6;\n",
              "    }\n",
              "\n",
              "    [theme=dark] .colab-df-convert {\n",
              "      background-color: #3B4455;\n",
              "      fill: #D2E3FC;\n",
              "    }\n",
              "\n",
              "    [theme=dark] .colab-df-convert:hover {\n",
              "      background-color: #434B5C;\n",
              "      box-shadow: 0px 1px 3px 1px rgba(0, 0, 0, 0.15);\n",
              "      filter: drop-shadow(0px 1px 2px rgba(0, 0, 0, 0.3));\n",
              "      fill: #FFFFFF;\n",
              "    }\n",
              "  </style>\n",
              "\n",
              "      <script>\n",
              "        const buttonEl =\n",
              "          document.querySelector('#df-0db7ad3f-4a45-4c82-870f-13ce500d8cd2 button.colab-df-convert');\n",
              "        buttonEl.style.display =\n",
              "          google.colab.kernel.accessAllowed ? 'block' : 'none';\n",
              "\n",
              "        async function convertToInteractive(key) {\n",
              "          const element = document.querySelector('#df-0db7ad3f-4a45-4c82-870f-13ce500d8cd2');\n",
              "          const dataTable =\n",
              "            await google.colab.kernel.invokeFunction('convertToInteractive',\n",
              "                                                     [key], {});\n",
              "          if (!dataTable) return;\n",
              "\n",
              "          const docLinkHtml = 'Like what you see? Visit the ' +\n",
              "            '<a target=\"_blank\" href=https://colab.research.google.com/notebooks/data_table.ipynb>data table notebook</a>'\n",
              "            + ' to learn more about interactive tables.';\n",
              "          element.innerHTML = '';\n",
              "          dataTable['output_type'] = 'display_data';\n",
              "          await google.colab.output.renderOutput(dataTable, element);\n",
              "          const docLink = document.createElement('div');\n",
              "          docLink.innerHTML = docLinkHtml;\n",
              "          element.appendChild(docLink);\n",
              "        }\n",
              "      </script>\n",
              "    </div>\n",
              "  </div>\n",
              "  "
            ],
            "text/plain": [
              "                                            date_post  ... compound\n",
              "41                                         2021-10-14  ...  -0.7783\n",
              "51                                         2021-10-14  ...  -0.1531\n",
              "56                                         2021-10-14  ...  -0.1531\n",
              "89                                         2021-11-22  ...   0.8303\n",
              "96  2021-11-22,2021-12-15,ninjanerdscience,VIDEO,h...  ...   0.4019\n",
              "\n",
              "[5 rows x 12 columns]"
            ]
          },
          "metadata": {},
          "execution_count": 9
        }
      ]
    },
    {
      "cell_type": "code",
      "source": [
        "df['comp_score'] = df['compound'].apply(lambda c: 'pos' if c >=0 else 'neg')\n",
        "\n",
        "df.head()\n",
        "\n"
      ],
      "metadata": {
        "colab": {
          "base_uri": "https://localhost:8080/",
          "height": 790
        },
        "id": "pm8wlUk6k4JQ",
        "outputId": "38c83f97-0add-4f91-bd52-9246046a9406"
      },
      "execution_count": 10,
      "outputs": [
        {
          "output_type": "execute_result",
          "data": {
            "text/html": [
              "\n",
              "  <div id=\"df-e65b67e1-42f3-4553-83a0-b97600c5b2c7\">\n",
              "    <div class=\"colab-df-container\">\n",
              "      <div>\n",
              "<style scoped>\n",
              "    .dataframe tbody tr th:only-of-type {\n",
              "        vertical-align: middle;\n",
              "    }\n",
              "\n",
              "    .dataframe tbody tr th {\n",
              "        vertical-align: top;\n",
              "    }\n",
              "\n",
              "    .dataframe thead th {\n",
              "        text-align: right;\n",
              "    }\n",
              "</style>\n",
              "<table border=\"1\" class=\"dataframe\">\n",
              "  <thead>\n",
              "    <tr style=\"text-align: right;\">\n",
              "      <th></th>\n",
              "      <th>date_post</th>\n",
              "      <th>date_extraction</th>\n",
              "      <th>influencer</th>\n",
              "      <th>post_type</th>\n",
              "      <th>post_url</th>\n",
              "      <th>platform</th>\n",
              "      <th>comment</th>\n",
              "      <th>comment_likecount</th>\n",
              "      <th>replies</th>\n",
              "      <th>BU;;;;;;;;;</th>\n",
              "      <th>scores</th>\n",
              "      <th>compound</th>\n",
              "      <th>comp_score</th>\n",
              "    </tr>\n",
              "  </thead>\n",
              "  <tbody>\n",
              "    <tr>\n",
              "      <th>41</th>\n",
              "      <td>2021-10-14</td>\n",
              "      <td>2021-12-15</td>\n",
              "      <td>JJ Medicine</td>\n",
              "      <td>VIDEO</td>\n",
              "      <td>https://www.youtube.com/watch?v=FwiaoKrdzx4</td>\n",
              "      <td>Youtube</td>\n",
              "      <td>I&amp;#39;ve heard this often goes with anciety/ d...</td>\n",
              "      <td>0</td>\n",
              "      <td>I too had mono...ever since high Epstein bar l...</td>\n",
              "      <td>CS;;;;;</td>\n",
              "      <td>{'neg': 0.286, 'neu': 0.714, 'pos': 0.0, 'comp...</td>\n",
              "      <td>-0.7783</td>\n",
              "      <td>neg</td>\n",
              "    </tr>\n",
              "    <tr>\n",
              "      <th>51</th>\n",
              "      <td>2021-10-14</td>\n",
              "      <td>2021-12-15</td>\n",
              "      <td>JJ Medicine</td>\n",
              "      <td>VIDEO</td>\n",
              "      <td>https://www.youtube.com/watch?v=FwiaoKrdzx4</td>\n",
              "      <td>Youtube</td>\n",
              "      <td>Falling asleep whilst watching this....zzzzzzzzx</td>\n",
              "      <td>0</td>\n",
              "      <td>Coffee 😁😁</td>\n",
              "      <td>CS;;;;;;;;;</td>\n",
              "      <td>{'neg': 0.286, 'neu': 0.714, 'pos': 0.0, 'comp...</td>\n",
              "      <td>-0.1531</td>\n",
              "      <td>neg</td>\n",
              "    </tr>\n",
              "    <tr>\n",
              "      <th>56</th>\n",
              "      <td>2021-10-14</td>\n",
              "      <td>2021-12-15</td>\n",
              "      <td>JJ Medicine</td>\n",
              "      <td>VIDEO</td>\n",
              "      <td>https://www.youtube.com/watch?v=FwiaoKrdzx4</td>\n",
              "      <td>Youtube</td>\n",
              "      <td>Falling asleep whilst watching this....zzzzzzzzx</td>\n",
              "      <td>0</td>\n",
              "      <td>While?</td>\n",
              "      <td>CS;;;;;;;;;</td>\n",
              "      <td>{'neg': 0.286, 'neu': 0.714, 'pos': 0.0, 'comp...</td>\n",
              "      <td>-0.1531</td>\n",
              "      <td>neg</td>\n",
              "    </tr>\n",
              "    <tr>\n",
              "      <th>89</th>\n",
              "      <td>2021-11-22</td>\n",
              "      <td>2021-12-15</td>\n",
              "      <td>ninjanerdscience</td>\n",
              "      <td>VIDEO</td>\n",
              "      <td>https://www.youtube.com/watch?v=UJw2WUtHLIk</td>\n",
              "      <td>Youtube</td>\n",
              "      <td>Ninja nerd I&amp;#39;m so happy that you choose th...</td>\n",
              "      <td>0</td>\n",
              "      <td>Ulcerative Colitis is next to be released! Hop...</td>\n",
              "      <td>CS;;;;;;;;</td>\n",
              "      <td>{'neg': 0.068, 'neu': 0.622, 'pos': 0.31, 'com...</td>\n",
              "      <td>0.8303</td>\n",
              "      <td>pos</td>\n",
              "    </tr>\n",
              "    <tr>\n",
              "      <th>96</th>\n",
              "      <td>2021-11-22,2021-12-15,ninjanerdscience,VIDEO,h...</td>\n",
              "      <td>ad many other diseases.  What&amp;#39;s the word ...</td>\n",
              "      <td>as usual</td>\n",
              "      <td>it&amp;#39;\"s hard to distinguish cause from effe...</td>\n",
              "      <td>it seems that substantial D3 supplementation ...</td>\n",
              "      <td>0</td>\n",
              "      <td>That’s interesting. I’m a nurse on a GI ward a...</td>\n",
              "      <td>it maybe causation</td>\n",
              "      <td>it may be just me looking out for it.\"\"</td>\n",
              "      <td>CS\";;;;;;</td>\n",
              "      <td>{'neg': 0.0, 'neu': 0.915, 'pos': 0.085, 'comp...</td>\n",
              "      <td>0.4019</td>\n",
              "      <td>pos</td>\n",
              "    </tr>\n",
              "  </tbody>\n",
              "</table>\n",
              "</div>\n",
              "      <button class=\"colab-df-convert\" onclick=\"convertToInteractive('df-e65b67e1-42f3-4553-83a0-b97600c5b2c7')\"\n",
              "              title=\"Convert this dataframe to an interactive table.\"\n",
              "              style=\"display:none;\">\n",
              "        \n",
              "  <svg xmlns=\"http://www.w3.org/2000/svg\" height=\"24px\"viewBox=\"0 0 24 24\"\n",
              "       width=\"24px\">\n",
              "    <path d=\"M0 0h24v24H0V0z\" fill=\"none\"/>\n",
              "    <path d=\"M18.56 5.44l.94 2.06.94-2.06 2.06-.94-2.06-.94-.94-2.06-.94 2.06-2.06.94zm-11 1L8.5 8.5l.94-2.06 2.06-.94-2.06-.94L8.5 2.5l-.94 2.06-2.06.94zm10 10l.94 2.06.94-2.06 2.06-.94-2.06-.94-.94-2.06-.94 2.06-2.06.94z\"/><path d=\"M17.41 7.96l-1.37-1.37c-.4-.4-.92-.59-1.43-.59-.52 0-1.04.2-1.43.59L10.3 9.45l-7.72 7.72c-.78.78-.78 2.05 0 2.83L4 21.41c.39.39.9.59 1.41.59.51 0 1.02-.2 1.41-.59l7.78-7.78 2.81-2.81c.8-.78.8-2.07 0-2.86zM5.41 20L4 18.59l7.72-7.72 1.47 1.35L5.41 20z\"/>\n",
              "  </svg>\n",
              "      </button>\n",
              "      \n",
              "  <style>\n",
              "    .colab-df-container {\n",
              "      display:flex;\n",
              "      flex-wrap:wrap;\n",
              "      gap: 12px;\n",
              "    }\n",
              "\n",
              "    .colab-df-convert {\n",
              "      background-color: #E8F0FE;\n",
              "      border: none;\n",
              "      border-radius: 50%;\n",
              "      cursor: pointer;\n",
              "      display: none;\n",
              "      fill: #1967D2;\n",
              "      height: 32px;\n",
              "      padding: 0 0 0 0;\n",
              "      width: 32px;\n",
              "    }\n",
              "\n",
              "    .colab-df-convert:hover {\n",
              "      background-color: #E2EBFA;\n",
              "      box-shadow: 0px 1px 2px rgba(60, 64, 67, 0.3), 0px 1px 3px 1px rgba(60, 64, 67, 0.15);\n",
              "      fill: #174EA6;\n",
              "    }\n",
              "\n",
              "    [theme=dark] .colab-df-convert {\n",
              "      background-color: #3B4455;\n",
              "      fill: #D2E3FC;\n",
              "    }\n",
              "\n",
              "    [theme=dark] .colab-df-convert:hover {\n",
              "      background-color: #434B5C;\n",
              "      box-shadow: 0px 1px 3px 1px rgba(0, 0, 0, 0.15);\n",
              "      filter: drop-shadow(0px 1px 2px rgba(0, 0, 0, 0.3));\n",
              "      fill: #FFFFFF;\n",
              "    }\n",
              "  </style>\n",
              "\n",
              "      <script>\n",
              "        const buttonEl =\n",
              "          document.querySelector('#df-e65b67e1-42f3-4553-83a0-b97600c5b2c7 button.colab-df-convert');\n",
              "        buttonEl.style.display =\n",
              "          google.colab.kernel.accessAllowed ? 'block' : 'none';\n",
              "\n",
              "        async function convertToInteractive(key) {\n",
              "          const element = document.querySelector('#df-e65b67e1-42f3-4553-83a0-b97600c5b2c7');\n",
              "          const dataTable =\n",
              "            await google.colab.kernel.invokeFunction('convertToInteractive',\n",
              "                                                     [key], {});\n",
              "          if (!dataTable) return;\n",
              "\n",
              "          const docLinkHtml = 'Like what you see? Visit the ' +\n",
              "            '<a target=\"_blank\" href=https://colab.research.google.com/notebooks/data_table.ipynb>data table notebook</a>'\n",
              "            + ' to learn more about interactive tables.';\n",
              "          element.innerHTML = '';\n",
              "          dataTable['output_type'] = 'display_data';\n",
              "          await google.colab.output.renderOutput(dataTable, element);\n",
              "          const docLink = document.createElement('div');\n",
              "          docLink.innerHTML = docLinkHtml;\n",
              "          element.appendChild(docLink);\n",
              "        }\n",
              "      </script>\n",
              "    </div>\n",
              "  </div>\n",
              "  "
            ],
            "text/plain": [
              "                                            date_post  ... comp_score\n",
              "41                                         2021-10-14  ...        neg\n",
              "51                                         2021-10-14  ...        neg\n",
              "56                                         2021-10-14  ...        neg\n",
              "89                                         2021-11-22  ...        pos\n",
              "96  2021-11-22,2021-12-15,ninjanerdscience,VIDEO,h...  ...        pos\n",
              "\n",
              "[5 rows x 13 columns]"
            ]
          },
          "metadata": {},
          "execution_count": 10
        }
      ]
    },
    {
      "cell_type": "code",
      "source": [
        "# Write a review as one continuous string (multiple sentences are ok)\n",
        "review = 'The shoes I brought were amazing.'\n",
        "# Obtain the sid scores for your review\n",
        "sid.polarity_scores(review)\n",
        "\n",
        "{'neg': 0.0, 'neu': 0.513, 'pos': 0.487, 'compound': 0.5859}\n",
        "review='The mobile phone I bought was the WORST and very BAD'\n",
        "# Obtain the sid scores for your review\n",
        "sid.polarity_scores(review)\n",
        "\n"
      ],
      "metadata": {
        "colab": {
          "base_uri": "https://localhost:8080/"
        },
        "id": "Y0ER3Yt8lB6t",
        "outputId": "f8330b18-d026-452a-d8ad-c351105749bc"
      },
      "execution_count": 11,
      "outputs": [
        {
          "output_type": "execute_result",
          "data": {
            "text/plain": [
              "{'compound': -0.8849, 'neg': 0.539, 'neu': 0.461, 'pos': 0.0}"
            ]
          },
          "metadata": {},
          "execution_count": 11
        }
      ]
    },
    {
      "cell_type": "code",
      "source": [
        "pip install plotly"
      ],
      "metadata": {
        "colab": {
          "base_uri": "https://localhost:8080/"
        },
        "id": "BrZKoac4lsDy",
        "outputId": "473df9b2-c6c7-44c9-eee9-efaf9a785181"
      },
      "execution_count": 14,
      "outputs": [
        {
          "output_type": "stream",
          "name": "stdout",
          "text": [
            "Requirement already satisfied: plotly in /usr/local/lib/python3.7/dist-packages (5.5.0)\n",
            "Requirement already satisfied: six in /usr/local/lib/python3.7/dist-packages (from plotly) (1.15.0)\n",
            "Requirement already satisfied: tenacity>=6.2.0 in /usr/local/lib/python3.7/dist-packages (from plotly) (8.0.1)\n"
          ]
        }
      ]
    },
    {
      "cell_type": "code",
      "source": [
        "def configure_plotly_browser_state():\n",
        "  import IPython\n",
        "  display(IPython.core.display.HTML('''\n",
        "        <script src=\"/static/components/requirejs/require.js\"></script>\n",
        "        <script>\n",
        "          requirejs.config({\n",
        "            paths: {\n",
        "              base: '/static/base',\n",
        "              plotly: 'https://cdn.plot.ly/plotly-1.5.1.min.js?noext',\n",
        "            },\n",
        "          });\n",
        "        </script>\n",
        "        '''))"
      ],
      "metadata": {
        "id": "iyvpVtyLlJW2"
      },
      "execution_count": 12,
      "outputs": []
    },
    {
      "cell_type": "code",
      "source": [
        "pip install cufflinks"
      ],
      "metadata": {
        "colab": {
          "base_uri": "https://localhost:8080/"
        },
        "id": "Ce4x69ezma-X",
        "outputId": "98eb9b6e-8b3b-493d-f6e1-5e5462a64bfc"
      },
      "execution_count": 16,
      "outputs": [
        {
          "output_type": "stream",
          "name": "stdout",
          "text": [
            "Requirement already satisfied: cufflinks in /usr/local/lib/python3.7/dist-packages (0.17.3)\n",
            "Requirement already satisfied: colorlover>=0.2.1 in /usr/local/lib/python3.7/dist-packages (from cufflinks) (0.3.0)\n",
            "Requirement already satisfied: setuptools>=34.4.1 in /usr/local/lib/python3.7/dist-packages (from cufflinks) (57.4.0)\n",
            "Requirement already satisfied: pandas>=0.19.2 in /usr/local/lib/python3.7/dist-packages (from cufflinks) (1.1.5)\n",
            "Requirement already satisfied: ipython>=5.3.0 in /usr/local/lib/python3.7/dist-packages (from cufflinks) (5.5.0)\n",
            "Requirement already satisfied: six>=1.9.0 in /usr/local/lib/python3.7/dist-packages (from cufflinks) (1.15.0)\n",
            "Requirement already satisfied: plotly>=4.1.1 in /usr/local/lib/python3.7/dist-packages (from cufflinks) (5.5.0)\n",
            "Requirement already satisfied: ipywidgets>=7.0.0 in /usr/local/lib/python3.7/dist-packages (from cufflinks) (7.6.5)\n",
            "Requirement already satisfied: numpy>=1.9.2 in /usr/local/lib/python3.7/dist-packages (from cufflinks) (1.19.5)\n",
            "Requirement already satisfied: pickleshare in /usr/local/lib/python3.7/dist-packages (from ipython>=5.3.0->cufflinks) (0.7.5)\n",
            "Requirement already satisfied: decorator in /usr/local/lib/python3.7/dist-packages (from ipython>=5.3.0->cufflinks) (4.4.2)\n",
            "Requirement already satisfied: pexpect in /usr/local/lib/python3.7/dist-packages (from ipython>=5.3.0->cufflinks) (4.8.0)\n",
            "Requirement already satisfied: prompt-toolkit<2.0.0,>=1.0.4 in /usr/local/lib/python3.7/dist-packages (from ipython>=5.3.0->cufflinks) (1.0.18)\n",
            "Requirement already satisfied: simplegeneric>0.8 in /usr/local/lib/python3.7/dist-packages (from ipython>=5.3.0->cufflinks) (0.8.1)\n",
            "Requirement already satisfied: traitlets>=4.2 in /usr/local/lib/python3.7/dist-packages (from ipython>=5.3.0->cufflinks) (5.1.1)\n",
            "Requirement already satisfied: pygments in /usr/local/lib/python3.7/dist-packages (from ipython>=5.3.0->cufflinks) (2.6.1)\n",
            "Requirement already satisfied: widgetsnbextension~=3.5.0 in /usr/local/lib/python3.7/dist-packages (from ipywidgets>=7.0.0->cufflinks) (3.5.2)\n",
            "Requirement already satisfied: ipykernel>=4.5.1 in /usr/local/lib/python3.7/dist-packages (from ipywidgets>=7.0.0->cufflinks) (4.10.1)\n",
            "Requirement already satisfied: jupyterlab-widgets>=1.0.0 in /usr/local/lib/python3.7/dist-packages (from ipywidgets>=7.0.0->cufflinks) (1.0.2)\n",
            "Requirement already satisfied: ipython-genutils~=0.2.0 in /usr/local/lib/python3.7/dist-packages (from ipywidgets>=7.0.0->cufflinks) (0.2.0)\n",
            "Requirement already satisfied: nbformat>=4.2.0 in /usr/local/lib/python3.7/dist-packages (from ipywidgets>=7.0.0->cufflinks) (5.1.3)\n",
            "Requirement already satisfied: tornado>=4.0 in /usr/local/lib/python3.7/dist-packages (from ipykernel>=4.5.1->ipywidgets>=7.0.0->cufflinks) (5.1.1)\n",
            "Requirement already satisfied: jupyter-client in /usr/local/lib/python3.7/dist-packages (from ipykernel>=4.5.1->ipywidgets>=7.0.0->cufflinks) (5.3.5)\n",
            "Requirement already satisfied: jsonschema!=2.5.0,>=2.4 in /usr/local/lib/python3.7/dist-packages (from nbformat>=4.2.0->ipywidgets>=7.0.0->cufflinks) (4.3.3)\n",
            "Requirement already satisfied: jupyter-core in /usr/local/lib/python3.7/dist-packages (from nbformat>=4.2.0->ipywidgets>=7.0.0->cufflinks) (4.9.1)\n",
            "Requirement already satisfied: attrs>=17.4.0 in /usr/local/lib/python3.7/dist-packages (from jsonschema!=2.5.0,>=2.4->nbformat>=4.2.0->ipywidgets>=7.0.0->cufflinks) (21.4.0)\n",
            "Requirement already satisfied: pyrsistent!=0.17.0,!=0.17.1,!=0.17.2,>=0.14.0 in /usr/local/lib/python3.7/dist-packages (from jsonschema!=2.5.0,>=2.4->nbformat>=4.2.0->ipywidgets>=7.0.0->cufflinks) (0.18.1)\n",
            "Requirement already satisfied: importlib-metadata in /usr/local/lib/python3.7/dist-packages (from jsonschema!=2.5.0,>=2.4->nbformat>=4.2.0->ipywidgets>=7.0.0->cufflinks) (4.10.1)\n",
            "Requirement already satisfied: typing-extensions in /usr/local/lib/python3.7/dist-packages (from jsonschema!=2.5.0,>=2.4->nbformat>=4.2.0->ipywidgets>=7.0.0->cufflinks) (3.10.0.2)\n",
            "Requirement already satisfied: importlib-resources>=1.4.0 in /usr/local/lib/python3.7/dist-packages (from jsonschema!=2.5.0,>=2.4->nbformat>=4.2.0->ipywidgets>=7.0.0->cufflinks) (5.4.0)\n",
            "Requirement already satisfied: zipp>=3.1.0 in /usr/local/lib/python3.7/dist-packages (from importlib-resources>=1.4.0->jsonschema!=2.5.0,>=2.4->nbformat>=4.2.0->ipywidgets>=7.0.0->cufflinks) (3.7.0)\n",
            "Requirement already satisfied: python-dateutil>=2.7.3 in /usr/local/lib/python3.7/dist-packages (from pandas>=0.19.2->cufflinks) (2.8.2)\n",
            "Requirement already satisfied: pytz>=2017.2 in /usr/local/lib/python3.7/dist-packages (from pandas>=0.19.2->cufflinks) (2018.9)\n",
            "Requirement already satisfied: tenacity>=6.2.0 in /usr/local/lib/python3.7/dist-packages (from plotly>=4.1.1->cufflinks) (8.0.1)\n",
            "Requirement already satisfied: wcwidth in /usr/local/lib/python3.7/dist-packages (from prompt-toolkit<2.0.0,>=1.0.4->ipython>=5.3.0->cufflinks) (0.2.5)\n",
            "Requirement already satisfied: notebook>=4.4.1 in /usr/local/lib/python3.7/dist-packages (from widgetsnbextension~=3.5.0->ipywidgets>=7.0.0->cufflinks) (5.3.1)\n",
            "Requirement already satisfied: Send2Trash in /usr/local/lib/python3.7/dist-packages (from notebook>=4.4.1->widgetsnbextension~=3.5.0->ipywidgets>=7.0.0->cufflinks) (1.8.0)\n",
            "Requirement already satisfied: nbconvert in /usr/local/lib/python3.7/dist-packages (from notebook>=4.4.1->widgetsnbextension~=3.5.0->ipywidgets>=7.0.0->cufflinks) (5.6.1)\n",
            "Requirement already satisfied: jinja2 in /usr/local/lib/python3.7/dist-packages (from notebook>=4.4.1->widgetsnbextension~=3.5.0->ipywidgets>=7.0.0->cufflinks) (2.11.3)\n",
            "Requirement already satisfied: terminado>=0.8.1 in /usr/local/lib/python3.7/dist-packages (from notebook>=4.4.1->widgetsnbextension~=3.5.0->ipywidgets>=7.0.0->cufflinks) (0.12.1)\n",
            "Requirement already satisfied: pyzmq>=13 in /usr/local/lib/python3.7/dist-packages (from jupyter-client->ipykernel>=4.5.1->ipywidgets>=7.0.0->cufflinks) (22.3.0)\n",
            "Requirement already satisfied: ptyprocess in /usr/local/lib/python3.7/dist-packages (from terminado>=0.8.1->notebook>=4.4.1->widgetsnbextension~=3.5.0->ipywidgets>=7.0.0->cufflinks) (0.7.0)\n",
            "Requirement already satisfied: MarkupSafe>=0.23 in /usr/local/lib/python3.7/dist-packages (from jinja2->notebook>=4.4.1->widgetsnbextension~=3.5.0->ipywidgets>=7.0.0->cufflinks) (2.0.1)\n",
            "Requirement already satisfied: mistune<2,>=0.8.1 in /usr/local/lib/python3.7/dist-packages (from nbconvert->notebook>=4.4.1->widgetsnbextension~=3.5.0->ipywidgets>=7.0.0->cufflinks) (0.8.4)\n",
            "Requirement already satisfied: entrypoints>=0.2.2 in /usr/local/lib/python3.7/dist-packages (from nbconvert->notebook>=4.4.1->widgetsnbextension~=3.5.0->ipywidgets>=7.0.0->cufflinks) (0.3)\n",
            "Requirement already satisfied: bleach in /usr/local/lib/python3.7/dist-packages (from nbconvert->notebook>=4.4.1->widgetsnbextension~=3.5.0->ipywidgets>=7.0.0->cufflinks) (4.1.0)\n",
            "Requirement already satisfied: pandocfilters>=1.4.1 in /usr/local/lib/python3.7/dist-packages (from nbconvert->notebook>=4.4.1->widgetsnbextension~=3.5.0->ipywidgets>=7.0.0->cufflinks) (1.5.0)\n",
            "Requirement already satisfied: testpath in /usr/local/lib/python3.7/dist-packages (from nbconvert->notebook>=4.4.1->widgetsnbextension~=3.5.0->ipywidgets>=7.0.0->cufflinks) (0.5.0)\n",
            "Requirement already satisfied: defusedxml in /usr/local/lib/python3.7/dist-packages (from nbconvert->notebook>=4.4.1->widgetsnbextension~=3.5.0->ipywidgets>=7.0.0->cufflinks) (0.7.1)\n",
            "Requirement already satisfied: packaging in /usr/local/lib/python3.7/dist-packages (from bleach->nbconvert->notebook>=4.4.1->widgetsnbextension~=3.5.0->ipywidgets>=7.0.0->cufflinks) (21.3)\n",
            "Requirement already satisfied: webencodings in /usr/local/lib/python3.7/dist-packages (from bleach->nbconvert->notebook>=4.4.1->widgetsnbextension~=3.5.0->ipywidgets>=7.0.0->cufflinks) (0.5.1)\n",
            "Requirement already satisfied: pyparsing!=3.0.5,>=2.0.2 in /usr/local/lib/python3.7/dist-packages (from packaging->bleach->nbconvert->notebook>=4.4.1->widgetsnbextension~=3.5.0->ipywidgets>=7.0.0->cufflinks) (3.0.7)\n"
          ]
        }
      ]
    },
    {
      "cell_type": "code",
      "source": [
        "from plotly.offline import init_notebook_mode,iplot\n",
        "import plotly.graph_objects as go\n",
        "import cufflinks as cf\n",
        "init_notebook_mode(connected=True)"
      ],
      "metadata": {
        "colab": {
          "base_uri": "https://localhost:8080/",
          "height": 17
        },
        "id": "c0vL7HEGmded",
        "outputId": "502cd70f-885b-4ebb-aef6-ef8b2543b961"
      },
      "execution_count": 17,
      "outputs": [
        {
          "output_type": "display_data",
          "data": {
            "text/html": [
              "        <script type=\"text/javascript\">\n",
              "        window.PlotlyConfig = {MathJaxConfig: 'local'};\n",
              "        if (window.MathJax) {MathJax.Hub.Config({SVG: {font: \"STIX-Web\"}});}\n",
              "        if (typeof require !== 'undefined') {\n",
              "        require.undef(\"plotly\");\n",
              "        requirejs.config({\n",
              "            paths: {\n",
              "                'plotly': ['https://cdn.plot.ly/plotly-2.8.3.min']\n",
              "            }\n",
              "        });\n",
              "        require(['plotly'], function(Plotly) {\n",
              "            window._Plotly = Plotly;\n",
              "        });\n",
              "        }\n",
              "        </script>\n",
              "        "
            ]
          },
          "metadata": {}
        }
      ]
    },
    {
      "cell_type": "code",
      "source": [
        "#labels\n",
        "lab = df[\"comp_score\"].value_counts().keys().tolist()\n",
        "#values\n",
        "val = df[\"comp_score\"].value_counts().values.tolist()\n",
        "trace = go.Pie(labels=lab, \n",
        "                values=val, \n",
        "                marker=dict(colors=['red']), \n",
        "                # Seting values to \n",
        "                hoverinfo=\"value\"\n",
        "              )\n",
        "data = [trace]"
      ],
      "metadata": {
        "id": "CUufCRsAmhwC"
      },
      "execution_count": 18,
      "outputs": []
    },
    {
      "cell_type": "code",
      "source": [
        "layout = go.Layout(title=\"Sentiment Distribution\")\n",
        "fig = go.Figure(data = data,layout = layout)\n",
        "iplot(fig)"
      ],
      "metadata": {
        "colab": {
          "base_uri": "https://localhost:8080/",
          "height": 542
        },
        "id": "Lkfe40W5mqwi",
        "outputId": "d4d30c64-f65d-4628-b8c2-9d1fa583642f"
      },
      "execution_count": 20,
      "outputs": [
        {
          "output_type": "display_data",
          "data": {
            "text/html": [
              "<div>                            <div id=\"ebf802b9-f74b-453c-80ea-c7b0b21dcf73\" class=\"plotly-graph-div\" style=\"height:525px; width:100%;\"></div>            <script type=\"text/javascript\">                require([\"plotly\"], function(Plotly) {                    window.PLOTLYENV=window.PLOTLYENV || {};                                    if (document.getElementById(\"ebf802b9-f74b-453c-80ea-c7b0b21dcf73\")) {                    Plotly.newPlot(                        \"ebf802b9-f74b-453c-80ea-c7b0b21dcf73\",                        [{\"hoverinfo\":\"value\",\"labels\":[\"pos\",\"neg\"],\"marker\":{\"colors\":[\"red\"]},\"values\":[14,4],\"type\":\"pie\"}],                        {\"template\":{\"data\":{\"barpolar\":[{\"marker\":{\"line\":{\"color\":\"#E5ECF6\",\"width\":0.5},\"pattern\":{\"fillmode\":\"overlay\",\"size\":10,\"solidity\":0.2}},\"type\":\"barpolar\"}],\"bar\":[{\"error_x\":{\"color\":\"#2a3f5f\"},\"error_y\":{\"color\":\"#2a3f5f\"},\"marker\":{\"line\":{\"color\":\"#E5ECF6\",\"width\":0.5},\"pattern\":{\"fillmode\":\"overlay\",\"size\":10,\"solidity\":0.2}},\"type\":\"bar\"}],\"carpet\":[{\"aaxis\":{\"endlinecolor\":\"#2a3f5f\",\"gridcolor\":\"white\",\"linecolor\":\"white\",\"minorgridcolor\":\"white\",\"startlinecolor\":\"#2a3f5f\"},\"baxis\":{\"endlinecolor\":\"#2a3f5f\",\"gridcolor\":\"white\",\"linecolor\":\"white\",\"minorgridcolor\":\"white\",\"startlinecolor\":\"#2a3f5f\"},\"type\":\"carpet\"}],\"choropleth\":[{\"colorbar\":{\"outlinewidth\":0,\"ticks\":\"\"},\"type\":\"choropleth\"}],\"contourcarpet\":[{\"colorbar\":{\"outlinewidth\":0,\"ticks\":\"\"},\"type\":\"contourcarpet\"}],\"contour\":[{\"colorbar\":{\"outlinewidth\":0,\"ticks\":\"\"},\"colorscale\":[[0.0,\"#0d0887\"],[0.1111111111111111,\"#46039f\"],[0.2222222222222222,\"#7201a8\"],[0.3333333333333333,\"#9c179e\"],[0.4444444444444444,\"#bd3786\"],[0.5555555555555556,\"#d8576b\"],[0.6666666666666666,\"#ed7953\"],[0.7777777777777778,\"#fb9f3a\"],[0.8888888888888888,\"#fdca26\"],[1.0,\"#f0f921\"]],\"type\":\"contour\"}],\"heatmapgl\":[{\"colorbar\":{\"outlinewidth\":0,\"ticks\":\"\"},\"colorscale\":[[0.0,\"#0d0887\"],[0.1111111111111111,\"#46039f\"],[0.2222222222222222,\"#7201a8\"],[0.3333333333333333,\"#9c179e\"],[0.4444444444444444,\"#bd3786\"],[0.5555555555555556,\"#d8576b\"],[0.6666666666666666,\"#ed7953\"],[0.7777777777777778,\"#fb9f3a\"],[0.8888888888888888,\"#fdca26\"],[1.0,\"#f0f921\"]],\"type\":\"heatmapgl\"}],\"heatmap\":[{\"colorbar\":{\"outlinewidth\":0,\"ticks\":\"\"},\"colorscale\":[[0.0,\"#0d0887\"],[0.1111111111111111,\"#46039f\"],[0.2222222222222222,\"#7201a8\"],[0.3333333333333333,\"#9c179e\"],[0.4444444444444444,\"#bd3786\"],[0.5555555555555556,\"#d8576b\"],[0.6666666666666666,\"#ed7953\"],[0.7777777777777778,\"#fb9f3a\"],[0.8888888888888888,\"#fdca26\"],[1.0,\"#f0f921\"]],\"type\":\"heatmap\"}],\"histogram2dcontour\":[{\"colorbar\":{\"outlinewidth\":0,\"ticks\":\"\"},\"colorscale\":[[0.0,\"#0d0887\"],[0.1111111111111111,\"#46039f\"],[0.2222222222222222,\"#7201a8\"],[0.3333333333333333,\"#9c179e\"],[0.4444444444444444,\"#bd3786\"],[0.5555555555555556,\"#d8576b\"],[0.6666666666666666,\"#ed7953\"],[0.7777777777777778,\"#fb9f3a\"],[0.8888888888888888,\"#fdca26\"],[1.0,\"#f0f921\"]],\"type\":\"histogram2dcontour\"}],\"histogram2d\":[{\"colorbar\":{\"outlinewidth\":0,\"ticks\":\"\"},\"colorscale\":[[0.0,\"#0d0887\"],[0.1111111111111111,\"#46039f\"],[0.2222222222222222,\"#7201a8\"],[0.3333333333333333,\"#9c179e\"],[0.4444444444444444,\"#bd3786\"],[0.5555555555555556,\"#d8576b\"],[0.6666666666666666,\"#ed7953\"],[0.7777777777777778,\"#fb9f3a\"],[0.8888888888888888,\"#fdca26\"],[1.0,\"#f0f921\"]],\"type\":\"histogram2d\"}],\"histogram\":[{\"marker\":{\"pattern\":{\"fillmode\":\"overlay\",\"size\":10,\"solidity\":0.2}},\"type\":\"histogram\"}],\"mesh3d\":[{\"colorbar\":{\"outlinewidth\":0,\"ticks\":\"\"},\"type\":\"mesh3d\"}],\"parcoords\":[{\"line\":{\"colorbar\":{\"outlinewidth\":0,\"ticks\":\"\"}},\"type\":\"parcoords\"}],\"pie\":[{\"automargin\":true,\"type\":\"pie\"}],\"scatter3d\":[{\"line\":{\"colorbar\":{\"outlinewidth\":0,\"ticks\":\"\"}},\"marker\":{\"colorbar\":{\"outlinewidth\":0,\"ticks\":\"\"}},\"type\":\"scatter3d\"}],\"scattercarpet\":[{\"marker\":{\"colorbar\":{\"outlinewidth\":0,\"ticks\":\"\"}},\"type\":\"scattercarpet\"}],\"scattergeo\":[{\"marker\":{\"colorbar\":{\"outlinewidth\":0,\"ticks\":\"\"}},\"type\":\"scattergeo\"}],\"scattergl\":[{\"marker\":{\"colorbar\":{\"outlinewidth\":0,\"ticks\":\"\"}},\"type\":\"scattergl\"}],\"scattermapbox\":[{\"marker\":{\"colorbar\":{\"outlinewidth\":0,\"ticks\":\"\"}},\"type\":\"scattermapbox\"}],\"scatterpolargl\":[{\"marker\":{\"colorbar\":{\"outlinewidth\":0,\"ticks\":\"\"}},\"type\":\"scatterpolargl\"}],\"scatterpolar\":[{\"marker\":{\"colorbar\":{\"outlinewidth\":0,\"ticks\":\"\"}},\"type\":\"scatterpolar\"}],\"scatter\":[{\"marker\":{\"colorbar\":{\"outlinewidth\":0,\"ticks\":\"\"}},\"type\":\"scatter\"}],\"scatterternary\":[{\"marker\":{\"colorbar\":{\"outlinewidth\":0,\"ticks\":\"\"}},\"type\":\"scatterternary\"}],\"surface\":[{\"colorbar\":{\"outlinewidth\":0,\"ticks\":\"\"},\"colorscale\":[[0.0,\"#0d0887\"],[0.1111111111111111,\"#46039f\"],[0.2222222222222222,\"#7201a8\"],[0.3333333333333333,\"#9c179e\"],[0.4444444444444444,\"#bd3786\"],[0.5555555555555556,\"#d8576b\"],[0.6666666666666666,\"#ed7953\"],[0.7777777777777778,\"#fb9f3a\"],[0.8888888888888888,\"#fdca26\"],[1.0,\"#f0f921\"]],\"type\":\"surface\"}],\"table\":[{\"cells\":{\"fill\":{\"color\":\"#EBF0F8\"},\"line\":{\"color\":\"white\"}},\"header\":{\"fill\":{\"color\":\"#C8D4E3\"},\"line\":{\"color\":\"white\"}},\"type\":\"table\"}]},\"layout\":{\"annotationdefaults\":{\"arrowcolor\":\"#2a3f5f\",\"arrowhead\":0,\"arrowwidth\":1},\"autotypenumbers\":\"strict\",\"coloraxis\":{\"colorbar\":{\"outlinewidth\":0,\"ticks\":\"\"}},\"colorscale\":{\"diverging\":[[0,\"#8e0152\"],[0.1,\"#c51b7d\"],[0.2,\"#de77ae\"],[0.3,\"#f1b6da\"],[0.4,\"#fde0ef\"],[0.5,\"#f7f7f7\"],[0.6,\"#e6f5d0\"],[0.7,\"#b8e186\"],[0.8,\"#7fbc41\"],[0.9,\"#4d9221\"],[1,\"#276419\"]],\"sequential\":[[0.0,\"#0d0887\"],[0.1111111111111111,\"#46039f\"],[0.2222222222222222,\"#7201a8\"],[0.3333333333333333,\"#9c179e\"],[0.4444444444444444,\"#bd3786\"],[0.5555555555555556,\"#d8576b\"],[0.6666666666666666,\"#ed7953\"],[0.7777777777777778,\"#fb9f3a\"],[0.8888888888888888,\"#fdca26\"],[1.0,\"#f0f921\"]],\"sequentialminus\":[[0.0,\"#0d0887\"],[0.1111111111111111,\"#46039f\"],[0.2222222222222222,\"#7201a8\"],[0.3333333333333333,\"#9c179e\"],[0.4444444444444444,\"#bd3786\"],[0.5555555555555556,\"#d8576b\"],[0.6666666666666666,\"#ed7953\"],[0.7777777777777778,\"#fb9f3a\"],[0.8888888888888888,\"#fdca26\"],[1.0,\"#f0f921\"]]},\"colorway\":[\"#636efa\",\"#EF553B\",\"#00cc96\",\"#ab63fa\",\"#FFA15A\",\"#19d3f3\",\"#FF6692\",\"#B6E880\",\"#FF97FF\",\"#FECB52\"],\"font\":{\"color\":\"#2a3f5f\"},\"geo\":{\"bgcolor\":\"white\",\"lakecolor\":\"white\",\"landcolor\":\"#E5ECF6\",\"showlakes\":true,\"showland\":true,\"subunitcolor\":\"white\"},\"hoverlabel\":{\"align\":\"left\"},\"hovermode\":\"closest\",\"mapbox\":{\"style\":\"light\"},\"paper_bgcolor\":\"white\",\"plot_bgcolor\":\"#E5ECF6\",\"polar\":{\"angularaxis\":{\"gridcolor\":\"white\",\"linecolor\":\"white\",\"ticks\":\"\"},\"bgcolor\":\"#E5ECF6\",\"radialaxis\":{\"gridcolor\":\"white\",\"linecolor\":\"white\",\"ticks\":\"\"}},\"scene\":{\"xaxis\":{\"backgroundcolor\":\"#E5ECF6\",\"gridcolor\":\"white\",\"gridwidth\":2,\"linecolor\":\"white\",\"showbackground\":true,\"ticks\":\"\",\"zerolinecolor\":\"white\"},\"yaxis\":{\"backgroundcolor\":\"#E5ECF6\",\"gridcolor\":\"white\",\"gridwidth\":2,\"linecolor\":\"white\",\"showbackground\":true,\"ticks\":\"\",\"zerolinecolor\":\"white\"},\"zaxis\":{\"backgroundcolor\":\"#E5ECF6\",\"gridcolor\":\"white\",\"gridwidth\":2,\"linecolor\":\"white\",\"showbackground\":true,\"ticks\":\"\",\"zerolinecolor\":\"white\"}},\"shapedefaults\":{\"line\":{\"color\":\"#2a3f5f\"}},\"ternary\":{\"aaxis\":{\"gridcolor\":\"white\",\"linecolor\":\"white\",\"ticks\":\"\"},\"baxis\":{\"gridcolor\":\"white\",\"linecolor\":\"white\",\"ticks\":\"\"},\"bgcolor\":\"#E5ECF6\",\"caxis\":{\"gridcolor\":\"white\",\"linecolor\":\"white\",\"ticks\":\"\"}},\"title\":{\"x\":0.05},\"xaxis\":{\"automargin\":true,\"gridcolor\":\"white\",\"linecolor\":\"white\",\"ticks\":\"\",\"title\":{\"standoff\":15},\"zerolinecolor\":\"white\",\"zerolinewidth\":2},\"yaxis\":{\"automargin\":true,\"gridcolor\":\"white\",\"linecolor\":\"white\",\"ticks\":\"\",\"title\":{\"standoff\":15},\"zerolinecolor\":\"white\",\"zerolinewidth\":2}}},\"title\":{\"text\":\"Sentiment Distribution\"}},                        {\"responsive\": true}                    ).then(function(){\n",
              "                            \n",
              "var gd = document.getElementById('ebf802b9-f74b-453c-80ea-c7b0b21dcf73');\n",
              "var x = new MutationObserver(function (mutations, observer) {{\n",
              "        var display = window.getComputedStyle(gd).display;\n",
              "        if (!display || display === 'none') {{\n",
              "            console.log([gd, 'removed!']);\n",
              "            Plotly.purge(gd);\n",
              "            observer.disconnect();\n",
              "        }}\n",
              "}});\n",
              "\n",
              "// Listen for the removal of the full notebook cells\n",
              "var notebookContainer = gd.closest('#notebook-container');\n",
              "if (notebookContainer) {{\n",
              "    x.observe(notebookContainer, {childList: true});\n",
              "}}\n",
              "\n",
              "// Listen for the clearing of the current output cell\n",
              "var outputEl = gd.closest('.output');\n",
              "if (outputEl) {{\n",
              "    x.observe(outputEl, {childList: true});\n",
              "}}\n",
              "\n",
              "                        })                };                });            </script>        </div>"
            ],
            "application/vnd.plotly.v1+json": {
              "layout": {
                "template": {
                  "layout": {
                    "shapedefaults": {
                      "line": {
                        "color": "#2a3f5f"
                      }
                    },
                    "polar": {
                      "radialaxis": {
                        "ticks": "",
                        "gridcolor": "white",
                        "linecolor": "white"
                      },
                      "bgcolor": "#E5ECF6",
                      "angularaxis": {
                        "ticks": "",
                        "gridcolor": "white",
                        "linecolor": "white"
                      }
                    },
                    "colorway": [
                      "#636efa",
                      "#EF553B",
                      "#00cc96",
                      "#ab63fa",
                      "#FFA15A",
                      "#19d3f3",
                      "#FF6692",
                      "#B6E880",
                      "#FF97FF",
                      "#FECB52"
                    ],
                    "xaxis": {
                      "automargin": true,
                      "title": {
                        "standoff": 15
                      },
                      "zerolinewidth": 2,
                      "ticks": "",
                      "zerolinecolor": "white",
                      "gridcolor": "white",
                      "linecolor": "white"
                    },
                    "colorscale": {
                      "diverging": [
                        [
                          0,
                          "#8e0152"
                        ],
                        [
                          0.1,
                          "#c51b7d"
                        ],
                        [
                          0.2,
                          "#de77ae"
                        ],
                        [
                          0.3,
                          "#f1b6da"
                        ],
                        [
                          0.4,
                          "#fde0ef"
                        ],
                        [
                          0.5,
                          "#f7f7f7"
                        ],
                        [
                          0.6,
                          "#e6f5d0"
                        ],
                        [
                          0.7,
                          "#b8e186"
                        ],
                        [
                          0.8,
                          "#7fbc41"
                        ],
                        [
                          0.9,
                          "#4d9221"
                        ],
                        [
                          1,
                          "#276419"
                        ]
                      ],
                      "sequential": [
                        [
                          0,
                          "#0d0887"
                        ],
                        [
                          0.1111111111111111,
                          "#46039f"
                        ],
                        [
                          0.2222222222222222,
                          "#7201a8"
                        ],
                        [
                          0.3333333333333333,
                          "#9c179e"
                        ],
                        [
                          0.4444444444444444,
                          "#bd3786"
                        ],
                        [
                          0.5555555555555556,
                          "#d8576b"
                        ],
                        [
                          0.6666666666666666,
                          "#ed7953"
                        ],
                        [
                          0.7777777777777778,
                          "#fb9f3a"
                        ],
                        [
                          0.8888888888888888,
                          "#fdca26"
                        ],
                        [
                          1,
                          "#f0f921"
                        ]
                      ],
                      "sequentialminus": [
                        [
                          0,
                          "#0d0887"
                        ],
                        [
                          0.1111111111111111,
                          "#46039f"
                        ],
                        [
                          0.2222222222222222,
                          "#7201a8"
                        ],
                        [
                          0.3333333333333333,
                          "#9c179e"
                        ],
                        [
                          0.4444444444444444,
                          "#bd3786"
                        ],
                        [
                          0.5555555555555556,
                          "#d8576b"
                        ],
                        [
                          0.6666666666666666,
                          "#ed7953"
                        ],
                        [
                          0.7777777777777778,
                          "#fb9f3a"
                        ],
                        [
                          0.8888888888888888,
                          "#fdca26"
                        ],
                        [
                          1,
                          "#f0f921"
                        ]
                      ]
                    },
                    "paper_bgcolor": "white",
                    "plot_bgcolor": "#E5ECF6",
                    "title": {
                      "x": 0.05
                    },
                    "yaxis": {
                      "automargin": true,
                      "title": {
                        "standoff": 15
                      },
                      "zerolinewidth": 2,
                      "ticks": "",
                      "zerolinecolor": "white",
                      "gridcolor": "white",
                      "linecolor": "white"
                    },
                    "hoverlabel": {
                      "align": "left"
                    },
                    "scene": {
                      "zaxis": {
                        "backgroundcolor": "#E5ECF6",
                        "ticks": "",
                        "gridwidth": 2,
                        "showbackground": true,
                        "zerolinecolor": "white",
                        "gridcolor": "white",
                        "linecolor": "white"
                      },
                      "xaxis": {
                        "backgroundcolor": "#E5ECF6",
                        "ticks": "",
                        "gridwidth": 2,
                        "showbackground": true,
                        "zerolinecolor": "white",
                        "gridcolor": "white",
                        "linecolor": "white"
                      },
                      "yaxis": {
                        "backgroundcolor": "#E5ECF6",
                        "ticks": "",
                        "gridwidth": 2,
                        "showbackground": true,
                        "zerolinecolor": "white",
                        "gridcolor": "white",
                        "linecolor": "white"
                      }
                    },
                    "annotationdefaults": {
                      "arrowwidth": 1,
                      "arrowhead": 0,
                      "arrowcolor": "#2a3f5f"
                    },
                    "autotypenumbers": "strict",
                    "ternary": {
                      "bgcolor": "#E5ECF6",
                      "baxis": {
                        "ticks": "",
                        "gridcolor": "white",
                        "linecolor": "white"
                      },
                      "caxis": {
                        "ticks": "",
                        "gridcolor": "white",
                        "linecolor": "white"
                      },
                      "aaxis": {
                        "ticks": "",
                        "gridcolor": "white",
                        "linecolor": "white"
                      }
                    },
                    "mapbox": {
                      "style": "light"
                    },
                    "hovermode": "closest",
                    "font": {
                      "color": "#2a3f5f"
                    },
                    "geo": {
                      "showland": true,
                      "landcolor": "#E5ECF6",
                      "showlakes": true,
                      "bgcolor": "white",
                      "subunitcolor": "white",
                      "lakecolor": "white"
                    },
                    "coloraxis": {
                      "colorbar": {
                        "outlinewidth": 0,
                        "ticks": ""
                      }
                    }
                  },
                  "data": {
                    "mesh3d": [
                      {
                        "colorbar": {
                          "outlinewidth": 0,
                          "ticks": ""
                        },
                        "type": "mesh3d"
                      }
                    ],
                    "scattercarpet": [
                      {
                        "marker": {
                          "colorbar": {
                            "outlinewidth": 0,
                            "ticks": ""
                          }
                        },
                        "type": "scattercarpet"
                      }
                    ],
                    "pie": [
                      {
                        "automargin": true,
                        "type": "pie"
                      }
                    ],
                    "surface": [
                      {
                        "colorbar": {
                          "outlinewidth": 0,
                          "ticks": ""
                        },
                        "type": "surface",
                        "colorscale": [
                          [
                            0,
                            "#0d0887"
                          ],
                          [
                            0.1111111111111111,
                            "#46039f"
                          ],
                          [
                            0.2222222222222222,
                            "#7201a8"
                          ],
                          [
                            0.3333333333333333,
                            "#9c179e"
                          ],
                          [
                            0.4444444444444444,
                            "#bd3786"
                          ],
                          [
                            0.5555555555555556,
                            "#d8576b"
                          ],
                          [
                            0.6666666666666666,
                            "#ed7953"
                          ],
                          [
                            0.7777777777777778,
                            "#fb9f3a"
                          ],
                          [
                            0.8888888888888888,
                            "#fdca26"
                          ],
                          [
                            1,
                            "#f0f921"
                          ]
                        ]
                      }
                    ],
                    "table": [
                      {
                        "header": {
                          "line": {
                            "color": "white"
                          },
                          "fill": {
                            "color": "#C8D4E3"
                          }
                        },
                        "cells": {
                          "line": {
                            "color": "white"
                          },
                          "fill": {
                            "color": "#EBF0F8"
                          }
                        },
                        "type": "table"
                      }
                    ],
                    "scatterpolargl": [
                      {
                        "marker": {
                          "colorbar": {
                            "outlinewidth": 0,
                            "ticks": ""
                          }
                        },
                        "type": "scatterpolargl"
                      }
                    ],
                    "contour": [
                      {
                        "colorbar": {
                          "outlinewidth": 0,
                          "ticks": ""
                        },
                        "type": "contour",
                        "colorscale": [
                          [
                            0,
                            "#0d0887"
                          ],
                          [
                            0.1111111111111111,
                            "#46039f"
                          ],
                          [
                            0.2222222222222222,
                            "#7201a8"
                          ],
                          [
                            0.3333333333333333,
                            "#9c179e"
                          ],
                          [
                            0.4444444444444444,
                            "#bd3786"
                          ],
                          [
                            0.5555555555555556,
                            "#d8576b"
                          ],
                          [
                            0.6666666666666666,
                            "#ed7953"
                          ],
                          [
                            0.7777777777777778,
                            "#fb9f3a"
                          ],
                          [
                            0.8888888888888888,
                            "#fdca26"
                          ],
                          [
                            1,
                            "#f0f921"
                          ]
                        ]
                      }
                    ],
                    "carpet": [
                      {
                        "type": "carpet",
                        "baxis": {
                          "minorgridcolor": "white",
                          "gridcolor": "white",
                          "linecolor": "white",
                          "endlinecolor": "#2a3f5f",
                          "startlinecolor": "#2a3f5f"
                        },
                        "aaxis": {
                          "minorgridcolor": "white",
                          "gridcolor": "white",
                          "linecolor": "white",
                          "endlinecolor": "#2a3f5f",
                          "startlinecolor": "#2a3f5f"
                        }
                      }
                    ],
                    "contourcarpet": [
                      {
                        "colorbar": {
                          "outlinewidth": 0,
                          "ticks": ""
                        },
                        "type": "contourcarpet"
                      }
                    ],
                    "heatmap": [
                      {
                        "colorbar": {
                          "outlinewidth": 0,
                          "ticks": ""
                        },
                        "type": "heatmap",
                        "colorscale": [
                          [
                            0,
                            "#0d0887"
                          ],
                          [
                            0.1111111111111111,
                            "#46039f"
                          ],
                          [
                            0.2222222222222222,
                            "#7201a8"
                          ],
                          [
                            0.3333333333333333,
                            "#9c179e"
                          ],
                          [
                            0.4444444444444444,
                            "#bd3786"
                          ],
                          [
                            0.5555555555555556,
                            "#d8576b"
                          ],
                          [
                            0.6666666666666666,
                            "#ed7953"
                          ],
                          [
                            0.7777777777777778,
                            "#fb9f3a"
                          ],
                          [
                            0.8888888888888888,
                            "#fdca26"
                          ],
                          [
                            1,
                            "#f0f921"
                          ]
                        ]
                      }
                    ],
                    "scattermapbox": [
                      {
                        "marker": {
                          "colorbar": {
                            "outlinewidth": 0,
                            "ticks": ""
                          }
                        },
                        "type": "scattermapbox"
                      }
                    ],
                    "scatter3d": [
                      {
                        "marker": {
                          "colorbar": {
                            "outlinewidth": 0,
                            "ticks": ""
                          }
                        },
                        "line": {
                          "colorbar": {
                            "outlinewidth": 0,
                            "ticks": ""
                          }
                        },
                        "type": "scatter3d"
                      }
                    ],
                    "scattergl": [
                      {
                        "marker": {
                          "colorbar": {
                            "outlinewidth": 0,
                            "ticks": ""
                          }
                        },
                        "type": "scattergl"
                      }
                    ],
                    "scatterternary": [
                      {
                        "marker": {
                          "colorbar": {
                            "outlinewidth": 0,
                            "ticks": ""
                          }
                        },
                        "type": "scatterternary"
                      }
                    ],
                    "histogram2d": [
                      {
                        "colorbar": {
                          "outlinewidth": 0,
                          "ticks": ""
                        },
                        "type": "histogram2d",
                        "colorscale": [
                          [
                            0,
                            "#0d0887"
                          ],
                          [
                            0.1111111111111111,
                            "#46039f"
                          ],
                          [
                            0.2222222222222222,
                            "#7201a8"
                          ],
                          [
                            0.3333333333333333,
                            "#9c179e"
                          ],
                          [
                            0.4444444444444444,
                            "#bd3786"
                          ],
                          [
                            0.5555555555555556,
                            "#d8576b"
                          ],
                          [
                            0.6666666666666666,
                            "#ed7953"
                          ],
                          [
                            0.7777777777777778,
                            "#fb9f3a"
                          ],
                          [
                            0.8888888888888888,
                            "#fdca26"
                          ],
                          [
                            1,
                            "#f0f921"
                          ]
                        ]
                      }
                    ],
                    "heatmapgl": [
                      {
                        "colorbar": {
                          "outlinewidth": 0,
                          "ticks": ""
                        },
                        "type": "heatmapgl",
                        "colorscale": [
                          [
                            0,
                            "#0d0887"
                          ],
                          [
                            0.1111111111111111,
                            "#46039f"
                          ],
                          [
                            0.2222222222222222,
                            "#7201a8"
                          ],
                          [
                            0.3333333333333333,
                            "#9c179e"
                          ],
                          [
                            0.4444444444444444,
                            "#bd3786"
                          ],
                          [
                            0.5555555555555556,
                            "#d8576b"
                          ],
                          [
                            0.6666666666666666,
                            "#ed7953"
                          ],
                          [
                            0.7777777777777778,
                            "#fb9f3a"
                          ],
                          [
                            0.8888888888888888,
                            "#fdca26"
                          ],
                          [
                            1,
                            "#f0f921"
                          ]
                        ]
                      }
                    ],
                    "scatterpolar": [
                      {
                        "marker": {
                          "colorbar": {
                            "outlinewidth": 0,
                            "ticks": ""
                          }
                        },
                        "type": "scatterpolar"
                      }
                    ],
                    "histogram": [
                      {
                        "marker": {
                          "pattern": {
                            "fillmode": "overlay",
                            "solidity": 0.2,
                            "size": 10
                          }
                        },
                        "type": "histogram"
                      }
                    ],
                    "scattergeo": [
                      {
                        "marker": {
                          "colorbar": {
                            "outlinewidth": 0,
                            "ticks": ""
                          }
                        },
                        "type": "scattergeo"
                      }
                    ],
                    "bar": [
                      {
                        "marker": {
                          "pattern": {
                            "fillmode": "overlay",
                            "solidity": 0.2,
                            "size": 10
                          },
                          "line": {
                            "color": "#E5ECF6",
                            "width": 0.5
                          }
                        },
                        "type": "bar",
                        "error_x": {
                          "color": "#2a3f5f"
                        },
                        "error_y": {
                          "color": "#2a3f5f"
                        }
                      }
                    ],
                    "choropleth": [
                      {
                        "colorbar": {
                          "outlinewidth": 0,
                          "ticks": ""
                        },
                        "type": "choropleth"
                      }
                    ],
                    "parcoords": [
                      {
                        "line": {
                          "colorbar": {
                            "outlinewidth": 0,
                            "ticks": ""
                          }
                        },
                        "type": "parcoords"
                      }
                    ],
                    "barpolar": [
                      {
                        "marker": {
                          "pattern": {
                            "fillmode": "overlay",
                            "solidity": 0.2,
                            "size": 10
                          },
                          "line": {
                            "color": "#E5ECF6",
                            "width": 0.5
                          }
                        },
                        "type": "barpolar"
                      }
                    ],
                    "histogram2dcontour": [
                      {
                        "colorbar": {
                          "outlinewidth": 0,
                          "ticks": ""
                        },
                        "type": "histogram2dcontour",
                        "colorscale": [
                          [
                            0,
                            "#0d0887"
                          ],
                          [
                            0.1111111111111111,
                            "#46039f"
                          ],
                          [
                            0.2222222222222222,
                            "#7201a8"
                          ],
                          [
                            0.3333333333333333,
                            "#9c179e"
                          ],
                          [
                            0.4444444444444444,
                            "#bd3786"
                          ],
                          [
                            0.5555555555555556,
                            "#d8576b"
                          ],
                          [
                            0.6666666666666666,
                            "#ed7953"
                          ],
                          [
                            0.7777777777777778,
                            "#fb9f3a"
                          ],
                          [
                            0.8888888888888888,
                            "#fdca26"
                          ],
                          [
                            1,
                            "#f0f921"
                          ]
                        ]
                      }
                    ],
                    "scatter": [
                      {
                        "marker": {
                          "colorbar": {
                            "outlinewidth": 0,
                            "ticks": ""
                          }
                        },
                        "type": "scatter"
                      }
                    ]
                  }
                },
                "title": {
                  "text": "Sentiment Distribution"
                }
              },
              "config": {
                "plotlyServerURL": "https://plot.ly",
                "linkText": "Export to plot.ly",
                "showLink": false
              },
              "data": [
                {
                  "marker": {
                    "colors": [
                      "red"
                    ]
                  },
                  "type": "pie",
                  "labels": [
                    "pos",
                    "neg"
                  ],
                  "values": [
                    14,
                    4
                  ],
                  "hoverinfo": "value"
                }
              ]
            }
          },
          "metadata": {}
        }
      ]
    }
  ]
}